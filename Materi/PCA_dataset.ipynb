{
  "cells": [
    {
      "cell_type": "markdown",
      "metadata": {
        "id": "view-in-github",
        "colab_type": "text"
      },
      "source": [
        "<a href=\"https://colab.research.google.com/github/yanimaila/Studi-Independen/blob/main/Materi/PCA_dataset.ipynb\" target=\"_parent\"><img src=\"https://colab.research.google.com/assets/colab-badge.svg\" alt=\"Open In Colab\"/></a>"
      ]
    },
    {
      "cell_type": "markdown",
      "source": [
        "Nama : Yani Maila Santi\n",
        "\n",
        "Class : JumaTec\n"
      ],
      "metadata": {
        "id": "o_qSCa51ZoJq"
      }
    },
    {
      "cell_type": "markdown",
      "metadata": {
        "id": "ePk_E--tE0Fp"
      },
      "source": [
        "# Demonstration of PCA"
      ]
    },
    {
      "cell_type": "markdown",
      "metadata": {
        "id": "CTCvoIGdE0Ft"
      },
      "source": [
        "## Learning objectives\n",
        "\n",
        "\n",
        "\n",
        "1.   Memahami dan menafsirkan korelasi antara fitur yang berbeda dari kumpulan data.\n",
        "2.   Menerapkan PCA pada dataset dunia nyata dan memahami berapa banyak data yang disimpan di komponen mana.\n",
        "3. Memvisualisasikan data berdimensi tinggi dengan terlebih dahulu mereduksinya menjadi dua dimensi dengan menggunakan PCA dan kemudian memplotnya.\n",
        "4. Mengamati bagaimana kinerja model bervariasi dengan jumlah komponen prinsip yang digunakan.\n",
        "\n",
        "\n",
        "\n",
        "\n",
        "\n"
      ]
    },
    {
      "cell_type": "markdown",
      "metadata": {
        "id": "o0REc0i2E0Fu"
      },
      "source": [
        "Dua dari penggunaan PCA adalah untuk memvisualisasikan kumpulan data berdimensi tinggi dan meningkatkan kecepatan pelatihan model pembelajaran mesin. Dalam notebook ini, kami akan menunjukkan bagaimana PCA membantu kami dengan keduanya."
      ]
    },
    {
      "cell_type": "markdown",
      "metadata": {
        "id": "GRgJ3KzKE0Fu"
      },
      "source": [
        "Kami akan menganalisis dataset kanker payudara dari sklearn. Pertama-tama kita akan memuat dataset dan membaginya menjadi set pelatihan dan pengujian. Kemudian, kami akan melakukan regresi logistik pada set pelatihan dan mengevaluasi model kami pada set pengujian. Setelah melakukan itu, kami akan memvisualisasikan dan menganalisis korelasi dalam data. Kami akan mengeksplorasi bagaimana PCA membantu kami mengompresi data dan memproyeksikannya ke dalam dua dimensi sehingga kami dapat memplotnya. Terakhir, kami akan melakukan regresi logistik pada data terkompresi dan melihat bagaimana hal itu bertumpuk terhadap kinerja model pada data asli."
      ]
    },
    {
      "cell_type": "markdown",
      "metadata": {
        "id": "5xQsPcNsE0Fu"
      },
      "source": [
        "Mari kita impor dulu paket-paket yang kita butuhkan."
      ]
    },
    {
      "cell_type": "code",
      "execution_count": 1,
      "metadata": {
        "id": "fVT_CT9GE0Fv"
      },
      "outputs": [],
      "source": [
        "import numpy as np\n",
        "import matplotlib.pyplot as plt\n",
        "import pandas as pd\n",
        "\n",
        "from sklearn import datasets\n",
        "from sklearn.model_selection import train_test_split\n",
        "from sklearn.linear_model import LogisticRegression\n",
        "from sklearn.metrics import f1_score\n",
        "\n",
        "from sklearn.preprocessing import StandardScaler\n",
        "from sklearn.decomposition import PCA\n",
        "\n",
        "%matplotlib inline"
      ]
    },
    {
      "cell_type": "markdown",
      "metadata": {
        "id": "ilORcToFE0Fw"
      },
      "source": [
        "Kami akan menggunakan dataset kanker payudara dari sklearn di notebook ini. Dataset ini berisi informasi tentang tumor ganas dan jinak. Kami bertujuan untuk membuat model yang dapat mengklasifikasikan tumor sebagai ganas atau jinak."
      ]
    },
    {
      "cell_type": "markdown",
      "metadata": {
        "id": "PUBzo5sLE0Fw"
      },
      "source": [
        "## Loading The Dataset"
      ]
    },
    {
      "cell_type": "markdown",
      "metadata": {
        "id": "ClvVkUWrE0Fx"
      },
      "source": [
        "Untuk memulai, kami akan memuat dataset dan mencetak deskripsi singkat tentangnya. Anda dianjurkan untuk membaca deskripsi sebelum melanjutkan."
      ]
    },
    {
      "cell_type": "code",
      "execution_count": 2,
      "metadata": {
        "colab": {
          "base_uri": "https://localhost:8080/"
        },
        "id": "Xt4UHp8FE0Fx",
        "outputId": "908a2b1d-3aa0-485d-c58c-6dcc2beeafd2"
      },
      "outputs": [
        {
          "output_type": "stream",
          "name": "stdout",
          "text": [
            ".. _breast_cancer_dataset:\n",
            "\n",
            "Breast cancer wisconsin (diagnostic) dataset\n",
            "--------------------------------------------\n",
            "\n",
            "**Data Set Characteristics:**\n",
            "\n",
            "    :Number of Instances: 569\n",
            "\n",
            "    :Number of Attributes: 30 numeric, predictive attributes and the class\n",
            "\n",
            "    :Attribute Information:\n",
            "        - radius (mean of distances from center to points on the perimeter)\n",
            "        - texture (standard deviation of gray-scale values)\n",
            "        - perimeter\n",
            "        - area\n",
            "        - smoothness (local variation in radius lengths)\n",
            "        - compactness (perimeter^2 / area - 1.0)\n",
            "        - concavity (severity of concave portions of the contour)\n",
            "        - concave points (number of concave portions of the contour)\n",
            "        - symmetry\n",
            "        - fractal dimension (\"coastline approximation\" - 1)\n",
            "\n",
            "        The mean, standard error, and \"worst\" or largest (mean of the three\n",
            "        worst/largest values) of these features were computed for each image,\n",
            "        resulting in 30 features.  For instance, field 0 is Mean Radius, field\n",
            "        10 is Radius SE, field 20 is Worst Radius.\n",
            "\n",
            "        - class:\n",
            "                - WDBC-Malignant\n",
            "                - WDBC-Benign\n",
            "\n",
            "    :Summary Statistics:\n",
            "\n",
            "    ===================================== ====== ======\n",
            "                                           Min    Max\n",
            "    ===================================== ====== ======\n",
            "    radius (mean):                        6.981  28.11\n",
            "    texture (mean):                       9.71   39.28\n",
            "    perimeter (mean):                     43.79  188.5\n",
            "    area (mean):                          143.5  2501.0\n",
            "    smoothness (mean):                    0.053  0.163\n",
            "    compactness (mean):                   0.019  0.345\n",
            "    concavity (mean):                     0.0    0.427\n",
            "    concave points (mean):                0.0    0.201\n",
            "    symmetry (mean):                      0.106  0.304\n",
            "    fractal dimension (mean):             0.05   0.097\n",
            "    radius (standard error):              0.112  2.873\n",
            "    texture (standard error):             0.36   4.885\n",
            "    perimeter (standard error):           0.757  21.98\n",
            "    area (standard error):                6.802  542.2\n",
            "    smoothness (standard error):          0.002  0.031\n",
            "    compactness (standard error):         0.002  0.135\n",
            "    concavity (standard error):           0.0    0.396\n",
            "    concave points (standard error):      0.0    0.053\n",
            "    symmetry (standard error):            0.008  0.079\n",
            "    fractal dimension (standard error):   0.001  0.03\n",
            "    radius (worst):                       7.93   36.04\n",
            "    texture (worst):                      12.02  49.54\n",
            "    perimeter (worst):                    50.41  251.2\n",
            "    area (worst):                         185.2  4254.0\n",
            "    smoothness (worst):                   0.071  0.223\n",
            "    compactness (worst):                  0.027  1.058\n",
            "    concavity (worst):                    0.0    1.252\n",
            "    concave points (worst):               0.0    0.291\n",
            "    symmetry (worst):                     0.156  0.664\n",
            "    fractal dimension (worst):            0.055  0.208\n",
            "    ===================================== ====== ======\n",
            "\n",
            "    :Missing Attribute Values: None\n",
            "\n",
            "    :Class Distribution: 212 - Malignant, 357 - Benign\n",
            "\n",
            "    :Creator:  Dr. William H. Wolberg, W. Nick Street, Olvi L. Mangasarian\n",
            "\n",
            "    :Donor: Nick Street\n",
            "\n",
            "    :Date: November, 1995\n",
            "\n",
            "This is a copy of UCI ML Breast Cancer Wisconsin (Diagnostic) datasets.\n",
            "https://goo.gl/U2Uwz2\n",
            "\n",
            "Features are computed from a digitized image of a fine needle\n",
            "aspirate (FNA) of a breast mass.  They describe\n",
            "characteristics of the cell nuclei present in the image.\n",
            "\n",
            "Separating plane described above was obtained using\n",
            "Multisurface Method-Tree (MSM-T) [K. P. Bennett, \"Decision Tree\n",
            "Construction Via Linear Programming.\" Proceedings of the 4th\n",
            "Midwest Artificial Intelligence and Cognitive Science Society,\n",
            "pp. 97-101, 1992], a classification method which uses linear\n",
            "programming to construct a decision tree.  Relevant features\n",
            "were selected using an exhaustive search in the space of 1-4\n",
            "features and 1-3 separating planes.\n",
            "\n",
            "The actual linear program used to obtain the separating plane\n",
            "in the 3-dimensional space is that described in:\n",
            "[K. P. Bennett and O. L. Mangasarian: \"Robust Linear\n",
            "Programming Discrimination of Two Linearly Inseparable Sets\",\n",
            "Optimization Methods and Software 1, 1992, 23-34].\n",
            "\n",
            "This database is also available through the UW CS ftp server:\n",
            "\n",
            "ftp ftp.cs.wisc.edu\n",
            "cd math-prog/cpo-dataset/machine-learn/WDBC/\n",
            "\n",
            ".. topic:: References\n",
            "\n",
            "   - W.N. Street, W.H. Wolberg and O.L. Mangasarian. Nuclear feature extraction \n",
            "     for breast tumor diagnosis. IS&T/SPIE 1993 International Symposium on \n",
            "     Electronic Imaging: Science and Technology, volume 1905, pages 861-870,\n",
            "     San Jose, CA, 1993.\n",
            "   - O.L. Mangasarian, W.N. Street and W.H. Wolberg. Breast cancer diagnosis and \n",
            "     prognosis via linear programming. Operations Research, 43(4), pages 570-577, \n",
            "     July-August 1995.\n",
            "   - W.H. Wolberg, W.N. Street, and O.L. Mangasarian. Machine learning techniques\n",
            "     to diagnose breast cancer from fine-needle aspirates. Cancer Letters 77 (1994) \n",
            "     163-171.\n"
          ]
        }
      ],
      "source": [
        "dat = datasets.load_breast_cancer()\n",
        "print(dat.DESCR)"
      ]
    },
    {
      "cell_type": "markdown",
      "metadata": {
        "id": "ajWQx9-UE0Fy"
      },
      "source": [
        "Kami sekarang akan memuat data ke dalam kerangka data dan mencetak 5 entri pertama. Bisakah Anda menebak bagaimana beberapa atribut ini mungkin terkait? Misalnya, dapatkah mean radius dan mean perimeter dihubungkan?"
      ]
    },
    {
      "cell_type": "code",
      "execution_count": 3,
      "metadata": {
        "colab": {
          "base_uri": "https://localhost:8080/",
          "height": 334
        },
        "id": "dkZiccOJE0Fy",
        "outputId": "e3d6ff01-7840-4afe-fd67-7e51a63306de"
      },
      "outputs": [
        {
          "output_type": "execute_result",
          "data": {
            "text/plain": [
              "   mean radius  mean texture  mean perimeter  mean area  mean smoothness  \\\n",
              "0        17.99         10.38          122.80     1001.0          0.11840   \n",
              "1        20.57         17.77          132.90     1326.0          0.08474   \n",
              "2        19.69         21.25          130.00     1203.0          0.10960   \n",
              "3        11.42         20.38           77.58      386.1          0.14250   \n",
              "4        20.29         14.34          135.10     1297.0          0.10030   \n",
              "\n",
              "   mean compactness  mean concavity  mean concave points  mean symmetry  \\\n",
              "0           0.27760          0.3001              0.14710         0.2419   \n",
              "1           0.07864          0.0869              0.07017         0.1812   \n",
              "2           0.15990          0.1974              0.12790         0.2069   \n",
              "3           0.28390          0.2414              0.10520         0.2597   \n",
              "4           0.13280          0.1980              0.10430         0.1809   \n",
              "\n",
              "   mean fractal dimension  ...  worst radius  worst texture  worst perimeter  \\\n",
              "0                 0.07871  ...         25.38          17.33           184.60   \n",
              "1                 0.05667  ...         24.99          23.41           158.80   \n",
              "2                 0.05999  ...         23.57          25.53           152.50   \n",
              "3                 0.09744  ...         14.91          26.50            98.87   \n",
              "4                 0.05883  ...         22.54          16.67           152.20   \n",
              "\n",
              "   worst area  worst smoothness  worst compactness  worst concavity  \\\n",
              "0      2019.0            0.1622             0.6656           0.7119   \n",
              "1      1956.0            0.1238             0.1866           0.2416   \n",
              "2      1709.0            0.1444             0.4245           0.4504   \n",
              "3       567.7            0.2098             0.8663           0.6869   \n",
              "4      1575.0            0.1374             0.2050           0.4000   \n",
              "\n",
              "   worst concave points  worst symmetry  worst fractal dimension  \n",
              "0                0.2654          0.4601                  0.11890  \n",
              "1                0.1860          0.2750                  0.08902  \n",
              "2                0.2430          0.3613                  0.08758  \n",
              "3                0.2575          0.6638                  0.17300  \n",
              "4                0.1625          0.2364                  0.07678  \n",
              "\n",
              "[5 rows x 30 columns]"
            ],
            "text/html": [
              "\n",
              "  <div id=\"df-951ff517-976d-4f6b-91b5-d6fd9f12e77e\">\n",
              "    <div class=\"colab-df-container\">\n",
              "      <div>\n",
              "<style scoped>\n",
              "    .dataframe tbody tr th:only-of-type {\n",
              "        vertical-align: middle;\n",
              "    }\n",
              "\n",
              "    .dataframe tbody tr th {\n",
              "        vertical-align: top;\n",
              "    }\n",
              "\n",
              "    .dataframe thead th {\n",
              "        text-align: right;\n",
              "    }\n",
              "</style>\n",
              "<table border=\"1\" class=\"dataframe\">\n",
              "  <thead>\n",
              "    <tr style=\"text-align: right;\">\n",
              "      <th></th>\n",
              "      <th>mean radius</th>\n",
              "      <th>mean texture</th>\n",
              "      <th>mean perimeter</th>\n",
              "      <th>mean area</th>\n",
              "      <th>mean smoothness</th>\n",
              "      <th>mean compactness</th>\n",
              "      <th>mean concavity</th>\n",
              "      <th>mean concave points</th>\n",
              "      <th>mean symmetry</th>\n",
              "      <th>mean fractal dimension</th>\n",
              "      <th>...</th>\n",
              "      <th>worst radius</th>\n",
              "      <th>worst texture</th>\n",
              "      <th>worst perimeter</th>\n",
              "      <th>worst area</th>\n",
              "      <th>worst smoothness</th>\n",
              "      <th>worst compactness</th>\n",
              "      <th>worst concavity</th>\n",
              "      <th>worst concave points</th>\n",
              "      <th>worst symmetry</th>\n",
              "      <th>worst fractal dimension</th>\n",
              "    </tr>\n",
              "  </thead>\n",
              "  <tbody>\n",
              "    <tr>\n",
              "      <th>0</th>\n",
              "      <td>17.99</td>\n",
              "      <td>10.38</td>\n",
              "      <td>122.80</td>\n",
              "      <td>1001.0</td>\n",
              "      <td>0.11840</td>\n",
              "      <td>0.27760</td>\n",
              "      <td>0.3001</td>\n",
              "      <td>0.14710</td>\n",
              "      <td>0.2419</td>\n",
              "      <td>0.07871</td>\n",
              "      <td>...</td>\n",
              "      <td>25.38</td>\n",
              "      <td>17.33</td>\n",
              "      <td>184.60</td>\n",
              "      <td>2019.0</td>\n",
              "      <td>0.1622</td>\n",
              "      <td>0.6656</td>\n",
              "      <td>0.7119</td>\n",
              "      <td>0.2654</td>\n",
              "      <td>0.4601</td>\n",
              "      <td>0.11890</td>\n",
              "    </tr>\n",
              "    <tr>\n",
              "      <th>1</th>\n",
              "      <td>20.57</td>\n",
              "      <td>17.77</td>\n",
              "      <td>132.90</td>\n",
              "      <td>1326.0</td>\n",
              "      <td>0.08474</td>\n",
              "      <td>0.07864</td>\n",
              "      <td>0.0869</td>\n",
              "      <td>0.07017</td>\n",
              "      <td>0.1812</td>\n",
              "      <td>0.05667</td>\n",
              "      <td>...</td>\n",
              "      <td>24.99</td>\n",
              "      <td>23.41</td>\n",
              "      <td>158.80</td>\n",
              "      <td>1956.0</td>\n",
              "      <td>0.1238</td>\n",
              "      <td>0.1866</td>\n",
              "      <td>0.2416</td>\n",
              "      <td>0.1860</td>\n",
              "      <td>0.2750</td>\n",
              "      <td>0.08902</td>\n",
              "    </tr>\n",
              "    <tr>\n",
              "      <th>2</th>\n",
              "      <td>19.69</td>\n",
              "      <td>21.25</td>\n",
              "      <td>130.00</td>\n",
              "      <td>1203.0</td>\n",
              "      <td>0.10960</td>\n",
              "      <td>0.15990</td>\n",
              "      <td>0.1974</td>\n",
              "      <td>0.12790</td>\n",
              "      <td>0.2069</td>\n",
              "      <td>0.05999</td>\n",
              "      <td>...</td>\n",
              "      <td>23.57</td>\n",
              "      <td>25.53</td>\n",
              "      <td>152.50</td>\n",
              "      <td>1709.0</td>\n",
              "      <td>0.1444</td>\n",
              "      <td>0.4245</td>\n",
              "      <td>0.4504</td>\n",
              "      <td>0.2430</td>\n",
              "      <td>0.3613</td>\n",
              "      <td>0.08758</td>\n",
              "    </tr>\n",
              "    <tr>\n",
              "      <th>3</th>\n",
              "      <td>11.42</td>\n",
              "      <td>20.38</td>\n",
              "      <td>77.58</td>\n",
              "      <td>386.1</td>\n",
              "      <td>0.14250</td>\n",
              "      <td>0.28390</td>\n",
              "      <td>0.2414</td>\n",
              "      <td>0.10520</td>\n",
              "      <td>0.2597</td>\n",
              "      <td>0.09744</td>\n",
              "      <td>...</td>\n",
              "      <td>14.91</td>\n",
              "      <td>26.50</td>\n",
              "      <td>98.87</td>\n",
              "      <td>567.7</td>\n",
              "      <td>0.2098</td>\n",
              "      <td>0.8663</td>\n",
              "      <td>0.6869</td>\n",
              "      <td>0.2575</td>\n",
              "      <td>0.6638</td>\n",
              "      <td>0.17300</td>\n",
              "    </tr>\n",
              "    <tr>\n",
              "      <th>4</th>\n",
              "      <td>20.29</td>\n",
              "      <td>14.34</td>\n",
              "      <td>135.10</td>\n",
              "      <td>1297.0</td>\n",
              "      <td>0.10030</td>\n",
              "      <td>0.13280</td>\n",
              "      <td>0.1980</td>\n",
              "      <td>0.10430</td>\n",
              "      <td>0.1809</td>\n",
              "      <td>0.05883</td>\n",
              "      <td>...</td>\n",
              "      <td>22.54</td>\n",
              "      <td>16.67</td>\n",
              "      <td>152.20</td>\n",
              "      <td>1575.0</td>\n",
              "      <td>0.1374</td>\n",
              "      <td>0.2050</td>\n",
              "      <td>0.4000</td>\n",
              "      <td>0.1625</td>\n",
              "      <td>0.2364</td>\n",
              "      <td>0.07678</td>\n",
              "    </tr>\n",
              "  </tbody>\n",
              "</table>\n",
              "<p>5 rows × 30 columns</p>\n",
              "</div>\n",
              "      <button class=\"colab-df-convert\" onclick=\"convertToInteractive('df-951ff517-976d-4f6b-91b5-d6fd9f12e77e')\"\n",
              "              title=\"Convert this dataframe to an interactive table.\"\n",
              "              style=\"display:none;\">\n",
              "        \n",
              "  <svg xmlns=\"http://www.w3.org/2000/svg\" height=\"24px\"viewBox=\"0 0 24 24\"\n",
              "       width=\"24px\">\n",
              "    <path d=\"M0 0h24v24H0V0z\" fill=\"none\"/>\n",
              "    <path d=\"M18.56 5.44l.94 2.06.94-2.06 2.06-.94-2.06-.94-.94-2.06-.94 2.06-2.06.94zm-11 1L8.5 8.5l.94-2.06 2.06-.94-2.06-.94L8.5 2.5l-.94 2.06-2.06.94zm10 10l.94 2.06.94-2.06 2.06-.94-2.06-.94-.94-2.06-.94 2.06-2.06.94z\"/><path d=\"M17.41 7.96l-1.37-1.37c-.4-.4-.92-.59-1.43-.59-.52 0-1.04.2-1.43.59L10.3 9.45l-7.72 7.72c-.78.78-.78 2.05 0 2.83L4 21.41c.39.39.9.59 1.41.59.51 0 1.02-.2 1.41-.59l7.78-7.78 2.81-2.81c.8-.78.8-2.07 0-2.86zM5.41 20L4 18.59l7.72-7.72 1.47 1.35L5.41 20z\"/>\n",
              "  </svg>\n",
              "      </button>\n",
              "      \n",
              "  <style>\n",
              "    .colab-df-container {\n",
              "      display:flex;\n",
              "      flex-wrap:wrap;\n",
              "      gap: 12px;\n",
              "    }\n",
              "\n",
              "    .colab-df-convert {\n",
              "      background-color: #E8F0FE;\n",
              "      border: none;\n",
              "      border-radius: 50%;\n",
              "      cursor: pointer;\n",
              "      display: none;\n",
              "      fill: #1967D2;\n",
              "      height: 32px;\n",
              "      padding: 0 0 0 0;\n",
              "      width: 32px;\n",
              "    }\n",
              "\n",
              "    .colab-df-convert:hover {\n",
              "      background-color: #E2EBFA;\n",
              "      box-shadow: 0px 1px 2px rgba(60, 64, 67, 0.3), 0px 1px 3px 1px rgba(60, 64, 67, 0.15);\n",
              "      fill: #174EA6;\n",
              "    }\n",
              "\n",
              "    [theme=dark] .colab-df-convert {\n",
              "      background-color: #3B4455;\n",
              "      fill: #D2E3FC;\n",
              "    }\n",
              "\n",
              "    [theme=dark] .colab-df-convert:hover {\n",
              "      background-color: #434B5C;\n",
              "      box-shadow: 0px 1px 3px 1px rgba(0, 0, 0, 0.15);\n",
              "      filter: drop-shadow(0px 1px 2px rgba(0, 0, 0, 0.3));\n",
              "      fill: #FFFFFF;\n",
              "    }\n",
              "  </style>\n",
              "\n",
              "      <script>\n",
              "        const buttonEl =\n",
              "          document.querySelector('#df-951ff517-976d-4f6b-91b5-d6fd9f12e77e button.colab-df-convert');\n",
              "        buttonEl.style.display =\n",
              "          google.colab.kernel.accessAllowed ? 'block' : 'none';\n",
              "\n",
              "        async function convertToInteractive(key) {\n",
              "          const element = document.querySelector('#df-951ff517-976d-4f6b-91b5-d6fd9f12e77e');\n",
              "          const dataTable =\n",
              "            await google.colab.kernel.invokeFunction('convertToInteractive',\n",
              "                                                     [key], {});\n",
              "          if (!dataTable) return;\n",
              "\n",
              "          const docLinkHtml = 'Like what you see? Visit the ' +\n",
              "            '<a target=\"_blank\" href=https://colab.research.google.com/notebooks/data_table.ipynb>data table notebook</a>'\n",
              "            + ' to learn more about interactive tables.';\n",
              "          element.innerHTML = '';\n",
              "          dataTable['output_type'] = 'display_data';\n",
              "          await google.colab.output.renderOutput(dataTable, element);\n",
              "          const docLink = document.createElement('div');\n",
              "          docLink.innerHTML = docLinkHtml;\n",
              "          element.appendChild(docLink);\n",
              "        }\n",
              "      </script>\n",
              "    </div>\n",
              "  </div>\n",
              "  "
            ]
          },
          "metadata": {},
          "execution_count": 3
        }
      ],
      "source": [
        "df_all = pd.DataFrame(dat['data'], columns=list(dat['feature_names']))\n",
        "df_all.head()"
      ]
    },
    {
      "cell_type": "markdown",
      "metadata": {
        "id": "EPU3EQykE0Fz"
      },
      "source": [
        "## Creating Train and Test Sets"
      ]
    },
    {
      "cell_type": "markdown",
      "metadata": {
        "id": "VFQiNFcpE0Fz"
      },
      "source": [
        "Untuk memungkinkan model kami membuat prediksi apakah tumor ganas atau jinak, kami perlu melatihnya dari beberapa data. Namun, untuk kemudian mengevaluasi kinerja model kami, kami perlu memeriksa apakah itu mengklasifikasikan data yang tidak terlihat dengan benar. Itulah sebabnya kami membagi data yang kami miliki menjadi dua set - set pelatihan dan set pengujian. Kami melatih parameter untuk model dengan menggunakan set pelatihan dan kemudian mengevaluasi seberapa baik model menggunakan set tes.\n",
        "\n",
        "Kami mengambil 70% sampel ke dalam set pelatihan dan 30% ke dalam set uji, yang merupakan ukuran konvensional untuk set data yang kami miliki."
      ]
    },
    {
      "cell_type": "code",
      "execution_count": 4,
      "metadata": {
        "colab": {
          "base_uri": "https://localhost:8080/"
        },
        "id": "0Ukgt6FlE0Fz",
        "outputId": "3363d248-3063-4bbe-a9b5-20450ef519fd"
      },
      "outputs": [
        {
          "output_type": "stream",
          "name": "stdout",
          "text": [
            "X_train.shape, y_train.shape (398, 30) (398,)\n",
            "X_test.shape, y_test.shape (171, 30) (171,)\n"
          ]
        },
        {
          "output_type": "stream",
          "name": "stderr",
          "text": [
            "/usr/local/lib/python3.7/dist-packages/sklearn/utils/validation.py:1692: FutureWarning: Feature names only support names that are all strings. Got feature names with dtypes: ['str_']. An error will be raised in 1.2.\n",
            "  FutureWarning,\n",
            "/usr/local/lib/python3.7/dist-packages/sklearn/utils/validation.py:1692: FutureWarning: Feature names only support names that are all strings. Got feature names with dtypes: ['str_']. An error will be raised in 1.2.\n",
            "  FutureWarning,\n",
            "/usr/local/lib/python3.7/dist-packages/sklearn/utils/validation.py:1692: FutureWarning: Feature names only support names that are all strings. Got feature names with dtypes: ['str_']. An error will be raised in 1.2.\n",
            "  FutureWarning,\n"
          ]
        }
      ],
      "source": [
        "# We do a 70/30 split\n",
        "TEST_SIZE_RATIO = 0.3\n",
        "\n",
        "# Setting up X and y\n",
        "X = df_all\n",
        "y = pd.Series(list(dat['target']))\n",
        "\n",
        "X_train, X_test, y_train, y_test = train_test_split(X, y, test_size=TEST_SIZE_RATIO, random_state=0)\n",
        "\n",
        "# Normalizing the data\n",
        "sc = StandardScaler()\n",
        "X_train = sc.fit_transform(X_train)\n",
        "X_test = sc.transform(X_test)\n",
        "print(\"X_train.shape, y_train.shape\", X_train.shape, y_train.shape)\n",
        "print(\"X_test.shape, y_test.shape\", X_test.shape, y_test.shape)"
      ]
    },
    {
      "cell_type": "markdown",
      "metadata": {
        "id": "Ny_xLVtZE0Fz"
      },
      "source": [
        "## Performing Logistic Regression"
      ]
    },
    {
      "cell_type": "markdown",
      "metadata": {
        "id": "xVZ9cCbnE0F0"
      },
      "source": [
        "Kami sekarang akan melakukan Regresi Logistik pada data yang tidak dimodifikasi. Bagi Anda yang belum tahu tentang Logistic Regression, ini adalah teknik yang memungkinkan kita mengklasifikasikan data ke dalam kelas yang berbeda. Misalnya, kita bisa mendapatkan gambar buah dan mencoba mengklasifikasikan apakah itu jeruk atau apel. Dalam hal ini kelasnya adalah jeruk dan apel.\n",
        "\n",
        "Dalam hal ini, kelasnya ganas (diwakili oleh angka 0) dan jinak (diwakili oleh angka 1). Berdasarkan data, kami akan mencoba mengklasifikasikan tumor sebagai ganas atau jinak.\n",
        "\n",
        "Untuk mengevaluasi kinerja model, kami akan menggunakan metrik yang disebut `skor f1`, yang menilai seberapa baik kinerja model dalam memprediksi apakah tumor ganas atau jinak dan memberikan skor numerik berdasarkan itu. Kami bertujuan untuk mendapatkan skor f1 setinggi mungkin."
      ]
    },
    {
      "cell_type": "code",
      "execution_count": 5,
      "metadata": {
        "colab": {
          "base_uri": "https://localhost:8080/"
        },
        "id": "CjY02nhrE0F0",
        "outputId": "0c814cba-1719-49af-e973-326d47b1c343"
      },
      "outputs": [
        {
          "output_type": "stream",
          "name": "stdout",
          "text": [
            "Training score:  0.99203187250996\n",
            "Testing score:  0.981651376146789\n"
          ]
        }
      ],
      "source": [
        "model = LogisticRegression(random_state=0).fit(X_train, y_train)\n",
        "print(\"Training score: \", f1_score(y_train, model.predict(X_train)))\n",
        "print(\"Testing score: \", f1_score(y_test, model.predict(X_test)))"
      ]
    },
    {
      "cell_type": "markdown",
      "metadata": {
        "id": "ROuA1tCkE0F0"
      },
      "source": [
        "Ketika kami melatih model pada data awal (dinormalisasi), kami mendapatkan skor set tes 98,17%."
      ]
    },
    {
      "cell_type": "markdown",
      "metadata": {
        "id": "6XMDkZvME0F0"
      },
      "source": [
        "## Visualizing Correlation of the Features"
      ]
    },
    {
      "cell_type": "markdown",
      "metadata": {
        "id": "ggamY53PE0F1"
      },
      "source": [
        "Kami berharap beberapa fitur sangat berkorelasi satu sama lain. Mari kita buat peta panas yang memungkinkan kita memvisualisasikan korelasi antara fitur yang berbeda.\n",
        "\n",
        "Kode untuk fungsi berikut telah diambil dari [ini](https://colab.research.google.com/github/gal-a/blog/blob/master/docs/notebooks/sklearn/sklearn_logistic_regression_vs_gbm.ipynb#scrollTo= ayp_TDIq6qJj) buku catatan."
      ]
    },
    {
      "cell_type": "code",
      "execution_count": 6,
      "metadata": {
        "colab": {
          "base_uri": "https://localhost:8080/",
          "height": 790
        },
        "id": "mi0WErBaE0F1",
        "outputId": "5556f5ee-f65e-4395-f5c2-d4f71b110186"
      },
      "outputs": [
        {
          "output_type": "stream",
          "name": "stdout",
          "text": [
            "Function correlation_matrix: X.shape, y.shape, yX.shape: (569, 30) (569,) (569, 31)\n",
            "\n"
          ]
        },
        {
          "output_type": "display_data",
          "data": {
            "text/plain": [
              "<Figure size 720x720 with 2 Axes>"
            ],
            "image/png": "[encoded data removed]"
          },
          "metadata": {
            "needs_background": "light"
          }
        }
      ],
      "source": [
        "def correlation_matrix(y, X, is_plot=False):\n",
        "  # Calculate and plot the correlation symmetrical matrix\n",
        "  # Return:\n",
        "  # yX - concatenated data\n",
        "  # yX_corr - correlation matrix, pearson correlation of values from -1 to +1\n",
        "  # yX_abs_corr - correlation matrix, absolute values\n",
        "  \n",
        "  yX = pd.concat([y, X], axis=1)\n",
        "  yX = yX.rename(columns={0: 'TARGET'})  # rename first column\n",
        "\n",
        "  print(\"Function correlation_matrix: X.shape, y.shape, yX.shape:\", X.shape, y.shape, yX.shape)\n",
        "  print()\n",
        "\n",
        "  # Get feature correlations and transform to dataframe\n",
        "  yX_corr = yX.corr(method='pearson')\n",
        "\n",
        "  # Convert to abolute values\n",
        "  yX_abs_corr = np.abs(yX_corr) \n",
        "  \n",
        "  if is_plot:\n",
        "    plt.figure(figsize=(10, 10))\n",
        "    plt.imshow(yX_abs_corr, cmap='RdYlGn', interpolation='none', aspect='auto')\n",
        "    plt.colorbar()\n",
        "    plt.xticks(range(len(yX_abs_corr)), yX_abs_corr.columns, rotation='vertical')\n",
        "    plt.yticks(range(len(yX_abs_corr)), yX_abs_corr.columns);\n",
        "    plt.suptitle('Pearson Correlation Heat Map (absolute values)', fontsize=15, fontweight='bold')\n",
        "    plt.show()\n",
        "  \n",
        "  return yX, yX_corr, yX_abs_corr\n",
        "\n",
        "# Build the correlation matrix for the train data\n",
        "yX, yX_corr, yX_abs_corr = correlation_matrix(y, X, is_plot=True) "
      ]
    },
    {
      "cell_type": "markdown",
      "metadata": {
        "id": "qGkO08UlE0F1"
      },
      "source": [
        "Label `TARGET` di atas mengacu pada apakah tumor itu ganas(0) atau jinak(1). Sel hijau menunjukkan korelasi yang sangat tinggi sedangkan sel darah merah menunjukkan korelasi yang sangat rendah.\n",
        "\n",
        "Dari grafik di atas, kita dapat melihat bahwa `jari-jari rata-rata` dan `keliling rata-rata` berkorelasi sangat kuat satu sama lain (korelasi hampir sama dengan 1). `jari-jari rata-rata` dan `luas rata-rata` juga sangat terkait erat satu sama lain. Namun, `dimensi fraktal terburuk` dan `jari-jari rata-rata` sama sekali tidak berhubungan satu sama lain (korelasi hampir sama dengan 0). Dapatkah Anda mengidentifikasi beberapa fitur lain yang sangat terkait atau tidak terkait satu sama lain?\n",
        "\n",
        "Kami dapat menghapus beberapa fitur ini dan menggabungkan yang lain dan masih kehilangan sedikit informasi. Inilah yang akan kita lakukan di bagian selanjutnya ketika kita menerapkan PCA ke data."
      ]
    },
    {
      "cell_type": "markdown",
      "metadata": {
        "id": "Jlw7nD7FE0F1"
      },
      "source": [
        "## Performing PCA on the Dataset"
      ]
    },
    {
      "cell_type": "markdown",
      "metadata": {
        "id": "CNURXL49E0F1"
      },
      "source": [
        "Kami sekarang akan melakukan PCA pada set pelatihan kami. Ini dapat dilakukan dengan mudah menggunakan perpustakaan sklearn. Perhatikan bahwa eigenbasis dihitung hanya dengan menggunakan titik data dalam set pelatihan. Ini karena model juga harus berkinerja baik pada data yang tidak terlihat. Jika kita memasukkan data tentang kumpulan tes ketika kita menemukan basis eigen, maka model kita mungkin menjadi bias dan kumpulan tes tidak akan lagi memberikan penilaian yang tidak bias dari model kita.\n",
        "\n",
        "Kami telah menormalkan data sebelumnya dan karenanya kami tidak perlu menormalkannya lagi."
      ]
    },
    {
      "cell_type": "code",
      "execution_count": 7,
      "metadata": {
        "colab": {
          "base_uri": "https://localhost:8080/",
          "height": 279
        },
        "id": "USN08g-yE0F2",
        "outputId": "6677f2b3-8241-4c41-8031-bf555883897d"
      },
      "outputs": [
        {
          "output_type": "display_data",
          "data": {
            "text/plain": [
              "<Figure size 432x288 with 1 Axes>"
            ],
            "image/png": "[encoded data removed]"
          },
          "metadata": {
            "needs_background": "light"
          }
        }
      ],
      "source": [
        "# Applying PCA\n",
        "pca = PCA()\n",
        "X_train_reduced = pca.fit_transform(X_train)\n",
        "X_test_reduced = pca.transform(X_test)\n",
        "\n",
        "# Plotting the amount of information stored in each component\n",
        "plt.ylabel('Variance')\n",
        "plt.xlabel('Component Number')\n",
        "plt.bar(np.arange(30) + 1, pca.explained_variance_ratio_)\n",
        "plt.show()"
      ]
    },
    {
      "cell_type": "markdown",
      "metadata": {
        "id": "4toDiNwaE0F2"
      },
      "source": [
        "Seperti yang Anda lihat, jumlah informasi yang disimpan dalam suatu komponen sangat tinggi untuk beberapa dimensi pertama, tetapi kemudian turun dengan sangat cepat. Hanya 1,4% dari varians yang disimpan di komponen ke-7. Selain itu, turun menjadi 0,25% sama sekali tidak signifikan dalam komponen ke-16. Kami mempertahankan hampir 85% varians data asli dengan hanya menggunakan 5 komponen, yang merupakan seperenam dari jumlah fitur data asli.\n",
        "\n",
        "Kami sedang mencetak nilai numerik dari varians yang disimpan di setiap komponen di bawah ini, jika Anda ingin melihatnya."
      ]
    },
    {
      "cell_type": "code",
      "execution_count": 8,
      "metadata": {
        "colab": {
          "base_uri": "https://localhost:8080/"
        },
        "id": "PefA_LEmE0F2",
        "outputId": "9a82eb7d-ed2e-4a73-ecea-f8d751393c9f"
      },
      "outputs": [
        {
          "output_type": "stream",
          "name": "stdout",
          "text": [
            "[4.36893153e-01 1.94151626e-01 9.66154484e-02 6.71661075e-02\n",
            " 5.49883033e-02 4.01225718e-02 2.18306816e-02 1.48922601e-02\n",
            " 1.37410827e-02 1.10137130e-02 1.04826288e-02 9.16214247e-03\n",
            " 7.66306051e-03 5.14226331e-03 3.19635178e-03 2.51968451e-03\n",
            " 1.92415148e-03 1.65844223e-03 1.49026749e-03 1.06777316e-03\n",
            " 1.01725216e-03 8.48954816e-04 7.43492725e-04 5.81295611e-04\n",
            " 5.44222785e-04 2.53545469e-04 2.14385701e-04 4.62967124e-05\n",
            " 2.51158320e-05 3.72534805e-06]\n"
          ]
        }
      ],
      "source": [
        "print(pca.explained_variance_ratio_)"
      ]
    },
    {
      "cell_type": "markdown",
      "metadata": {
        "id": "rZKNhSxOE0F2"
      },
      "source": [
        "## Visualizing the Data"
      ]
    },
    {
      "cell_type": "markdown",
      "metadata": {
        "id": "KFpi0XsnE0F2"
      },
      "source": [
        "Salah satu kegunaan PCA adalah memungkinkan kita memvisualisasikan data berdimensi tinggi.\n",
        "\n",
        "PCA memungkinkan kita memproyeksikan data asli kita ke dalam ruang dua dimensi. Ini memungkinkan kita memvisualisasikan data dengan memplotnya pada grafik. Di bawah ini, kami akan memvisualisasikan set pelatihan dengan melakukan PCA di atasnya dan hanya mempertimbangkan 2 komponen pertama."
      ]
    },
    {
      "cell_type": "code",
      "execution_count": 9,
      "metadata": {
        "colab": {
          "base_uri": "https://localhost:8080/",
          "height": 295
        },
        "id": "L0qA3V-wE0F2",
        "outputId": "49da4cfc-ab04-43f8-ce2e-7acc1e46723d"
      },
      "outputs": [
        {
          "output_type": "display_data",
          "data": {
            "text/plain": [
              "<Figure size 432x288 with 1 Axes>"
            ],
            "image/png": "[encoded data removed]"
          },
          "metadata": {
            "needs_background": "light"
          }
        }
      ],
      "source": [
        "pca = PCA(n_components=2)\n",
        "X_train_reduced = pca.fit_transform(X_train)\n",
        "X_test_reduced = pca.transform(X_test)\n",
        "\n",
        "X_train_reduced_malignant = np.array([x for x, y in zip(X_train_reduced, y_train) if y == 0])\n",
        "X_train_reduced_benign = np.array([x for x, y in zip(X_train_reduced, y_train) if y == 1])\n",
        "\n",
        "plt.scatter(*X_train_reduced_malignant.T, color='red')\n",
        "plt.scatter(*X_train_reduced_benign.T, color='blue')\n",
        "plt.title('Training Set After PCA')\n",
        "plt.legend(['malignant', 'benign'])\n",
        "plt.xlabel('Coordinate of first principle component')\n",
        "plt.ylabel('Coordinate of second principle component')\n",
        "plt.show()"
      ]
    },
    {
      "cell_type": "markdown",
      "metadata": {
        "id": "MaPFlXuhE0F2"
      },
      "source": [
        "## Performing Logistic Regression"
      ]
    },
    {
      "cell_type": "markdown",
      "metadata": {
        "id": "2J2TbVelE0F3"
      },
      "source": [
        "Kami sekarang akan melakukan regresi logistik lagi, tetapi kali ini kami akan melakukan PCA terlebih dahulu pada data dan hanya mempertimbangkan 5 komponen pertama."
      ]
    },
    {
      "cell_type": "code",
      "execution_count": 10,
      "metadata": {
        "colab": {
          "base_uri": "https://localhost:8080/"
        },
        "id": "J_RyuXM6E0F3",
        "outputId": "b0f54b2a-40c1-42aa-da8f-87db111de06b"
      },
      "outputs": [
        {
          "output_type": "stream",
          "name": "stdout",
          "text": [
            "Training score:  0.9859719438877755\n",
            "Testing score:  0.9769585253456222\n"
          ]
        }
      ],
      "source": [
        "pca = PCA(n_components=5)\n",
        "X_train_reduced = pca.fit_transform(X_train)\n",
        "X_test_reduced = pca.transform(X_test)\n",
        "\n",
        "model = LogisticRegression(random_state=0).fit(X_train_reduced, y_train)\n",
        "print(\"Training score: \", f1_score(y_train, model.predict(X_train_reduced)))\n",
        "print(\"Testing score: \", f1_score(y_test, model.predict(X_test_reduced)))"
      ]
    },
    {
      "cell_type": "markdown",
      "metadata": {
        "id": "ReKo84lVE0F3"
      },
      "source": [
        "Kali ini kami mendapatkan skor set tes 97,7%, yang hanya sedikit lebih buruk dari skor asli 98,17%. Namun, dengan hanya menggunakan seperenam dari jumlah data yang awalnya kami gunakan, model kami akan dilatih lebih cepat. Meskipun efeknya mungkin tidak terlihat dalam kasus ini, itu bisa sangat besar dalam aplikasi tertentu, di mana model mungkin membutuhkan waktu berhari-hari untuk melatih sebaliknya."
      ]
    },
    {
      "cell_type": "markdown",
      "metadata": {
        "id": "rfdXfSK-E0F3"
      },
      "source": [
        "Sebaiknya Anda memvariasikan nilai `n_components` dalam kode di atas dan melihat bagaimana akurasi set pengujian berubah. Secara khusus, perhatikan bahwa dengan hanya menggunakan satu komponen, kita sudah mendapatkan skor 91,59%. Selain itu, jika kami menggunakan 14 komponen, kami mendapatkan skor 98,17%, yang sama dengan yang kami dapatkan untuk data asli, tetapi menggunakan kurang dari setengah jumlah fitur."
      ]
    },
    {
      "cell_type": "markdown",
      "metadata": {
        "id": "DiXRrXmmE0F3"
      },
      "source": [
        "Kami memplot skor pelatihan dan skor tes terhadap jumlah komponen. Perhatikan bahwa sementara skor pelatihan dan skor tes umumnya meningkat dengan peningkatan jumlah komponen, ini tidak selalu harus berlaku. Dalam praktiknya, Anda perlu bereksperimen dengan nilai `n_komponen` yang berbeda dan mencari tahu apa yang berhasil untuk masalah spesifik yang Anda coba selesaikan."
      ]
    },
    {
      "cell_type": "code",
      "execution_count": 11,
      "metadata": {
        "colab": {
          "base_uri": "https://localhost:8080/",
          "height": 541
        },
        "id": "XIhu24BCE0F3",
        "outputId": "29d75d5b-ac6e-4c04-ee6e-7d8d78d18ccc"
      },
      "outputs": [
        {
          "output_type": "display_data",
          "data": {
            "text/plain": [
              "<Figure size 432x288 with 1 Axes>"
            ],
            "image/png": "[encoded data removed]"
          },
          "metadata": {
            "needs_background": "light"
          }
        },
        {
          "output_type": "display_data",
          "data": {
            "text/plain": [
              "<Figure size 432x288 with 1 Axes>"
            ],
            "image/png": "[encoded data removed]"
          },
          "metadata": {
            "needs_background": "light"
          }
        }
      ],
      "source": [
        "X = np.arange(30) + 1\n",
        "Y = []\n",
        "\n",
        "for i in X:\n",
        "    pca = PCA(n_components=i)\n",
        "    X_train_reduced = pca.fit_transform(X_train)\n",
        "    model = LogisticRegression(random_state=0).fit(X_train_reduced, y_train)\n",
        "    Y.append(f1_score(y_train, model.predict(X_train_reduced)))\n",
        "\n",
        "plt.plot(X, Y)\n",
        "plt.xlabel('Number of Components')\n",
        "plt.ylabel('Training Score')\n",
        "plt.show()\n",
        "\n",
        "Y = []\n",
        "\n",
        "for i in X:\n",
        "    pca = PCA(n_components=i)\n",
        "    X_train_reduced = pca.fit_transform(X_train)\n",
        "    X_test_reduced = pca.transform(X_test)\n",
        "    model = LogisticRegression(random_state=0).fit(X_train_reduced, y_train)\n",
        "    Y.append(f1_score(y_test, model.predict(X_test_reduced)))\n",
        "\n",
        "plt.plot(X, Y)\n",
        "plt.xlabel('Number of Components')\n",
        "plt.ylabel('Test Score')\n",
        "plt.show()"
      ]
    }
  ],
  "metadata": {
    "interpreter": {
      "hash": "eb2dfa074ecf49875556b06c8012d2aeabdbcab37609e6a7451c9f5617658593"
    },
    "kernelspec": {
      "display_name": "Python 3",
      "language": "python",
      "name": "python3"
    },
    "language_info": {
      "codemirror_mode": {
        "name": "ipython",
        "version": 3
      },
      "file_extension": ".py",
      "mimetype": "text/x-python",
      "name": "python",
      "nbconvert_exporter": "python",
      "pygments_lexer": "ipython3",
      "version": "3.7.6"
    },
    "colab": {
      "provenance": [],
      "include_colab_link": true
    }
  },
  "nbformat": 4,
  "nbformat_minor": 0
}