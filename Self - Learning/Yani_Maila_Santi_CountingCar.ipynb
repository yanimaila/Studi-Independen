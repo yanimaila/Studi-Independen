{
  "cells": [
    {
      "cell_type": "markdown",
      "metadata": {
        "id": "view-in-github",
        "colab_type": "text"
      },
      "source": [
        "<a href=\"https://colab.research.google.com/github/yanimaila/Studi-Independen/blob/main/Self%20-%20Learning/Yani_Maila_Santi_CountingCar.ipynb\" target=\"_parent\"><img src=\"https://colab.research.google.com/assets/colab-badge.svg\" alt=\"Open In Colab\"/></a>"
      ]
    },
    {
      "cell_type": "markdown",
      "source": [
        "Nama : Yani Maila Santi\n",
        "\n",
        "Class : JumaTec \n"
      ],
      "metadata": {
        "id": "NRKwPbgisDLE"
      }
    },
    {
      "cell_type": "code",
      "source": [
        "# Download Video and Haar Feature\n",
        "!gdown \"1NWoVpB7R9oz6W5pg8fSMkIX81j1iStz1\""
      ],
      "metadata": {
        "id": "XnIuBDaCytCq",
        "colab": {
          "base_uri": "https://localhost:8080/"
        },
        "outputId": "6431ff6a-af3e-43f9-9cea-f912fa300ac5"
      },
      "execution_count": 1,
      "outputs": [
        {
          "output_type": "stream",
          "name": "stdout",
          "text": [
            "Downloading...\n",
            "From: https://drive.google.com/uc?id=1NWoVpB7R9oz6W5pg8fSMkIX81j1iStz1\n",
            "To: /content/feature_haar.zip\n",
            "\r  0% 0.00/6.52M [00:00<?, ?B/s]\r100% 6.52M/6.52M [00:00<00:00, 316MB/s]\n"
          ]
        }
      ]
    },
    {
      "cell_type": "code",
      "source": [
        "#Extract Zipfile\n",
        "import zipfile\n",
        "\n",
        "with zipfile.ZipFile(\"feature_haar.zip\", 'r') as zip_ref:\n",
        "    zip_ref.extractall(\"/content\")"
      ],
      "metadata": {
        "id": "pmv2W_D5zAol"
      },
      "execution_count": 2,
      "outputs": []
    },
    {
      "cell_type": "code",
      "source": [
        "from IPython.display import display, Javascript\n",
        "from google.colab.output import eval_js\n",
        "from base64 import b64encode\n",
        "import cv2\n",
        "\n",
        "def imshow(name, img):\n",
        "  \"\"\"Put frame as <img src=\"data:image/jpg;base64,....\"> \"\"\"\n",
        "\n",
        "  js = Javascript('''\n",
        "  async function showImage(name, image, width, height) {\n",
        "    img = document.getElementById(name);\n",
        "    if(img == null) {\n",
        "      img = document.createElement('img');\n",
        "      img.id = name;\n",
        "      document.body.appendChild(img);\n",
        "    }\n",
        "    img.src = image;\n",
        "    img.width = width;\n",
        "    img.height = height;\n",
        "  }\n",
        "  ''')\n",
        "\n",
        "  height, width = img.shape[:2]\n",
        "\n",
        "  ret, data = cv2.imencode('.jpg', img)   # compress array of pixels ke format JPG\n",
        "  data = b64encode(data)                  # encode base64\n",
        "  data = data.decode()                    # convert bytes to string\n",
        "  data = 'data:image/jpg;base64,' + data  # join header (\"data:image/jpg;base64,\") and base64 data (JPG)\n",
        "\n",
        "  display(js)\n",
        "  eval_js(f'showImage(\"{name}\", \"{data}\", {width}, {height})')  # run JavaScript untuk masukin gambar (JPG as string base64) di tag <img>\n",
        "                                          # `name` and `data` in needs `\" \"` to send it as text, not as name of variabe."
      ],
      "metadata": {
        "id": "nC5zgwFHzpU4"
      },
      "execution_count": 3,
      "outputs": []
    },
    {
      "cell_type": "code",
      "execution_count": null,
      "metadata": {
        "id": "mhTd7fnJNid5",
        "colab": {
          "base_uri": "https://localhost:8080/",
          "height": 742
        },
        "outputId": "5ab4f6a9-7f06-40ad-efd5-ca4b460c978a"
      },
      "outputs": [
        {
          "output_type": "display_data",
          "data": {
            "text/plain": [
              "<IPython.core.display.Javascript object>"
            ],
            "application/javascript": [
              "\n",
              "  async function showImage(name, image, width, height) {\n",
              "    img = document.getElementById(name);\n",
              "    if(img == null) {\n",
              "      img = document.createElement('img');\n",
              "      img.id = name;\n",
              "      document.body.appendChild(img);\n",
              "    }\n",
              "    img.src = image;\n",
              "    img.width = width;\n",
              "    img.height = height;\n",
              "  }\n",
              "  "
            ]
          },
          "metadata": {}
        },
        {
          "output_type": "display_data",
          "data": {
            "text/plain": [
              "<IPython.core.display.Javascript object>"
            ],
            "application/javascript": [
              "\n",
              "  async function showImage(name, image, width, height) {\n",
              "    img = document.getElementById(name);\n",
              "    if(img == null) {\n",
              "      img = document.createElement('img');\n",
              "      img.id = name;\n",
              "      document.body.appendChild(img);\n",
              "    }\n",
              "    img.src = image;\n",
              "    img.width = width;\n",
              "    img.height = height;\n",
              "  }\n",
              "  "
            ]
          },
          "metadata": {}
        },
        {
          "output_type": "display_data",
          "data": {
            "text/plain": [
              "<IPython.core.display.Javascript object>"
            ],
            "application/javascript": [
              "\n",
              "  async function showImage(name, image, width, height) {\n",
              "    img = document.getElementById(name);\n",
              "    if(img == null) {\n",
              "      img = document.createElement('img');\n",
              "      img.id = name;\n",
              "      document.body.appendChild(img);\n",
              "    }\n",
              "    img.src = image;\n",
              "    img.width = width;\n",
              "    img.height = height;\n",
              "  }\n",
              "  "
            ]
          },
          "metadata": {}
        },
        {
          "output_type": "display_data",
          "data": {
            "text/plain": [
              "<IPython.core.display.Javascript object>"
            ],
            "application/javascript": [
              "\n",
              "  async function showImage(name, image, width, height) {\n",
              "    img = document.getElementById(name);\n",
              "    if(img == null) {\n",
              "      img = document.createElement('img');\n",
              "      img.id = name;\n",
              "      document.body.appendChild(img);\n",
              "    }\n",
              "    img.src = image;\n",
              "    img.width = width;\n",
              "    img.height = height;\n",
              "  }\n",
              "  "
            ]
          },
          "metadata": {}
        },
        {
          "output_type": "display_data",
          "data": {
            "text/plain": [
              "<IPython.core.display.Javascript object>"
            ],
            "application/javascript": [
              "\n",
              "  async function showImage(name, image, width, height) {\n",
              "    img = document.getElementById(name);\n",
              "    if(img == null) {\n",
              "      img = document.createElement('img');\n",
              "      img.id = name;\n",
              "      document.body.appendChild(img);\n",
              "    }\n",
              "    img.src = image;\n",
              "    img.width = width;\n",
              "    img.height = height;\n",
              "  }\n",
              "  "
            ]
          },
          "metadata": {}
        },
        {
          "output_type": "display_data",
          "data": {
            "text/plain": [
              "<IPython.core.display.Javascript object>"
            ],
            "application/javascript": [
              "\n",
              "  async function showImage(name, image, width, height) {\n",
              "    img = document.getElementById(name);\n",
              "    if(img == null) {\n",
              "      img = document.createElement('img');\n",
              "      img.id = name;\n",
              "      document.body.appendChild(img);\n",
              "    }\n",
              "    img.src = image;\n",
              "    img.width = width;\n",
              "    img.height = height;\n",
              "  }\n",
              "  "
            ]
          },
          "metadata": {}
        },
        {
          "output_type": "display_data",
          "data": {
            "text/plain": [
              "<IPython.core.display.Javascript object>"
            ],
            "application/javascript": [
              "\n",
              "  async function showImage(name, image, width, height) {\n",
              "    img = document.getElementById(name);\n",
              "    if(img == null) {\n",
              "      img = document.createElement('img');\n",
              "      img.id = name;\n",
              "      document.body.appendChild(img);\n",
              "    }\n",
              "    img.src = image;\n",
              "    img.width = width;\n",
              "    img.height = height;\n",
              "  }\n",
              "  "
            ]
          },
          "metadata": {}
        },
        {
          "output_type": "display_data",
          "data": {
            "text/plain": [
              "<IPython.core.display.Javascript object>"
            ],
            "application/javascript": [
              "\n",
              "  async function showImage(name, image, width, height) {\n",
              "    img = document.getElementById(name);\n",
              "    if(img == null) {\n",
              "      img = document.createElement('img');\n",
              "      img.id = name;\n",
              "      document.body.appendChild(img);\n",
              "    }\n",
              "    img.src = image;\n",
              "    img.width = width;\n",
              "    img.height = height;\n",
              "  }\n",
              "  "
            ]
          },
          "metadata": {}
        },
        {
          "output_type": "display_data",
          "data": {
            "text/plain": [
              "<IPython.core.display.Javascript object>"
            ],
            "application/javascript": [
              "\n",
              "  async function showImage(name, image, width, height) {\n",
              "    img = document.getElementById(name);\n",
              "    if(img == null) {\n",
              "      img = document.createElement('img');\n",
              "      img.id = name;\n",
              "      document.body.appendChild(img);\n",
              "    }\n",
              "    img.src = image;\n",
              "    img.width = width;\n",
              "    img.height = height;\n",
              "  }\n",
              "  "
            ]
          },
          "metadata": {}
        },
        {
          "output_type": "display_data",
          "data": {
            "text/plain": [
              "<IPython.core.display.Javascript object>"
            ],
            "application/javascript": [
              "\n",
              "  async function showImage(name, image, width, height) {\n",
              "    img = document.getElementById(name);\n",
              "    if(img == null) {\n",
              "      img = document.createElement('img');\n",
              "      img.id = name;\n",
              "      document.body.appendChild(img);\n",
              "    }\n",
              "    img.src = image;\n",
              "    img.width = width;\n",
              "    img.height = height;\n",
              "  }\n",
              "  "
            ]
          },
          "metadata": {}
        },
        {
          "output_type": "display_data",
          "data": {
            "text/plain": [
              "<IPython.core.display.Javascript object>"
            ],
            "application/javascript": [
              "\n",
              "  async function showImage(name, image, width, height) {\n",
              "    img = document.getElementById(name);\n",
              "    if(img == null) {\n",
              "      img = document.createElement('img');\n",
              "      img.id = name;\n",
              "      document.body.appendChild(img);\n",
              "    }\n",
              "    img.src = image;\n",
              "    img.width = width;\n",
              "    img.height = height;\n",
              "  }\n",
              "  "
            ]
          },
          "metadata": {}
        },
        {
          "output_type": "display_data",
          "data": {
            "text/plain": [
              "<IPython.core.display.Javascript object>"
            ],
            "application/javascript": [
              "\n",
              "  async function showImage(name, image, width, height) {\n",
              "    img = document.getElementById(name);\n",
              "    if(img == null) {\n",
              "      img = document.createElement('img');\n",
              "      img.id = name;\n",
              "      document.body.appendChild(img);\n",
              "    }\n",
              "    img.src = image;\n",
              "    img.width = width;\n",
              "    img.height = height;\n",
              "  }\n",
              "  "
            ]
          },
          "metadata": {}
        },
        {
          "output_type": "display_data",
          "data": {
            "text/plain": [
              "<IPython.core.display.Javascript object>"
            ],
            "application/javascript": [
              "\n",
              "  async function showImage(name, image, width, height) {\n",
              "    img = document.getElementById(name);\n",
              "    if(img == null) {\n",
              "      img = document.createElement('img');\n",
              "      img.id = name;\n",
              "      document.body.appendChild(img);\n",
              "    }\n",
              "    img.src = image;\n",
              "    img.width = width;\n",
              "    img.height = height;\n",
              "  }\n",
              "  "
            ]
          },
          "metadata": {}
        },
        {
          "output_type": "display_data",
          "data": {
            "text/plain": [
              "<IPython.core.display.Javascript object>"
            ],
            "application/javascript": [
              "\n",
              "  async function showImage(name, image, width, height) {\n",
              "    img = document.getElementById(name);\n",
              "    if(img == null) {\n",
              "      img = document.createElement('img');\n",
              "      img.id = name;\n",
              "      document.body.appendChild(img);\n",
              "    }\n",
              "    img.src = image;\n",
              "    img.width = width;\n",
              "    img.height = height;\n",
              "  }\n",
              "  "
            ]
          },
          "metadata": {}
        },
        {
          "output_type": "display_data",
          "data": {
            "text/plain": [
              "<IPython.core.display.Javascript object>"
            ],
            "application/javascript": [
              "\n",
              "  async function showImage(name, image, width, height) {\n",
              "    img = document.getElementById(name);\n",
              "    if(img == null) {\n",
              "      img = document.createElement('img');\n",
              "      img.id = name;\n",
              "      document.body.appendChild(img);\n",
              "    }\n",
              "    img.src = image;\n",
              "    img.width = width;\n",
              "    img.height = height;\n",
              "  }\n",
              "  "
            ]
          },
          "metadata": {}
        },
        {
          "output_type": "display_data",
          "data": {
            "text/plain": [
              "<IPython.core.display.Javascript object>"
            ],
            "application/javascript": [
              "\n",
              "  async function showImage(name, image, width, height) {\n",
              "    img = document.getElementById(name);\n",
              "    if(img == null) {\n",
              "      img = document.createElement('img');\n",
              "      img.id = name;\n",
              "      document.body.appendChild(img);\n",
              "    }\n",
              "    img.src = image;\n",
              "    img.width = width;\n",
              "    img.height = height;\n",
              "  }\n",
              "  "
            ]
          },
          "metadata": {}
        },
        {
          "output_type": "display_data",
          "data": {
            "text/plain": [
              "<IPython.core.display.Javascript object>"
            ],
            "application/javascript": [
              "\n",
              "  async function showImage(name, image, width, height) {\n",
              "    img = document.getElementById(name);\n",
              "    if(img == null) {\n",
              "      img = document.createElement('img');\n",
              "      img.id = name;\n",
              "      document.body.appendChild(img);\n",
              "    }\n",
              "    img.src = image;\n",
              "    img.width = width;\n",
              "    img.height = height;\n",
              "  }\n",
              "  "
            ]
          },
          "metadata": {}
        },
        {
          "output_type": "display_data",
          "data": {
            "text/plain": [
              "<IPython.core.display.Javascript object>"
            ],
            "application/javascript": [
              "\n",
              "  async function showImage(name, image, width, height) {\n",
              "    img = document.getElementById(name);\n",
              "    if(img == null) {\n",
              "      img = document.createElement('img');\n",
              "      img.id = name;\n",
              "      document.body.appendChild(img);\n",
              "    }\n",
              "    img.src = image;\n",
              "    img.width = width;\n",
              "    img.height = height;\n",
              "  }\n",
              "  "
            ]
          },
          "metadata": {}
        },
        {
          "output_type": "display_data",
          "data": {
            "text/plain": [
              "<IPython.core.display.Javascript object>"
            ],
            "application/javascript": [
              "\n",
              "  async function showImage(name, image, width, height) {\n",
              "    img = document.getElementById(name);\n",
              "    if(img == null) {\n",
              "      img = document.createElement('img');\n",
              "      img.id = name;\n",
              "      document.body.appendChild(img);\n",
              "    }\n",
              "    img.src = image;\n",
              "    img.width = width;\n",
              "    img.height = height;\n",
              "  }\n",
              "  "
            ]
          },
          "metadata": {}
        },
        {
          "output_type": "display_data",
          "data": {
            "text/plain": [
              "<IPython.core.display.Javascript object>"
            ],
            "application/javascript": [
              "\n",
              "  async function showImage(name, image, width, height) {\n",
              "    img = document.getElementById(name);\n",
              "    if(img == null) {\n",
              "      img = document.createElement('img');\n",
              "      img.id = name;\n",
              "      document.body.appendChild(img);\n",
              "    }\n",
              "    img.src = image;\n",
              "    img.width = width;\n",
              "    img.height = height;\n",
              "  }\n",
              "  "
            ]
          },
          "metadata": {}
        },
        {
          "output_type": "display_data",
          "data": {
            "text/plain": [
              "<IPython.core.display.Javascript object>"
            ],
            "application/javascript": [
              "\n",
              "  async function showImage(name, image, width, height) {\n",
              "    img = document.getElementById(name);\n",
              "    if(img == null) {\n",
              "      img = document.createElement('img');\n",
              "      img.id = name;\n",
              "      document.body.appendChild(img);\n",
              "    }\n",
              "    img.src = image;\n",
              "    img.width = width;\n",
              "    img.height = height;\n",
              "  }\n",
              "  "
            ]
          },
          "metadata": {}
        },
        {
          "output_type": "display_data",
          "data": {
            "text/plain": [
              "<IPython.core.display.Javascript object>"
            ],
            "application/javascript": [
              "\n",
              "  async function showImage(name, image, width, height) {\n",
              "    img = document.getElementById(name);\n",
              "    if(img == null) {\n",
              "      img = document.createElement('img');\n",
              "      img.id = name;\n",
              "      document.body.appendChild(img);\n",
              "    }\n",
              "    img.src = image;\n",
              "    img.width = width;\n",
              "    img.height = height;\n",
              "  }\n",
              "  "
            ]
          },
          "metadata": {}
        },
        {
          "output_type": "display_data",
          "data": {
            "text/plain": [
              "<IPython.core.display.Javascript object>"
            ],
            "application/javascript": [
              "\n",
              "  async function showImage(name, image, width, height) {\n",
              "    img = document.getElementById(name);\n",
              "    if(img == null) {\n",
              "      img = document.createElement('img');\n",
              "      img.id = name;\n",
              "      document.body.appendChild(img);\n",
              "    }\n",
              "    img.src = image;\n",
              "    img.width = width;\n",
              "    img.height = height;\n",
              "  }\n",
              "  "
            ]
          },
          "metadata": {}
        },
        {
          "output_type": "display_data",
          "data": {
            "text/plain": [
              "<IPython.core.display.Javascript object>"
            ],
            "application/javascript": [
              "\n",
              "  async function showImage(name, image, width, height) {\n",
              "    img = document.getElementById(name);\n",
              "    if(img == null) {\n",
              "      img = document.createElement('img');\n",
              "      img.id = name;\n",
              "      document.body.appendChild(img);\n",
              "    }\n",
              "    img.src = image;\n",
              "    img.width = width;\n",
              "    img.height = height;\n",
              "  }\n",
              "  "
            ]
          },
          "metadata": {}
        },
        {
          "output_type": "display_data",
          "data": {
            "text/plain": [
              "<IPython.core.display.Javascript object>"
            ],
            "application/javascript": [
              "\n",
              "  async function showImage(name, image, width, height) {\n",
              "    img = document.getElementById(name);\n",
              "    if(img == null) {\n",
              "      img = document.createElement('img');\n",
              "      img.id = name;\n",
              "      document.body.appendChild(img);\n",
              "    }\n",
              "    img.src = image;\n",
              "    img.width = width;\n",
              "    img.height = height;\n",
              "  }\n",
              "  "
            ]
          },
          "metadata": {}
        },
        {
          "output_type": "display_data",
          "data": {
            "text/plain": [
              "<IPython.core.display.Javascript object>"
            ],
            "application/javascript": [
              "\n",
              "  async function showImage(name, image, width, height) {\n",
              "    img = document.getElementById(name);\n",
              "    if(img == null) {\n",
              "      img = document.createElement('img');\n",
              "      img.id = name;\n",
              "      document.body.appendChild(img);\n",
              "    }\n",
              "    img.src = image;\n",
              "    img.width = width;\n",
              "    img.height = height;\n",
              "  }\n",
              "  "
            ]
          },
          "metadata": {}
        },
        {
          "output_type": "display_data",
          "data": {
            "text/plain": [
              "<IPython.core.display.Javascript object>"
            ],
            "application/javascript": [
              "\n",
              "  async function showImage(name, image, width, height) {\n",
              "    img = document.getElementById(name);\n",
              "    if(img == null) {\n",
              "      img = document.createElement('img');\n",
              "      img.id = name;\n",
              "      document.body.appendChild(img);\n",
              "    }\n",
              "    img.src = image;\n",
              "    img.width = width;\n",
              "    img.height = height;\n",
              "  }\n",
              "  "
            ]
          },
          "metadata": {}
        },
        {
          "output_type": "display_data",
          "data": {
            "text/plain": [
              "<IPython.core.display.Javascript object>"
            ],
            "application/javascript": [
              "\n",
              "  async function showImage(name, image, width, height) {\n",
              "    img = document.getElementById(name);\n",
              "    if(img == null) {\n",
              "      img = document.createElement('img');\n",
              "      img.id = name;\n",
              "      document.body.appendChild(img);\n",
              "    }\n",
              "    img.src = image;\n",
              "    img.width = width;\n",
              "    img.height = height;\n",
              "  }\n",
              "  "
            ]
          },
          "metadata": {}
        },
        {
          "output_type": "display_data",
          "data": {
            "text/plain": [
              "<IPython.core.display.Javascript object>"
            ],
            "application/javascript": [
              "\n",
              "  async function showImage(name, image, width, height) {\n",
              "    img = document.getElementById(name);\n",
              "    if(img == null) {\n",
              "      img = document.createElement('img');\n",
              "      img.id = name;\n",
              "      document.body.appendChild(img);\n",
              "    }\n",
              "    img.src = image;\n",
              "    img.width = width;\n",
              "    img.height = height;\n",
              "  }\n",
              "  "
            ]
          },
          "metadata": {}
        },
        {
          "output_type": "display_data",
          "data": {
            "text/plain": [
              "<IPython.core.display.Javascript object>"
            ],
            "application/javascript": [
              "\n",
              "  async function showImage(name, image, width, height) {\n",
              "    img = document.getElementById(name);\n",
              "    if(img == null) {\n",
              "      img = document.createElement('img');\n",
              "      img.id = name;\n",
              "      document.body.appendChild(img);\n",
              "    }\n",
              "    img.src = image;\n",
              "    img.width = width;\n",
              "    img.height = height;\n",
              "  }\n",
              "  "
            ]
          },
          "metadata": {}
        },
        {
          "output_type": "display_data",
          "data": {
            "text/plain": [
              "<IPython.core.display.Javascript object>"
            ],
            "application/javascript": [
              "\n",
              "  async function showImage(name, image, width, height) {\n",
              "    img = document.getElementById(name);\n",
              "    if(img == null) {\n",
              "      img = document.createElement('img');\n",
              "      img.id = name;\n",
              "      document.body.appendChild(img);\n",
              "    }\n",
              "    img.src = image;\n",
              "    img.width = width;\n",
              "    img.height = height;\n",
              "  }\n",
              "  "
            ]
          },
          "metadata": {}
        },
        {
          "output_type": "display_data",
          "data": {
            "text/plain": [
              "<IPython.core.display.Javascript object>"
            ],
            "application/javascript": [
              "\n",
              "  async function showImage(name, image, width, height) {\n",
              "    img = document.getElementById(name);\n",
              "    if(img == null) {\n",
              "      img = document.createElement('img');\n",
              "      img.id = name;\n",
              "      document.body.appendChild(img);\n",
              "    }\n",
              "    img.src = image;\n",
              "    img.width = width;\n",
              "    img.height = height;\n",
              "  }\n",
              "  "
            ]
          },
          "metadata": {}
        },
        {
          "output_type": "display_data",
          "data": {
            "text/plain": [
              "<IPython.core.display.Javascript object>"
            ],
            "application/javascript": [
              "\n",
              "  async function showImage(name, image, width, height) {\n",
              "    img = document.getElementById(name);\n",
              "    if(img == null) {\n",
              "      img = document.createElement('img');\n",
              "      img.id = name;\n",
              "      document.body.appendChild(img);\n",
              "    }\n",
              "    img.src = image;\n",
              "    img.width = width;\n",
              "    img.height = height;\n",
              "  }\n",
              "  "
            ]
          },
          "metadata": {}
        },
        {
          "output_type": "display_data",
          "data": {
            "text/plain": [
              "<IPython.core.display.Javascript object>"
            ],
            "application/javascript": [
              "\n",
              "  async function showImage(name, image, width, height) {\n",
              "    img = document.getElementById(name);\n",
              "    if(img == null) {\n",
              "      img = document.createElement('img');\n",
              "      img.id = name;\n",
              "      document.body.appendChild(img);\n",
              "    }\n",
              "    img.src = image;\n",
              "    img.width = width;\n",
              "    img.height = height;\n",
              "  }\n",
              "  "
            ]
          },
          "metadata": {}
        },
        {
          "output_type": "display_data",
          "data": {
            "text/plain": [
              "<IPython.core.display.Javascript object>"
            ],
            "application/javascript": [
              "\n",
              "  async function showImage(name, image, width, height) {\n",
              "    img = document.getElementById(name);\n",
              "    if(img == null) {\n",
              "      img = document.createElement('img');\n",
              "      img.id = name;\n",
              "      document.body.appendChild(img);\n",
              "    }\n",
              "    img.src = image;\n",
              "    img.width = width;\n",
              "    img.height = height;\n",
              "  }\n",
              "  "
            ]
          },
          "metadata": {}
        },
        {
          "output_type": "display_data",
          "data": {
            "text/plain": [
              "<IPython.core.display.Javascript object>"
            ],
            "application/javascript": [
              "\n",
              "  async function showImage(name, image, width, height) {\n",
              "    img = document.getElementById(name);\n",
              "    if(img == null) {\n",
              "      img = document.createElement('img');\n",
              "      img.id = name;\n",
              "      document.body.appendChild(img);\n",
              "    }\n",
              "    img.src = image;\n",
              "    img.width = width;\n",
              "    img.height = height;\n",
              "  }\n",
              "  "
            ]
          },
          "metadata": {}
        },
        {
          "output_type": "display_data",
          "data": {
            "text/plain": [
              "<IPython.core.display.Javascript object>"
            ],
            "application/javascript": [
              "\n",
              "  async function showImage(name, image, width, height) {\n",
              "    img = document.getElementById(name);\n",
              "    if(img == null) {\n",
              "      img = document.createElement('img');\n",
              "      img.id = name;\n",
              "      document.body.appendChild(img);\n",
              "    }\n",
              "    img.src = image;\n",
              "    img.width = width;\n",
              "    img.height = height;\n",
              "  }\n",
              "  "
            ]
          },
          "metadata": {}
        },
        {
          "output_type": "display_data",
          "data": {
            "text/plain": [
              "<IPython.core.display.Javascript object>"
            ],
            "application/javascript": [
              "\n",
              "  async function showImage(name, image, width, height) {\n",
              "    img = document.getElementById(name);\n",
              "    if(img == null) {\n",
              "      img = document.createElement('img');\n",
              "      img.id = name;\n",
              "      document.body.appendChild(img);\n",
              "    }\n",
              "    img.src = image;\n",
              "    img.width = width;\n",
              "    img.height = height;\n",
              "  }\n",
              "  "
            ]
          },
          "metadata": {}
        },
        {
          "output_type": "display_data",
          "data": {
            "text/plain": [
              "<IPython.core.display.Javascript object>"
            ],
            "application/javascript": [
              "\n",
              "  async function showImage(name, image, width, height) {\n",
              "    img = document.getElementById(name);\n",
              "    if(img == null) {\n",
              "      img = document.createElement('img');\n",
              "      img.id = name;\n",
              "      document.body.appendChild(img);\n",
              "    }\n",
              "    img.src = image;\n",
              "    img.width = width;\n",
              "    img.height = height;\n",
              "  }\n",
              "  "
            ]
          },
          "metadata": {}
        },
        {
          "output_type": "display_data",
          "data": {
            "text/plain": [
              "<IPython.core.display.Javascript object>"
            ],
            "application/javascript": [
              "\n",
              "  async function showImage(name, image, width, height) {\n",
              "    img = document.getElementById(name);\n",
              "    if(img == null) {\n",
              "      img = document.createElement('img');\n",
              "      img.id = name;\n",
              "      document.body.appendChild(img);\n",
              "    }\n",
              "    img.src = image;\n",
              "    img.width = width;\n",
              "    img.height = height;\n",
              "  }\n",
              "  "
            ]
          },
          "metadata": {}
        },
        {
          "output_type": "display_data",
          "data": {
            "text/plain": [
              "<IPython.core.display.Javascript object>"
            ],
            "application/javascript": [
              "\n",
              "  async function showImage(name, image, width, height) {\n",
              "    img = document.getElementById(name);\n",
              "    if(img == null) {\n",
              "      img = document.createElement('img');\n",
              "      img.id = name;\n",
              "      document.body.appendChild(img);\n",
              "    }\n",
              "    img.src = image;\n",
              "    img.width = width;\n",
              "    img.height = height;\n",
              "  }\n",
              "  "
            ]
          },
          "metadata": {}
        },
        {
          "output_type": "display_data",
          "data": {
            "text/plain": [
              "<IPython.core.display.Javascript object>"
            ],
            "application/javascript": [
              "\n",
              "  async function showImage(name, image, width, height) {\n",
              "    img = document.getElementById(name);\n",
              "    if(img == null) {\n",
              "      img = document.createElement('img');\n",
              "      img.id = name;\n",
              "      document.body.appendChild(img);\n",
              "    }\n",
              "    img.src = image;\n",
              "    img.width = width;\n",
              "    img.height = height;\n",
              "  }\n",
              "  "
            ]
          },
          "metadata": {}
        },
        {
          "output_type": "display_data",
          "data": {
            "text/plain": [
              "<IPython.core.display.Javascript object>"
            ],
            "application/javascript": [
              "\n",
              "  async function showImage(name, image, width, height) {\n",
              "    img = document.getElementById(name);\n",
              "    if(img == null) {\n",
              "      img = document.createElement('img');\n",
              "      img.id = name;\n",
              "      document.body.appendChild(img);\n",
              "    }\n",
              "    img.src = image;\n",
              "    img.width = width;\n",
              "    img.height = height;\n",
              "  }\n",
              "  "
            ]
          },
          "metadata": {}
        },
        {
          "output_type": "display_data",
          "data": {
            "text/plain": [
              "<IPython.core.display.Javascript object>"
            ],
            "application/javascript": [
              "\n",
              "  async function showImage(name, image, width, height) {\n",
              "    img = document.getElementById(name);\n",
              "    if(img == null) {\n",
              "      img = document.createElement('img');\n",
              "      img.id = name;\n",
              "      document.body.appendChild(img);\n",
              "    }\n",
              "    img.src = image;\n",
              "    img.width = width;\n",
              "    img.height = height;\n",
              "  }\n",
              "  "
            ]
          },
          "metadata": {}
        },
        {
          "output_type": "display_data",
          "data": {
            "text/plain": [
              "<IPython.core.display.Javascript object>"
            ],
            "application/javascript": [
              "\n",
              "  async function showImage(name, image, width, height) {\n",
              "    img = document.getElementById(name);\n",
              "    if(img == null) {\n",
              "      img = document.createElement('img');\n",
              "      img.id = name;\n",
              "      document.body.appendChild(img);\n",
              "    }\n",
              "    img.src = image;\n",
              "    img.width = width;\n",
              "    img.height = height;\n",
              "  }\n",
              "  "
            ]
          },
          "metadata": {}
        },
        {
          "output_type": "display_data",
          "data": {
            "text/plain": [
              "<IPython.core.display.Javascript object>"
            ],
            "application/javascript": [
              "\n",
              "  async function showImage(name, image, width, height) {\n",
              "    img = document.getElementById(name);\n",
              "    if(img == null) {\n",
              "      img = document.createElement('img');\n",
              "      img.id = name;\n",
              "      document.body.appendChild(img);\n",
              "    }\n",
              "    img.src = image;\n",
              "    img.width = width;\n",
              "    img.height = height;\n",
              "  }\n",
              "  "
            ]
          },
          "metadata": {}
        },
        {
          "output_type": "display_data",
          "data": {
            "text/plain": [
              "<IPython.core.display.Javascript object>"
            ],
            "application/javascript": [
              "\n",
              "  async function showImage(name, image, width, height) {\n",
              "    img = document.getElementById(name);\n",
              "    if(img == null) {\n",
              "      img = document.createElement('img');\n",
              "      img.id = name;\n",
              "      document.body.appendChild(img);\n",
              "    }\n",
              "    img.src = image;\n",
              "    img.width = width;\n",
              "    img.height = height;\n",
              "  }\n",
              "  "
            ]
          },
          "metadata": {}
        },
        {
          "output_type": "display_data",
          "data": {
            "text/plain": [
              "<IPython.core.display.Javascript object>"
            ],
            "application/javascript": [
              "\n",
              "  async function showImage(name, image, width, height) {\n",
              "    img = document.getElementById(name);\n",
              "    if(img == null) {\n",
              "      img = document.createElement('img');\n",
              "      img.id = name;\n",
              "      document.body.appendChild(img);\n",
              "    }\n",
              "    img.src = image;\n",
              "    img.width = width;\n",
              "    img.height = height;\n",
              "  }\n",
              "  "
            ]
          },
          "metadata": {}
        },
        {
          "output_type": "display_data",
          "data": {
            "text/plain": [
              "<IPython.core.display.Javascript object>"
            ],
            "application/javascript": [
              "\n",
              "  async function showImage(name, image, width, height) {\n",
              "    img = document.getElementById(name);\n",
              "    if(img == null) {\n",
              "      img = document.createElement('img');\n",
              "      img.id = name;\n",
              "      document.body.appendChild(img);\n",
              "    }\n",
              "    img.src = image;\n",
              "    img.width = width;\n",
              "    img.height = height;\n",
              "  }\n",
              "  "
            ]
          },
          "metadata": {}
        },
        {
          "output_type": "display_data",
          "data": {
            "text/plain": [
              "<IPython.core.display.Javascript object>"
            ],
            "application/javascript": [
              "\n",
              "  async function showImage(name, image, width, height) {\n",
              "    img = document.getElementById(name);\n",
              "    if(img == null) {\n",
              "      img = document.createElement('img');\n",
              "      img.id = name;\n",
              "      document.body.appendChild(img);\n",
              "    }\n",
              "    img.src = image;\n",
              "    img.width = width;\n",
              "    img.height = height;\n",
              "  }\n",
              "  "
            ]
          },
          "metadata": {}
        },
        {
          "output_type": "display_data",
          "data": {
            "text/plain": [
              "<IPython.core.display.Javascript object>"
            ],
            "application/javascript": [
              "\n",
              "  async function showImage(name, image, width, height) {\n",
              "    img = document.getElementById(name);\n",
              "    if(img == null) {\n",
              "      img = document.createElement('img');\n",
              "      img.id = name;\n",
              "      document.body.appendChild(img);\n",
              "    }\n",
              "    img.src = image;\n",
              "    img.width = width;\n",
              "    img.height = height;\n",
              "  }\n",
              "  "
            ]
          },
          "metadata": {}
        },
        {
          "output_type": "display_data",
          "data": {
            "text/plain": [
              "<IPython.core.display.Javascript object>"
            ],
            "application/javascript": [
              "\n",
              "  async function showImage(name, image, width, height) {\n",
              "    img = document.getElementById(name);\n",
              "    if(img == null) {\n",
              "      img = document.createElement('img');\n",
              "      img.id = name;\n",
              "      document.body.appendChild(img);\n",
              "    }\n",
              "    img.src = image;\n",
              "    img.width = width;\n",
              "    img.height = height;\n",
              "  }\n",
              "  "
            ]
          },
          "metadata": {}
        },
        {
          "output_type": "display_data",
          "data": {
            "text/plain": [
              "<IPython.core.display.Javascript object>"
            ],
            "application/javascript": [
              "\n",
              "  async function showImage(name, image, width, height) {\n",
              "    img = document.getElementById(name);\n",
              "    if(img == null) {\n",
              "      img = document.createElement('img');\n",
              "      img.id = name;\n",
              "      document.body.appendChild(img);\n",
              "    }\n",
              "    img.src = image;\n",
              "    img.width = width;\n",
              "    img.height = height;\n",
              "  }\n",
              "  "
            ]
          },
          "metadata": {}
        },
        {
          "output_type": "display_data",
          "data": {
            "text/plain": [
              "<IPython.core.display.Javascript object>"
            ],
            "application/javascript": [
              "\n",
              "  async function showImage(name, image, width, height) {\n",
              "    img = document.getElementById(name);\n",
              "    if(img == null) {\n",
              "      img = document.createElement('img');\n",
              "      img.id = name;\n",
              "      document.body.appendChild(img);\n",
              "    }\n",
              "    img.src = image;\n",
              "    img.width = width;\n",
              "    img.height = height;\n",
              "  }\n",
              "  "
            ]
          },
          "metadata": {}
        },
        {
          "output_type": "display_data",
          "data": {
            "text/plain": [
              "<IPython.core.display.Javascript object>"
            ],
            "application/javascript": [
              "\n",
              "  async function showImage(name, image, width, height) {\n",
              "    img = document.getElementById(name);\n",
              "    if(img == null) {\n",
              "      img = document.createElement('img');\n",
              "      img.id = name;\n",
              "      document.body.appendChild(img);\n",
              "    }\n",
              "    img.src = image;\n",
              "    img.width = width;\n",
              "    img.height = height;\n",
              "  }\n",
              "  "
            ]
          },
          "metadata": {}
        },
        {
          "output_type": "display_data",
          "data": {
            "text/plain": [
              "<IPython.core.display.Javascript object>"
            ],
            "application/javascript": [
              "\n",
              "  async function showImage(name, image, width, height) {\n",
              "    img = document.getElementById(name);\n",
              "    if(img == null) {\n",
              "      img = document.createElement('img');\n",
              "      img.id = name;\n",
              "      document.body.appendChild(img);\n",
              "    }\n",
              "    img.src = image;\n",
              "    img.width = width;\n",
              "    img.height = height;\n",
              "  }\n",
              "  "
            ]
          },
          "metadata": {}
        },
        {
          "output_type": "display_data",
          "data": {
            "text/plain": [
              "<IPython.core.display.Javascript object>"
            ],
            "application/javascript": [
              "\n",
              "  async function showImage(name, image, width, height) {\n",
              "    img = document.getElementById(name);\n",
              "    if(img == null) {\n",
              "      img = document.createElement('img');\n",
              "      img.id = name;\n",
              "      document.body.appendChild(img);\n",
              "    }\n",
              "    img.src = image;\n",
              "    img.width = width;\n",
              "    img.height = height;\n",
              "  }\n",
              "  "
            ]
          },
          "metadata": {}
        },
        {
          "output_type": "display_data",
          "data": {
            "text/plain": [
              "<IPython.core.display.Javascript object>"
            ],
            "application/javascript": [
              "\n",
              "  async function showImage(name, image, width, height) {\n",
              "    img = document.getElementById(name);\n",
              "    if(img == null) {\n",
              "      img = document.createElement('img');\n",
              "      img.id = name;\n",
              "      document.body.appendChild(img);\n",
              "    }\n",
              "    img.src = image;\n",
              "    img.width = width;\n",
              "    img.height = height;\n",
              "  }\n",
              "  "
            ]
          },
          "metadata": {}
        },
        {
          "output_type": "display_data",
          "data": {
            "text/plain": [
              "<IPython.core.display.Javascript object>"
            ],
            "application/javascript": [
              "\n",
              "  async function showImage(name, image, width, height) {\n",
              "    img = document.getElementById(name);\n",
              "    if(img == null) {\n",
              "      img = document.createElement('img');\n",
              "      img.id = name;\n",
              "      document.body.appendChild(img);\n",
              "    }\n",
              "    img.src = image;\n",
              "    img.width = width;\n",
              "    img.height = height;\n",
              "  }\n",
              "  "
            ]
          },
          "metadata": {}
        },
        {
          "output_type": "display_data",
          "data": {
            "text/plain": [
              "<IPython.core.display.Javascript object>"
            ],
            "application/javascript": [
              "\n",
              "  async function showImage(name, image, width, height) {\n",
              "    img = document.getElementById(name);\n",
              "    if(img == null) {\n",
              "      img = document.createElement('img');\n",
              "      img.id = name;\n",
              "      document.body.appendChild(img);\n",
              "    }\n",
              "    img.src = image;\n",
              "    img.width = width;\n",
              "    img.height = height;\n",
              "  }\n",
              "  "
            ]
          },
          "metadata": {}
        },
        {
          "output_type": "display_data",
          "data": {
            "text/plain": [
              "<IPython.core.display.Javascript object>"
            ],
            "application/javascript": [
              "\n",
              "  async function showImage(name, image, width, height) {\n",
              "    img = document.getElementById(name);\n",
              "    if(img == null) {\n",
              "      img = document.createElement('img');\n",
              "      img.id = name;\n",
              "      document.body.appendChild(img);\n",
              "    }\n",
              "    img.src = image;\n",
              "    img.width = width;\n",
              "    img.height = height;\n",
              "  }\n",
              "  "
            ]
          },
          "metadata": {}
        },
        {
          "output_type": "display_data",
          "data": {
            "text/plain": [
              "<IPython.core.display.Javascript object>"
            ],
            "application/javascript": [
              "\n",
              "  async function showImage(name, image, width, height) {\n",
              "    img = document.getElementById(name);\n",
              "    if(img == null) {\n",
              "      img = document.createElement('img');\n",
              "      img.id = name;\n",
              "      document.body.appendChild(img);\n",
              "    }\n",
              "    img.src = image;\n",
              "    img.width = width;\n",
              "    img.height = height;\n",
              "  }\n",
              "  "
            ]
          },
          "metadata": {}
        },
        {
          "output_type": "display_data",
          "data": {
            "text/plain": [
              "<IPython.core.display.Javascript object>"
            ],
            "application/javascript": [
              "\n",
              "  async function showImage(name, image, width, height) {\n",
              "    img = document.getElementById(name);\n",
              "    if(img == null) {\n",
              "      img = document.createElement('img');\n",
              "      img.id = name;\n",
              "      document.body.appendChild(img);\n",
              "    }\n",
              "    img.src = image;\n",
              "    img.width = width;\n",
              "    img.height = height;\n",
              "  }\n",
              "  "
            ]
          },
          "metadata": {}
        },
        {
          "output_type": "display_data",
          "data": {
            "text/plain": [
              "<IPython.core.display.Javascript object>"
            ],
            "application/javascript": [
              "\n",
              "  async function showImage(name, image, width, height) {\n",
              "    img = document.getElementById(name);\n",
              "    if(img == null) {\n",
              "      img = document.createElement('img');\n",
              "      img.id = name;\n",
              "      document.body.appendChild(img);\n",
              "    }\n",
              "    img.src = image;\n",
              "    img.width = width;\n",
              "    img.height = height;\n",
              "  }\n",
              "  "
            ]
          },
          "metadata": {}
        },
        {
          "output_type": "display_data",
          "data": {
            "text/plain": [
              "<IPython.core.display.Javascript object>"
            ],
            "application/javascript": [
              "\n",
              "  async function showImage(name, image, width, height) {\n",
              "    img = document.getElementById(name);\n",
              "    if(img == null) {\n",
              "      img = document.createElement('img');\n",
              "      img.id = name;\n",
              "      document.body.appendChild(img);\n",
              "    }\n",
              "    img.src = image;\n",
              "    img.width = width;\n",
              "    img.height = height;\n",
              "  }\n",
              "  "
            ]
          },
          "metadata": {}
        },
        {
          "output_type": "display_data",
          "data": {
            "text/plain": [
              "<IPython.core.display.Javascript object>"
            ],
            "application/javascript": [
              "\n",
              "  async function showImage(name, image, width, height) {\n",
              "    img = document.getElementById(name);\n",
              "    if(img == null) {\n",
              "      img = document.createElement('img');\n",
              "      img.id = name;\n",
              "      document.body.appendChild(img);\n",
              "    }\n",
              "    img.src = image;\n",
              "    img.width = width;\n",
              "    img.height = height;\n",
              "  }\n",
              "  "
            ]
          },
          "metadata": {}
        },
        {
          "output_type": "display_data",
          "data": {
            "text/plain": [
              "<IPython.core.display.Javascript object>"
            ],
            "application/javascript": [
              "\n",
              "  async function showImage(name, image, width, height) {\n",
              "    img = document.getElementById(name);\n",
              "    if(img == null) {\n",
              "      img = document.createElement('img');\n",
              "      img.id = name;\n",
              "      document.body.appendChild(img);\n",
              "    }\n",
              "    img.src = image;\n",
              "    img.width = width;\n",
              "    img.height = height;\n",
              "  }\n",
              "  "
            ]
          },
          "metadata": {}
        },
        {
          "output_type": "display_data",
          "data": {
            "text/plain": [
              "<IPython.core.display.Javascript object>"
            ],
            "application/javascript": [
              "\n",
              "  async function showImage(name, image, width, height) {\n",
              "    img = document.getElementById(name);\n",
              "    if(img == null) {\n",
              "      img = document.createElement('img');\n",
              "      img.id = name;\n",
              "      document.body.appendChild(img);\n",
              "    }\n",
              "    img.src = image;\n",
              "    img.width = width;\n",
              "    img.height = height;\n",
              "  }\n",
              "  "
            ]
          },
          "metadata": {}
        },
        {
          "output_type": "display_data",
          "data": {
            "text/plain": [
              "<IPython.core.display.Javascript object>"
            ],
            "application/javascript": [
              "\n",
              "  async function showImage(name, image, width, height) {\n",
              "    img = document.getElementById(name);\n",
              "    if(img == null) {\n",
              "      img = document.createElement('img');\n",
              "      img.id = name;\n",
              "      document.body.appendChild(img);\n",
              "    }\n",
              "    img.src = image;\n",
              "    img.width = width;\n",
              "    img.height = height;\n",
              "  }\n",
              "  "
            ]
          },
          "metadata": {}
        },
        {
          "output_type": "display_data",
          "data": {
            "text/plain": [
              "<IPython.core.display.Javascript object>"
            ],
            "application/javascript": [
              "\n",
              "  async function showImage(name, image, width, height) {\n",
              "    img = document.getElementById(name);\n",
              "    if(img == null) {\n",
              "      img = document.createElement('img');\n",
              "      img.id = name;\n",
              "      document.body.appendChild(img);\n",
              "    }\n",
              "    img.src = image;\n",
              "    img.width = width;\n",
              "    img.height = height;\n",
              "  }\n",
              "  "
            ]
          },
          "metadata": {}
        },
        {
          "output_type": "display_data",
          "data": {
            "text/plain": [
              "<IPython.core.display.Javascript object>"
            ],
            "application/javascript": [
              "\n",
              "  async function showImage(name, image, width, height) {\n",
              "    img = document.getElementById(name);\n",
              "    if(img == null) {\n",
              "      img = document.createElement('img');\n",
              "      img.id = name;\n",
              "      document.body.appendChild(img);\n",
              "    }\n",
              "    img.src = image;\n",
              "    img.width = width;\n",
              "    img.height = height;\n",
              "  }\n",
              "  "
            ]
          },
          "metadata": {}
        },
        {
          "output_type": "display_data",
          "data": {
            "text/plain": [
              "<IPython.core.display.Javascript object>"
            ],
            "application/javascript": [
              "\n",
              "  async function showImage(name, image, width, height) {\n",
              "    img = document.getElementById(name);\n",
              "    if(img == null) {\n",
              "      img = document.createElement('img');\n",
              "      img.id = name;\n",
              "      document.body.appendChild(img);\n",
              "    }\n",
              "    img.src = image;\n",
              "    img.width = width;\n",
              "    img.height = height;\n",
              "  }\n",
              "  "
            ]
          },
          "metadata": {}
        },
        {
          "output_type": "display_data",
          "data": {
            "text/plain": [
              "<IPython.core.display.Javascript object>"
            ],
            "application/javascript": [
              "\n",
              "  async function showImage(name, image, width, height) {\n",
              "    img = document.getElementById(name);\n",
              "    if(img == null) {\n",
              "      img = document.createElement('img');\n",
              "      img.id = name;\n",
              "      document.body.appendChild(img);\n",
              "    }\n",
              "    img.src = image;\n",
              "    img.width = width;\n",
              "    img.height = height;\n",
              "  }\n",
              "  "
            ]
          },
          "metadata": {}
        },
        {
          "output_type": "display_data",
          "data": {
            "text/plain": [
              "<IPython.core.display.Javascript object>"
            ],
            "application/javascript": [
              "\n",
              "  async function showImage(name, image, width, height) {\n",
              "    img = document.getElementById(name);\n",
              "    if(img == null) {\n",
              "      img = document.createElement('img');\n",
              "      img.id = name;\n",
              "      document.body.appendChild(img);\n",
              "    }\n",
              "    img.src = image;\n",
              "    img.width = width;\n",
              "    img.height = height;\n",
              "  }\n",
              "  "
            ]
          },
          "metadata": {}
        },
        {
          "output_type": "display_data",
          "data": {
            "text/plain": [
              "<IPython.core.display.Javascript object>"
            ],
            "application/javascript": [
              "\n",
              "  async function showImage(name, image, width, height) {\n",
              "    img = document.getElementById(name);\n",
              "    if(img == null) {\n",
              "      img = document.createElement('img');\n",
              "      img.id = name;\n",
              "      document.body.appendChild(img);\n",
              "    }\n",
              "    img.src = image;\n",
              "    img.width = width;\n",
              "    img.height = height;\n",
              "  }\n",
              "  "
            ]
          },
          "metadata": {}
        },
        {
          "output_type": "display_data",
          "data": {
            "text/plain": [
              "<IPython.core.display.Javascript object>"
            ],
            "application/javascript": [
              "\n",
              "  async function showImage(name, image, width, height) {\n",
              "    img = document.getElementById(name);\n",
              "    if(img == null) {\n",
              "      img = document.createElement('img');\n",
              "      img.id = name;\n",
              "      document.body.appendChild(img);\n",
              "    }\n",
              "    img.src = image;\n",
              "    img.width = width;\n",
              "    img.height = height;\n",
              "  }\n",
              "  "
            ]
          },
          "metadata": {}
        },
        {
          "output_type": "display_data",
          "data": {
            "text/plain": [
              "<IPython.core.display.Javascript object>"
            ],
            "application/javascript": [
              "\n",
              "  async function showImage(name, image, width, height) {\n",
              "    img = document.getElementById(name);\n",
              "    if(img == null) {\n",
              "      img = document.createElement('img');\n",
              "      img.id = name;\n",
              "      document.body.appendChild(img);\n",
              "    }\n",
              "    img.src = image;\n",
              "    img.width = width;\n",
              "    img.height = height;\n",
              "  }\n",
              "  "
            ]
          },
          "metadata": {}
        },
        {
          "output_type": "display_data",
          "data": {
            "text/plain": [
              "<IPython.core.display.Javascript object>"
            ],
            "application/javascript": [
              "\n",
              "  async function showImage(name, image, width, height) {\n",
              "    img = document.getElementById(name);\n",
              "    if(img == null) {\n",
              "      img = document.createElement('img');\n",
              "      img.id = name;\n",
              "      document.body.appendChild(img);\n",
              "    }\n",
              "    img.src = image;\n",
              "    img.width = width;\n",
              "    img.height = height;\n",
              "  }\n",
              "  "
            ]
          },
          "metadata": {}
        },
        {
          "output_type": "display_data",
          "data": {
            "text/plain": [
              "<IPython.core.display.Javascript object>"
            ],
            "application/javascript": [
              "\n",
              "  async function showImage(name, image, width, height) {\n",
              "    img = document.getElementById(name);\n",
              "    if(img == null) {\n",
              "      img = document.createElement('img');\n",
              "      img.id = name;\n",
              "      document.body.appendChild(img);\n",
              "    }\n",
              "    img.src = image;\n",
              "    img.width = width;\n",
              "    img.height = height;\n",
              "  }\n",
              "  "
            ]
          },
          "metadata": {}
        },
        {
          "output_type": "display_data",
          "data": {
            "text/plain": [
              "<IPython.core.display.Javascript object>"
            ],
            "application/javascript": [
              "\n",
              "  async function showImage(name, image, width, height) {\n",
              "    img = document.getElementById(name);\n",
              "    if(img == null) {\n",
              "      img = document.createElement('img');\n",
              "      img.id = name;\n",
              "      document.body.appendChild(img);\n",
              "    }\n",
              "    img.src = image;\n",
              "    img.width = width;\n",
              "    img.height = height;\n",
              "  }\n",
              "  "
            ]
          },
          "metadata": {}
        },
        {
          "output_type": "display_data",
          "data": {
            "text/plain": [
              "<IPython.core.display.Javascript object>"
            ],
            "application/javascript": [
              "\n",
              "  async function showImage(name, image, width, height) {\n",
              "    img = document.getElementById(name);\n",
              "    if(img == null) {\n",
              "      img = document.createElement('img');\n",
              "      img.id = name;\n",
              "      document.body.appendChild(img);\n",
              "    }\n",
              "    img.src = image;\n",
              "    img.width = width;\n",
              "    img.height = height;\n",
              "  }\n",
              "  "
            ]
          },
          "metadata": {}
        },
        {
          "output_type": "display_data",
          "data": {
            "text/plain": [
              "<IPython.core.display.Javascript object>"
            ],
            "application/javascript": [
              "\n",
              "  async function showImage(name, image, width, height) {\n",
              "    img = document.getElementById(name);\n",
              "    if(img == null) {\n",
              "      img = document.createElement('img');\n",
              "      img.id = name;\n",
              "      document.body.appendChild(img);\n",
              "    }\n",
              "    img.src = image;\n",
              "    img.width = width;\n",
              "    img.height = height;\n",
              "  }\n",
              "  "
            ]
          },
          "metadata": {}
        },
        {
          "output_type": "display_data",
          "data": {
            "text/plain": [
              "<IPython.core.display.Javascript object>"
            ],
            "application/javascript": [
              "\n",
              "  async function showImage(name, image, width, height) {\n",
              "    img = document.getElementById(name);\n",
              "    if(img == null) {\n",
              "      img = document.createElement('img');\n",
              "      img.id = name;\n",
              "      document.body.appendChild(img);\n",
              "    }\n",
              "    img.src = image;\n",
              "    img.width = width;\n",
              "    img.height = height;\n",
              "  }\n",
              "  "
            ]
          },
          "metadata": {}
        },
        {
          "output_type": "display_data",
          "data": {
            "text/plain": [
              "<IPython.core.display.Javascript object>"
            ],
            "application/javascript": [
              "\n",
              "  async function showImage(name, image, width, height) {\n",
              "    img = document.getElementById(name);\n",
              "    if(img == null) {\n",
              "      img = document.createElement('img');\n",
              "      img.id = name;\n",
              "      document.body.appendChild(img);\n",
              "    }\n",
              "    img.src = image;\n",
              "    img.width = width;\n",
              "    img.height = height;\n",
              "  }\n",
              "  "
            ]
          },
          "metadata": {}
        },
        {
          "output_type": "display_data",
          "data": {
            "text/plain": [
              "<IPython.core.display.Javascript object>"
            ],
            "application/javascript": [
              "\n",
              "  async function showImage(name, image, width, height) {\n",
              "    img = document.getElementById(name);\n",
              "    if(img == null) {\n",
              "      img = document.createElement('img');\n",
              "      img.id = name;\n",
              "      document.body.appendChild(img);\n",
              "    }\n",
              "    img.src = image;\n",
              "    img.width = width;\n",
              "    img.height = height;\n",
              "  }\n",
              "  "
            ]
          },
          "metadata": {}
        },
        {
          "output_type": "display_data",
          "data": {
            "text/plain": [
              "<IPython.core.display.Javascript object>"
            ],
            "application/javascript": [
              "\n",
              "  async function showImage(name, image, width, height) {\n",
              "    img = document.getElementById(name);\n",
              "    if(img == null) {\n",
              "      img = document.createElement('img');\n",
              "      img.id = name;\n",
              "      document.body.appendChild(img);\n",
              "    }\n",
              "    img.src = image;\n",
              "    img.width = width;\n",
              "    img.height = height;\n",
              "  }\n",
              "  "
            ]
          },
          "metadata": {}
        },
        {
          "output_type": "display_data",
          "data": {
            "text/plain": [
              "<IPython.core.display.Javascript object>"
            ],
            "application/javascript": [
              "\n",
              "  async function showImage(name, image, width, height) {\n",
              "    img = document.getElementById(name);\n",
              "    if(img == null) {\n",
              "      img = document.createElement('img');\n",
              "      img.id = name;\n",
              "      document.body.appendChild(img);\n",
              "    }\n",
              "    img.src = image;\n",
              "    img.width = width;\n",
              "    img.height = height;\n",
              "  }\n",
              "  "
            ]
          },
          "metadata": {}
        },
        {
          "output_type": "display_data",
          "data": {
            "text/plain": [
              "<IPython.core.display.Javascript object>"
            ],
            "application/javascript": [
              "\n",
              "  async function showImage(name, image, width, height) {\n",
              "    img = document.getElementById(name);\n",
              "    if(img == null) {\n",
              "      img = document.createElement('img');\n",
              "      img.id = name;\n",
              "      document.body.appendChild(img);\n",
              "    }\n",
              "    img.src = image;\n",
              "    img.width = width;\n",
              "    img.height = height;\n",
              "  }\n",
              "  "
            ]
          },
          "metadata": {}
        },
        {
          "output_type": "display_data",
          "data": {
            "text/plain": [
              "<IPython.core.display.Javascript object>"
            ],
            "application/javascript": [
              "\n",
              "  async function showImage(name, image, width, height) {\n",
              "    img = document.getElementById(name);\n",
              "    if(img == null) {\n",
              "      img = document.createElement('img');\n",
              "      img.id = name;\n",
              "      document.body.appendChild(img);\n",
              "    }\n",
              "    img.src = image;\n",
              "    img.width = width;\n",
              "    img.height = height;\n",
              "  }\n",
              "  "
            ]
          },
          "metadata": {}
        },
        {
          "output_type": "display_data",
          "data": {
            "text/plain": [
              "<IPython.core.display.Javascript object>"
            ],
            "application/javascript": [
              "\n",
              "  async function showImage(name, image, width, height) {\n",
              "    img = document.getElementById(name);\n",
              "    if(img == null) {\n",
              "      img = document.createElement('img');\n",
              "      img.id = name;\n",
              "      document.body.appendChild(img);\n",
              "    }\n",
              "    img.src = image;\n",
              "    img.width = width;\n",
              "    img.height = height;\n",
              "  }\n",
              "  "
            ]
          },
          "metadata": {}
        },
        {
          "output_type": "display_data",
          "data": {
            "text/plain": [
              "<IPython.core.display.Javascript object>"
            ],
            "application/javascript": [
              "\n",
              "  async function showImage(name, image, width, height) {\n",
              "    img = document.getElementById(name);\n",
              "    if(img == null) {\n",
              "      img = document.createElement('img');\n",
              "      img.id = name;\n",
              "      document.body.appendChild(img);\n",
              "    }\n",
              "    img.src = image;\n",
              "    img.width = width;\n",
              "    img.height = height;\n",
              "  }\n",
              "  "
            ]
          },
          "metadata": {}
        },
        {
          "output_type": "display_data",
          "data": {
            "text/plain": [
              "<IPython.core.display.Javascript object>"
            ],
            "application/javascript": [
              "\n",
              "  async function showImage(name, image, width, height) {\n",
              "    img = document.getElementById(name);\n",
              "    if(img == null) {\n",
              "      img = document.createElement('img');\n",
              "      img.id = name;\n",
              "      document.body.appendChild(img);\n",
              "    }\n",
              "    img.src = image;\n",
              "    img.width = width;\n",
              "    img.height = height;\n",
              "  }\n",
              "  "
            ]
          },
          "metadata": {}
        },
        {
          "output_type": "display_data",
          "data": {
            "text/plain": [
              "<IPython.core.display.Javascript object>"
            ],
            "application/javascript": [
              "\n",
              "  async function showImage(name, image, width, height) {\n",
              "    img = document.getElementById(name);\n",
              "    if(img == null) {\n",
              "      img = document.createElement('img');\n",
              "      img.id = name;\n",
              "      document.body.appendChild(img);\n",
              "    }\n",
              "    img.src = image;\n",
              "    img.width = width;\n",
              "    img.height = height;\n",
              "  }\n",
              "  "
            ]
          },
          "metadata": {}
        },
        {
          "output_type": "display_data",
          "data": {
            "text/plain": [
              "<IPython.core.display.Javascript object>"
            ],
            "application/javascript": [
              "\n",
              "  async function showImage(name, image, width, height) {\n",
              "    img = document.getElementById(name);\n",
              "    if(img == null) {\n",
              "      img = document.createElement('img');\n",
              "      img.id = name;\n",
              "      document.body.appendChild(img);\n",
              "    }\n",
              "    img.src = image;\n",
              "    img.width = width;\n",
              "    img.height = height;\n",
              "  }\n",
              "  "
            ]
          },
          "metadata": {}
        },
        {
          "output_type": "display_data",
          "data": {
            "text/plain": [
              "<IPython.core.display.Javascript object>"
            ],
            "application/javascript": [
              "\n",
              "  async function showImage(name, image, width, height) {\n",
              "    img = document.getElementById(name);\n",
              "    if(img == null) {\n",
              "      img = document.createElement('img');\n",
              "      img.id = name;\n",
              "      document.body.appendChild(img);\n",
              "    }\n",
              "    img.src = image;\n",
              "    img.width = width;\n",
              "    img.height = height;\n",
              "  }\n",
              "  "
            ]
          },
          "metadata": {}
        },
        {
          "output_type": "display_data",
          "data": {
            "text/plain": [
              "<IPython.core.display.Javascript object>"
            ],
            "application/javascript": [
              "\n",
              "  async function showImage(name, image, width, height) {\n",
              "    img = document.getElementById(name);\n",
              "    if(img == null) {\n",
              "      img = document.createElement('img');\n",
              "      img.id = name;\n",
              "      document.body.appendChild(img);\n",
              "    }\n",
              "    img.src = image;\n",
              "    img.width = width;\n",
              "    img.height = height;\n",
              "  }\n",
              "  "
            ]
          },
          "metadata": {}
        },
        {
          "output_type": "display_data",
          "data": {
            "text/plain": [
              "<IPython.core.display.Javascript object>"
            ],
            "application/javascript": [
              "\n",
              "  async function showImage(name, image, width, height) {\n",
              "    img = document.getElementById(name);\n",
              "    if(img == null) {\n",
              "      img = document.createElement('img');\n",
              "      img.id = name;\n",
              "      document.body.appendChild(img);\n",
              "    }\n",
              "    img.src = image;\n",
              "    img.width = width;\n",
              "    img.height = height;\n",
              "  }\n",
              "  "
            ]
          },
          "metadata": {}
        },
        {
          "output_type": "display_data",
          "data": {
            "text/plain": [
              "<IPython.core.display.Javascript object>"
            ],
            "application/javascript": [
              "\n",
              "  async function showImage(name, image, width, height) {\n",
              "    img = document.getElementById(name);\n",
              "    if(img == null) {\n",
              "      img = document.createElement('img');\n",
              "      img.id = name;\n",
              "      document.body.appendChild(img);\n",
              "    }\n",
              "    img.src = image;\n",
              "    img.width = width;\n",
              "    img.height = height;\n",
              "  }\n",
              "  "
            ]
          },
          "metadata": {}
        },
        {
          "output_type": "display_data",
          "data": {
            "text/plain": [
              "<IPython.core.display.Javascript object>"
            ],
            "application/javascript": [
              "\n",
              "  async function showImage(name, image, width, height) {\n",
              "    img = document.getElementById(name);\n",
              "    if(img == null) {\n",
              "      img = document.createElement('img');\n",
              "      img.id = name;\n",
              "      document.body.appendChild(img);\n",
              "    }\n",
              "    img.src = image;\n",
              "    img.width = width;\n",
              "    img.height = height;\n",
              "  }\n",
              "  "
            ]
          },
          "metadata": {}
        },
        {
          "output_type": "display_data",
          "data": {
            "text/plain": [
              "<IPython.core.display.Javascript object>"
            ],
            "application/javascript": [
              "\n",
              "  async function showImage(name, image, width, height) {\n",
              "    img = document.getElementById(name);\n",
              "    if(img == null) {\n",
              "      img = document.createElement('img');\n",
              "      img.id = name;\n",
              "      document.body.appendChild(img);\n",
              "    }\n",
              "    img.src = image;\n",
              "    img.width = width;\n",
              "    img.height = height;\n",
              "  }\n",
              "  "
            ]
          },
          "metadata": {}
        },
        {
          "output_type": "display_data",
          "data": {
            "text/plain": [
              "<IPython.core.display.Javascript object>"
            ],
            "application/javascript": [
              "\n",
              "  async function showImage(name, image, width, height) {\n",
              "    img = document.getElementById(name);\n",
              "    if(img == null) {\n",
              "      img = document.createElement('img');\n",
              "      img.id = name;\n",
              "      document.body.appendChild(img);\n",
              "    }\n",
              "    img.src = image;\n",
              "    img.width = width;\n",
              "    img.height = height;\n",
              "  }\n",
              "  "
            ]
          },
          "metadata": {}
        },
        {
          "output_type": "display_data",
          "data": {
            "text/plain": [
              "<IPython.core.display.Javascript object>"
            ],
            "application/javascript": [
              "\n",
              "  async function showImage(name, image, width, height) {\n",
              "    img = document.getElementById(name);\n",
              "    if(img == null) {\n",
              "      img = document.createElement('img');\n",
              "      img.id = name;\n",
              "      document.body.appendChild(img);\n",
              "    }\n",
              "    img.src = image;\n",
              "    img.width = width;\n",
              "    img.height = height;\n",
              "  }\n",
              "  "
            ]
          },
          "metadata": {}
        },
        {
          "output_type": "display_data",
          "data": {
            "text/plain": [
              "<IPython.core.display.Javascript object>"
            ],
            "application/javascript": [
              "\n",
              "  async function showImage(name, image, width, height) {\n",
              "    img = document.getElementById(name);\n",
              "    if(img == null) {\n",
              "      img = document.createElement('img');\n",
              "      img.id = name;\n",
              "      document.body.appendChild(img);\n",
              "    }\n",
              "    img.src = image;\n",
              "    img.width = width;\n",
              "    img.height = height;\n",
              "  }\n",
              "  "
            ]
          },
          "metadata": {}
        },
        {
          "output_type": "display_data",
          "data": {
            "text/plain": [
              "<IPython.core.display.Javascript object>"
            ],
            "application/javascript": [
              "\n",
              "  async function showImage(name, image, width, height) {\n",
              "    img = document.getElementById(name);\n",
              "    if(img == null) {\n",
              "      img = document.createElement('img');\n",
              "      img.id = name;\n",
              "      document.body.appendChild(img);\n",
              "    }\n",
              "    img.src = image;\n",
              "    img.width = width;\n",
              "    img.height = height;\n",
              "  }\n",
              "  "
            ]
          },
          "metadata": {}
        },
        {
          "output_type": "display_data",
          "data": {
            "text/plain": [
              "<IPython.core.display.Javascript object>"
            ],
            "application/javascript": [
              "\n",
              "  async function showImage(name, image, width, height) {\n",
              "    img = document.getElementById(name);\n",
              "    if(img == null) {\n",
              "      img = document.createElement('img');\n",
              "      img.id = name;\n",
              "      document.body.appendChild(img);\n",
              "    }\n",
              "    img.src = image;\n",
              "    img.width = width;\n",
              "    img.height = height;\n",
              "  }\n",
              "  "
            ]
          },
          "metadata": {}
        },
        {
          "output_type": "display_data",
          "data": {
            "text/plain": [
              "<IPython.core.display.Javascript object>"
            ],
            "application/javascript": [
              "\n",
              "  async function showImage(name, image, width, height) {\n",
              "    img = document.getElementById(name);\n",
              "    if(img == null) {\n",
              "      img = document.createElement('img');\n",
              "      img.id = name;\n",
              "      document.body.appendChild(img);\n",
              "    }\n",
              "    img.src = image;\n",
              "    img.width = width;\n",
              "    img.height = height;\n",
              "  }\n",
              "  "
            ]
          },
          "metadata": {}
        },
        {
          "output_type": "display_data",
          "data": {
            "text/plain": [
              "<IPython.core.display.Javascript object>"
            ],
            "application/javascript": [
              "\n",
              "  async function showImage(name, image, width, height) {\n",
              "    img = document.getElementById(name);\n",
              "    if(img == null) {\n",
              "      img = document.createElement('img');\n",
              "      img.id = name;\n",
              "      document.body.appendChild(img);\n",
              "    }\n",
              "    img.src = image;\n",
              "    img.width = width;\n",
              "    img.height = height;\n",
              "  }\n",
              "  "
            ]
          },
          "metadata": {}
        },
        {
          "output_type": "display_data",
          "data": {
            "text/plain": [
              "<IPython.core.display.Javascript object>"
            ],
            "application/javascript": [
              "\n",
              "  async function showImage(name, image, width, height) {\n",
              "    img = document.getElementById(name);\n",
              "    if(img == null) {\n",
              "      img = document.createElement('img');\n",
              "      img.id = name;\n",
              "      document.body.appendChild(img);\n",
              "    }\n",
              "    img.src = image;\n",
              "    img.width = width;\n",
              "    img.height = height;\n",
              "  }\n",
              "  "
            ]
          },
          "metadata": {}
        },
        {
          "output_type": "display_data",
          "data": {
            "text/plain": [
              "<IPython.core.display.Javascript object>"
            ],
            "application/javascript": [
              "\n",
              "  async function showImage(name, image, width, height) {\n",
              "    img = document.getElementById(name);\n",
              "    if(img == null) {\n",
              "      img = document.createElement('img');\n",
              "      img.id = name;\n",
              "      document.body.appendChild(img);\n",
              "    }\n",
              "    img.src = image;\n",
              "    img.width = width;\n",
              "    img.height = height;\n",
              "  }\n",
              "  "
            ]
          },
          "metadata": {}
        },
        {
          "output_type": "display_data",
          "data": {
            "text/plain": [
              "<IPython.core.display.Javascript object>"
            ],
            "application/javascript": [
              "\n",
              "  async function showImage(name, image, width, height) {\n",
              "    img = document.getElementById(name);\n",
              "    if(img == null) {\n",
              "      img = document.createElement('img');\n",
              "      img.id = name;\n",
              "      document.body.appendChild(img);\n",
              "    }\n",
              "    img.src = image;\n",
              "    img.width = width;\n",
              "    img.height = height;\n",
              "  }\n",
              "  "
            ]
          },
          "metadata": {}
        },
        {
          "output_type": "display_data",
          "data": {
            "text/plain": [
              "<IPython.core.display.Javascript object>"
            ],
            "application/javascript": [
              "\n",
              "  async function showImage(name, image, width, height) {\n",
              "    img = document.getElementById(name);\n",
              "    if(img == null) {\n",
              "      img = document.createElement('img');\n",
              "      img.id = name;\n",
              "      document.body.appendChild(img);\n",
              "    }\n",
              "    img.src = image;\n",
              "    img.width = width;\n",
              "    img.height = height;\n",
              "  }\n",
              "  "
            ]
          },
          "metadata": {}
        },
        {
          "output_type": "display_data",
          "data": {
            "text/plain": [
              "<IPython.core.display.Javascript object>"
            ],
            "application/javascript": [
              "\n",
              "  async function showImage(name, image, width, height) {\n",
              "    img = document.getElementById(name);\n",
              "    if(img == null) {\n",
              "      img = document.createElement('img');\n",
              "      img.id = name;\n",
              "      document.body.appendChild(img);\n",
              "    }\n",
              "    img.src = image;\n",
              "    img.width = width;\n",
              "    img.height = height;\n",
              "  }\n",
              "  "
            ]
          },
          "metadata": {}
        },
        {
          "output_type": "display_data",
          "data": {
            "text/plain": [
              "<IPython.core.display.Javascript object>"
            ],
            "application/javascript": [
              "\n",
              "  async function showImage(name, image, width, height) {\n",
              "    img = document.getElementById(name);\n",
              "    if(img == null) {\n",
              "      img = document.createElement('img');\n",
              "      img.id = name;\n",
              "      document.body.appendChild(img);\n",
              "    }\n",
              "    img.src = image;\n",
              "    img.width = width;\n",
              "    img.height = height;\n",
              "  }\n",
              "  "
            ]
          },
          "metadata": {}
        },
        {
          "output_type": "display_data",
          "data": {
            "text/plain": [
              "<IPython.core.display.Javascript object>"
            ],
            "application/javascript": [
              "\n",
              "  async function showImage(name, image, width, height) {\n",
              "    img = document.getElementById(name);\n",
              "    if(img == null) {\n",
              "      img = document.createElement('img');\n",
              "      img.id = name;\n",
              "      document.body.appendChild(img);\n",
              "    }\n",
              "    img.src = image;\n",
              "    img.width = width;\n",
              "    img.height = height;\n",
              "  }\n",
              "  "
            ]
          },
          "metadata": {}
        },
        {
          "output_type": "display_data",
          "data": {
            "text/plain": [
              "<IPython.core.display.Javascript object>"
            ],
            "application/javascript": [
              "\n",
              "  async function showImage(name, image, width, height) {\n",
              "    img = document.getElementById(name);\n",
              "    if(img == null) {\n",
              "      img = document.createElement('img');\n",
              "      img.id = name;\n",
              "      document.body.appendChild(img);\n",
              "    }\n",
              "    img.src = image;\n",
              "    img.width = width;\n",
              "    img.height = height;\n",
              "  }\n",
              "  "
            ]
          },
          "metadata": {}
        },
        {
          "output_type": "display_data",
          "data": {
            "text/plain": [
              "<IPython.core.display.Javascript object>"
            ],
            "application/javascript": [
              "\n",
              "  async function showImage(name, image, width, height) {\n",
              "    img = document.getElementById(name);\n",
              "    if(img == null) {\n",
              "      img = document.createElement('img');\n",
              "      img.id = name;\n",
              "      document.body.appendChild(img);\n",
              "    }\n",
              "    img.src = image;\n",
              "    img.width = width;\n",
              "    img.height = height;\n",
              "  }\n",
              "  "
            ]
          },
          "metadata": {}
        },
        {
          "output_type": "display_data",
          "data": {
            "text/plain": [
              "<IPython.core.display.Javascript object>"
            ],
            "application/javascript": [
              "\n",
              "  async function showImage(name, image, width, height) {\n",
              "    img = document.getElementById(name);\n",
              "    if(img == null) {\n",
              "      img = document.createElement('img');\n",
              "      img.id = name;\n",
              "      document.body.appendChild(img);\n",
              "    }\n",
              "    img.src = image;\n",
              "    img.width = width;\n",
              "    img.height = height;\n",
              "  }\n",
              "  "
            ]
          },
          "metadata": {}
        },
        {
          "output_type": "display_data",
          "data": {
            "text/plain": [
              "<IPython.core.display.Javascript object>"
            ],
            "application/javascript": [
              "\n",
              "  async function showImage(name, image, width, height) {\n",
              "    img = document.getElementById(name);\n",
              "    if(img == null) {\n",
              "      img = document.createElement('img');\n",
              "      img.id = name;\n",
              "      document.body.appendChild(img);\n",
              "    }\n",
              "    img.src = image;\n",
              "    img.width = width;\n",
              "    img.height = height;\n",
              "  }\n",
              "  "
            ]
          },
          "metadata": {}
        },
        {
          "output_type": "display_data",
          "data": {
            "text/plain": [
              "<IPython.core.display.Javascript object>"
            ],
            "application/javascript": [
              "\n",
              "  async function showImage(name, image, width, height) {\n",
              "    img = document.getElementById(name);\n",
              "    if(img == null) {\n",
              "      img = document.createElement('img');\n",
              "      img.id = name;\n",
              "      document.body.appendChild(img);\n",
              "    }\n",
              "    img.src = image;\n",
              "    img.width = width;\n",
              "    img.height = height;\n",
              "  }\n",
              "  "
            ]
          },
          "metadata": {}
        },
        {
          "output_type": "display_data",
          "data": {
            "text/plain": [
              "<IPython.core.display.Javascript object>"
            ],
            "application/javascript": [
              "\n",
              "  async function showImage(name, image, width, height) {\n",
              "    img = document.getElementById(name);\n",
              "    if(img == null) {\n",
              "      img = document.createElement('img');\n",
              "      img.id = name;\n",
              "      document.body.appendChild(img);\n",
              "    }\n",
              "    img.src = image;\n",
              "    img.width = width;\n",
              "    img.height = height;\n",
              "  }\n",
              "  "
            ]
          },
          "metadata": {}
        },
        {
          "output_type": "display_data",
          "data": {
            "text/plain": [
              "<IPython.core.display.Javascript object>"
            ],
            "application/javascript": [
              "\n",
              "  async function showImage(name, image, width, height) {\n",
              "    img = document.getElementById(name);\n",
              "    if(img == null) {\n",
              "      img = document.createElement('img');\n",
              "      img.id = name;\n",
              "      document.body.appendChild(img);\n",
              "    }\n",
              "    img.src = image;\n",
              "    img.width = width;\n",
              "    img.height = height;\n",
              "  }\n",
              "  "
            ]
          },
          "metadata": {}
        },
        {
          "output_type": "display_data",
          "data": {
            "text/plain": [
              "<IPython.core.display.Javascript object>"
            ],
            "application/javascript": [
              "\n",
              "  async function showImage(name, image, width, height) {\n",
              "    img = document.getElementById(name);\n",
              "    if(img == null) {\n",
              "      img = document.createElement('img');\n",
              "      img.id = name;\n",
              "      document.body.appendChild(img);\n",
              "    }\n",
              "    img.src = image;\n",
              "    img.width = width;\n",
              "    img.height = height;\n",
              "  }\n",
              "  "
            ]
          },
          "metadata": {}
        },
        {
          "output_type": "display_data",
          "data": {
            "text/plain": [
              "<IPython.core.display.Javascript object>"
            ],
            "application/javascript": [
              "\n",
              "  async function showImage(name, image, width, height) {\n",
              "    img = document.getElementById(name);\n",
              "    if(img == null) {\n",
              "      img = document.createElement('img');\n",
              "      img.id = name;\n",
              "      document.body.appendChild(img);\n",
              "    }\n",
              "    img.src = image;\n",
              "    img.width = width;\n",
              "    img.height = height;\n",
              "  }\n",
              "  "
            ]
          },
          "metadata": {}
        },
        {
          "output_type": "display_data",
          "data": {
            "text/plain": [
              "<IPython.core.display.Javascript object>"
            ],
            "application/javascript": [
              "\n",
              "  async function showImage(name, image, width, height) {\n",
              "    img = document.getElementById(name);\n",
              "    if(img == null) {\n",
              "      img = document.createElement('img');\n",
              "      img.id = name;\n",
              "      document.body.appendChild(img);\n",
              "    }\n",
              "    img.src = image;\n",
              "    img.width = width;\n",
              "    img.height = height;\n",
              "  }\n",
              "  "
            ]
          },
          "metadata": {}
        },
        {
          "output_type": "display_data",
          "data": {
            "text/plain": [
              "<IPython.core.display.Javascript object>"
            ],
            "application/javascript": [
              "\n",
              "  async function showImage(name, image, width, height) {\n",
              "    img = document.getElementById(name);\n",
              "    if(img == null) {\n",
              "      img = document.createElement('img');\n",
              "      img.id = name;\n",
              "      document.body.appendChild(img);\n",
              "    }\n",
              "    img.src = image;\n",
              "    img.width = width;\n",
              "    img.height = height;\n",
              "  }\n",
              "  "
            ]
          },
          "metadata": {}
        },
        {
          "output_type": "display_data",
          "data": {
            "text/plain": [
              "<IPython.core.display.Javascript object>"
            ],
            "application/javascript": [
              "\n",
              "  async function showImage(name, image, width, height) {\n",
              "    img = document.getElementById(name);\n",
              "    if(img == null) {\n",
              "      img = document.createElement('img');\n",
              "      img.id = name;\n",
              "      document.body.appendChild(img);\n",
              "    }\n",
              "    img.src = image;\n",
              "    img.width = width;\n",
              "    img.height = height;\n",
              "  }\n",
              "  "
            ]
          },
          "metadata": {}
        },
        {
          "output_type": "display_data",
          "data": {
            "text/plain": [
              "<IPython.core.display.Javascript object>"
            ],
            "application/javascript": [
              "\n",
              "  async function showImage(name, image, width, height) {\n",
              "    img = document.getElementById(name);\n",
              "    if(img == null) {\n",
              "      img = document.createElement('img');\n",
              "      img.id = name;\n",
              "      document.body.appendChild(img);\n",
              "    }\n",
              "    img.src = image;\n",
              "    img.width = width;\n",
              "    img.height = height;\n",
              "  }\n",
              "  "
            ]
          },
          "metadata": {}
        },
        {
          "output_type": "display_data",
          "data": {
            "text/plain": [
              "<IPython.core.display.Javascript object>"
            ],
            "application/javascript": [
              "\n",
              "  async function showImage(name, image, width, height) {\n",
              "    img = document.getElementById(name);\n",
              "    if(img == null) {\n",
              "      img = document.createElement('img');\n",
              "      img.id = name;\n",
              "      document.body.appendChild(img);\n",
              "    }\n",
              "    img.src = image;\n",
              "    img.width = width;\n",
              "    img.height = height;\n",
              "  }\n",
              "  "
            ]
          },
          "metadata": {}
        },
        {
          "output_type": "display_data",
          "data": {
            "text/plain": [
              "<IPython.core.display.Javascript object>"
            ],
            "application/javascript": [
              "\n",
              "  async function showImage(name, image, width, height) {\n",
              "    img = document.getElementById(name);\n",
              "    if(img == null) {\n",
              "      img = document.createElement('img');\n",
              "      img.id = name;\n",
              "      document.body.appendChild(img);\n",
              "    }\n",
              "    img.src = image;\n",
              "    img.width = width;\n",
              "    img.height = height;\n",
              "  }\n",
              "  "
            ]
          },
          "metadata": {}
        },
        {
          "output_type": "display_data",
          "data": {
            "text/plain": [
              "<IPython.core.display.Javascript object>"
            ],
            "application/javascript": [
              "\n",
              "  async function showImage(name, image, width, height) {\n",
              "    img = document.getElementById(name);\n",
              "    if(img == null) {\n",
              "      img = document.createElement('img');\n",
              "      img.id = name;\n",
              "      document.body.appendChild(img);\n",
              "    }\n",
              "    img.src = image;\n",
              "    img.width = width;\n",
              "    img.height = height;\n",
              "  }\n",
              "  "
            ]
          },
          "metadata": {}
        },
        {
          "output_type": "display_data",
          "data": {
            "text/plain": [
              "<IPython.core.display.Javascript object>"
            ],
            "application/javascript": [
              "\n",
              "  async function showImage(name, image, width, height) {\n",
              "    img = document.getElementById(name);\n",
              "    if(img == null) {\n",
              "      img = document.createElement('img');\n",
              "      img.id = name;\n",
              "      document.body.appendChild(img);\n",
              "    }\n",
              "    img.src = image;\n",
              "    img.width = width;\n",
              "    img.height = height;\n",
              "  }\n",
              "  "
            ]
          },
          "metadata": {}
        },
        {
          "output_type": "display_data",
          "data": {
            "text/plain": [
              "<IPython.core.display.Javascript object>"
            ],
            "application/javascript": [
              "\n",
              "  async function showImage(name, image, width, height) {\n",
              "    img = document.getElementById(name);\n",
              "    if(img == null) {\n",
              "      img = document.createElement('img');\n",
              "      img.id = name;\n",
              "      document.body.appendChild(img);\n",
              "    }\n",
              "    img.src = image;\n",
              "    img.width = width;\n",
              "    img.height = height;\n",
              "  }\n",
              "  "
            ]
          },
          "metadata": {}
        },
        {
          "output_type": "display_data",
          "data": {
            "text/plain": [
              "<IPython.core.display.Javascript object>"
            ],
            "application/javascript": [
              "\n",
              "  async function showImage(name, image, width, height) {\n",
              "    img = document.getElementById(name);\n",
              "    if(img == null) {\n",
              "      img = document.createElement('img');\n",
              "      img.id = name;\n",
              "      document.body.appendChild(img);\n",
              "    }\n",
              "    img.src = image;\n",
              "    img.width = width;\n",
              "    img.height = height;\n",
              "  }\n",
              "  "
            ]
          },
          "metadata": {}
        },
        {
          "output_type": "display_data",
          "data": {
            "text/plain": [
              "<IPython.core.display.Javascript object>"
            ],
            "application/javascript": [
              "\n",
              "  async function showImage(name, image, width, height) {\n",
              "    img = document.getElementById(name);\n",
              "    if(img == null) {\n",
              "      img = document.createElement('img');\n",
              "      img.id = name;\n",
              "      document.body.appendChild(img);\n",
              "    }\n",
              "    img.src = image;\n",
              "    img.width = width;\n",
              "    img.height = height;\n",
              "  }\n",
              "  "
            ]
          },
          "metadata": {}
        },
        {
          "output_type": "display_data",
          "data": {
            "text/plain": [
              "<IPython.core.display.Javascript object>"
            ],
            "application/javascript": [
              "\n",
              "  async function showImage(name, image, width, height) {\n",
              "    img = document.getElementById(name);\n",
              "    if(img == null) {\n",
              "      img = document.createElement('img');\n",
              "      img.id = name;\n",
              "      document.body.appendChild(img);\n",
              "    }\n",
              "    img.src = image;\n",
              "    img.width = width;\n",
              "    img.height = height;\n",
              "  }\n",
              "  "
            ]
          },
          "metadata": {}
        },
        {
          "output_type": "display_data",
          "data": {
            "text/plain": [
              "<IPython.core.display.Javascript object>"
            ],
            "application/javascript": [
              "\n",
              "  async function showImage(name, image, width, height) {\n",
              "    img = document.getElementById(name);\n",
              "    if(img == null) {\n",
              "      img = document.createElement('img');\n",
              "      img.id = name;\n",
              "      document.body.appendChild(img);\n",
              "    }\n",
              "    img.src = image;\n",
              "    img.width = width;\n",
              "    img.height = height;\n",
              "  }\n",
              "  "
            ]
          },
          "metadata": {}
        },
        {
          "output_type": "display_data",
          "data": {
            "text/plain": [
              "<IPython.core.display.Javascript object>"
            ],
            "application/javascript": [
              "\n",
              "  async function showImage(name, image, width, height) {\n",
              "    img = document.getElementById(name);\n",
              "    if(img == null) {\n",
              "      img = document.createElement('img');\n",
              "      img.id = name;\n",
              "      document.body.appendChild(img);\n",
              "    }\n",
              "    img.src = image;\n",
              "    img.width = width;\n",
              "    img.height = height;\n",
              "  }\n",
              "  "
            ]
          },
          "metadata": {}
        },
        {
          "output_type": "display_data",
          "data": {
            "text/plain": [
              "<IPython.core.display.Javascript object>"
            ],
            "application/javascript": [
              "\n",
              "  async function showImage(name, image, width, height) {\n",
              "    img = document.getElementById(name);\n",
              "    if(img == null) {\n",
              "      img = document.createElement('img');\n",
              "      img.id = name;\n",
              "      document.body.appendChild(img);\n",
              "    }\n",
              "    img.src = image;\n",
              "    img.width = width;\n",
              "    img.height = height;\n",
              "  }\n",
              "  "
            ]
          },
          "metadata": {}
        },
        {
          "output_type": "display_data",
          "data": {
            "text/plain": [
              "<IPython.core.display.Javascript object>"
            ],
            "application/javascript": [
              "\n",
              "  async function showImage(name, image, width, height) {\n",
              "    img = document.getElementById(name);\n",
              "    if(img == null) {\n",
              "      img = document.createElement('img');\n",
              "      img.id = name;\n",
              "      document.body.appendChild(img);\n",
              "    }\n",
              "    img.src = image;\n",
              "    img.width = width;\n",
              "    img.height = height;\n",
              "  }\n",
              "  "
            ]
          },
          "metadata": {}
        },
        {
          "output_type": "display_data",
          "data": {
            "text/plain": [
              "<IPython.core.display.Javascript object>"
            ],
            "application/javascript": [
              "\n",
              "  async function showImage(name, image, width, height) {\n",
              "    img = document.getElementById(name);\n",
              "    if(img == null) {\n",
              "      img = document.createElement('img');\n",
              "      img.id = name;\n",
              "      document.body.appendChild(img);\n",
              "    }\n",
              "    img.src = image;\n",
              "    img.width = width;\n",
              "    img.height = height;\n",
              "  }\n",
              "  "
            ]
          },
          "metadata": {}
        },
        {
          "output_type": "display_data",
          "data": {
            "text/plain": [
              "<IPython.core.display.Javascript object>"
            ],
            "application/javascript": [
              "\n",
              "  async function showImage(name, image, width, height) {\n",
              "    img = document.getElementById(name);\n",
              "    if(img == null) {\n",
              "      img = document.createElement('img');\n",
              "      img.id = name;\n",
              "      document.body.appendChild(img);\n",
              "    }\n",
              "    img.src = image;\n",
              "    img.width = width;\n",
              "    img.height = height;\n",
              "  }\n",
              "  "
            ]
          },
          "metadata": {}
        },
        {
          "output_type": "display_data",
          "data": {
            "text/plain": [
              "<IPython.core.display.Javascript object>"
            ],
            "application/javascript": [
              "\n",
              "  async function showImage(name, image, width, height) {\n",
              "    img = document.getElementById(name);\n",
              "    if(img == null) {\n",
              "      img = document.createElement('img');\n",
              "      img.id = name;\n",
              "      document.body.appendChild(img);\n",
              "    }\n",
              "    img.src = image;\n",
              "    img.width = width;\n",
              "    img.height = height;\n",
              "  }\n",
              "  "
            ]
          },
          "metadata": {}
        },
        {
          "output_type": "display_data",
          "data": {
            "text/plain": [
              "<IPython.core.display.Javascript object>"
            ],
            "application/javascript": [
              "\n",
              "  async function showImage(name, image, width, height) {\n",
              "    img = document.getElementById(name);\n",
              "    if(img == null) {\n",
              "      img = document.createElement('img');\n",
              "      img.id = name;\n",
              "      document.body.appendChild(img);\n",
              "    }\n",
              "    img.src = image;\n",
              "    img.width = width;\n",
              "    img.height = height;\n",
              "  }\n",
              "  "
            ]
          },
          "metadata": {}
        },
        {
          "output_type": "display_data",
          "data": {
            "text/plain": [
              "<IPython.core.display.Javascript object>"
            ],
            "application/javascript": [
              "\n",
              "  async function showImage(name, image, width, height) {\n",
              "    img = document.getElementById(name);\n",
              "    if(img == null) {\n",
              "      img = document.createElement('img');\n",
              "      img.id = name;\n",
              "      document.body.appendChild(img);\n",
              "    }\n",
              "    img.src = image;\n",
              "    img.width = width;\n",
              "    img.height = height;\n",
              "  }\n",
              "  "
            ]
          },
          "metadata": {}
        },
        {
          "output_type": "display_data",
          "data": {
            "text/plain": [
              "<IPython.core.display.Javascript object>"
            ],
            "application/javascript": [
              "\n",
              "  async function showImage(name, image, width, height) {\n",
              "    img = document.getElementById(name);\n",
              "    if(img == null) {\n",
              "      img = document.createElement('img');\n",
              "      img.id = name;\n",
              "      document.body.appendChild(img);\n",
              "    }\n",
              "    img.src = image;\n",
              "    img.width = width;\n",
              "    img.height = height;\n",
              "  }\n",
              "  "
            ]
          },
          "metadata": {}
        },
        {
          "output_type": "display_data",
          "data": {
            "text/plain": [
              "<IPython.core.display.Javascript object>"
            ],
            "application/javascript": [
              "\n",
              "  async function showImage(name, image, width, height) {\n",
              "    img = document.getElementById(name);\n",
              "    if(img == null) {\n",
              "      img = document.createElement('img');\n",
              "      img.id = name;\n",
              "      document.body.appendChild(img);\n",
              "    }\n",
              "    img.src = image;\n",
              "    img.width = width;\n",
              "    img.height = height;\n",
              "  }\n",
              "  "
            ]
          },
          "metadata": {}
        },
        {
          "output_type": "display_data",
          "data": {
            "text/plain": [
              "<IPython.core.display.Javascript object>"
            ],
            "application/javascript": [
              "\n",
              "  async function showImage(name, image, width, height) {\n",
              "    img = document.getElementById(name);\n",
              "    if(img == null) {\n",
              "      img = document.createElement('img');\n",
              "      img.id = name;\n",
              "      document.body.appendChild(img);\n",
              "    }\n",
              "    img.src = image;\n",
              "    img.width = width;\n",
              "    img.height = height;\n",
              "  }\n",
              "  "
            ]
          },
          "metadata": {}
        },
        {
          "output_type": "display_data",
          "data": {
            "text/plain": [
              "<IPython.core.display.Javascript object>"
            ],
            "application/javascript": [
              "\n",
              "  async function showImage(name, image, width, height) {\n",
              "    img = document.getElementById(name);\n",
              "    if(img == null) {\n",
              "      img = document.createElement('img');\n",
              "      img.id = name;\n",
              "      document.body.appendChild(img);\n",
              "    }\n",
              "    img.src = image;\n",
              "    img.width = width;\n",
              "    img.height = height;\n",
              "  }\n",
              "  "
            ]
          },
          "metadata": {}
        },
        {
          "output_type": "display_data",
          "data": {
            "text/plain": [
              "<IPython.core.display.Javascript object>"
            ],
            "application/javascript": [
              "\n",
              "  async function showImage(name, image, width, height) {\n",
              "    img = document.getElementById(name);\n",
              "    if(img == null) {\n",
              "      img = document.createElement('img');\n",
              "      img.id = name;\n",
              "      document.body.appendChild(img);\n",
              "    }\n",
              "    img.src = image;\n",
              "    img.width = width;\n",
              "    img.height = height;\n",
              "  }\n",
              "  "
            ]
          },
          "metadata": {}
        },
        {
          "output_type": "display_data",
          "data": {
            "text/plain": [
              "<IPython.core.display.Javascript object>"
            ],
            "application/javascript": [
              "\n",
              "  async function showImage(name, image, width, height) {\n",
              "    img = document.getElementById(name);\n",
              "    if(img == null) {\n",
              "      img = document.createElement('img');\n",
              "      img.id = name;\n",
              "      document.body.appendChild(img);\n",
              "    }\n",
              "    img.src = image;\n",
              "    img.width = width;\n",
              "    img.height = height;\n",
              "  }\n",
              "  "
            ]
          },
          "metadata": {}
        },
        {
          "output_type": "display_data",
          "data": {
            "text/plain": [
              "<IPython.core.display.Javascript object>"
            ],
            "application/javascript": [
              "\n",
              "  async function showImage(name, image, width, height) {\n",
              "    img = document.getElementById(name);\n",
              "    if(img == null) {\n",
              "      img = document.createElement('img');\n",
              "      img.id = name;\n",
              "      document.body.appendChild(img);\n",
              "    }\n",
              "    img.src = image;\n",
              "    img.width = width;\n",
              "    img.height = height;\n",
              "  }\n",
              "  "
            ]
          },
          "metadata": {}
        },
        {
          "output_type": "display_data",
          "data": {
            "text/plain": [
              "<IPython.core.display.Javascript object>"
            ],
            "application/javascript": [
              "\n",
              "  async function showImage(name, image, width, height) {\n",
              "    img = document.getElementById(name);\n",
              "    if(img == null) {\n",
              "      img = document.createElement('img');\n",
              "      img.id = name;\n",
              "      document.body.appendChild(img);\n",
              "    }\n",
              "    img.src = image;\n",
              "    img.width = width;\n",
              "    img.height = height;\n",
              "  }\n",
              "  "
            ]
          },
          "metadata": {}
        },
        {
          "output_type": "display_data",
          "data": {
            "text/plain": [
              "<IPython.core.display.Javascript object>"
            ],
            "application/javascript": [
              "\n",
              "  async function showImage(name, image, width, height) {\n",
              "    img = document.getElementById(name);\n",
              "    if(img == null) {\n",
              "      img = document.createElement('img');\n",
              "      img.id = name;\n",
              "      document.body.appendChild(img);\n",
              "    }\n",
              "    img.src = image;\n",
              "    img.width = width;\n",
              "    img.height = height;\n",
              "  }\n",
              "  "
            ]
          },
          "metadata": {}
        },
        {
          "output_type": "display_data",
          "data": {
            "text/plain": [
              "<IPython.core.display.Javascript object>"
            ],
            "application/javascript": [
              "\n",
              "  async function showImage(name, image, width, height) {\n",
              "    img = document.getElementById(name);\n",
              "    if(img == null) {\n",
              "      img = document.createElement('img');\n",
              "      img.id = name;\n",
              "      document.body.appendChild(img);\n",
              "    }\n",
              "    img.src = image;\n",
              "    img.width = width;\n",
              "    img.height = height;\n",
              "  }\n",
              "  "
            ]
          },
          "metadata": {}
        },
        {
          "output_type": "display_data",
          "data": {
            "text/plain": [
              "<IPython.core.display.Javascript object>"
            ],
            "application/javascript": [
              "\n",
              "  async function showImage(name, image, width, height) {\n",
              "    img = document.getElementById(name);\n",
              "    if(img == null) {\n",
              "      img = document.createElement('img');\n",
              "      img.id = name;\n",
              "      document.body.appendChild(img);\n",
              "    }\n",
              "    img.src = image;\n",
              "    img.width = width;\n",
              "    img.height = height;\n",
              "  }\n",
              "  "
            ]
          },
          "metadata": {}
        },
        {
          "output_type": "display_data",
          "data": {
            "text/plain": [
              "<IPython.core.display.Javascript object>"
            ],
            "application/javascript": [
              "\n",
              "  async function showImage(name, image, width, height) {\n",
              "    img = document.getElementById(name);\n",
              "    if(img == null) {\n",
              "      img = document.createElement('img');\n",
              "      img.id = name;\n",
              "      document.body.appendChild(img);\n",
              "    }\n",
              "    img.src = image;\n",
              "    img.width = width;\n",
              "    img.height = height;\n",
              "  }\n",
              "  "
            ]
          },
          "metadata": {}
        },
        {
          "output_type": "display_data",
          "data": {
            "text/plain": [
              "<IPython.core.display.Javascript object>"
            ],
            "application/javascript": [
              "\n",
              "  async function showImage(name, image, width, height) {\n",
              "    img = document.getElementById(name);\n",
              "    if(img == null) {\n",
              "      img = document.createElement('img');\n",
              "      img.id = name;\n",
              "      document.body.appendChild(img);\n",
              "    }\n",
              "    img.src = image;\n",
              "    img.width = width;\n",
              "    img.height = height;\n",
              "  }\n",
              "  "
            ]
          },
          "metadata": {}
        },
        {
          "output_type": "display_data",
          "data": {
            "text/plain": [
              "<IPython.core.display.Javascript object>"
            ],
            "application/javascript": [
              "\n",
              "  async function showImage(name, image, width, height) {\n",
              "    img = document.getElementById(name);\n",
              "    if(img == null) {\n",
              "      img = document.createElement('img');\n",
              "      img.id = name;\n",
              "      document.body.appendChild(img);\n",
              "    }\n",
              "    img.src = image;\n",
              "    img.width = width;\n",
              "    img.height = height;\n",
              "  }\n",
              "  "
            ]
          },
          "metadata": {}
        },
        {
          "output_type": "display_data",
          "data": {
            "text/plain": [
              "<IPython.core.display.Javascript object>"
            ],
            "application/javascript": [
              "\n",
              "  async function showImage(name, image, width, height) {\n",
              "    img = document.getElementById(name);\n",
              "    if(img == null) {\n",
              "      img = document.createElement('img');\n",
              "      img.id = name;\n",
              "      document.body.appendChild(img);\n",
              "    }\n",
              "    img.src = image;\n",
              "    img.width = width;\n",
              "    img.height = height;\n",
              "  }\n",
              "  "
            ]
          },
          "metadata": {}
        },
        {
          "output_type": "display_data",
          "data": {
            "text/plain": [
              "<IPython.core.display.Javascript object>"
            ],
            "application/javascript": [
              "\n",
              "  async function showImage(name, image, width, height) {\n",
              "    img = document.getElementById(name);\n",
              "    if(img == null) {\n",
              "      img = document.createElement('img');\n",
              "      img.id = name;\n",
              "      document.body.appendChild(img);\n",
              "    }\n",
              "    img.src = image;\n",
              "    img.width = width;\n",
              "    img.height = height;\n",
              "  }\n",
              "  "
            ]
          },
          "metadata": {}
        },
        {
          "output_type": "display_data",
          "data": {
            "text/plain": [
              "<IPython.core.display.Javascript object>"
            ],
            "application/javascript": [
              "\n",
              "  async function showImage(name, image, width, height) {\n",
              "    img = document.getElementById(name);\n",
              "    if(img == null) {\n",
              "      img = document.createElement('img');\n",
              "      img.id = name;\n",
              "      document.body.appendChild(img);\n",
              "    }\n",
              "    img.src = image;\n",
              "    img.width = width;\n",
              "    img.height = height;\n",
              "  }\n",
              "  "
            ]
          },
          "metadata": {}
        },
        {
          "output_type": "display_data",
          "data": {
            "text/plain": [
              "<IPython.core.display.Javascript object>"
            ],
            "application/javascript": [
              "\n",
              "  async function showImage(name, image, width, height) {\n",
              "    img = document.getElementById(name);\n",
              "    if(img == null) {\n",
              "      img = document.createElement('img');\n",
              "      img.id = name;\n",
              "      document.body.appendChild(img);\n",
              "    }\n",
              "    img.src = image;\n",
              "    img.width = width;\n",
              "    img.height = height;\n",
              "  }\n",
              "  "
            ]
          },
          "metadata": {}
        },
        {
          "output_type": "display_data",
          "data": {
            "text/plain": [
              "<IPython.core.display.Javascript object>"
            ],
            "application/javascript": [
              "\n",
              "  async function showImage(name, image, width, height) {\n",
              "    img = document.getElementById(name);\n",
              "    if(img == null) {\n",
              "      img = document.createElement('img');\n",
              "      img.id = name;\n",
              "      document.body.appendChild(img);\n",
              "    }\n",
              "    img.src = image;\n",
              "    img.width = width;\n",
              "    img.height = height;\n",
              "  }\n",
              "  "
            ]
          },
          "metadata": {}
        },
        {
          "output_type": "display_data",
          "data": {
            "text/plain": [
              "<IPython.core.display.Javascript object>"
            ],
            "application/javascript": [
              "\n",
              "  async function showImage(name, image, width, height) {\n",
              "    img = document.getElementById(name);\n",
              "    if(img == null) {\n",
              "      img = document.createElement('img');\n",
              "      img.id = name;\n",
              "      document.body.appendChild(img);\n",
              "    }\n",
              "    img.src = image;\n",
              "    img.width = width;\n",
              "    img.height = height;\n",
              "  }\n",
              "  "
            ]
          },
          "metadata": {}
        },
        {
          "output_type": "display_data",
          "data": {
            "text/plain": [
              "<IPython.core.display.Javascript object>"
            ],
            "application/javascript": [
              "\n",
              "  async function showImage(name, image, width, height) {\n",
              "    img = document.getElementById(name);\n",
              "    if(img == null) {\n",
              "      img = document.createElement('img');\n",
              "      img.id = name;\n",
              "      document.body.appendChild(img);\n",
              "    }\n",
              "    img.src = image;\n",
              "    img.width = width;\n",
              "    img.height = height;\n",
              "  }\n",
              "  "
            ]
          },
          "metadata": {}
        },
        {
          "output_type": "display_data",
          "data": {
            "text/plain": [
              "<IPython.core.display.Javascript object>"
            ],
            "application/javascript": [
              "\n",
              "  async function showImage(name, image, width, height) {\n",
              "    img = document.getElementById(name);\n",
              "    if(img == null) {\n",
              "      img = document.createElement('img');\n",
              "      img.id = name;\n",
              "      document.body.appendChild(img);\n",
              "    }\n",
              "    img.src = image;\n",
              "    img.width = width;\n",
              "    img.height = height;\n",
              "  }\n",
              "  "
            ]
          },
          "metadata": {}
        },
        {
          "output_type": "display_data",
          "data": {
            "text/plain": [
              "<IPython.core.display.Javascript object>"
            ],
            "application/javascript": [
              "\n",
              "  async function showImage(name, image, width, height) {\n",
              "    img = document.getElementById(name);\n",
              "    if(img == null) {\n",
              "      img = document.createElement('img');\n",
              "      img.id = name;\n",
              "      document.body.appendChild(img);\n",
              "    }\n",
              "    img.src = image;\n",
              "    img.width = width;\n",
              "    img.height = height;\n",
              "  }\n",
              "  "
            ]
          },
          "metadata": {}
        },
        {
          "output_type": "display_data",
          "data": {
            "text/plain": [
              "<IPython.core.display.Javascript object>"
            ],
            "application/javascript": [
              "\n",
              "  async function showImage(name, image, width, height) {\n",
              "    img = document.getElementById(name);\n",
              "    if(img == null) {\n",
              "      img = document.createElement('img');\n",
              "      img.id = name;\n",
              "      document.body.appendChild(img);\n",
              "    }\n",
              "    img.src = image;\n",
              "    img.width = width;\n",
              "    img.height = height;\n",
              "  }\n",
              "  "
            ]
          },
          "metadata": {}
        },
        {
          "output_type": "display_data",
          "data": {
            "text/plain": [
              "<IPython.core.display.Javascript object>"
            ],
            "application/javascript": [
              "\n",
              "  async function showImage(name, image, width, height) {\n",
              "    img = document.getElementById(name);\n",
              "    if(img == null) {\n",
              "      img = document.createElement('img');\n",
              "      img.id = name;\n",
              "      document.body.appendChild(img);\n",
              "    }\n",
              "    img.src = image;\n",
              "    img.width = width;\n",
              "    img.height = height;\n",
              "  }\n",
              "  "
            ]
          },
          "metadata": {}
        },
        {
          "output_type": "display_data",
          "data": {
            "text/plain": [
              "<IPython.core.display.Javascript object>"
            ],
            "application/javascript": [
              "\n",
              "  async function showImage(name, image, width, height) {\n",
              "    img = document.getElementById(name);\n",
              "    if(img == null) {\n",
              "      img = document.createElement('img');\n",
              "      img.id = name;\n",
              "      document.body.appendChild(img);\n",
              "    }\n",
              "    img.src = image;\n",
              "    img.width = width;\n",
              "    img.height = height;\n",
              "  }\n",
              "  "
            ]
          },
          "metadata": {}
        },
        {
          "output_type": "display_data",
          "data": {
            "text/plain": [
              "<IPython.core.display.Javascript object>"
            ],
            "application/javascript": [
              "\n",
              "  async function showImage(name, image, width, height) {\n",
              "    img = document.getElementById(name);\n",
              "    if(img == null) {\n",
              "      img = document.createElement('img');\n",
              "      img.id = name;\n",
              "      document.body.appendChild(img);\n",
              "    }\n",
              "    img.src = image;\n",
              "    img.width = width;\n",
              "    img.height = height;\n",
              "  }\n",
              "  "
            ]
          },
          "metadata": {}
        },
        {
          "output_type": "display_data",
          "data": {
            "text/plain": [
              "<IPython.core.display.Javascript object>"
            ],
            "application/javascript": [
              "\n",
              "  async function showImage(name, image, width, height) {\n",
              "    img = document.getElementById(name);\n",
              "    if(img == null) {\n",
              "      img = document.createElement('img');\n",
              "      img.id = name;\n",
              "      document.body.appendChild(img);\n",
              "    }\n",
              "    img.src = image;\n",
              "    img.width = width;\n",
              "    img.height = height;\n",
              "  }\n",
              "  "
            ]
          },
          "metadata": {}
        },
        {
          "output_type": "display_data",
          "data": {
            "text/plain": [
              "<IPython.core.display.Javascript object>"
            ],
            "application/javascript": [
              "\n",
              "  async function showImage(name, image, width, height) {\n",
              "    img = document.getElementById(name);\n",
              "    if(img == null) {\n",
              "      img = document.createElement('img');\n",
              "      img.id = name;\n",
              "      document.body.appendChild(img);\n",
              "    }\n",
              "    img.src = image;\n",
              "    img.width = width;\n",
              "    img.height = height;\n",
              "  }\n",
              "  "
            ]
          },
          "metadata": {}
        },
        {
          "output_type": "display_data",
          "data": {
            "text/plain": [
              "<IPython.core.display.Javascript object>"
            ],
            "application/javascript": [
              "\n",
              "  async function showImage(name, image, width, height) {\n",
              "    img = document.getElementById(name);\n",
              "    if(img == null) {\n",
              "      img = document.createElement('img');\n",
              "      img.id = name;\n",
              "      document.body.appendChild(img);\n",
              "    }\n",
              "    img.src = image;\n",
              "    img.width = width;\n",
              "    img.height = height;\n",
              "  }\n",
              "  "
            ]
          },
          "metadata": {}
        },
        {
          "output_type": "display_data",
          "data": {
            "text/plain": [
              "<IPython.core.display.Javascript object>"
            ],
            "application/javascript": [
              "\n",
              "  async function showImage(name, image, width, height) {\n",
              "    img = document.getElementById(name);\n",
              "    if(img == null) {\n",
              "      img = document.createElement('img');\n",
              "      img.id = name;\n",
              "      document.body.appendChild(img);\n",
              "    }\n",
              "    img.src = image;\n",
              "    img.width = width;\n",
              "    img.height = height;\n",
              "  }\n",
              "  "
            ]
          },
          "metadata": {}
        },
        {
          "output_type": "display_data",
          "data": {
            "text/plain": [
              "<IPython.core.display.Javascript object>"
            ],
            "application/javascript": [
              "\n",
              "  async function showImage(name, image, width, height) {\n",
              "    img = document.getElementById(name);\n",
              "    if(img == null) {\n",
              "      img = document.createElement('img');\n",
              "      img.id = name;\n",
              "      document.body.appendChild(img);\n",
              "    }\n",
              "    img.src = image;\n",
              "    img.width = width;\n",
              "    img.height = height;\n",
              "  }\n",
              "  "
            ]
          },
          "metadata": {}
        },
        {
          "output_type": "display_data",
          "data": {
            "text/plain": [
              "<IPython.core.display.Javascript object>"
            ],
            "application/javascript": [
              "\n",
              "  async function showImage(name, image, width, height) {\n",
              "    img = document.getElementById(name);\n",
              "    if(img == null) {\n",
              "      img = document.createElement('img');\n",
              "      img.id = name;\n",
              "      document.body.appendChild(img);\n",
              "    }\n",
              "    img.src = image;\n",
              "    img.width = width;\n",
              "    img.height = height;\n",
              "  }\n",
              "  "
            ]
          },
          "metadata": {}
        },
        {
          "output_type": "display_data",
          "data": {
            "text/plain": [
              "<IPython.core.display.Javascript object>"
            ],
            "application/javascript": [
              "\n",
              "  async function showImage(name, image, width, height) {\n",
              "    img = document.getElementById(name);\n",
              "    if(img == null) {\n",
              "      img = document.createElement('img');\n",
              "      img.id = name;\n",
              "      document.body.appendChild(img);\n",
              "    }\n",
              "    img.src = image;\n",
              "    img.width = width;\n",
              "    img.height = height;\n",
              "  }\n",
              "  "
            ]
          },
          "metadata": {}
        },
        {
          "output_type": "display_data",
          "data": {
            "text/plain": [
              "<IPython.core.display.Javascript object>"
            ],
            "application/javascript": [
              "\n",
              "  async function showImage(name, image, width, height) {\n",
              "    img = document.getElementById(name);\n",
              "    if(img == null) {\n",
              "      img = document.createElement('img');\n",
              "      img.id = name;\n",
              "      document.body.appendChild(img);\n",
              "    }\n",
              "    img.src = image;\n",
              "    img.width = width;\n",
              "    img.height = height;\n",
              "  }\n",
              "  "
            ]
          },
          "metadata": {}
        },
        {
          "output_type": "display_data",
          "data": {
            "text/plain": [
              "<IPython.core.display.Javascript object>"
            ],
            "application/javascript": [
              "\n",
              "  async function showImage(name, image, width, height) {\n",
              "    img = document.getElementById(name);\n",
              "    if(img == null) {\n",
              "      img = document.createElement('img');\n",
              "      img.id = name;\n",
              "      document.body.appendChild(img);\n",
              "    }\n",
              "    img.src = image;\n",
              "    img.width = width;\n",
              "    img.height = height;\n",
              "  }\n",
              "  "
            ]
          },
          "metadata": {}
        },
        {
          "output_type": "display_data",
          "data": {
            "text/plain": [
              "<IPython.core.display.Javascript object>"
            ],
            "application/javascript": [
              "\n",
              "  async function showImage(name, image, width, height) {\n",
              "    img = document.getElementById(name);\n",
              "    if(img == null) {\n",
              "      img = document.createElement('img');\n",
              "      img.id = name;\n",
              "      document.body.appendChild(img);\n",
              "    }\n",
              "    img.src = image;\n",
              "    img.width = width;\n",
              "    img.height = height;\n",
              "  }\n",
              "  "
            ]
          },
          "metadata": {}
        },
        {
          "output_type": "display_data",
          "data": {
            "text/plain": [
              "<IPython.core.display.Javascript object>"
            ],
            "application/javascript": [
              "\n",
              "  async function showImage(name, image, width, height) {\n",
              "    img = document.getElementById(name);\n",
              "    if(img == null) {\n",
              "      img = document.createElement('img');\n",
              "      img.id = name;\n",
              "      document.body.appendChild(img);\n",
              "    }\n",
              "    img.src = image;\n",
              "    img.width = width;\n",
              "    img.height = height;\n",
              "  }\n",
              "  "
            ]
          },
          "metadata": {}
        },
        {
          "output_type": "display_data",
          "data": {
            "text/plain": [
              "<IPython.core.display.Javascript object>"
            ],
            "application/javascript": [
              "\n",
              "  async function showImage(name, image, width, height) {\n",
              "    img = document.getElementById(name);\n",
              "    if(img == null) {\n",
              "      img = document.createElement('img');\n",
              "      img.id = name;\n",
              "      document.body.appendChild(img);\n",
              "    }\n",
              "    img.src = image;\n",
              "    img.width = width;\n",
              "    img.height = height;\n",
              "  }\n",
              "  "
            ]
          },
          "metadata": {}
        },
        {
          "output_type": "display_data",
          "data": {
            "text/plain": [
              "<IPython.core.display.Javascript object>"
            ],
            "application/javascript": [
              "\n",
              "  async function showImage(name, image, width, height) {\n",
              "    img = document.getElementById(name);\n",
              "    if(img == null) {\n",
              "      img = document.createElement('img');\n",
              "      img.id = name;\n",
              "      document.body.appendChild(img);\n",
              "    }\n",
              "    img.src = image;\n",
              "    img.width = width;\n",
              "    img.height = height;\n",
              "  }\n",
              "  "
            ]
          },
          "metadata": {}
        },
        {
          "output_type": "display_data",
          "data": {
            "text/plain": [
              "<IPython.core.display.Javascript object>"
            ],
            "application/javascript": [
              "\n",
              "  async function showImage(name, image, width, height) {\n",
              "    img = document.getElementById(name);\n",
              "    if(img == null) {\n",
              "      img = document.createElement('img');\n",
              "      img.id = name;\n",
              "      document.body.appendChild(img);\n",
              "    }\n",
              "    img.src = image;\n",
              "    img.width = width;\n",
              "    img.height = height;\n",
              "  }\n",
              "  "
            ]
          },
          "metadata": {}
        },
        {
          "output_type": "display_data",
          "data": {
            "text/plain": [
              "<IPython.core.display.Javascript object>"
            ],
            "application/javascript": [
              "\n",
              "  async function showImage(name, image, width, height) {\n",
              "    img = document.getElementById(name);\n",
              "    if(img == null) {\n",
              "      img = document.createElement('img');\n",
              "      img.id = name;\n",
              "      document.body.appendChild(img);\n",
              "    }\n",
              "    img.src = image;\n",
              "    img.width = width;\n",
              "    img.height = height;\n",
              "  }\n",
              "  "
            ]
          },
          "metadata": {}
        },
        {
          "output_type": "display_data",
          "data": {
            "text/plain": [
              "<IPython.core.display.Javascript object>"
            ],
            "application/javascript": [
              "\n",
              "  async function showImage(name, image, width, height) {\n",
              "    img = document.getElementById(name);\n",
              "    if(img == null) {\n",
              "      img = document.createElement('img');\n",
              "      img.id = name;\n",
              "      document.body.appendChild(img);\n",
              "    }\n",
              "    img.src = image;\n",
              "    img.width = width;\n",
              "    img.height = height;\n",
              "  }\n",
              "  "
            ]
          },
          "metadata": {}
        },
        {
          "output_type": "display_data",
          "data": {
            "text/plain": [
              "<IPython.core.display.Javascript object>"
            ],
            "application/javascript": [
              "\n",
              "  async function showImage(name, image, width, height) {\n",
              "    img = document.getElementById(name);\n",
              "    if(img == null) {\n",
              "      img = document.createElement('img');\n",
              "      img.id = name;\n",
              "      document.body.appendChild(img);\n",
              "    }\n",
              "    img.src = image;\n",
              "    img.width = width;\n",
              "    img.height = height;\n",
              "  }\n",
              "  "
            ]
          },
          "metadata": {}
        },
        {
          "output_type": "display_data",
          "data": {
            "text/plain": [
              "<IPython.core.display.Javascript object>"
            ],
            "application/javascript": [
              "\n",
              "  async function showImage(name, image, width, height) {\n",
              "    img = document.getElementById(name);\n",
              "    if(img == null) {\n",
              "      img = document.createElement('img');\n",
              "      img.id = name;\n",
              "      document.body.appendChild(img);\n",
              "    }\n",
              "    img.src = image;\n",
              "    img.width = width;\n",
              "    img.height = height;\n",
              "  }\n",
              "  "
            ]
          },
          "metadata": {}
        },
        {
          "output_type": "display_data",
          "data": {
            "text/plain": [
              "<IPython.core.display.Javascript object>"
            ],
            "application/javascript": [
              "\n",
              "  async function showImage(name, image, width, height) {\n",
              "    img = document.getElementById(name);\n",
              "    if(img == null) {\n",
              "      img = document.createElement('img');\n",
              "      img.id = name;\n",
              "      document.body.appendChild(img);\n",
              "    }\n",
              "    img.src = image;\n",
              "    img.width = width;\n",
              "    img.height = height;\n",
              "  }\n",
              "  "
            ]
          },
          "metadata": {}
        },
        {
          "output_type": "display_data",
          "data": {
            "text/plain": [
              "<IPython.core.display.Javascript object>"
            ],
            "application/javascript": [
              "\n",
              "  async function showImage(name, image, width, height) {\n",
              "    img = document.getElementById(name);\n",
              "    if(img == null) {\n",
              "      img = document.createElement('img');\n",
              "      img.id = name;\n",
              "      document.body.appendChild(img);\n",
              "    }\n",
              "    img.src = image;\n",
              "    img.width = width;\n",
              "    img.height = height;\n",
              "  }\n",
              "  "
            ]
          },
          "metadata": {}
        },
        {
          "output_type": "display_data",
          "data": {
            "text/plain": [
              "<IPython.core.display.Javascript object>"
            ],
            "application/javascript": [
              "\n",
              "  async function showImage(name, image, width, height) {\n",
              "    img = document.getElementById(name);\n",
              "    if(img == null) {\n",
              "      img = document.createElement('img');\n",
              "      img.id = name;\n",
              "      document.body.appendChild(img);\n",
              "    }\n",
              "    img.src = image;\n",
              "    img.width = width;\n",
              "    img.height = height;\n",
              "  }\n",
              "  "
            ]
          },
          "metadata": {}
        },
        {
          "output_type": "display_data",
          "data": {
            "text/plain": [
              "<IPython.core.display.Javascript object>"
            ],
            "application/javascript": [
              "\n",
              "  async function showImage(name, image, width, height) {\n",
              "    img = document.getElementById(name);\n",
              "    if(img == null) {\n",
              "      img = document.createElement('img');\n",
              "      img.id = name;\n",
              "      document.body.appendChild(img);\n",
              "    }\n",
              "    img.src = image;\n",
              "    img.width = width;\n",
              "    img.height = height;\n",
              "  }\n",
              "  "
            ]
          },
          "metadata": {}
        },
        {
          "output_type": "display_data",
          "data": {
            "text/plain": [
              "<IPython.core.display.Javascript object>"
            ],
            "application/javascript": [
              "\n",
              "  async function showImage(name, image, width, height) {\n",
              "    img = document.getElementById(name);\n",
              "    if(img == null) {\n",
              "      img = document.createElement('img');\n",
              "      img.id = name;\n",
              "      document.body.appendChild(img);\n",
              "    }\n",
              "    img.src = image;\n",
              "    img.width = width;\n",
              "    img.height = height;\n",
              "  }\n",
              "  "
            ]
          },
          "metadata": {}
        },
        {
          "output_type": "display_data",
          "data": {
            "text/plain": [
              "<IPython.core.display.Javascript object>"
            ],
            "application/javascript": [
              "\n",
              "  async function showImage(name, image, width, height) {\n",
              "    img = document.getElementById(name);\n",
              "    if(img == null) {\n",
              "      img = document.createElement('img');\n",
              "      img.id = name;\n",
              "      document.body.appendChild(img);\n",
              "    }\n",
              "    img.src = image;\n",
              "    img.width = width;\n",
              "    img.height = height;\n",
              "  }\n",
              "  "
            ]
          },
          "metadata": {}
        },
        {
          "output_type": "display_data",
          "data": {
            "text/plain": [
              "<IPython.core.display.Javascript object>"
            ],
            "application/javascript": [
              "\n",
              "  async function showImage(name, image, width, height) {\n",
              "    img = document.getElementById(name);\n",
              "    if(img == null) {\n",
              "      img = document.createElement('img');\n",
              "      img.id = name;\n",
              "      document.body.appendChild(img);\n",
              "    }\n",
              "    img.src = image;\n",
              "    img.width = width;\n",
              "    img.height = height;\n",
              "  }\n",
              "  "
            ]
          },
          "metadata": {}
        },
        {
          "output_type": "display_data",
          "data": {
            "text/plain": [
              "<IPython.core.display.Javascript object>"
            ],
            "application/javascript": [
              "\n",
              "  async function showImage(name, image, width, height) {\n",
              "    img = document.getElementById(name);\n",
              "    if(img == null) {\n",
              "      img = document.createElement('img');\n",
              "      img.id = name;\n",
              "      document.body.appendChild(img);\n",
              "    }\n",
              "    img.src = image;\n",
              "    img.width = width;\n",
              "    img.height = height;\n",
              "  }\n",
              "  "
            ]
          },
          "metadata": {}
        },
        {
          "output_type": "display_data",
          "data": {
            "text/plain": [
              "<IPython.core.display.Javascript object>"
            ],
            "application/javascript": [
              "\n",
              "  async function showImage(name, image, width, height) {\n",
              "    img = document.getElementById(name);\n",
              "    if(img == null) {\n",
              "      img = document.createElement('img');\n",
              "      img.id = name;\n",
              "      document.body.appendChild(img);\n",
              "    }\n",
              "    img.src = image;\n",
              "    img.width = width;\n",
              "    img.height = height;\n",
              "  }\n",
              "  "
            ]
          },
          "metadata": {}
        },
        {
          "output_type": "display_data",
          "data": {
            "text/plain": [
              "<IPython.core.display.Javascript object>"
            ],
            "application/javascript": [
              "\n",
              "  async function showImage(name, image, width, height) {\n",
              "    img = document.getElementById(name);\n",
              "    if(img == null) {\n",
              "      img = document.createElement('img');\n",
              "      img.id = name;\n",
              "      document.body.appendChild(img);\n",
              "    }\n",
              "    img.src = image;\n",
              "    img.width = width;\n",
              "    img.height = height;\n",
              "  }\n",
              "  "
            ]
          },
          "metadata": {}
        },
        {
          "output_type": "display_data",
          "data": {
            "text/plain": [
              "<IPython.core.display.Javascript object>"
            ],
            "application/javascript": [
              "\n",
              "  async function showImage(name, image, width, height) {\n",
              "    img = document.getElementById(name);\n",
              "    if(img == null) {\n",
              "      img = document.createElement('img');\n",
              "      img.id = name;\n",
              "      document.body.appendChild(img);\n",
              "    }\n",
              "    img.src = image;\n",
              "    img.width = width;\n",
              "    img.height = height;\n",
              "  }\n",
              "  "
            ]
          },
          "metadata": {}
        },
        {
          "output_type": "display_data",
          "data": {
            "text/plain": [
              "<IPython.core.display.Javascript object>"
            ],
            "application/javascript": [
              "\n",
              "  async function showImage(name, image, width, height) {\n",
              "    img = document.getElementById(name);\n",
              "    if(img == null) {\n",
              "      img = document.createElement('img');\n",
              "      img.id = name;\n",
              "      document.body.appendChild(img);\n",
              "    }\n",
              "    img.src = image;\n",
              "    img.width = width;\n",
              "    img.height = height;\n",
              "  }\n",
              "  "
            ]
          },
          "metadata": {}
        },
        {
          "output_type": "display_data",
          "data": {
            "text/plain": [
              "<IPython.core.display.Javascript object>"
            ],
            "application/javascript": [
              "\n",
              "  async function showImage(name, image, width, height) {\n",
              "    img = document.getElementById(name);\n",
              "    if(img == null) {\n",
              "      img = document.createElement('img');\n",
              "      img.id = name;\n",
              "      document.body.appendChild(img);\n",
              "    }\n",
              "    img.src = image;\n",
              "    img.width = width;\n",
              "    img.height = height;\n",
              "  }\n",
              "  "
            ]
          },
          "metadata": {}
        },
        {
          "output_type": "display_data",
          "data": {
            "text/plain": [
              "<IPython.core.display.Javascript object>"
            ],
            "application/javascript": [
              "\n",
              "  async function showImage(name, image, width, height) {\n",
              "    img = document.getElementById(name);\n",
              "    if(img == null) {\n",
              "      img = document.createElement('img');\n",
              "      img.id = name;\n",
              "      document.body.appendChild(img);\n",
              "    }\n",
              "    img.src = image;\n",
              "    img.width = width;\n",
              "    img.height = height;\n",
              "  }\n",
              "  "
            ]
          },
          "metadata": {}
        },
        {
          "output_type": "display_data",
          "data": {
            "text/plain": [
              "<IPython.core.display.Javascript object>"
            ],
            "application/javascript": [
              "\n",
              "  async function showImage(name, image, width, height) {\n",
              "    img = document.getElementById(name);\n",
              "    if(img == null) {\n",
              "      img = document.createElement('img');\n",
              "      img.id = name;\n",
              "      document.body.appendChild(img);\n",
              "    }\n",
              "    img.src = image;\n",
              "    img.width = width;\n",
              "    img.height = height;\n",
              "  }\n",
              "  "
            ]
          },
          "metadata": {}
        },
        {
          "output_type": "display_data",
          "data": {
            "text/plain": [
              "<IPython.core.display.Javascript object>"
            ],
            "application/javascript": [
              "\n",
              "  async function showImage(name, image, width, height) {\n",
              "    img = document.getElementById(name);\n",
              "    if(img == null) {\n",
              "      img = document.createElement('img');\n",
              "      img.id = name;\n",
              "      document.body.appendChild(img);\n",
              "    }\n",
              "    img.src = image;\n",
              "    img.width = width;\n",
              "    img.height = height;\n",
              "  }\n",
              "  "
            ]
          },
          "metadata": {}
        },
        {
          "output_type": "display_data",
          "data": {
            "text/plain": [
              "<IPython.core.display.Javascript object>"
            ],
            "application/javascript": [
              "\n",
              "  async function showImage(name, image, width, height) {\n",
              "    img = document.getElementById(name);\n",
              "    if(img == null) {\n",
              "      img = document.createElement('img');\n",
              "      img.id = name;\n",
              "      document.body.appendChild(img);\n",
              "    }\n",
              "    img.src = image;\n",
              "    img.width = width;\n",
              "    img.height = height;\n",
              "  }\n",
              "  "
            ]
          },
          "metadata": {}
        },
        {
          "output_type": "display_data",
          "data": {
            "text/plain": [
              "<IPython.core.display.Javascript object>"
            ],
            "application/javascript": [
              "\n",
              "  async function showImage(name, image, width, height) {\n",
              "    img = document.getElementById(name);\n",
              "    if(img == null) {\n",
              "      img = document.createElement('img');\n",
              "      img.id = name;\n",
              "      document.body.appendChild(img);\n",
              "    }\n",
              "    img.src = image;\n",
              "    img.width = width;\n",
              "    img.height = height;\n",
              "  }\n",
              "  "
            ]
          },
          "metadata": {}
        },
        {
          "output_type": "display_data",
          "data": {
            "text/plain": [
              "<IPython.core.display.Javascript object>"
            ],
            "application/javascript": [
              "\n",
              "  async function showImage(name, image, width, height) {\n",
              "    img = document.getElementById(name);\n",
              "    if(img == null) {\n",
              "      img = document.createElement('img');\n",
              "      img.id = name;\n",
              "      document.body.appendChild(img);\n",
              "    }\n",
              "    img.src = image;\n",
              "    img.width = width;\n",
              "    img.height = height;\n",
              "  }\n",
              "  "
            ]
          },
          "metadata": {}
        },
        {
          "output_type": "display_data",
          "data": {
            "text/plain": [
              "<IPython.core.display.Javascript object>"
            ],
            "application/javascript": [
              "\n",
              "  async function showImage(name, image, width, height) {\n",
              "    img = document.getElementById(name);\n",
              "    if(img == null) {\n",
              "      img = document.createElement('img');\n",
              "      img.id = name;\n",
              "      document.body.appendChild(img);\n",
              "    }\n",
              "    img.src = image;\n",
              "    img.width = width;\n",
              "    img.height = height;\n",
              "  }\n",
              "  "
            ]
          },
          "metadata": {}
        },
        {
          "output_type": "display_data",
          "data": {
            "text/plain": [
              "<IPython.core.display.Javascript object>"
            ],
            "application/javascript": [
              "\n",
              "  async function showImage(name, image, width, height) {\n",
              "    img = document.getElementById(name);\n",
              "    if(img == null) {\n",
              "      img = document.createElement('img');\n",
              "      img.id = name;\n",
              "      document.body.appendChild(img);\n",
              "    }\n",
              "    img.src = image;\n",
              "    img.width = width;\n",
              "    img.height = height;\n",
              "  }\n",
              "  "
            ]
          },
          "metadata": {}
        },
        {
          "output_type": "display_data",
          "data": {
            "text/plain": [
              "<IPython.core.display.Javascript object>"
            ],
            "application/javascript": [
              "\n",
              "  async function showImage(name, image, width, height) {\n",
              "    img = document.getElementById(name);\n",
              "    if(img == null) {\n",
              "      img = document.createElement('img');\n",
              "      img.id = name;\n",
              "      document.body.appendChild(img);\n",
              "    }\n",
              "    img.src = image;\n",
              "    img.width = width;\n",
              "    img.height = height;\n",
              "  }\n",
              "  "
            ]
          },
          "metadata": {}
        },
        {
          "output_type": "display_data",
          "data": {
            "text/plain": [
              "<IPython.core.display.Javascript object>"
            ],
            "application/javascript": [
              "\n",
              "  async function showImage(name, image, width, height) {\n",
              "    img = document.getElementById(name);\n",
              "    if(img == null) {\n",
              "      img = document.createElement('img');\n",
              "      img.id = name;\n",
              "      document.body.appendChild(img);\n",
              "    }\n",
              "    img.src = image;\n",
              "    img.width = width;\n",
              "    img.height = height;\n",
              "  }\n",
              "  "
            ]
          },
          "metadata": {}
        },
        {
          "output_type": "display_data",
          "data": {
            "text/plain": [
              "<IPython.core.display.Javascript object>"
            ],
            "application/javascript": [
              "\n",
              "  async function showImage(name, image, width, height) {\n",
              "    img = document.getElementById(name);\n",
              "    if(img == null) {\n",
              "      img = document.createElement('img');\n",
              "      img.id = name;\n",
              "      document.body.appendChild(img);\n",
              "    }\n",
              "    img.src = image;\n",
              "    img.width = width;\n",
              "    img.height = height;\n",
              "  }\n",
              "  "
            ]
          },
          "metadata": {}
        },
        {
          "output_type": "display_data",
          "data": {
            "text/plain": [
              "<IPython.core.display.Javascript object>"
            ],
            "application/javascript": [
              "\n",
              "  async function showImage(name, image, width, height) {\n",
              "    img = document.getElementById(name);\n",
              "    if(img == null) {\n",
              "      img = document.createElement('img');\n",
              "      img.id = name;\n",
              "      document.body.appendChild(img);\n",
              "    }\n",
              "    img.src = image;\n",
              "    img.width = width;\n",
              "    img.height = height;\n",
              "  }\n",
              "  "
            ]
          },
          "metadata": {}
        },
        {
          "output_type": "display_data",
          "data": {
            "text/plain": [
              "<IPython.core.display.Javascript object>"
            ],
            "application/javascript": [
              "\n",
              "  async function showImage(name, image, width, height) {\n",
              "    img = document.getElementById(name);\n",
              "    if(img == null) {\n",
              "      img = document.createElement('img');\n",
              "      img.id = name;\n",
              "      document.body.appendChild(img);\n",
              "    }\n",
              "    img.src = image;\n",
              "    img.width = width;\n",
              "    img.height = height;\n",
              "  }\n",
              "  "
            ]
          },
          "metadata": {}
        },
        {
          "output_type": "display_data",
          "data": {
            "text/plain": [
              "<IPython.core.display.Javascript object>"
            ],
            "application/javascript": [
              "\n",
              "  async function showImage(name, image, width, height) {\n",
              "    img = document.getElementById(name);\n",
              "    if(img == null) {\n",
              "      img = document.createElement('img');\n",
              "      img.id = name;\n",
              "      document.body.appendChild(img);\n",
              "    }\n",
              "    img.src = image;\n",
              "    img.width = width;\n",
              "    img.height = height;\n",
              "  }\n",
              "  "
            ]
          },
          "metadata": {}
        },
        {
          "output_type": "display_data",
          "data": {
            "text/plain": [
              "<IPython.core.display.Javascript object>"
            ],
            "application/javascript": [
              "\n",
              "  async function showImage(name, image, width, height) {\n",
              "    img = document.getElementById(name);\n",
              "    if(img == null) {\n",
              "      img = document.createElement('img');\n",
              "      img.id = name;\n",
              "      document.body.appendChild(img);\n",
              "    }\n",
              "    img.src = image;\n",
              "    img.width = width;\n",
              "    img.height = height;\n",
              "  }\n",
              "  "
            ]
          },
          "metadata": {}
        },
        {
          "output_type": "display_data",
          "data": {
            "text/plain": [
              "<IPython.core.display.Javascript object>"
            ],
            "application/javascript": [
              "\n",
              "  async function showImage(name, image, width, height) {\n",
              "    img = document.getElementById(name);\n",
              "    if(img == null) {\n",
              "      img = document.createElement('img');\n",
              "      img.id = name;\n",
              "      document.body.appendChild(img);\n",
              "    }\n",
              "    img.src = image;\n",
              "    img.width = width;\n",
              "    img.height = height;\n",
              "  }\n",
              "  "
            ]
          },
          "metadata": {}
        },
        {
          "output_type": "display_data",
          "data": {
            "text/plain": [
              "<IPython.core.display.Javascript object>"
            ],
            "application/javascript": [
              "\n",
              "  async function showImage(name, image, width, height) {\n",
              "    img = document.getElementById(name);\n",
              "    if(img == null) {\n",
              "      img = document.createElement('img');\n",
              "      img.id = name;\n",
              "      document.body.appendChild(img);\n",
              "    }\n",
              "    img.src = image;\n",
              "    img.width = width;\n",
              "    img.height = height;\n",
              "  }\n",
              "  "
            ]
          },
          "metadata": {}
        },
        {
          "output_type": "display_data",
          "data": {
            "text/plain": [
              "<IPython.core.display.Javascript object>"
            ],
            "application/javascript": [
              "\n",
              "  async function showImage(name, image, width, height) {\n",
              "    img = document.getElementById(name);\n",
              "    if(img == null) {\n",
              "      img = document.createElement('img');\n",
              "      img.id = name;\n",
              "      document.body.appendChild(img);\n",
              "    }\n",
              "    img.src = image;\n",
              "    img.width = width;\n",
              "    img.height = height;\n",
              "  }\n",
              "  "
            ]
          },
          "metadata": {}
        },
        {
          "output_type": "display_data",
          "data": {
            "text/plain": [
              "<IPython.core.display.Javascript object>"
            ],
            "application/javascript": [
              "\n",
              "  async function showImage(name, image, width, height) {\n",
              "    img = document.getElementById(name);\n",
              "    if(img == null) {\n",
              "      img = document.createElement('img');\n",
              "      img.id = name;\n",
              "      document.body.appendChild(img);\n",
              "    }\n",
              "    img.src = image;\n",
              "    img.width = width;\n",
              "    img.height = height;\n",
              "  }\n",
              "  "
            ]
          },
          "metadata": {}
        },
        {
          "output_type": "display_data",
          "data": {
            "text/plain": [
              "<IPython.core.display.Javascript object>"
            ],
            "application/javascript": [
              "\n",
              "  async function showImage(name, image, width, height) {\n",
              "    img = document.getElementById(name);\n",
              "    if(img == null) {\n",
              "      img = document.createElement('img');\n",
              "      img.id = name;\n",
              "      document.body.appendChild(img);\n",
              "    }\n",
              "    img.src = image;\n",
              "    img.width = width;\n",
              "    img.height = height;\n",
              "  }\n",
              "  "
            ]
          },
          "metadata": {}
        },
        {
          "output_type": "display_data",
          "data": {
            "text/plain": [
              "<IPython.core.display.Javascript object>"
            ],
            "application/javascript": [
              "\n",
              "  async function showImage(name, image, width, height) {\n",
              "    img = document.getElementById(name);\n",
              "    if(img == null) {\n",
              "      img = document.createElement('img');\n",
              "      img.id = name;\n",
              "      document.body.appendChild(img);\n",
              "    }\n",
              "    img.src = image;\n",
              "    img.width = width;\n",
              "    img.height = height;\n",
              "  }\n",
              "  "
            ]
          },
          "metadata": {}
        },
        {
          "output_type": "display_data",
          "data": {
            "text/plain": [
              "<IPython.core.display.Javascript object>"
            ],
            "application/javascript": [
              "\n",
              "  async function showImage(name, image, width, height) {\n",
              "    img = document.getElementById(name);\n",
              "    if(img == null) {\n",
              "      img = document.createElement('img');\n",
              "      img.id = name;\n",
              "      document.body.appendChild(img);\n",
              "    }\n",
              "    img.src = image;\n",
              "    img.width = width;\n",
              "    img.height = height;\n",
              "  }\n",
              "  "
            ]
          },
          "metadata": {}
        },
        {
          "output_type": "display_data",
          "data": {
            "text/plain": [
              "<IPython.core.display.Javascript object>"
            ],
            "application/javascript": [
              "\n",
              "  async function showImage(name, image, width, height) {\n",
              "    img = document.getElementById(name);\n",
              "    if(img == null) {\n",
              "      img = document.createElement('img');\n",
              "      img.id = name;\n",
              "      document.body.appendChild(img);\n",
              "    }\n",
              "    img.src = image;\n",
              "    img.width = width;\n",
              "    img.height = height;\n",
              "  }\n",
              "  "
            ]
          },
          "metadata": {}
        },
        {
          "output_type": "display_data",
          "data": {
            "text/plain": [
              "<IPython.core.display.Javascript object>"
            ],
            "application/javascript": [
              "\n",
              "  async function showImage(name, image, width, height) {\n",
              "    img = document.getElementById(name);\n",
              "    if(img == null) {\n",
              "      img = document.createElement('img');\n",
              "      img.id = name;\n",
              "      document.body.appendChild(img);\n",
              "    }\n",
              "    img.src = image;\n",
              "    img.width = width;\n",
              "    img.height = height;\n",
              "  }\n",
              "  "
            ]
          },
          "metadata": {}
        },
        {
          "output_type": "display_data",
          "data": {
            "text/plain": [
              "<IPython.core.display.Javascript object>"
            ],
            "application/javascript": [
              "\n",
              "  async function showImage(name, image, width, height) {\n",
              "    img = document.getElementById(name);\n",
              "    if(img == null) {\n",
              "      img = document.createElement('img');\n",
              "      img.id = name;\n",
              "      document.body.appendChild(img);\n",
              "    }\n",
              "    img.src = image;\n",
              "    img.width = width;\n",
              "    img.height = height;\n",
              "  }\n",
              "  "
            ]
          },
          "metadata": {}
        },
        {
          "output_type": "display_data",
          "data": {
            "text/plain": [
              "<IPython.core.display.Javascript object>"
            ],
            "application/javascript": [
              "\n",
              "  async function showImage(name, image, width, height) {\n",
              "    img = document.getElementById(name);\n",
              "    if(img == null) {\n",
              "      img = document.createElement('img');\n",
              "      img.id = name;\n",
              "      document.body.appendChild(img);\n",
              "    }\n",
              "    img.src = image;\n",
              "    img.width = width;\n",
              "    img.height = height;\n",
              "  }\n",
              "  "
            ]
          },
          "metadata": {}
        },
        {
          "output_type": "display_data",
          "data": {
            "text/plain": [
              "<IPython.core.display.Javascript object>"
            ],
            "application/javascript": [
              "\n",
              "  async function showImage(name, image, width, height) {\n",
              "    img = document.getElementById(name);\n",
              "    if(img == null) {\n",
              "      img = document.createElement('img');\n",
              "      img.id = name;\n",
              "      document.body.appendChild(img);\n",
              "    }\n",
              "    img.src = image;\n",
              "    img.width = width;\n",
              "    img.height = height;\n",
              "  }\n",
              "  "
            ]
          },
          "metadata": {}
        },
        {
          "output_type": "display_data",
          "data": {
            "text/plain": [
              "<IPython.core.display.Javascript object>"
            ],
            "application/javascript": [
              "\n",
              "  async function showImage(name, image, width, height) {\n",
              "    img = document.getElementById(name);\n",
              "    if(img == null) {\n",
              "      img = document.createElement('img');\n",
              "      img.id = name;\n",
              "      document.body.appendChild(img);\n",
              "    }\n",
              "    img.src = image;\n",
              "    img.width = width;\n",
              "    img.height = height;\n",
              "  }\n",
              "  "
            ]
          },
          "metadata": {}
        },
        {
          "output_type": "display_data",
          "data": {
            "text/plain": [
              "<IPython.core.display.Javascript object>"
            ],
            "application/javascript": [
              "\n",
              "  async function showImage(name, image, width, height) {\n",
              "    img = document.getElementById(name);\n",
              "    if(img == null) {\n",
              "      img = document.createElement('img');\n",
              "      img.id = name;\n",
              "      document.body.appendChild(img);\n",
              "    }\n",
              "    img.src = image;\n",
              "    img.width = width;\n",
              "    img.height = height;\n",
              "  }\n",
              "  "
            ]
          },
          "metadata": {}
        },
        {
          "output_type": "display_data",
          "data": {
            "text/plain": [
              "<IPython.core.display.Javascript object>"
            ],
            "application/javascript": [
              "\n",
              "  async function showImage(name, image, width, height) {\n",
              "    img = document.getElementById(name);\n",
              "    if(img == null) {\n",
              "      img = document.createElement('img');\n",
              "      img.id = name;\n",
              "      document.body.appendChild(img);\n",
              "    }\n",
              "    img.src = image;\n",
              "    img.width = width;\n",
              "    img.height = height;\n",
              "  }\n",
              "  "
            ]
          },
          "metadata": {}
        },
        {
          "output_type": "display_data",
          "data": {
            "text/plain": [
              "<IPython.core.display.Javascript object>"
            ],
            "application/javascript": [
              "\n",
              "  async function showImage(name, image, width, height) {\n",
              "    img = document.getElementById(name);\n",
              "    if(img == null) {\n",
              "      img = document.createElement('img');\n",
              "      img.id = name;\n",
              "      document.body.appendChild(img);\n",
              "    }\n",
              "    img.src = image;\n",
              "    img.width = width;\n",
              "    img.height = height;\n",
              "  }\n",
              "  "
            ]
          },
          "metadata": {}
        },
        {
          "output_type": "display_data",
          "data": {
            "text/plain": [
              "<IPython.core.display.Javascript object>"
            ],
            "application/javascript": [
              "\n",
              "  async function showImage(name, image, width, height) {\n",
              "    img = document.getElementById(name);\n",
              "    if(img == null) {\n",
              "      img = document.createElement('img');\n",
              "      img.id = name;\n",
              "      document.body.appendChild(img);\n",
              "    }\n",
              "    img.src = image;\n",
              "    img.width = width;\n",
              "    img.height = height;\n",
              "  }\n",
              "  "
            ]
          },
          "metadata": {}
        },
        {
          "output_type": "display_data",
          "data": {
            "text/plain": [
              "<IPython.core.display.Javascript object>"
            ],
            "application/javascript": [
              "\n",
              "  async function showImage(name, image, width, height) {\n",
              "    img = document.getElementById(name);\n",
              "    if(img == null) {\n",
              "      img = document.createElement('img');\n",
              "      img.id = name;\n",
              "      document.body.appendChild(img);\n",
              "    }\n",
              "    img.src = image;\n",
              "    img.width = width;\n",
              "    img.height = height;\n",
              "  }\n",
              "  "
            ]
          },
          "metadata": {}
        },
        {
          "output_type": "display_data",
          "data": {
            "text/plain": [
              "<IPython.core.display.Javascript object>"
            ],
            "application/javascript": [
              "\n",
              "  async function showImage(name, image, width, height) {\n",
              "    img = document.getElementById(name);\n",
              "    if(img == null) {\n",
              "      img = document.createElement('img');\n",
              "      img.id = name;\n",
              "      document.body.appendChild(img);\n",
              "    }\n",
              "    img.src = image;\n",
              "    img.width = width;\n",
              "    img.height = height;\n",
              "  }\n",
              "  "
            ]
          },
          "metadata": {}
        },
        {
          "output_type": "display_data",
          "data": {
            "text/plain": [
              "<IPython.core.display.Javascript object>"
            ],
            "application/javascript": [
              "\n",
              "  async function showImage(name, image, width, height) {\n",
              "    img = document.getElementById(name);\n",
              "    if(img == null) {\n",
              "      img = document.createElement('img');\n",
              "      img.id = name;\n",
              "      document.body.appendChild(img);\n",
              "    }\n",
              "    img.src = image;\n",
              "    img.width = width;\n",
              "    img.height = height;\n",
              "  }\n",
              "  "
            ]
          },
          "metadata": {}
        },
        {
          "output_type": "display_data",
          "data": {
            "text/plain": [
              "<IPython.core.display.Javascript object>"
            ],
            "application/javascript": [
              "\n",
              "  async function showImage(name, image, width, height) {\n",
              "    img = document.getElementById(name);\n",
              "    if(img == null) {\n",
              "      img = document.createElement('img');\n",
              "      img.id = name;\n",
              "      document.body.appendChild(img);\n",
              "    }\n",
              "    img.src = image;\n",
              "    img.width = width;\n",
              "    img.height = height;\n",
              "  }\n",
              "  "
            ]
          },
          "metadata": {}
        },
        {
          "output_type": "display_data",
          "data": {
            "text/plain": [
              "<IPython.core.display.Javascript object>"
            ],
            "application/javascript": [
              "\n",
              "  async function showImage(name, image, width, height) {\n",
              "    img = document.getElementById(name);\n",
              "    if(img == null) {\n",
              "      img = document.createElement('img');\n",
              "      img.id = name;\n",
              "      document.body.appendChild(img);\n",
              "    }\n",
              "    img.src = image;\n",
              "    img.width = width;\n",
              "    img.height = height;\n",
              "  }\n",
              "  "
            ]
          },
          "metadata": {}
        },
        {
          "output_type": "display_data",
          "data": {
            "text/plain": [
              "<IPython.core.display.Javascript object>"
            ],
            "application/javascript": [
              "\n",
              "  async function showImage(name, image, width, height) {\n",
              "    img = document.getElementById(name);\n",
              "    if(img == null) {\n",
              "      img = document.createElement('img');\n",
              "      img.id = name;\n",
              "      document.body.appendChild(img);\n",
              "    }\n",
              "    img.src = image;\n",
              "    img.width = width;\n",
              "    img.height = height;\n",
              "  }\n",
              "  "
            ]
          },
          "metadata": {}
        },
        {
          "output_type": "display_data",
          "data": {
            "text/plain": [
              "<IPython.core.display.Javascript object>"
            ],
            "application/javascript": [
              "\n",
              "  async function showImage(name, image, width, height) {\n",
              "    img = document.getElementById(name);\n",
              "    if(img == null) {\n",
              "      img = document.createElement('img');\n",
              "      img.id = name;\n",
              "      document.body.appendChild(img);\n",
              "    }\n",
              "    img.src = image;\n",
              "    img.width = width;\n",
              "    img.height = height;\n",
              "  }\n",
              "  "
            ]
          },
          "metadata": {}
        },
        {
          "output_type": "display_data",
          "data": {
            "text/plain": [
              "<IPython.core.display.Javascript object>"
            ],
            "application/javascript": [
              "\n",
              "  async function showImage(name, image, width, height) {\n",
              "    img = document.getElementById(name);\n",
              "    if(img == null) {\n",
              "      img = document.createElement('img');\n",
              "      img.id = name;\n",
              "      document.body.appendChild(img);\n",
              "    }\n",
              "    img.src = image;\n",
              "    img.width = width;\n",
              "    img.height = height;\n",
              "  }\n",
              "  "
            ]
          },
          "metadata": {}
        },
        {
          "output_type": "display_data",
          "data": {
            "text/plain": [
              "<IPython.core.display.Javascript object>"
            ],
            "application/javascript": [
              "\n",
              "  async function showImage(name, image, width, height) {\n",
              "    img = document.getElementById(name);\n",
              "    if(img == null) {\n",
              "      img = document.createElement('img');\n",
              "      img.id = name;\n",
              "      document.body.appendChild(img);\n",
              "    }\n",
              "    img.src = image;\n",
              "    img.width = width;\n",
              "    img.height = height;\n",
              "  }\n",
              "  "
            ]
          },
          "metadata": {}
        },
        {
          "output_type": "display_data",
          "data": {
            "text/plain": [
              "<IPython.core.display.Javascript object>"
            ],
            "application/javascript": [
              "\n",
              "  async function showImage(name, image, width, height) {\n",
              "    img = document.getElementById(name);\n",
              "    if(img == null) {\n",
              "      img = document.createElement('img');\n",
              "      img.id = name;\n",
              "      document.body.appendChild(img);\n",
              "    }\n",
              "    img.src = image;\n",
              "    img.width = width;\n",
              "    img.height = height;\n",
              "  }\n",
              "  "
            ]
          },
          "metadata": {}
        },
        {
          "output_type": "display_data",
          "data": {
            "text/plain": [
              "<IPython.core.display.Javascript object>"
            ],
            "application/javascript": [
              "\n",
              "  async function showImage(name, image, width, height) {\n",
              "    img = document.getElementById(name);\n",
              "    if(img == null) {\n",
              "      img = document.createElement('img');\n",
              "      img.id = name;\n",
              "      document.body.appendChild(img);\n",
              "    }\n",
              "    img.src = image;\n",
              "    img.width = width;\n",
              "    img.height = height;\n",
              "  }\n",
              "  "
            ]
          },
          "metadata": {}
        },
        {
          "output_type": "display_data",
          "data": {
            "text/plain": [
              "<IPython.core.display.Javascript object>"
            ],
            "application/javascript": [
              "\n",
              "  async function showImage(name, image, width, height) {\n",
              "    img = document.getElementById(name);\n",
              "    if(img == null) {\n",
              "      img = document.createElement('img');\n",
              "      img.id = name;\n",
              "      document.body.appendChild(img);\n",
              "    }\n",
              "    img.src = image;\n",
              "    img.width = width;\n",
              "    img.height = height;\n",
              "  }\n",
              "  "
            ]
          },
          "metadata": {}
        },
        {
          "output_type": "display_data",
          "data": {
            "text/plain": [
              "<IPython.core.display.Javascript object>"
            ],
            "application/javascript": [
              "\n",
              "  async function showImage(name, image, width, height) {\n",
              "    img = document.getElementById(name);\n",
              "    if(img == null) {\n",
              "      img = document.createElement('img');\n",
              "      img.id = name;\n",
              "      document.body.appendChild(img);\n",
              "    }\n",
              "    img.src = image;\n",
              "    img.width = width;\n",
              "    img.height = height;\n",
              "  }\n",
              "  "
            ]
          },
          "metadata": {}
        },
        {
          "output_type": "display_data",
          "data": {
            "text/plain": [
              "<IPython.core.display.Javascript object>"
            ],
            "application/javascript": [
              "\n",
              "  async function showImage(name, image, width, height) {\n",
              "    img = document.getElementById(name);\n",
              "    if(img == null) {\n",
              "      img = document.createElement('img');\n",
              "      img.id = name;\n",
              "      document.body.appendChild(img);\n",
              "    }\n",
              "    img.src = image;\n",
              "    img.width = width;\n",
              "    img.height = height;\n",
              "  }\n",
              "  "
            ]
          },
          "metadata": {}
        },
        {
          "output_type": "display_data",
          "data": {
            "text/plain": [
              "<IPython.core.display.Javascript object>"
            ],
            "application/javascript": [
              "\n",
              "  async function showImage(name, image, width, height) {\n",
              "    img = document.getElementById(name);\n",
              "    if(img == null) {\n",
              "      img = document.createElement('img');\n",
              "      img.id = name;\n",
              "      document.body.appendChild(img);\n",
              "    }\n",
              "    img.src = image;\n",
              "    img.width = width;\n",
              "    img.height = height;\n",
              "  }\n",
              "  "
            ]
          },
          "metadata": {}
        },
        {
          "output_type": "display_data",
          "data": {
            "text/plain": [
              "<IPython.core.display.Javascript object>"
            ],
            "application/javascript": [
              "\n",
              "  async function showImage(name, image, width, height) {\n",
              "    img = document.getElementById(name);\n",
              "    if(img == null) {\n",
              "      img = document.createElement('img');\n",
              "      img.id = name;\n",
              "      document.body.appendChild(img);\n",
              "    }\n",
              "    img.src = image;\n",
              "    img.width = width;\n",
              "    img.height = height;\n",
              "  }\n",
              "  "
            ]
          },
          "metadata": {}
        },
        {
          "output_type": "display_data",
          "data": {
            "text/plain": [
              "<IPython.core.display.Javascript object>"
            ],
            "application/javascript": [
              "\n",
              "  async function showImage(name, image, width, height) {\n",
              "    img = document.getElementById(name);\n",
              "    if(img == null) {\n",
              "      img = document.createElement('img');\n",
              "      img.id = name;\n",
              "      document.body.appendChild(img);\n",
              "    }\n",
              "    img.src = image;\n",
              "    img.width = width;\n",
              "    img.height = height;\n",
              "  }\n",
              "  "
            ]
          },
          "metadata": {}
        },
        {
          "output_type": "display_data",
          "data": {
            "text/plain": [
              "<IPython.core.display.Javascript object>"
            ],
            "application/javascript": [
              "\n",
              "  async function showImage(name, image, width, height) {\n",
              "    img = document.getElementById(name);\n",
              "    if(img == null) {\n",
              "      img = document.createElement('img');\n",
              "      img.id = name;\n",
              "      document.body.appendChild(img);\n",
              "    }\n",
              "    img.src = image;\n",
              "    img.width = width;\n",
              "    img.height = height;\n",
              "  }\n",
              "  "
            ]
          },
          "metadata": {}
        },
        {
          "output_type": "display_data",
          "data": {
            "text/plain": [
              "<IPython.core.display.Javascript object>"
            ],
            "application/javascript": [
              "\n",
              "  async function showImage(name, image, width, height) {\n",
              "    img = document.getElementById(name);\n",
              "    if(img == null) {\n",
              "      img = document.createElement('img');\n",
              "      img.id = name;\n",
              "      document.body.appendChild(img);\n",
              "    }\n",
              "    img.src = image;\n",
              "    img.width = width;\n",
              "    img.height = height;\n",
              "  }\n",
              "  "
            ]
          },
          "metadata": {}
        },
        {
          "output_type": "display_data",
          "data": {
            "text/plain": [
              "<IPython.core.display.Javascript object>"
            ],
            "application/javascript": [
              "\n",
              "  async function showImage(name, image, width, height) {\n",
              "    img = document.getElementById(name);\n",
              "    if(img == null) {\n",
              "      img = document.createElement('img');\n",
              "      img.id = name;\n",
              "      document.body.appendChild(img);\n",
              "    }\n",
              "    img.src = image;\n",
              "    img.width = width;\n",
              "    img.height = height;\n",
              "  }\n",
              "  "
            ]
          },
          "metadata": {}
        },
        {
          "output_type": "display_data",
          "data": {
            "text/plain": [
              "<IPython.core.display.Javascript object>"
            ],
            "application/javascript": [
              "\n",
              "  async function showImage(name, image, width, height) {\n",
              "    img = document.getElementById(name);\n",
              "    if(img == null) {\n",
              "      img = document.createElement('img');\n",
              "      img.id = name;\n",
              "      document.body.appendChild(img);\n",
              "    }\n",
              "    img.src = image;\n",
              "    img.width = width;\n",
              "    img.height = height;\n",
              "  }\n",
              "  "
            ]
          },
          "metadata": {}
        },
        {
          "output_type": "display_data",
          "data": {
            "text/plain": [
              "<IPython.core.display.Javascript object>"
            ],
            "application/javascript": [
              "\n",
              "  async function showImage(name, image, width, height) {\n",
              "    img = document.getElementById(name);\n",
              "    if(img == null) {\n",
              "      img = document.createElement('img');\n",
              "      img.id = name;\n",
              "      document.body.appendChild(img);\n",
              "    }\n",
              "    img.src = image;\n",
              "    img.width = width;\n",
              "    img.height = height;\n",
              "  }\n",
              "  "
            ]
          },
          "metadata": {}
        },
        {
          "output_type": "display_data",
          "data": {
            "text/plain": [
              "<IPython.core.display.Javascript object>"
            ],
            "application/javascript": [
              "\n",
              "  async function showImage(name, image, width, height) {\n",
              "    img = document.getElementById(name);\n",
              "    if(img == null) {\n",
              "      img = document.createElement('img');\n",
              "      img.id = name;\n",
              "      document.body.appendChild(img);\n",
              "    }\n",
              "    img.src = image;\n",
              "    img.width = width;\n",
              "    img.height = height;\n",
              "  }\n",
              "  "
            ]
          },
          "metadata": {}
        },
        {
          "output_type": "display_data",
          "data": {
            "text/plain": [
              "<IPython.core.display.Javascript object>"
            ],
            "application/javascript": [
              "\n",
              "  async function showImage(name, image, width, height) {\n",
              "    img = document.getElementById(name);\n",
              "    if(img == null) {\n",
              "      img = document.createElement('img');\n",
              "      img.id = name;\n",
              "      document.body.appendChild(img);\n",
              "    }\n",
              "    img.src = image;\n",
              "    img.width = width;\n",
              "    img.height = height;\n",
              "  }\n",
              "  "
            ]
          },
          "metadata": {}
        },
        {
          "output_type": "display_data",
          "data": {
            "text/plain": [
              "<IPython.core.display.Javascript object>"
            ],
            "application/javascript": [
              "\n",
              "  async function showImage(name, image, width, height) {\n",
              "    img = document.getElementById(name);\n",
              "    if(img == null) {\n",
              "      img = document.createElement('img');\n",
              "      img.id = name;\n",
              "      document.body.appendChild(img);\n",
              "    }\n",
              "    img.src = image;\n",
              "    img.width = width;\n",
              "    img.height = height;\n",
              "  }\n",
              "  "
            ]
          },
          "metadata": {}
        },
        {
          "output_type": "display_data",
          "data": {
            "text/plain": [
              "<IPython.core.display.Javascript object>"
            ],
            "application/javascript": [
              "\n",
              "  async function showImage(name, image, width, height) {\n",
              "    img = document.getElementById(name);\n",
              "    if(img == null) {\n",
              "      img = document.createElement('img');\n",
              "      img.id = name;\n",
              "      document.body.appendChild(img);\n",
              "    }\n",
              "    img.src = image;\n",
              "    img.width = width;\n",
              "    img.height = height;\n",
              "  }\n",
              "  "
            ]
          },
          "metadata": {}
        },
        {
          "output_type": "display_data",
          "data": {
            "text/plain": [
              "<IPython.core.display.Javascript object>"
            ],
            "application/javascript": [
              "\n",
              "  async function showImage(name, image, width, height) {\n",
              "    img = document.getElementById(name);\n",
              "    if(img == null) {\n",
              "      img = document.createElement('img');\n",
              "      img.id = name;\n",
              "      document.body.appendChild(img);\n",
              "    }\n",
              "    img.src = image;\n",
              "    img.width = width;\n",
              "    img.height = height;\n",
              "  }\n",
              "  "
            ]
          },
          "metadata": {}
        },
        {
          "output_type": "display_data",
          "data": {
            "text/plain": [
              "<IPython.core.display.Javascript object>"
            ],
            "application/javascript": [
              "\n",
              "  async function showImage(name, image, width, height) {\n",
              "    img = document.getElementById(name);\n",
              "    if(img == null) {\n",
              "      img = document.createElement('img');\n",
              "      img.id = name;\n",
              "      document.body.appendChild(img);\n",
              "    }\n",
              "    img.src = image;\n",
              "    img.width = width;\n",
              "    img.height = height;\n",
              "  }\n",
              "  "
            ]
          },
          "metadata": {}
        },
        {
          "output_type": "display_data",
          "data": {
            "text/plain": [
              "<IPython.core.display.Javascript object>"
            ],
            "application/javascript": [
              "\n",
              "  async function showImage(name, image, width, height) {\n",
              "    img = document.getElementById(name);\n",
              "    if(img == null) {\n",
              "      img = document.createElement('img');\n",
              "      img.id = name;\n",
              "      document.body.appendChild(img);\n",
              "    }\n",
              "    img.src = image;\n",
              "    img.width = width;\n",
              "    img.height = height;\n",
              "  }\n",
              "  "
            ]
          },
          "metadata": {}
        },
        {
          "output_type": "display_data",
          "data": {
            "text/plain": [
              "<IPython.core.display.Javascript object>"
            ],
            "application/javascript": [
              "\n",
              "  async function showImage(name, image, width, height) {\n",
              "    img = document.getElementById(name);\n",
              "    if(img == null) {\n",
              "      img = document.createElement('img');\n",
              "      img.id = name;\n",
              "      document.body.appendChild(img);\n",
              "    }\n",
              "    img.src = image;\n",
              "    img.width = width;\n",
              "    img.height = height;\n",
              "  }\n",
              "  "
            ]
          },
          "metadata": {}
        },
        {
          "output_type": "display_data",
          "data": {
            "text/plain": [
              "<IPython.core.display.Javascript object>"
            ],
            "application/javascript": [
              "\n",
              "  async function showImage(name, image, width, height) {\n",
              "    img = document.getElementById(name);\n",
              "    if(img == null) {\n",
              "      img = document.createElement('img');\n",
              "      img.id = name;\n",
              "      document.body.appendChild(img);\n",
              "    }\n",
              "    img.src = image;\n",
              "    img.width = width;\n",
              "    img.height = height;\n",
              "  }\n",
              "  "
            ]
          },
          "metadata": {}
        },
        {
          "output_type": "display_data",
          "data": {
            "text/plain": [
              "<IPython.core.display.Javascript object>"
            ],
            "application/javascript": [
              "\n",
              "  async function showImage(name, image, width, height) {\n",
              "    img = document.getElementById(name);\n",
              "    if(img == null) {\n",
              "      img = document.createElement('img');\n",
              "      img.id = name;\n",
              "      document.body.appendChild(img);\n",
              "    }\n",
              "    img.src = image;\n",
              "    img.width = width;\n",
              "    img.height = height;\n",
              "  }\n",
              "  "
            ]
          },
          "metadata": {}
        },
        {
          "output_type": "display_data",
          "data": {
            "text/plain": [
              "<IPython.core.display.Javascript object>"
            ],
            "application/javascript": [
              "\n",
              "  async function showImage(name, image, width, height) {\n",
              "    img = document.getElementById(name);\n",
              "    if(img == null) {\n",
              "      img = document.createElement('img');\n",
              "      img.id = name;\n",
              "      document.body.appendChild(img);\n",
              "    }\n",
              "    img.src = image;\n",
              "    img.width = width;\n",
              "    img.height = height;\n",
              "  }\n",
              "  "
            ]
          },
          "metadata": {}
        },
        {
          "output_type": "display_data",
          "data": {
            "text/plain": [
              "<IPython.core.display.Javascript object>"
            ],
            "application/javascript": [
              "\n",
              "  async function showImage(name, image, width, height) {\n",
              "    img = document.getElementById(name);\n",
              "    if(img == null) {\n",
              "      img = document.createElement('img');\n",
              "      img.id = name;\n",
              "      document.body.appendChild(img);\n",
              "    }\n",
              "    img.src = image;\n",
              "    img.width = width;\n",
              "    img.height = height;\n",
              "  }\n",
              "  "
            ]
          },
          "metadata": {}
        },
        {
          "output_type": "display_data",
          "data": {
            "text/plain": [
              "<IPython.core.display.Javascript object>"
            ],
            "application/javascript": [
              "\n",
              "  async function showImage(name, image, width, height) {\n",
              "    img = document.getElementById(name);\n",
              "    if(img == null) {\n",
              "      img = document.createElement('img');\n",
              "      img.id = name;\n",
              "      document.body.appendChild(img);\n",
              "    }\n",
              "    img.src = image;\n",
              "    img.width = width;\n",
              "    img.height = height;\n",
              "  }\n",
              "  "
            ]
          },
          "metadata": {}
        },
        {
          "output_type": "display_data",
          "data": {
            "text/plain": [
              "<IPython.core.display.Javascript object>"
            ],
            "application/javascript": [
              "\n",
              "  async function showImage(name, image, width, height) {\n",
              "    img = document.getElementById(name);\n",
              "    if(img == null) {\n",
              "      img = document.createElement('img');\n",
              "      img.id = name;\n",
              "      document.body.appendChild(img);\n",
              "    }\n",
              "    img.src = image;\n",
              "    img.width = width;\n",
              "    img.height = height;\n",
              "  }\n",
              "  "
            ]
          },
          "metadata": {}
        },
        {
          "output_type": "display_data",
          "data": {
            "text/plain": [
              "<IPython.core.display.Javascript object>"
            ],
            "application/javascript": [
              "\n",
              "  async function showImage(name, image, width, height) {\n",
              "    img = document.getElementById(name);\n",
              "    if(img == null) {\n",
              "      img = document.createElement('img');\n",
              "      img.id = name;\n",
              "      document.body.appendChild(img);\n",
              "    }\n",
              "    img.src = image;\n",
              "    img.width = width;\n",
              "    img.height = height;\n",
              "  }\n",
              "  "
            ]
          },
          "metadata": {}
        },
        {
          "output_type": "display_data",
          "data": {
            "text/plain": [
              "<IPython.core.display.Javascript object>"
            ],
            "application/javascript": [
              "\n",
              "  async function showImage(name, image, width, height) {\n",
              "    img = document.getElementById(name);\n",
              "    if(img == null) {\n",
              "      img = document.createElement('img');\n",
              "      img.id = name;\n",
              "      document.body.appendChild(img);\n",
              "    }\n",
              "    img.src = image;\n",
              "    img.width = width;\n",
              "    img.height = height;\n",
              "  }\n",
              "  "
            ]
          },
          "metadata": {}
        },
        {
          "output_type": "display_data",
          "data": {
            "text/plain": [
              "<IPython.core.display.Javascript object>"
            ],
            "application/javascript": [
              "\n",
              "  async function showImage(name, image, width, height) {\n",
              "    img = document.getElementById(name);\n",
              "    if(img == null) {\n",
              "      img = document.createElement('img');\n",
              "      img.id = name;\n",
              "      document.body.appendChild(img);\n",
              "    }\n",
              "    img.src = image;\n",
              "    img.width = width;\n",
              "    img.height = height;\n",
              "  }\n",
              "  "
            ]
          },
          "metadata": {}
        },
        {
          "output_type": "display_data",
          "data": {
            "text/plain": [
              "<IPython.core.display.Javascript object>"
            ],
            "application/javascript": [
              "\n",
              "  async function showImage(name, image, width, height) {\n",
              "    img = document.getElementById(name);\n",
              "    if(img == null) {\n",
              "      img = document.createElement('img');\n",
              "      img.id = name;\n",
              "      document.body.appendChild(img);\n",
              "    }\n",
              "    img.src = image;\n",
              "    img.width = width;\n",
              "    img.height = height;\n",
              "  }\n",
              "  "
            ]
          },
          "metadata": {}
        },
        {
          "output_type": "display_data",
          "data": {
            "text/plain": [
              "<IPython.core.display.Javascript object>"
            ],
            "application/javascript": [
              "\n",
              "  async function showImage(name, image, width, height) {\n",
              "    img = document.getElementById(name);\n",
              "    if(img == null) {\n",
              "      img = document.createElement('img');\n",
              "      img.id = name;\n",
              "      document.body.appendChild(img);\n",
              "    }\n",
              "    img.src = image;\n",
              "    img.width = width;\n",
              "    img.height = height;\n",
              "  }\n",
              "  "
            ]
          },
          "metadata": {}
        },
        {
          "output_type": "display_data",
          "data": {
            "text/plain": [
              "<IPython.core.display.Javascript object>"
            ],
            "application/javascript": [
              "\n",
              "  async function showImage(name, image, width, height) {\n",
              "    img = document.getElementById(name);\n",
              "    if(img == null) {\n",
              "      img = document.createElement('img');\n",
              "      img.id = name;\n",
              "      document.body.appendChild(img);\n",
              "    }\n",
              "    img.src = image;\n",
              "    img.width = width;\n",
              "    img.height = height;\n",
              "  }\n",
              "  "
            ]
          },
          "metadata": {}
        },
        {
          "output_type": "display_data",
          "data": {
            "text/plain": [
              "<IPython.core.display.Javascript object>"
            ],
            "application/javascript": [
              "\n",
              "  async function showImage(name, image, width, height) {\n",
              "    img = document.getElementById(name);\n",
              "    if(img == null) {\n",
              "      img = document.createElement('img');\n",
              "      img.id = name;\n",
              "      document.body.appendChild(img);\n",
              "    }\n",
              "    img.src = image;\n",
              "    img.width = width;\n",
              "    img.height = height;\n",
              "  }\n",
              "  "
            ]
          },
          "metadata": {}
        },
        {
          "output_type": "display_data",
          "data": {
            "text/plain": [
              "<IPython.core.display.Javascript object>"
            ],
            "application/javascript": [
              "\n",
              "  async function showImage(name, image, width, height) {\n",
              "    img = document.getElementById(name);\n",
              "    if(img == null) {\n",
              "      img = document.createElement('img');\n",
              "      img.id = name;\n",
              "      document.body.appendChild(img);\n",
              "    }\n",
              "    img.src = image;\n",
              "    img.width = width;\n",
              "    img.height = height;\n",
              "  }\n",
              "  "
            ]
          },
          "metadata": {}
        },
        {
          "output_type": "display_data",
          "data": {
            "text/plain": [
              "<IPython.core.display.Javascript object>"
            ],
            "application/javascript": [
              "\n",
              "  async function showImage(name, image, width, height) {\n",
              "    img = document.getElementById(name);\n",
              "    if(img == null) {\n",
              "      img = document.createElement('img');\n",
              "      img.id = name;\n",
              "      document.body.appendChild(img);\n",
              "    }\n",
              "    img.src = image;\n",
              "    img.width = width;\n",
              "    img.height = height;\n",
              "  }\n",
              "  "
            ]
          },
          "metadata": {}
        },
        {
          "output_type": "display_data",
          "data": {
            "text/plain": [
              "<IPython.core.display.Javascript object>"
            ],
            "application/javascript": [
              "\n",
              "  async function showImage(name, image, width, height) {\n",
              "    img = document.getElementById(name);\n",
              "    if(img == null) {\n",
              "      img = document.createElement('img');\n",
              "      img.id = name;\n",
              "      document.body.appendChild(img);\n",
              "    }\n",
              "    img.src = image;\n",
              "    img.width = width;\n",
              "    img.height = height;\n",
              "  }\n",
              "  "
            ]
          },
          "metadata": {}
        },
        {
          "output_type": "display_data",
          "data": {
            "text/plain": [
              "<IPython.core.display.Javascript object>"
            ],
            "application/javascript": [
              "\n",
              "  async function showImage(name, image, width, height) {\n",
              "    img = document.getElementById(name);\n",
              "    if(img == null) {\n",
              "      img = document.createElement('img');\n",
              "      img.id = name;\n",
              "      document.body.appendChild(img);\n",
              "    }\n",
              "    img.src = image;\n",
              "    img.width = width;\n",
              "    img.height = height;\n",
              "  }\n",
              "  "
            ]
          },
          "metadata": {}
        },
        {
          "output_type": "display_data",
          "data": {
            "text/plain": [
              "<IPython.core.display.Javascript object>"
            ],
            "application/javascript": [
              "\n",
              "  async function showImage(name, image, width, height) {\n",
              "    img = document.getElementById(name);\n",
              "    if(img == null) {\n",
              "      img = document.createElement('img');\n",
              "      img.id = name;\n",
              "      document.body.appendChild(img);\n",
              "    }\n",
              "    img.src = image;\n",
              "    img.width = width;\n",
              "    img.height = height;\n",
              "  }\n",
              "  "
            ]
          },
          "metadata": {}
        },
        {
          "output_type": "display_data",
          "data": {
            "text/plain": [
              "<IPython.core.display.Javascript object>"
            ],
            "application/javascript": [
              "\n",
              "  async function showImage(name, image, width, height) {\n",
              "    img = document.getElementById(name);\n",
              "    if(img == null) {\n",
              "      img = document.createElement('img');\n",
              "      img.id = name;\n",
              "      document.body.appendChild(img);\n",
              "    }\n",
              "    img.src = image;\n",
              "    img.width = width;\n",
              "    img.height = height;\n",
              "  }\n",
              "  "
            ]
          },
          "metadata": {}
        },
        {
          "output_type": "display_data",
          "data": {
            "text/plain": [
              "<IPython.core.display.Javascript object>"
            ],
            "application/javascript": [
              "\n",
              "  async function showImage(name, image, width, height) {\n",
              "    img = document.getElementById(name);\n",
              "    if(img == null) {\n",
              "      img = document.createElement('img');\n",
              "      img.id = name;\n",
              "      document.body.appendChild(img);\n",
              "    }\n",
              "    img.src = image;\n",
              "    img.width = width;\n",
              "    img.height = height;\n",
              "  }\n",
              "  "
            ]
          },
          "metadata": {}
        },
        {
          "output_type": "display_data",
          "data": {
            "text/plain": [
              "<IPython.core.display.Javascript object>"
            ],
            "application/javascript": [
              "\n",
              "  async function showImage(name, image, width, height) {\n",
              "    img = document.getElementById(name);\n",
              "    if(img == null) {\n",
              "      img = document.createElement('img');\n",
              "      img.id = name;\n",
              "      document.body.appendChild(img);\n",
              "    }\n",
              "    img.src = image;\n",
              "    img.width = width;\n",
              "    img.height = height;\n",
              "  }\n",
              "  "
            ]
          },
          "metadata": {}
        },
        {
          "output_type": "display_data",
          "data": {
            "text/plain": [
              "<IPython.core.display.Javascript object>"
            ],
            "application/javascript": [
              "\n",
              "  async function showImage(name, image, width, height) {\n",
              "    img = document.getElementById(name);\n",
              "    if(img == null) {\n",
              "      img = document.createElement('img');\n",
              "      img.id = name;\n",
              "      document.body.appendChild(img);\n",
              "    }\n",
              "    img.src = image;\n",
              "    img.width = width;\n",
              "    img.height = height;\n",
              "  }\n",
              "  "
            ]
          },
          "metadata": {}
        },
        {
          "output_type": "display_data",
          "data": {
            "text/plain": [
              "<IPython.core.display.Javascript object>"
            ],
            "application/javascript": [
              "\n",
              "  async function showImage(name, image, width, height) {\n",
              "    img = document.getElementById(name);\n",
              "    if(img == null) {\n",
              "      img = document.createElement('img');\n",
              "      img.id = name;\n",
              "      document.body.appendChild(img);\n",
              "    }\n",
              "    img.src = image;\n",
              "    img.width = width;\n",
              "    img.height = height;\n",
              "  }\n",
              "  "
            ]
          },
          "metadata": {}
        },
        {
          "output_type": "display_data",
          "data": {
            "text/plain": [
              "<IPython.core.display.Javascript object>"
            ],
            "application/javascript": [
              "\n",
              "  async function showImage(name, image, width, height) {\n",
              "    img = document.getElementById(name);\n",
              "    if(img == null) {\n",
              "      img = document.createElement('img');\n",
              "      img.id = name;\n",
              "      document.body.appendChild(img);\n",
              "    }\n",
              "    img.src = image;\n",
              "    img.width = width;\n",
              "    img.height = height;\n",
              "  }\n",
              "  "
            ]
          },
          "metadata": {}
        },
        {
          "output_type": "display_data",
          "data": {
            "text/plain": [
              "<IPython.core.display.Javascript object>"
            ],
            "application/javascript": [
              "\n",
              "  async function showImage(name, image, width, height) {\n",
              "    img = document.getElementById(name);\n",
              "    if(img == null) {\n",
              "      img = document.createElement('img');\n",
              "      img.id = name;\n",
              "      document.body.appendChild(img);\n",
              "    }\n",
              "    img.src = image;\n",
              "    img.width = width;\n",
              "    img.height = height;\n",
              "  }\n",
              "  "
            ]
          },
          "metadata": {}
        },
        {
          "output_type": "display_data",
          "data": {
            "text/plain": [
              "<IPython.core.display.Javascript object>"
            ],
            "application/javascript": [
              "\n",
              "  async function showImage(name, image, width, height) {\n",
              "    img = document.getElementById(name);\n",
              "    if(img == null) {\n",
              "      img = document.createElement('img');\n",
              "      img.id = name;\n",
              "      document.body.appendChild(img);\n",
              "    }\n",
              "    img.src = image;\n",
              "    img.width = width;\n",
              "    img.height = height;\n",
              "  }\n",
              "  "
            ]
          },
          "metadata": {}
        },
        {
          "output_type": "display_data",
          "data": {
            "text/plain": [
              "<IPython.core.display.Javascript object>"
            ],
            "application/javascript": [
              "\n",
              "  async function showImage(name, image, width, height) {\n",
              "    img = document.getElementById(name);\n",
              "    if(img == null) {\n",
              "      img = document.createElement('img');\n",
              "      img.id = name;\n",
              "      document.body.appendChild(img);\n",
              "    }\n",
              "    img.src = image;\n",
              "    img.width = width;\n",
              "    img.height = height;\n",
              "  }\n",
              "  "
            ]
          },
          "metadata": {}
        },
        {
          "output_type": "display_data",
          "data": {
            "text/plain": [
              "<IPython.core.display.Javascript object>"
            ],
            "application/javascript": [
              "\n",
              "  async function showImage(name, image, width, height) {\n",
              "    img = document.getElementById(name);\n",
              "    if(img == null) {\n",
              "      img = document.createElement('img');\n",
              "      img.id = name;\n",
              "      document.body.appendChild(img);\n",
              "    }\n",
              "    img.src = image;\n",
              "    img.width = width;\n",
              "    img.height = height;\n",
              "  }\n",
              "  "
            ]
          },
          "metadata": {}
        },
        {
          "output_type": "display_data",
          "data": {
            "text/plain": [
              "<IPython.core.display.Javascript object>"
            ],
            "application/javascript": [
              "\n",
              "  async function showImage(name, image, width, height) {\n",
              "    img = document.getElementById(name);\n",
              "    if(img == null) {\n",
              "      img = document.createElement('img');\n",
              "      img.id = name;\n",
              "      document.body.appendChild(img);\n",
              "    }\n",
              "    img.src = image;\n",
              "    img.width = width;\n",
              "    img.height = height;\n",
              "  }\n",
              "  "
            ]
          },
          "metadata": {}
        },
        {
          "output_type": "display_data",
          "data": {
            "text/plain": [
              "<IPython.core.display.Javascript object>"
            ],
            "application/javascript": [
              "\n",
              "  async function showImage(name, image, width, height) {\n",
              "    img = document.getElementById(name);\n",
              "    if(img == null) {\n",
              "      img = document.createElement('img');\n",
              "      img.id = name;\n",
              "      document.body.appendChild(img);\n",
              "    }\n",
              "    img.src = image;\n",
              "    img.width = width;\n",
              "    img.height = height;\n",
              "  }\n",
              "  "
            ]
          },
          "metadata": {}
        },
        {
          "output_type": "display_data",
          "data": {
            "text/plain": [
              "<IPython.core.display.Javascript object>"
            ],
            "application/javascript": [
              "\n",
              "  async function showImage(name, image, width, height) {\n",
              "    img = document.getElementById(name);\n",
              "    if(img == null) {\n",
              "      img = document.createElement('img');\n",
              "      img.id = name;\n",
              "      document.body.appendChild(img);\n",
              "    }\n",
              "    img.src = image;\n",
              "    img.width = width;\n",
              "    img.height = height;\n",
              "  }\n",
              "  "
            ]
          },
          "metadata": {}
        },
        {
          "output_type": "display_data",
          "data": {
            "text/plain": [
              "<IPython.core.display.Javascript object>"
            ],
            "application/javascript": [
              "\n",
              "  async function showImage(name, image, width, height) {\n",
              "    img = document.getElementById(name);\n",
              "    if(img == null) {\n",
              "      img = document.createElement('img');\n",
              "      img.id = name;\n",
              "      document.body.appendChild(img);\n",
              "    }\n",
              "    img.src = image;\n",
              "    img.width = width;\n",
              "    img.height = height;\n",
              "  }\n",
              "  "
            ]
          },
          "metadata": {}
        },
        {
          "output_type": "display_data",
          "data": {
            "text/plain": [
              "<IPython.core.display.Javascript object>"
            ],
            "application/javascript": [
              "\n",
              "  async function showImage(name, image, width, height) {\n",
              "    img = document.getElementById(name);\n",
              "    if(img == null) {\n",
              "      img = document.createElement('img');\n",
              "      img.id = name;\n",
              "      document.body.appendChild(img);\n",
              "    }\n",
              "    img.src = image;\n",
              "    img.width = width;\n",
              "    img.height = height;\n",
              "  }\n",
              "  "
            ]
          },
          "metadata": {}
        },
        {
          "output_type": "display_data",
          "data": {
            "text/plain": [
              "<IPython.core.display.Javascript object>"
            ],
            "application/javascript": [
              "\n",
              "  async function showImage(name, image, width, height) {\n",
              "    img = document.getElementById(name);\n",
              "    if(img == null) {\n",
              "      img = document.createElement('img');\n",
              "      img.id = name;\n",
              "      document.body.appendChild(img);\n",
              "    }\n",
              "    img.src = image;\n",
              "    img.width = width;\n",
              "    img.height = height;\n",
              "  }\n",
              "  "
            ]
          },
          "metadata": {}
        },
        {
          "output_type": "display_data",
          "data": {
            "text/plain": [
              "<IPython.core.display.Javascript object>"
            ],
            "application/javascript": [
              "\n",
              "  async function showImage(name, image, width, height) {\n",
              "    img = document.getElementById(name);\n",
              "    if(img == null) {\n",
              "      img = document.createElement('img');\n",
              "      img.id = name;\n",
              "      document.body.appendChild(img);\n",
              "    }\n",
              "    img.src = image;\n",
              "    img.width = width;\n",
              "    img.height = height;\n",
              "  }\n",
              "  "
            ]
          },
          "metadata": {}
        },
        {
          "output_type": "display_data",
          "data": {
            "text/plain": [
              "<IPython.core.display.Javascript object>"
            ],
            "application/javascript": [
              "\n",
              "  async function showImage(name, image, width, height) {\n",
              "    img = document.getElementById(name);\n",
              "    if(img == null) {\n",
              "      img = document.createElement('img');\n",
              "      img.id = name;\n",
              "      document.body.appendChild(img);\n",
              "    }\n",
              "    img.src = image;\n",
              "    img.width = width;\n",
              "    img.height = height;\n",
              "  }\n",
              "  "
            ]
          },
          "metadata": {}
        },
        {
          "output_type": "display_data",
          "data": {
            "text/plain": [
              "<IPython.core.display.Javascript object>"
            ],
            "application/javascript": [
              "\n",
              "  async function showImage(name, image, width, height) {\n",
              "    img = document.getElementById(name);\n",
              "    if(img == null) {\n",
              "      img = document.createElement('img');\n",
              "      img.id = name;\n",
              "      document.body.appendChild(img);\n",
              "    }\n",
              "    img.src = image;\n",
              "    img.width = width;\n",
              "    img.height = height;\n",
              "  }\n",
              "  "
            ]
          },
          "metadata": {}
        },
        {
          "output_type": "display_data",
          "data": {
            "text/plain": [
              "<IPython.core.display.Javascript object>"
            ],
            "application/javascript": [
              "\n",
              "  async function showImage(name, image, width, height) {\n",
              "    img = document.getElementById(name);\n",
              "    if(img == null) {\n",
              "      img = document.createElement('img');\n",
              "      img.id = name;\n",
              "      document.body.appendChild(img);\n",
              "    }\n",
              "    img.src = image;\n",
              "    img.width = width;\n",
              "    img.height = height;\n",
              "  }\n",
              "  "
            ]
          },
          "metadata": {}
        },
        {
          "output_type": "display_data",
          "data": {
            "text/plain": [
              "<IPython.core.display.Javascript object>"
            ],
            "application/javascript": [
              "\n",
              "  async function showImage(name, image, width, height) {\n",
              "    img = document.getElementById(name);\n",
              "    if(img == null) {\n",
              "      img = document.createElement('img');\n",
              "      img.id = name;\n",
              "      document.body.appendChild(img);\n",
              "    }\n",
              "    img.src = image;\n",
              "    img.width = width;\n",
              "    img.height = height;\n",
              "  }\n",
              "  "
            ]
          },
          "metadata": {}
        },
        {
          "output_type": "display_data",
          "data": {
            "text/plain": [
              "<IPython.core.display.Javascript object>"
            ],
            "application/javascript": [
              "\n",
              "  async function showImage(name, image, width, height) {\n",
              "    img = document.getElementById(name);\n",
              "    if(img == null) {\n",
              "      img = document.createElement('img');\n",
              "      img.id = name;\n",
              "      document.body.appendChild(img);\n",
              "    }\n",
              "    img.src = image;\n",
              "    img.width = width;\n",
              "    img.height = height;\n",
              "  }\n",
              "  "
            ]
          },
          "metadata": {}
        },
        {
          "output_type": "display_data",
          "data": {
            "text/plain": [
              "<IPython.core.display.Javascript object>"
            ],
            "application/javascript": [
              "\n",
              "  async function showImage(name, image, width, height) {\n",
              "    img = document.getElementById(name);\n",
              "    if(img == null) {\n",
              "      img = document.createElement('img');\n",
              "      img.id = name;\n",
              "      document.body.appendChild(img);\n",
              "    }\n",
              "    img.src = image;\n",
              "    img.width = width;\n",
              "    img.height = height;\n",
              "  }\n",
              "  "
            ]
          },
          "metadata": {}
        },
        {
          "output_type": "display_data",
          "data": {
            "text/plain": [
              "<IPython.core.display.Javascript object>"
            ],
            "application/javascript": [
              "\n",
              "  async function showImage(name, image, width, height) {\n",
              "    img = document.getElementById(name);\n",
              "    if(img == null) {\n",
              "      img = document.createElement('img');\n",
              "      img.id = name;\n",
              "      document.body.appendChild(img);\n",
              "    }\n",
              "    img.src = image;\n",
              "    img.width = width;\n",
              "    img.height = height;\n",
              "  }\n",
              "  "
            ]
          },
          "metadata": {}
        },
        {
          "output_type": "display_data",
          "data": {
            "text/plain": [
              "<IPython.core.display.Javascript object>"
            ],
            "application/javascript": [
              "\n",
              "  async function showImage(name, image, width, height) {\n",
              "    img = document.getElementById(name);\n",
              "    if(img == null) {\n",
              "      img = document.createElement('img');\n",
              "      img.id = name;\n",
              "      document.body.appendChild(img);\n",
              "    }\n",
              "    img.src = image;\n",
              "    img.width = width;\n",
              "    img.height = height;\n",
              "  }\n",
              "  "
            ]
          },
          "metadata": {}
        },
        {
          "output_type": "display_data",
          "data": {
            "text/plain": [
              "<IPython.core.display.Javascript object>"
            ],
            "application/javascript": [
              "\n",
              "  async function showImage(name, image, width, height) {\n",
              "    img = document.getElementById(name);\n",
              "    if(img == null) {\n",
              "      img = document.createElement('img');\n",
              "      img.id = name;\n",
              "      document.body.appendChild(img);\n",
              "    }\n",
              "    img.src = image;\n",
              "    img.width = width;\n",
              "    img.height = height;\n",
              "  }\n",
              "  "
            ]
          },
          "metadata": {}
        },
        {
          "output_type": "display_data",
          "data": {
            "text/plain": [
              "<IPython.core.display.Javascript object>"
            ],
            "application/javascript": [
              "\n",
              "  async function showImage(name, image, width, height) {\n",
              "    img = document.getElementById(name);\n",
              "    if(img == null) {\n",
              "      img = document.createElement('img');\n",
              "      img.id = name;\n",
              "      document.body.appendChild(img);\n",
              "    }\n",
              "    img.src = image;\n",
              "    img.width = width;\n",
              "    img.height = height;\n",
              "  }\n",
              "  "
            ]
          },
          "metadata": {}
        },
        {
          "output_type": "display_data",
          "data": {
            "text/plain": [
              "<IPython.core.display.Javascript object>"
            ],
            "application/javascript": [
              "\n",
              "  async function showImage(name, image, width, height) {\n",
              "    img = document.getElementById(name);\n",
              "    if(img == null) {\n",
              "      img = document.createElement('img');\n",
              "      img.id = name;\n",
              "      document.body.appendChild(img);\n",
              "    }\n",
              "    img.src = image;\n",
              "    img.width = width;\n",
              "    img.height = height;\n",
              "  }\n",
              "  "
            ]
          },
          "metadata": {}
        },
        {
          "output_type": "display_data",
          "data": {
            "text/plain": [
              "<IPython.core.display.Javascript object>"
            ],
            "application/javascript": [
              "\n",
              "  async function showImage(name, image, width, height) {\n",
              "    img = document.getElementById(name);\n",
              "    if(img == null) {\n",
              "      img = document.createElement('img');\n",
              "      img.id = name;\n",
              "      document.body.appendChild(img);\n",
              "    }\n",
              "    img.src = image;\n",
              "    img.width = width;\n",
              "    img.height = height;\n",
              "  }\n",
              "  "
            ]
          },
          "metadata": {}
        },
        {
          "output_type": "display_data",
          "data": {
            "text/plain": [
              "<IPython.core.display.Javascript object>"
            ],
            "application/javascript": [
              "\n",
              "  async function showImage(name, image, width, height) {\n",
              "    img = document.getElementById(name);\n",
              "    if(img == null) {\n",
              "      img = document.createElement('img');\n",
              "      img.id = name;\n",
              "      document.body.appendChild(img);\n",
              "    }\n",
              "    img.src = image;\n",
              "    img.width = width;\n",
              "    img.height = height;\n",
              "  }\n",
              "  "
            ]
          },
          "metadata": {}
        },
        {
          "output_type": "display_data",
          "data": {
            "text/plain": [
              "<IPython.core.display.Javascript object>"
            ],
            "application/javascript": [
              "\n",
              "  async function showImage(name, image, width, height) {\n",
              "    img = document.getElementById(name);\n",
              "    if(img == null) {\n",
              "      img = document.createElement('img');\n",
              "      img.id = name;\n",
              "      document.body.appendChild(img);\n",
              "    }\n",
              "    img.src = image;\n",
              "    img.width = width;\n",
              "    img.height = height;\n",
              "  }\n",
              "  "
            ]
          },
          "metadata": {}
        },
        {
          "output_type": "display_data",
          "data": {
            "text/plain": [
              "<IPython.core.display.Javascript object>"
            ],
            "application/javascript": [
              "\n",
              "  async function showImage(name, image, width, height) {\n",
              "    img = document.getElementById(name);\n",
              "    if(img == null) {\n",
              "      img = document.createElement('img');\n",
              "      img.id = name;\n",
              "      document.body.appendChild(img);\n",
              "    }\n",
              "    img.src = image;\n",
              "    img.width = width;\n",
              "    img.height = height;\n",
              "  }\n",
              "  "
            ]
          },
          "metadata": {}
        },
        {
          "output_type": "display_data",
          "data": {
            "text/plain": [
              "<IPython.core.display.Javascript object>"
            ],
            "application/javascript": [
              "\n",
              "  async function showImage(name, image, width, height) {\n",
              "    img = document.getElementById(name);\n",
              "    if(img == null) {\n",
              "      img = document.createElement('img');\n",
              "      img.id = name;\n",
              "      document.body.appendChild(img);\n",
              "    }\n",
              "    img.src = image;\n",
              "    img.width = width;\n",
              "    img.height = height;\n",
              "  }\n",
              "  "
            ]
          },
          "metadata": {}
        },
        {
          "output_type": "display_data",
          "data": {
            "text/plain": [
              "<IPython.core.display.Javascript object>"
            ],
            "application/javascript": [
              "\n",
              "  async function showImage(name, image, width, height) {\n",
              "    img = document.getElementById(name);\n",
              "    if(img == null) {\n",
              "      img = document.createElement('img');\n",
              "      img.id = name;\n",
              "      document.body.appendChild(img);\n",
              "    }\n",
              "    img.src = image;\n",
              "    img.width = width;\n",
              "    img.height = height;\n",
              "  }\n",
              "  "
            ]
          },
          "metadata": {}
        },
        {
          "output_type": "display_data",
          "data": {
            "text/plain": [
              "<IPython.core.display.Javascript object>"
            ],
            "application/javascript": [
              "\n",
              "  async function showImage(name, image, width, height) {\n",
              "    img = document.getElementById(name);\n",
              "    if(img == null) {\n",
              "      img = document.createElement('img');\n",
              "      img.id = name;\n",
              "      document.body.appendChild(img);\n",
              "    }\n",
              "    img.src = image;\n",
              "    img.width = width;\n",
              "    img.height = height;\n",
              "  }\n",
              "  "
            ]
          },
          "metadata": {}
        },
        {
          "output_type": "display_data",
          "data": {
            "text/plain": [
              "<IPython.core.display.Javascript object>"
            ],
            "application/javascript": [
              "\n",
              "  async function showImage(name, image, width, height) {\n",
              "    img = document.getElementById(name);\n",
              "    if(img == null) {\n",
              "      img = document.createElement('img');\n",
              "      img.id = name;\n",
              "      document.body.appendChild(img);\n",
              "    }\n",
              "    img.src = image;\n",
              "    img.width = width;\n",
              "    img.height = height;\n",
              "  }\n",
              "  "
            ]
          },
          "metadata": {}
        },
        {
          "output_type": "display_data",
          "data": {
            "text/plain": [
              "<IPython.core.display.Javascript object>"
            ],
            "application/javascript": [
              "\n",
              "  async function showImage(name, image, width, height) {\n",
              "    img = document.getElementById(name);\n",
              "    if(img == null) {\n",
              "      img = document.createElement('img');\n",
              "      img.id = name;\n",
              "      document.body.appendChild(img);\n",
              "    }\n",
              "    img.src = image;\n",
              "    img.width = width;\n",
              "    img.height = height;\n",
              "  }\n",
              "  "
            ]
          },
          "metadata": {}
        },
        {
          "output_type": "display_data",
          "data": {
            "text/plain": [
              "<IPython.core.display.Javascript object>"
            ],
            "application/javascript": [
              "\n",
              "  async function showImage(name, image, width, height) {\n",
              "    img = document.getElementById(name);\n",
              "    if(img == null) {\n",
              "      img = document.createElement('img');\n",
              "      img.id = name;\n",
              "      document.body.appendChild(img);\n",
              "    }\n",
              "    img.src = image;\n",
              "    img.width = width;\n",
              "    img.height = height;\n",
              "  }\n",
              "  "
            ]
          },
          "metadata": {}
        },
        {
          "output_type": "display_data",
          "data": {
            "text/plain": [
              "<IPython.core.display.Javascript object>"
            ],
            "application/javascript": [
              "\n",
              "  async function showImage(name, image, width, height) {\n",
              "    img = document.getElementById(name);\n",
              "    if(img == null) {\n",
              "      img = document.createElement('img');\n",
              "      img.id = name;\n",
              "      document.body.appendChild(img);\n",
              "    }\n",
              "    img.src = image;\n",
              "    img.width = width;\n",
              "    img.height = height;\n",
              "  }\n",
              "  "
            ]
          },
          "metadata": {}
        },
        {
          "output_type": "display_data",
          "data": {
            "text/plain": [
              "<IPython.core.display.Javascript object>"
            ],
            "application/javascript": [
              "\n",
              "  async function showImage(name, image, width, height) {\n",
              "    img = document.getElementById(name);\n",
              "    if(img == null) {\n",
              "      img = document.createElement('img');\n",
              "      img.id = name;\n",
              "      document.body.appendChild(img);\n",
              "    }\n",
              "    img.src = image;\n",
              "    img.width = width;\n",
              "    img.height = height;\n",
              "  }\n",
              "  "
            ]
          },
          "metadata": {}
        },
        {
          "output_type": "display_data",
          "data": {
            "text/plain": [
              "<IPython.core.display.Javascript object>"
            ],
            "application/javascript": [
              "\n",
              "  async function showImage(name, image, width, height) {\n",
              "    img = document.getElementById(name);\n",
              "    if(img == null) {\n",
              "      img = document.createElement('img');\n",
              "      img.id = name;\n",
              "      document.body.appendChild(img);\n",
              "    }\n",
              "    img.src = image;\n",
              "    img.width = width;\n",
              "    img.height = height;\n",
              "  }\n",
              "  "
            ]
          },
          "metadata": {}
        },
        {
          "output_type": "display_data",
          "data": {
            "text/plain": [
              "<IPython.core.display.Javascript object>"
            ],
            "application/javascript": [
              "\n",
              "  async function showImage(name, image, width, height) {\n",
              "    img = document.getElementById(name);\n",
              "    if(img == null) {\n",
              "      img = document.createElement('img');\n",
              "      img.id = name;\n",
              "      document.body.appendChild(img);\n",
              "    }\n",
              "    img.src = image;\n",
              "    img.width = width;\n",
              "    img.height = height;\n",
              "  }\n",
              "  "
            ]
          },
          "metadata": {}
        },
        {
          "output_type": "display_data",
          "data": {
            "text/plain": [
              "<IPython.core.display.Javascript object>"
            ],
            "application/javascript": [
              "\n",
              "  async function showImage(name, image, width, height) {\n",
              "    img = document.getElementById(name);\n",
              "    if(img == null) {\n",
              "      img = document.createElement('img');\n",
              "      img.id = name;\n",
              "      document.body.appendChild(img);\n",
              "    }\n",
              "    img.src = image;\n",
              "    img.width = width;\n",
              "    img.height = height;\n",
              "  }\n",
              "  "
            ]
          },
          "metadata": {}
        },
        {
          "output_type": "display_data",
          "data": {
            "text/plain": [
              "<IPython.core.display.Javascript object>"
            ],
            "application/javascript": [
              "\n",
              "  async function showImage(name, image, width, height) {\n",
              "    img = document.getElementById(name);\n",
              "    if(img == null) {\n",
              "      img = document.createElement('img');\n",
              "      img.id = name;\n",
              "      document.body.appendChild(img);\n",
              "    }\n",
              "    img.src = image;\n",
              "    img.width = width;\n",
              "    img.height = height;\n",
              "  }\n",
              "  "
            ]
          },
          "metadata": {}
        },
        {
          "output_type": "display_data",
          "data": {
            "text/plain": [
              "<IPython.core.display.Javascript object>"
            ],
            "application/javascript": [
              "\n",
              "  async function showImage(name, image, width, height) {\n",
              "    img = document.getElementById(name);\n",
              "    if(img == null) {\n",
              "      img = document.createElement('img');\n",
              "      img.id = name;\n",
              "      document.body.appendChild(img);\n",
              "    }\n",
              "    img.src = image;\n",
              "    img.width = width;\n",
              "    img.height = height;\n",
              "  }\n",
              "  "
            ]
          },
          "metadata": {}
        },
        {
          "output_type": "display_data",
          "data": {
            "text/plain": [
              "<IPython.core.display.Javascript object>"
            ],
            "application/javascript": [
              "\n",
              "  async function showImage(name, image, width, height) {\n",
              "    img = document.getElementById(name);\n",
              "    if(img == null) {\n",
              "      img = document.createElement('img');\n",
              "      img.id = name;\n",
              "      document.body.appendChild(img);\n",
              "    }\n",
              "    img.src = image;\n",
              "    img.width = width;\n",
              "    img.height = height;\n",
              "  }\n",
              "  "
            ]
          },
          "metadata": {}
        },
        {
          "output_type": "display_data",
          "data": {
            "text/plain": [
              "<IPython.core.display.Javascript object>"
            ],
            "application/javascript": [
              "\n",
              "  async function showImage(name, image, width, height) {\n",
              "    img = document.getElementById(name);\n",
              "    if(img == null) {\n",
              "      img = document.createElement('img');\n",
              "      img.id = name;\n",
              "      document.body.appendChild(img);\n",
              "    }\n",
              "    img.src = image;\n",
              "    img.width = width;\n",
              "    img.height = height;\n",
              "  }\n",
              "  "
            ]
          },
          "metadata": {}
        },
        {
          "output_type": "display_data",
          "data": {
            "text/plain": [
              "<IPython.core.display.Javascript object>"
            ],
            "application/javascript": [
              "\n",
              "  async function showImage(name, image, width, height) {\n",
              "    img = document.getElementById(name);\n",
              "    if(img == null) {\n",
              "      img = document.createElement('img');\n",
              "      img.id = name;\n",
              "      document.body.appendChild(img);\n",
              "    }\n",
              "    img.src = image;\n",
              "    img.width = width;\n",
              "    img.height = height;\n",
              "  }\n",
              "  "
            ]
          },
          "metadata": {}
        },
        {
          "output_type": "display_data",
          "data": {
            "text/plain": [
              "<IPython.core.display.Javascript object>"
            ],
            "application/javascript": [
              "\n",
              "  async function showImage(name, image, width, height) {\n",
              "    img = document.getElementById(name);\n",
              "    if(img == null) {\n",
              "      img = document.createElement('img');\n",
              "      img.id = name;\n",
              "      document.body.appendChild(img);\n",
              "    }\n",
              "    img.src = image;\n",
              "    img.width = width;\n",
              "    img.height = height;\n",
              "  }\n",
              "  "
            ]
          },
          "metadata": {}
        },
        {
          "output_type": "display_data",
          "data": {
            "text/plain": [
              "<IPython.core.display.Javascript object>"
            ],
            "application/javascript": [
              "\n",
              "  async function showImage(name, image, width, height) {\n",
              "    img = document.getElementById(name);\n",
              "    if(img == null) {\n",
              "      img = document.createElement('img');\n",
              "      img.id = name;\n",
              "      document.body.appendChild(img);\n",
              "    }\n",
              "    img.src = image;\n",
              "    img.width = width;\n",
              "    img.height = height;\n",
              "  }\n",
              "  "
            ]
          },
          "metadata": {}
        },
        {
          "output_type": "display_data",
          "data": {
            "text/plain": [
              "<IPython.core.display.Javascript object>"
            ],
            "application/javascript": [
              "\n",
              "  async function showImage(name, image, width, height) {\n",
              "    img = document.getElementById(name);\n",
              "    if(img == null) {\n",
              "      img = document.createElement('img');\n",
              "      img.id = name;\n",
              "      document.body.appendChild(img);\n",
              "    }\n",
              "    img.src = image;\n",
              "    img.width = width;\n",
              "    img.height = height;\n",
              "  }\n",
              "  "
            ]
          },
          "metadata": {}
        },
        {
          "output_type": "display_data",
          "data": {
            "text/plain": [
              "<IPython.core.display.Javascript object>"
            ],
            "application/javascript": [
              "\n",
              "  async function showImage(name, image, width, height) {\n",
              "    img = document.getElementById(name);\n",
              "    if(img == null) {\n",
              "      img = document.createElement('img');\n",
              "      img.id = name;\n",
              "      document.body.appendChild(img);\n",
              "    }\n",
              "    img.src = image;\n",
              "    img.width = width;\n",
              "    img.height = height;\n",
              "  }\n",
              "  "
            ]
          },
          "metadata": {}
        },
        {
          "output_type": "display_data",
          "data": {
            "text/plain": [
              "<IPython.core.display.Javascript object>"
            ],
            "application/javascript": [
              "\n",
              "  async function showImage(name, image, width, height) {\n",
              "    img = document.getElementById(name);\n",
              "    if(img == null) {\n",
              "      img = document.createElement('img');\n",
              "      img.id = name;\n",
              "      document.body.appendChild(img);\n",
              "    }\n",
              "    img.src = image;\n",
              "    img.width = width;\n",
              "    img.height = height;\n",
              "  }\n",
              "  "
            ]
          },
          "metadata": {}
        },
        {
          "output_type": "display_data",
          "data": {
            "text/plain": [
              "<IPython.core.display.Javascript object>"
            ],
            "application/javascript": [
              "\n",
              "  async function showImage(name, image, width, height) {\n",
              "    img = document.getElementById(name);\n",
              "    if(img == null) {\n",
              "      img = document.createElement('img');\n",
              "      img.id = name;\n",
              "      document.body.appendChild(img);\n",
              "    }\n",
              "    img.src = image;\n",
              "    img.width = width;\n",
              "    img.height = height;\n",
              "  }\n",
              "  "
            ]
          },
          "metadata": {}
        },
        {
          "output_type": "display_data",
          "data": {
            "text/plain": [
              "<IPython.core.display.Javascript object>"
            ],
            "application/javascript": [
              "\n",
              "  async function showImage(name, image, width, height) {\n",
              "    img = document.getElementById(name);\n",
              "    if(img == null) {\n",
              "      img = document.createElement('img');\n",
              "      img.id = name;\n",
              "      document.body.appendChild(img);\n",
              "    }\n",
              "    img.src = image;\n",
              "    img.width = width;\n",
              "    img.height = height;\n",
              "  }\n",
              "  "
            ]
          },
          "metadata": {}
        },
        {
          "output_type": "display_data",
          "data": {
            "text/plain": [
              "<IPython.core.display.Javascript object>"
            ],
            "application/javascript": [
              "\n",
              "  async function showImage(name, image, width, height) {\n",
              "    img = document.getElementById(name);\n",
              "    if(img == null) {\n",
              "      img = document.createElement('img');\n",
              "      img.id = name;\n",
              "      document.body.appendChild(img);\n",
              "    }\n",
              "    img.src = image;\n",
              "    img.width = width;\n",
              "    img.height = height;\n",
              "  }\n",
              "  "
            ]
          },
          "metadata": {}
        },
        {
          "output_type": "display_data",
          "data": {
            "text/plain": [
              "<IPython.core.display.Javascript object>"
            ],
            "application/javascript": [
              "\n",
              "  async function showImage(name, image, width, height) {\n",
              "    img = document.getElementById(name);\n",
              "    if(img == null) {\n",
              "      img = document.createElement('img');\n",
              "      img.id = name;\n",
              "      document.body.appendChild(img);\n",
              "    }\n",
              "    img.src = image;\n",
              "    img.width = width;\n",
              "    img.height = height;\n",
              "  }\n",
              "  "
            ]
          },
          "metadata": {}
        },
        {
          "output_type": "display_data",
          "data": {
            "text/plain": [
              "<IPython.core.display.Javascript object>"
            ],
            "application/javascript": [
              "\n",
              "  async function showImage(name, image, width, height) {\n",
              "    img = document.getElementById(name);\n",
              "    if(img == null) {\n",
              "      img = document.createElement('img');\n",
              "      img.id = name;\n",
              "      document.body.appendChild(img);\n",
              "    }\n",
              "    img.src = image;\n",
              "    img.width = width;\n",
              "    img.height = height;\n",
              "  }\n",
              "  "
            ]
          },
          "metadata": {}
        },
        {
          "output_type": "display_data",
          "data": {
            "text/plain": [
              "<IPython.core.display.Javascript object>"
            ],
            "application/javascript": [
              "\n",
              "  async function showImage(name, image, width, height) {\n",
              "    img = document.getElementById(name);\n",
              "    if(img == null) {\n",
              "      img = document.createElement('img');\n",
              "      img.id = name;\n",
              "      document.body.appendChild(img);\n",
              "    }\n",
              "    img.src = image;\n",
              "    img.width = width;\n",
              "    img.height = height;\n",
              "  }\n",
              "  "
            ]
          },
          "metadata": {}
        },
        {
          "output_type": "display_data",
          "data": {
            "text/plain": [
              "<IPython.core.display.Javascript object>"
            ],
            "application/javascript": [
              "\n",
              "  async function showImage(name, image, width, height) {\n",
              "    img = document.getElementById(name);\n",
              "    if(img == null) {\n",
              "      img = document.createElement('img');\n",
              "      img.id = name;\n",
              "      document.body.appendChild(img);\n",
              "    }\n",
              "    img.src = image;\n",
              "    img.width = width;\n",
              "    img.height = height;\n",
              "  }\n",
              "  "
            ]
          },
          "metadata": {}
        },
        {
          "output_type": "display_data",
          "data": {
            "text/plain": [
              "<IPython.core.display.Javascript object>"
            ],
            "application/javascript": [
              "\n",
              "  async function showImage(name, image, width, height) {\n",
              "    img = document.getElementById(name);\n",
              "    if(img == null) {\n",
              "      img = document.createElement('img');\n",
              "      img.id = name;\n",
              "      document.body.appendChild(img);\n",
              "    }\n",
              "    img.src = image;\n",
              "    img.width = width;\n",
              "    img.height = height;\n",
              "  }\n",
              "  "
            ]
          },
          "metadata": {}
        },
        {
          "output_type": "display_data",
          "data": {
            "text/plain": [
              "<IPython.core.display.Javascript object>"
            ],
            "application/javascript": [
              "\n",
              "  async function showImage(name, image, width, height) {\n",
              "    img = document.getElementById(name);\n",
              "    if(img == null) {\n",
              "      img = document.createElement('img');\n",
              "      img.id = name;\n",
              "      document.body.appendChild(img);\n",
              "    }\n",
              "    img.src = image;\n",
              "    img.width = width;\n",
              "    img.height = height;\n",
              "  }\n",
              "  "
            ]
          },
          "metadata": {}
        },
        {
          "output_type": "display_data",
          "data": {
            "text/plain": [
              "<IPython.core.display.Javascript object>"
            ],
            "application/javascript": [
              "\n",
              "  async function showImage(name, image, width, height) {\n",
              "    img = document.getElementById(name);\n",
              "    if(img == null) {\n",
              "      img = document.createElement('img');\n",
              "      img.id = name;\n",
              "      document.body.appendChild(img);\n",
              "    }\n",
              "    img.src = image;\n",
              "    img.width = width;\n",
              "    img.height = height;\n",
              "  }\n",
              "  "
            ]
          },
          "metadata": {}
        },
        {
          "output_type": "display_data",
          "data": {
            "text/plain": [
              "<IPython.core.display.Javascript object>"
            ],
            "application/javascript": [
              "\n",
              "  async function showImage(name, image, width, height) {\n",
              "    img = document.getElementById(name);\n",
              "    if(img == null) {\n",
              "      img = document.createElement('img');\n",
              "      img.id = name;\n",
              "      document.body.appendChild(img);\n",
              "    }\n",
              "    img.src = image;\n",
              "    img.width = width;\n",
              "    img.height = height;\n",
              "  }\n",
              "  "
            ]
          },
          "metadata": {}
        },
        {
          "output_type": "display_data",
          "data": {
            "text/plain": [
              "<IPython.core.display.Javascript object>"
            ],
            "application/javascript": [
              "\n",
              "  async function showImage(name, image, width, height) {\n",
              "    img = document.getElementById(name);\n",
              "    if(img == null) {\n",
              "      img = document.createElement('img');\n",
              "      img.id = name;\n",
              "      document.body.appendChild(img);\n",
              "    }\n",
              "    img.src = image;\n",
              "    img.width = width;\n",
              "    img.height = height;\n",
              "  }\n",
              "  "
            ]
          },
          "metadata": {}
        },
        {
          "output_type": "display_data",
          "data": {
            "text/plain": [
              "<IPython.core.display.Javascript object>"
            ],
            "application/javascript": [
              "\n",
              "  async function showImage(name, image, width, height) {\n",
              "    img = document.getElementById(name);\n",
              "    if(img == null) {\n",
              "      img = document.createElement('img');\n",
              "      img.id = name;\n",
              "      document.body.appendChild(img);\n",
              "    }\n",
              "    img.src = image;\n",
              "    img.width = width;\n",
              "    img.height = height;\n",
              "  }\n",
              "  "
            ]
          },
          "metadata": {}
        },
        {
          "output_type": "display_data",
          "data": {
            "text/plain": [
              "<IPython.core.display.Javascript object>"
            ],
            "application/javascript": [
              "\n",
              "  async function showImage(name, image, width, height) {\n",
              "    img = document.getElementById(name);\n",
              "    if(img == null) {\n",
              "      img = document.createElement('img');\n",
              "      img.id = name;\n",
              "      document.body.appendChild(img);\n",
              "    }\n",
              "    img.src = image;\n",
              "    img.width = width;\n",
              "    img.height = height;\n",
              "  }\n",
              "  "
            ]
          },
          "metadata": {}
        },
        {
          "output_type": "display_data",
          "data": {
            "text/plain": [
              "<IPython.core.display.Javascript object>"
            ],
            "application/javascript": [
              "\n",
              "  async function showImage(name, image, width, height) {\n",
              "    img = document.getElementById(name);\n",
              "    if(img == null) {\n",
              "      img = document.createElement('img');\n",
              "      img.id = name;\n",
              "      document.body.appendChild(img);\n",
              "    }\n",
              "    img.src = image;\n",
              "    img.width = width;\n",
              "    img.height = height;\n",
              "  }\n",
              "  "
            ]
          },
          "metadata": {}
        },
        {
          "output_type": "display_data",
          "data": {
            "text/plain": [
              "<IPython.core.display.Javascript object>"
            ],
            "application/javascript": [
              "\n",
              "  async function showImage(name, image, width, height) {\n",
              "    img = document.getElementById(name);\n",
              "    if(img == null) {\n",
              "      img = document.createElement('img');\n",
              "      img.id = name;\n",
              "      document.body.appendChild(img);\n",
              "    }\n",
              "    img.src = image;\n",
              "    img.width = width;\n",
              "    img.height = height;\n",
              "  }\n",
              "  "
            ]
          },
          "metadata": {}
        },
        {
          "output_type": "display_data",
          "data": {
            "text/plain": [
              "<IPython.core.display.Javascript object>"
            ],
            "application/javascript": [
              "\n",
              "  async function showImage(name, image, width, height) {\n",
              "    img = document.getElementById(name);\n",
              "    if(img == null) {\n",
              "      img = document.createElement('img');\n",
              "      img.id = name;\n",
              "      document.body.appendChild(img);\n",
              "    }\n",
              "    img.src = image;\n",
              "    img.width = width;\n",
              "    img.height = height;\n",
              "  }\n",
              "  "
            ]
          },
          "metadata": {}
        },
        {
          "output_type": "display_data",
          "data": {
            "text/plain": [
              "<IPython.core.display.Javascript object>"
            ],
            "application/javascript": [
              "\n",
              "  async function showImage(name, image, width, height) {\n",
              "    img = document.getElementById(name);\n",
              "    if(img == null) {\n",
              "      img = document.createElement('img');\n",
              "      img.id = name;\n",
              "      document.body.appendChild(img);\n",
              "    }\n",
              "    img.src = image;\n",
              "    img.width = width;\n",
              "    img.height = height;\n",
              "  }\n",
              "  "
            ]
          },
          "metadata": {}
        },
        {
          "output_type": "display_data",
          "data": {
            "text/plain": [
              "<IPython.core.display.Javascript object>"
            ],
            "application/javascript": [
              "\n",
              "  async function showImage(name, image, width, height) {\n",
              "    img = document.getElementById(name);\n",
              "    if(img == null) {\n",
              "      img = document.createElement('img');\n",
              "      img.id = name;\n",
              "      document.body.appendChild(img);\n",
              "    }\n",
              "    img.src = image;\n",
              "    img.width = width;\n",
              "    img.height = height;\n",
              "  }\n",
              "  "
            ]
          },
          "metadata": {}
        },
        {
          "output_type": "display_data",
          "data": {
            "text/plain": [
              "<IPython.core.display.Javascript object>"
            ],
            "application/javascript": [
              "\n",
              "  async function showImage(name, image, width, height) {\n",
              "    img = document.getElementById(name);\n",
              "    if(img == null) {\n",
              "      img = document.createElement('img');\n",
              "      img.id = name;\n",
              "      document.body.appendChild(img);\n",
              "    }\n",
              "    img.src = image;\n",
              "    img.width = width;\n",
              "    img.height = height;\n",
              "  }\n",
              "  "
            ]
          },
          "metadata": {}
        },
        {
          "output_type": "display_data",
          "data": {
            "text/plain": [
              "<IPython.core.display.Javascript object>"
            ],
            "application/javascript": [
              "\n",
              "  async function showImage(name, image, width, height) {\n",
              "    img = document.getElementById(name);\n",
              "    if(img == null) {\n",
              "      img = document.createElement('img');\n",
              "      img.id = name;\n",
              "      document.body.appendChild(img);\n",
              "    }\n",
              "    img.src = image;\n",
              "    img.width = width;\n",
              "    img.height = height;\n",
              "  }\n",
              "  "
            ]
          },
          "metadata": {}
        },
        {
          "output_type": "display_data",
          "data": {
            "text/plain": [
              "<IPython.core.display.Javascript object>"
            ],
            "application/javascript": [
              "\n",
              "  async function showImage(name, image, width, height) {\n",
              "    img = document.getElementById(name);\n",
              "    if(img == null) {\n",
              "      img = document.createElement('img');\n",
              "      img.id = name;\n",
              "      document.body.appendChild(img);\n",
              "    }\n",
              "    img.src = image;\n",
              "    img.width = width;\n",
              "    img.height = height;\n",
              "  }\n",
              "  "
            ]
          },
          "metadata": {}
        },
        {
          "output_type": "display_data",
          "data": {
            "text/plain": [
              "<IPython.core.display.Javascript object>"
            ],
            "application/javascript": [
              "\n",
              "  async function showImage(name, image, width, height) {\n",
              "    img = document.getElementById(name);\n",
              "    if(img == null) {\n",
              "      img = document.createElement('img');\n",
              "      img.id = name;\n",
              "      document.body.appendChild(img);\n",
              "    }\n",
              "    img.src = image;\n",
              "    img.width = width;\n",
              "    img.height = height;\n",
              "  }\n",
              "  "
            ]
          },
          "metadata": {}
        },
        {
          "output_type": "display_data",
          "data": {
            "text/plain": [
              "<IPython.core.display.Javascript object>"
            ],
            "application/javascript": [
              "\n",
              "  async function showImage(name, image, width, height) {\n",
              "    img = document.getElementById(name);\n",
              "    if(img == null) {\n",
              "      img = document.createElement('img');\n",
              "      img.id = name;\n",
              "      document.body.appendChild(img);\n",
              "    }\n",
              "    img.src = image;\n",
              "    img.width = width;\n",
              "    img.height = height;\n",
              "  }\n",
              "  "
            ]
          },
          "metadata": {}
        },
        {
          "output_type": "display_data",
          "data": {
            "text/plain": [
              "<IPython.core.display.Javascript object>"
            ],
            "application/javascript": [
              "\n",
              "  async function showImage(name, image, width, height) {\n",
              "    img = document.getElementById(name);\n",
              "    if(img == null) {\n",
              "      img = document.createElement('img');\n",
              "      img.id = name;\n",
              "      document.body.appendChild(img);\n",
              "    }\n",
              "    img.src = image;\n",
              "    img.width = width;\n",
              "    img.height = height;\n",
              "  }\n",
              "  "
            ]
          },
          "metadata": {}
        },
        {
          "output_type": "display_data",
          "data": {
            "text/plain": [
              "<IPython.core.display.Javascript object>"
            ],
            "application/javascript": [
              "\n",
              "  async function showImage(name, image, width, height) {\n",
              "    img = document.getElementById(name);\n",
              "    if(img == null) {\n",
              "      img = document.createElement('img');\n",
              "      img.id = name;\n",
              "      document.body.appendChild(img);\n",
              "    }\n",
              "    img.src = image;\n",
              "    img.width = width;\n",
              "    img.height = height;\n",
              "  }\n",
              "  "
            ]
          },
          "metadata": {}
        },
        {
          "output_type": "display_data",
          "data": {
            "text/plain": [
              "<IPython.core.display.Javascript object>"
            ],
            "application/javascript": [
              "\n",
              "  async function showImage(name, image, width, height) {\n",
              "    img = document.getElementById(name);\n",
              "    if(img == null) {\n",
              "      img = document.createElement('img');\n",
              "      img.id = name;\n",
              "      document.body.appendChild(img);\n",
              "    }\n",
              "    img.src = image;\n",
              "    img.width = width;\n",
              "    img.height = height;\n",
              "  }\n",
              "  "
            ]
          },
          "metadata": {}
        },
        {
          "output_type": "display_data",
          "data": {
            "text/plain": [
              "<IPython.core.display.Javascript object>"
            ],
            "application/javascript": [
              "\n",
              "  async function showImage(name, image, width, height) {\n",
              "    img = document.getElementById(name);\n",
              "    if(img == null) {\n",
              "      img = document.createElement('img');\n",
              "      img.id = name;\n",
              "      document.body.appendChild(img);\n",
              "    }\n",
              "    img.src = image;\n",
              "    img.width = width;\n",
              "    img.height = height;\n",
              "  }\n",
              "  "
            ]
          },
          "metadata": {}
        },
        {
          "output_type": "display_data",
          "data": {
            "text/plain": [
              "<IPython.core.display.Javascript object>"
            ],
            "application/javascript": [
              "\n",
              "  async function showImage(name, image, width, height) {\n",
              "    img = document.getElementById(name);\n",
              "    if(img == null) {\n",
              "      img = document.createElement('img');\n",
              "      img.id = name;\n",
              "      document.body.appendChild(img);\n",
              "    }\n",
              "    img.src = image;\n",
              "    img.width = width;\n",
              "    img.height = height;\n",
              "  }\n",
              "  "
            ]
          },
          "metadata": {}
        },
        {
          "output_type": "display_data",
          "data": {
            "text/plain": [
              "<IPython.core.display.Javascript object>"
            ],
            "application/javascript": [
              "\n",
              "  async function showImage(name, image, width, height) {\n",
              "    img = document.getElementById(name);\n",
              "    if(img == null) {\n",
              "      img = document.createElement('img');\n",
              "      img.id = name;\n",
              "      document.body.appendChild(img);\n",
              "    }\n",
              "    img.src = image;\n",
              "    img.width = width;\n",
              "    img.height = height;\n",
              "  }\n",
              "  "
            ]
          },
          "metadata": {}
        },
        {
          "output_type": "display_data",
          "data": {
            "text/plain": [
              "<IPython.core.display.Javascript object>"
            ],
            "application/javascript": [
              "\n",
              "  async function showImage(name, image, width, height) {\n",
              "    img = document.getElementById(name);\n",
              "    if(img == null) {\n",
              "      img = document.createElement('img');\n",
              "      img.id = name;\n",
              "      document.body.appendChild(img);\n",
              "    }\n",
              "    img.src = image;\n",
              "    img.width = width;\n",
              "    img.height = height;\n",
              "  }\n",
              "  "
            ]
          },
          "metadata": {}
        },
        {
          "output_type": "display_data",
          "data": {
            "text/plain": [
              "<IPython.core.display.Javascript object>"
            ],
            "application/javascript": [
              "\n",
              "  async function showImage(name, image, width, height) {\n",
              "    img = document.getElementById(name);\n",
              "    if(img == null) {\n",
              "      img = document.createElement('img');\n",
              "      img.id = name;\n",
              "      document.body.appendChild(img);\n",
              "    }\n",
              "    img.src = image;\n",
              "    img.width = width;\n",
              "    img.height = height;\n",
              "  }\n",
              "  "
            ]
          },
          "metadata": {}
        },
        {
          "output_type": "display_data",
          "data": {
            "text/plain": [
              "<IPython.core.display.Javascript object>"
            ],
            "application/javascript": [
              "\n",
              "  async function showImage(name, image, width, height) {\n",
              "    img = document.getElementById(name);\n",
              "    if(img == null) {\n",
              "      img = document.createElement('img');\n",
              "      img.id = name;\n",
              "      document.body.appendChild(img);\n",
              "    }\n",
              "    img.src = image;\n",
              "    img.width = width;\n",
              "    img.height = height;\n",
              "  }\n",
              "  "
            ]
          },
          "metadata": {}
        },
        {
          "output_type": "display_data",
          "data": {
            "text/plain": [
              "<IPython.core.display.Javascript object>"
            ],
            "application/javascript": [
              "\n",
              "  async function showImage(name, image, width, height) {\n",
              "    img = document.getElementById(name);\n",
              "    if(img == null) {\n",
              "      img = document.createElement('img');\n",
              "      img.id = name;\n",
              "      document.body.appendChild(img);\n",
              "    }\n",
              "    img.src = image;\n",
              "    img.width = width;\n",
              "    img.height = height;\n",
              "  }\n",
              "  "
            ]
          },
          "metadata": {}
        },
        {
          "output_type": "display_data",
          "data": {
            "text/plain": [
              "<IPython.core.display.Javascript object>"
            ],
            "application/javascript": [
              "\n",
              "  async function showImage(name, image, width, height) {\n",
              "    img = document.getElementById(name);\n",
              "    if(img == null) {\n",
              "      img = document.createElement('img');\n",
              "      img.id = name;\n",
              "      document.body.appendChild(img);\n",
              "    }\n",
              "    img.src = image;\n",
              "    img.width = width;\n",
              "    img.height = height;\n",
              "  }\n",
              "  "
            ]
          },
          "metadata": {}
        },
        {
          "output_type": "display_data",
          "data": {
            "text/plain": [
              "<IPython.core.display.Javascript object>"
            ],
            "application/javascript": [
              "\n",
              "  async function showImage(name, image, width, height) {\n",
              "    img = document.getElementById(name);\n",
              "    if(img == null) {\n",
              "      img = document.createElement('img');\n",
              "      img.id = name;\n",
              "      document.body.appendChild(img);\n",
              "    }\n",
              "    img.src = image;\n",
              "    img.width = width;\n",
              "    img.height = height;\n",
              "  }\n",
              "  "
            ]
          },
          "metadata": {}
        },
        {
          "output_type": "display_data",
          "data": {
            "text/plain": [
              "<IPython.core.display.Javascript object>"
            ],
            "application/javascript": [
              "\n",
              "  async function showImage(name, image, width, height) {\n",
              "    img = document.getElementById(name);\n",
              "    if(img == null) {\n",
              "      img = document.createElement('img');\n",
              "      img.id = name;\n",
              "      document.body.appendChild(img);\n",
              "    }\n",
              "    img.src = image;\n",
              "    img.width = width;\n",
              "    img.height = height;\n",
              "  }\n",
              "  "
            ]
          },
          "metadata": {}
        },
        {
          "output_type": "display_data",
          "data": {
            "text/plain": [
              "<IPython.core.display.Javascript object>"
            ],
            "application/javascript": [
              "\n",
              "  async function showImage(name, image, width, height) {\n",
              "    img = document.getElementById(name);\n",
              "    if(img == null) {\n",
              "      img = document.createElement('img');\n",
              "      img.id = name;\n",
              "      document.body.appendChild(img);\n",
              "    }\n",
              "    img.src = image;\n",
              "    img.width = width;\n",
              "    img.height = height;\n",
              "  }\n",
              "  "
            ]
          },
          "metadata": {}
        },
        {
          "output_type": "display_data",
          "data": {
            "text/plain": [
              "<IPython.core.display.Javascript object>"
            ],
            "application/javascript": [
              "\n",
              "  async function showImage(name, image, width, height) {\n",
              "    img = document.getElementById(name);\n",
              "    if(img == null) {\n",
              "      img = document.createElement('img');\n",
              "      img.id = name;\n",
              "      document.body.appendChild(img);\n",
              "    }\n",
              "    img.src = image;\n",
              "    img.width = width;\n",
              "    img.height = height;\n",
              "  }\n",
              "  "
            ]
          },
          "metadata": {}
        },
        {
          "output_type": "display_data",
          "data": {
            "text/plain": [
              "<IPython.core.display.Javascript object>"
            ],
            "application/javascript": [
              "\n",
              "  async function showImage(name, image, width, height) {\n",
              "    img = document.getElementById(name);\n",
              "    if(img == null) {\n",
              "      img = document.createElement('img');\n",
              "      img.id = name;\n",
              "      document.body.appendChild(img);\n",
              "    }\n",
              "    img.src = image;\n",
              "    img.width = width;\n",
              "    img.height = height;\n",
              "  }\n",
              "  "
            ]
          },
          "metadata": {}
        },
        {
          "output_type": "display_data",
          "data": {
            "text/plain": [
              "<IPython.core.display.Javascript object>"
            ],
            "application/javascript": [
              "\n",
              "  async function showImage(name, image, width, height) {\n",
              "    img = document.getElementById(name);\n",
              "    if(img == null) {\n",
              "      img = document.createElement('img');\n",
              "      img.id = name;\n",
              "      document.body.appendChild(img);\n",
              "    }\n",
              "    img.src = image;\n",
              "    img.width = width;\n",
              "    img.height = height;\n",
              "  }\n",
              "  "
            ]
          },
          "metadata": {}
        },
        {
          "output_type": "display_data",
          "data": {
            "text/plain": [
              "<IPython.core.display.Javascript object>"
            ],
            "application/javascript": [
              "\n",
              "  async function showImage(name, image, width, height) {\n",
              "    img = document.getElementById(name);\n",
              "    if(img == null) {\n",
              "      img = document.createElement('img');\n",
              "      img.id = name;\n",
              "      document.body.appendChild(img);\n",
              "    }\n",
              "    img.src = image;\n",
              "    img.width = width;\n",
              "    img.height = height;\n",
              "  }\n",
              "  "
            ]
          },
          "metadata": {}
        },
        {
          "output_type": "display_data",
          "data": {
            "text/plain": [
              "<IPython.core.display.Javascript object>"
            ],
            "application/javascript": [
              "\n",
              "  async function showImage(name, image, width, height) {\n",
              "    img = document.getElementById(name);\n",
              "    if(img == null) {\n",
              "      img = document.createElement('img');\n",
              "      img.id = name;\n",
              "      document.body.appendChild(img);\n",
              "    }\n",
              "    img.src = image;\n",
              "    img.width = width;\n",
              "    img.height = height;\n",
              "  }\n",
              "  "
            ]
          },
          "metadata": {}
        },
        {
          "output_type": "display_data",
          "data": {
            "text/plain": [
              "<IPython.core.display.Javascript object>"
            ],
            "application/javascript": [
              "\n",
              "  async function showImage(name, image, width, height) {\n",
              "    img = document.getElementById(name);\n",
              "    if(img == null) {\n",
              "      img = document.createElement('img');\n",
              "      img.id = name;\n",
              "      document.body.appendChild(img);\n",
              "    }\n",
              "    img.src = image;\n",
              "    img.width = width;\n",
              "    img.height = height;\n",
              "  }\n",
              "  "
            ]
          },
          "metadata": {}
        },
        {
          "output_type": "display_data",
          "data": {
            "text/plain": [
              "<IPython.core.display.Javascript object>"
            ],
            "application/javascript": [
              "\n",
              "  async function showImage(name, image, width, height) {\n",
              "    img = document.getElementById(name);\n",
              "    if(img == null) {\n",
              "      img = document.createElement('img');\n",
              "      img.id = name;\n",
              "      document.body.appendChild(img);\n",
              "    }\n",
              "    img.src = image;\n",
              "    img.width = width;\n",
              "    img.height = height;\n",
              "  }\n",
              "  "
            ]
          },
          "metadata": {}
        },
        {
          "output_type": "display_data",
          "data": {
            "text/plain": [
              "<IPython.core.display.Javascript object>"
            ],
            "application/javascript": [
              "\n",
              "  async function showImage(name, image, width, height) {\n",
              "    img = document.getElementById(name);\n",
              "    if(img == null) {\n",
              "      img = document.createElement('img');\n",
              "      img.id = name;\n",
              "      document.body.appendChild(img);\n",
              "    }\n",
              "    img.src = image;\n",
              "    img.width = width;\n",
              "    img.height = height;\n",
              "  }\n",
              "  "
            ]
          },
          "metadata": {}
        },
        {
          "output_type": "display_data",
          "data": {
            "text/plain": [
              "<IPython.core.display.Javascript object>"
            ],
            "application/javascript": [
              "\n",
              "  async function showImage(name, image, width, height) {\n",
              "    img = document.getElementById(name);\n",
              "    if(img == null) {\n",
              "      img = document.createElement('img');\n",
              "      img.id = name;\n",
              "      document.body.appendChild(img);\n",
              "    }\n",
              "    img.src = image;\n",
              "    img.width = width;\n",
              "    img.height = height;\n",
              "  }\n",
              "  "
            ]
          },
          "metadata": {}
        },
        {
          "output_type": "display_data",
          "data": {
            "text/plain": [
              "<IPython.core.display.Javascript object>"
            ],
            "application/javascript": [
              "\n",
              "  async function showImage(name, image, width, height) {\n",
              "    img = document.getElementById(name);\n",
              "    if(img == null) {\n",
              "      img = document.createElement('img');\n",
              "      img.id = name;\n",
              "      document.body.appendChild(img);\n",
              "    }\n",
              "    img.src = image;\n",
              "    img.width = width;\n",
              "    img.height = height;\n",
              "  }\n",
              "  "
            ]
          },
          "metadata": {}
        },
        {
          "output_type": "display_data",
          "data": {
            "text/plain": [
              "<IPython.core.display.Javascript object>"
            ],
            "application/javascript": [
              "\n",
              "  async function showImage(name, image, width, height) {\n",
              "    img = document.getElementById(name);\n",
              "    if(img == null) {\n",
              "      img = document.createElement('img');\n",
              "      img.id = name;\n",
              "      document.body.appendChild(img);\n",
              "    }\n",
              "    img.src = image;\n",
              "    img.width = width;\n",
              "    img.height = height;\n",
              "  }\n",
              "  "
            ]
          },
          "metadata": {}
        },
        {
          "output_type": "display_data",
          "data": {
            "text/plain": [
              "<IPython.core.display.Javascript object>"
            ],
            "application/javascript": [
              "\n",
              "  async function showImage(name, image, width, height) {\n",
              "    img = document.getElementById(name);\n",
              "    if(img == null) {\n",
              "      img = document.createElement('img');\n",
              "      img.id = name;\n",
              "      document.body.appendChild(img);\n",
              "    }\n",
              "    img.src = image;\n",
              "    img.width = width;\n",
              "    img.height = height;\n",
              "  }\n",
              "  "
            ]
          },
          "metadata": {}
        },
        {
          "output_type": "display_data",
          "data": {
            "text/plain": [
              "<IPython.core.display.Javascript object>"
            ],
            "application/javascript": [
              "\n",
              "  async function showImage(name, image, width, height) {\n",
              "    img = document.getElementById(name);\n",
              "    if(img == null) {\n",
              "      img = document.createElement('img');\n",
              "      img.id = name;\n",
              "      document.body.appendChild(img);\n",
              "    }\n",
              "    img.src = image;\n",
              "    img.width = width;\n",
              "    img.height = height;\n",
              "  }\n",
              "  "
            ]
          },
          "metadata": {}
        },
        {
          "output_type": "display_data",
          "data": {
            "text/plain": [
              "<IPython.core.display.Javascript object>"
            ],
            "application/javascript": [
              "\n",
              "  async function showImage(name, image, width, height) {\n",
              "    img = document.getElementById(name);\n",
              "    if(img == null) {\n",
              "      img = document.createElement('img');\n",
              "      img.id = name;\n",
              "      document.body.appendChild(img);\n",
              "    }\n",
              "    img.src = image;\n",
              "    img.width = width;\n",
              "    img.height = height;\n",
              "  }\n",
              "  "
            ]
          },
          "metadata": {}
        },
        {
          "output_type": "display_data",
          "data": {
            "text/plain": [
              "<IPython.core.display.Javascript object>"
            ],
            "application/javascript": [
              "\n",
              "  async function showImage(name, image, width, height) {\n",
              "    img = document.getElementById(name);\n",
              "    if(img == null) {\n",
              "      img = document.createElement('img');\n",
              "      img.id = name;\n",
              "      document.body.appendChild(img);\n",
              "    }\n",
              "    img.src = image;\n",
              "    img.width = width;\n",
              "    img.height = height;\n",
              "  }\n",
              "  "
            ]
          },
          "metadata": {}
        },
        {
          "output_type": "display_data",
          "data": {
            "text/plain": [
              "<IPython.core.display.Javascript object>"
            ],
            "application/javascript": [
              "\n",
              "  async function showImage(name, image, width, height) {\n",
              "    img = document.getElementById(name);\n",
              "    if(img == null) {\n",
              "      img = document.createElement('img');\n",
              "      img.id = name;\n",
              "      document.body.appendChild(img);\n",
              "    }\n",
              "    img.src = image;\n",
              "    img.width = width;\n",
              "    img.height = height;\n",
              "  }\n",
              "  "
            ]
          },
          "metadata": {}
        },
        {
          "output_type": "display_data",
          "data": {
            "text/plain": [
              "<IPython.core.display.Javascript object>"
            ],
            "application/javascript": [
              "\n",
              "  async function showImage(name, image, width, height) {\n",
              "    img = document.getElementById(name);\n",
              "    if(img == null) {\n",
              "      img = document.createElement('img');\n",
              "      img.id = name;\n",
              "      document.body.appendChild(img);\n",
              "    }\n",
              "    img.src = image;\n",
              "    img.width = width;\n",
              "    img.height = height;\n",
              "  }\n",
              "  "
            ]
          },
          "metadata": {}
        },
        {
          "output_type": "display_data",
          "data": {
            "text/plain": [
              "<IPython.core.display.Javascript object>"
            ],
            "application/javascript": [
              "\n",
              "  async function showImage(name, image, width, height) {\n",
              "    img = document.getElementById(name);\n",
              "    if(img == null) {\n",
              "      img = document.createElement('img');\n",
              "      img.id = name;\n",
              "      document.body.appendChild(img);\n",
              "    }\n",
              "    img.src = image;\n",
              "    img.width = width;\n",
              "    img.height = height;\n",
              "  }\n",
              "  "
            ]
          },
          "metadata": {}
        },
        {
          "output_type": "display_data",
          "data": {
            "text/plain": [
              "<IPython.core.display.Javascript object>"
            ],
            "application/javascript": [
              "\n",
              "  async function showImage(name, image, width, height) {\n",
              "    img = document.getElementById(name);\n",
              "    if(img == null) {\n",
              "      img = document.createElement('img');\n",
              "      img.id = name;\n",
              "      document.body.appendChild(img);\n",
              "    }\n",
              "    img.src = image;\n",
              "    img.width = width;\n",
              "    img.height = height;\n",
              "  }\n",
              "  "
            ]
          },
          "metadata": {}
        },
        {
          "output_type": "display_data",
          "data": {
            "text/plain": [
              "<IPython.core.display.Javascript object>"
            ],
            "application/javascript": [
              "\n",
              "  async function showImage(name, image, width, height) {\n",
              "    img = document.getElementById(name);\n",
              "    if(img == null) {\n",
              "      img = document.createElement('img');\n",
              "      img.id = name;\n",
              "      document.body.appendChild(img);\n",
              "    }\n",
              "    img.src = image;\n",
              "    img.width = width;\n",
              "    img.height = height;\n",
              "  }\n",
              "  "
            ]
          },
          "metadata": {}
        },
        {
          "output_type": "display_data",
          "data": {
            "text/plain": [
              "<IPython.core.display.Javascript object>"
            ],
            "application/javascript": [
              "\n",
              "  async function showImage(name, image, width, height) {\n",
              "    img = document.getElementById(name);\n",
              "    if(img == null) {\n",
              "      img = document.createElement('img');\n",
              "      img.id = name;\n",
              "      document.body.appendChild(img);\n",
              "    }\n",
              "    img.src = image;\n",
              "    img.width = width;\n",
              "    img.height = height;\n",
              "  }\n",
              "  "
            ]
          },
          "metadata": {}
        },
        {
          "output_type": "display_data",
          "data": {
            "text/plain": [
              "<IPython.core.display.Javascript object>"
            ],
            "application/javascript": [
              "\n",
              "  async function showImage(name, image, width, height) {\n",
              "    img = document.getElementById(name);\n",
              "    if(img == null) {\n",
              "      img = document.createElement('img');\n",
              "      img.id = name;\n",
              "      document.body.appendChild(img);\n",
              "    }\n",
              "    img.src = image;\n",
              "    img.width = width;\n",
              "    img.height = height;\n",
              "  }\n",
              "  "
            ]
          },
          "metadata": {}
        },
        {
          "output_type": "display_data",
          "data": {
            "text/plain": [
              "<IPython.core.display.Javascript object>"
            ],
            "application/javascript": [
              "\n",
              "  async function showImage(name, image, width, height) {\n",
              "    img = document.getElementById(name);\n",
              "    if(img == null) {\n",
              "      img = document.createElement('img');\n",
              "      img.id = name;\n",
              "      document.body.appendChild(img);\n",
              "    }\n",
              "    img.src = image;\n",
              "    img.width = width;\n",
              "    img.height = height;\n",
              "  }\n",
              "  "
            ]
          },
          "metadata": {}
        },
        {
          "output_type": "display_data",
          "data": {
            "text/plain": [
              "<IPython.core.display.Javascript object>"
            ],
            "application/javascript": [
              "\n",
              "  async function showImage(name, image, width, height) {\n",
              "    img = document.getElementById(name);\n",
              "    if(img == null) {\n",
              "      img = document.createElement('img');\n",
              "      img.id = name;\n",
              "      document.body.appendChild(img);\n",
              "    }\n",
              "    img.src = image;\n",
              "    img.width = width;\n",
              "    img.height = height;\n",
              "  }\n",
              "  "
            ]
          },
          "metadata": {}
        },
        {
          "output_type": "display_data",
          "data": {
            "text/plain": [
              "<IPython.core.display.Javascript object>"
            ],
            "application/javascript": [
              "\n",
              "  async function showImage(name, image, width, height) {\n",
              "    img = document.getElementById(name);\n",
              "    if(img == null) {\n",
              "      img = document.createElement('img');\n",
              "      img.id = name;\n",
              "      document.body.appendChild(img);\n",
              "    }\n",
              "    img.src = image;\n",
              "    img.width = width;\n",
              "    img.height = height;\n",
              "  }\n",
              "  "
            ]
          },
          "metadata": {}
        },
        {
          "output_type": "display_data",
          "data": {
            "text/plain": [
              "<IPython.core.display.Javascript object>"
            ],
            "application/javascript": [
              "\n",
              "  async function showImage(name, image, width, height) {\n",
              "    img = document.getElementById(name);\n",
              "    if(img == null) {\n",
              "      img = document.createElement('img');\n",
              "      img.id = name;\n",
              "      document.body.appendChild(img);\n",
              "    }\n",
              "    img.src = image;\n",
              "    img.width = width;\n",
              "    img.height = height;\n",
              "  }\n",
              "  "
            ]
          },
          "metadata": {}
        },
        {
          "output_type": "display_data",
          "data": {
            "text/plain": [
              "<IPython.core.display.Javascript object>"
            ],
            "application/javascript": [
              "\n",
              "  async function showImage(name, image, width, height) {\n",
              "    img = document.getElementById(name);\n",
              "    if(img == null) {\n",
              "      img = document.createElement('img');\n",
              "      img.id = name;\n",
              "      document.body.appendChild(img);\n",
              "    }\n",
              "    img.src = image;\n",
              "    img.width = width;\n",
              "    img.height = height;\n",
              "  }\n",
              "  "
            ]
          },
          "metadata": {}
        },
        {
          "output_type": "display_data",
          "data": {
            "text/plain": [
              "<IPython.core.display.Javascript object>"
            ],
            "application/javascript": [
              "\n",
              "  async function showImage(name, image, width, height) {\n",
              "    img = document.getElementById(name);\n",
              "    if(img == null) {\n",
              "      img = document.createElement('img');\n",
              "      img.id = name;\n",
              "      document.body.appendChild(img);\n",
              "    }\n",
              "    img.src = image;\n",
              "    img.width = width;\n",
              "    img.height = height;\n",
              "  }\n",
              "  "
            ]
          },
          "metadata": {}
        },
        {
          "output_type": "display_data",
          "data": {
            "text/plain": [
              "<IPython.core.display.Javascript object>"
            ],
            "application/javascript": [
              "\n",
              "  async function showImage(name, image, width, height) {\n",
              "    img = document.getElementById(name);\n",
              "    if(img == null) {\n",
              "      img = document.createElement('img');\n",
              "      img.id = name;\n",
              "      document.body.appendChild(img);\n",
              "    }\n",
              "    img.src = image;\n",
              "    img.width = width;\n",
              "    img.height = height;\n",
              "  }\n",
              "  "
            ]
          },
          "metadata": {}
        },
        {
          "output_type": "display_data",
          "data": {
            "text/plain": [
              "<IPython.core.display.Javascript object>"
            ],
            "application/javascript": [
              "\n",
              "  async function showImage(name, image, width, height) {\n",
              "    img = document.getElementById(name);\n",
              "    if(img == null) {\n",
              "      img = document.createElement('img');\n",
              "      img.id = name;\n",
              "      document.body.appendChild(img);\n",
              "    }\n",
              "    img.src = image;\n",
              "    img.width = width;\n",
              "    img.height = height;\n",
              "  }\n",
              "  "
            ]
          },
          "metadata": {}
        },
        {
          "output_type": "display_data",
          "data": {
            "text/plain": [
              "<IPython.core.display.Javascript object>"
            ],
            "application/javascript": [
              "\n",
              "  async function showImage(name, image, width, height) {\n",
              "    img = document.getElementById(name);\n",
              "    if(img == null) {\n",
              "      img = document.createElement('img');\n",
              "      img.id = name;\n",
              "      document.body.appendChild(img);\n",
              "    }\n",
              "    img.src = image;\n",
              "    img.width = width;\n",
              "    img.height = height;\n",
              "  }\n",
              "  "
            ]
          },
          "metadata": {}
        },
        {
          "output_type": "display_data",
          "data": {
            "text/plain": [
              "<IPython.core.display.Javascript object>"
            ],
            "application/javascript": [
              "\n",
              "  async function showImage(name, image, width, height) {\n",
              "    img = document.getElementById(name);\n",
              "    if(img == null) {\n",
              "      img = document.createElement('img');\n",
              "      img.id = name;\n",
              "      document.body.appendChild(img);\n",
              "    }\n",
              "    img.src = image;\n",
              "    img.width = width;\n",
              "    img.height = height;\n",
              "  }\n",
              "  "
            ]
          },
          "metadata": {}
        },
        {
          "output_type": "display_data",
          "data": {
            "text/plain": [
              "<IPython.core.display.Javascript object>"
            ],
            "application/javascript": [
              "\n",
              "  async function showImage(name, image, width, height) {\n",
              "    img = document.getElementById(name);\n",
              "    if(img == null) {\n",
              "      img = document.createElement('img');\n",
              "      img.id = name;\n",
              "      document.body.appendChild(img);\n",
              "    }\n",
              "    img.src = image;\n",
              "    img.width = width;\n",
              "    img.height = height;\n",
              "  }\n",
              "  "
            ]
          },
          "metadata": {}
        },
        {
          "output_type": "display_data",
          "data": {
            "text/plain": [
              "<IPython.core.display.Javascript object>"
            ],
            "application/javascript": [
              "\n",
              "  async function showImage(name, image, width, height) {\n",
              "    img = document.getElementById(name);\n",
              "    if(img == null) {\n",
              "      img = document.createElement('img');\n",
              "      img.id = name;\n",
              "      document.body.appendChild(img);\n",
              "    }\n",
              "    img.src = image;\n",
              "    img.width = width;\n",
              "    img.height = height;\n",
              "  }\n",
              "  "
            ]
          },
          "metadata": {}
        },
        {
          "output_type": "display_data",
          "data": {
            "text/plain": [
              "<IPython.core.display.Javascript object>"
            ],
            "application/javascript": [
              "\n",
              "  async function showImage(name, image, width, height) {\n",
              "    img = document.getElementById(name);\n",
              "    if(img == null) {\n",
              "      img = document.createElement('img');\n",
              "      img.id = name;\n",
              "      document.body.appendChild(img);\n",
              "    }\n",
              "    img.src = image;\n",
              "    img.width = width;\n",
              "    img.height = height;\n",
              "  }\n",
              "  "
            ]
          },
          "metadata": {}
        },
        {
          "output_type": "display_data",
          "data": {
            "text/plain": [
              "<IPython.core.display.Javascript object>"
            ],
            "application/javascript": [
              "\n",
              "  async function showImage(name, image, width, height) {\n",
              "    img = document.getElementById(name);\n",
              "    if(img == null) {\n",
              "      img = document.createElement('img');\n",
              "      img.id = name;\n",
              "      document.body.appendChild(img);\n",
              "    }\n",
              "    img.src = image;\n",
              "    img.width = width;\n",
              "    img.height = height;\n",
              "  }\n",
              "  "
            ]
          },
          "metadata": {}
        },
        {
          "output_type": "display_data",
          "data": {
            "text/plain": [
              "<IPython.core.display.Javascript object>"
            ],
            "application/javascript": [
              "\n",
              "  async function showImage(name, image, width, height) {\n",
              "    img = document.getElementById(name);\n",
              "    if(img == null) {\n",
              "      img = document.createElement('img');\n",
              "      img.id = name;\n",
              "      document.body.appendChild(img);\n",
              "    }\n",
              "    img.src = image;\n",
              "    img.width = width;\n",
              "    img.height = height;\n",
              "  }\n",
              "  "
            ]
          },
          "metadata": {}
        },
        {
          "output_type": "display_data",
          "data": {
            "text/plain": [
              "<IPython.core.display.Javascript object>"
            ],
            "application/javascript": [
              "\n",
              "  async function showImage(name, image, width, height) {\n",
              "    img = document.getElementById(name);\n",
              "    if(img == null) {\n",
              "      img = document.createElement('img');\n",
              "      img.id = name;\n",
              "      document.body.appendChild(img);\n",
              "    }\n",
              "    img.src = image;\n",
              "    img.width = width;\n",
              "    img.height = height;\n",
              "  }\n",
              "  "
            ]
          },
          "metadata": {}
        },
        {
          "output_type": "display_data",
          "data": {
            "text/plain": [
              "<IPython.core.display.Javascript object>"
            ],
            "application/javascript": [
              "\n",
              "  async function showImage(name, image, width, height) {\n",
              "    img = document.getElementById(name);\n",
              "    if(img == null) {\n",
              "      img = document.createElement('img');\n",
              "      img.id = name;\n",
              "      document.body.appendChild(img);\n",
              "    }\n",
              "    img.src = image;\n",
              "    img.width = width;\n",
              "    img.height = height;\n",
              "  }\n",
              "  "
            ]
          },
          "metadata": {}
        },
        {
          "output_type": "display_data",
          "data": {
            "text/plain": [
              "<IPython.core.display.Javascript object>"
            ],
            "application/javascript": [
              "\n",
              "  async function showImage(name, image, width, height) {\n",
              "    img = document.getElementById(name);\n",
              "    if(img == null) {\n",
              "      img = document.createElement('img');\n",
              "      img.id = name;\n",
              "      document.body.appendChild(img);\n",
              "    }\n",
              "    img.src = image;\n",
              "    img.width = width;\n",
              "    img.height = height;\n",
              "  }\n",
              "  "
            ]
          },
          "metadata": {}
        },
        {
          "output_type": "display_data",
          "data": {
            "text/plain": [
              "<IPython.core.display.Javascript object>"
            ],
            "application/javascript": [
              "\n",
              "  async function showImage(name, image, width, height) {\n",
              "    img = document.getElementById(name);\n",
              "    if(img == null) {\n",
              "      img = document.createElement('img');\n",
              "      img.id = name;\n",
              "      document.body.appendChild(img);\n",
              "    }\n",
              "    img.src = image;\n",
              "    img.width = width;\n",
              "    img.height = height;\n",
              "  }\n",
              "  "
            ]
          },
          "metadata": {}
        },
        {
          "output_type": "display_data",
          "data": {
            "text/plain": [
              "<IPython.core.display.Javascript object>"
            ],
            "application/javascript": [
              "\n",
              "  async function showImage(name, image, width, height) {\n",
              "    img = document.getElementById(name);\n",
              "    if(img == null) {\n",
              "      img = document.createElement('img');\n",
              "      img.id = name;\n",
              "      document.body.appendChild(img);\n",
              "    }\n",
              "    img.src = image;\n",
              "    img.width = width;\n",
              "    img.height = height;\n",
              "  }\n",
              "  "
            ]
          },
          "metadata": {}
        },
        {
          "output_type": "display_data",
          "data": {
            "text/plain": [
              "<IPython.core.display.Javascript object>"
            ],
            "application/javascript": [
              "\n",
              "  async function showImage(name, image, width, height) {\n",
              "    img = document.getElementById(name);\n",
              "    if(img == null) {\n",
              "      img = document.createElement('img');\n",
              "      img.id = name;\n",
              "      document.body.appendChild(img);\n",
              "    }\n",
              "    img.src = image;\n",
              "    img.width = width;\n",
              "    img.height = height;\n",
              "  }\n",
              "  "
            ]
          },
          "metadata": {}
        },
        {
          "output_type": "display_data",
          "data": {
            "text/plain": [
              "<IPython.core.display.Javascript object>"
            ],
            "application/javascript": [
              "\n",
              "  async function showImage(name, image, width, height) {\n",
              "    img = document.getElementById(name);\n",
              "    if(img == null) {\n",
              "      img = document.createElement('img');\n",
              "      img.id = name;\n",
              "      document.body.appendChild(img);\n",
              "    }\n",
              "    img.src = image;\n",
              "    img.width = width;\n",
              "    img.height = height;\n",
              "  }\n",
              "  "
            ]
          },
          "metadata": {}
        },
        {
          "output_type": "display_data",
          "data": {
            "text/plain": [
              "<IPython.core.display.Javascript object>"
            ],
            "application/javascript": [
              "\n",
              "  async function showImage(name, image, width, height) {\n",
              "    img = document.getElementById(name);\n",
              "    if(img == null) {\n",
              "      img = document.createElement('img');\n",
              "      img.id = name;\n",
              "      document.body.appendChild(img);\n",
              "    }\n",
              "    img.src = image;\n",
              "    img.width = width;\n",
              "    img.height = height;\n",
              "  }\n",
              "  "
            ]
          },
          "metadata": {}
        },
        {
          "output_type": "display_data",
          "data": {
            "text/plain": [
              "<IPython.core.display.Javascript object>"
            ],
            "application/javascript": [
              "\n",
              "  async function showImage(name, image, width, height) {\n",
              "    img = document.getElementById(name);\n",
              "    if(img == null) {\n",
              "      img = document.createElement('img');\n",
              "      img.id = name;\n",
              "      document.body.appendChild(img);\n",
              "    }\n",
              "    img.src = image;\n",
              "    img.width = width;\n",
              "    img.height = height;\n",
              "  }\n",
              "  "
            ]
          },
          "metadata": {}
        },
        {
          "output_type": "display_data",
          "data": {
            "text/plain": [
              "<IPython.core.display.Javascript object>"
            ],
            "application/javascript": [
              "\n",
              "  async function showImage(name, image, width, height) {\n",
              "    img = document.getElementById(name);\n",
              "    if(img == null) {\n",
              "      img = document.createElement('img');\n",
              "      img.id = name;\n",
              "      document.body.appendChild(img);\n",
              "    }\n",
              "    img.src = image;\n",
              "    img.width = width;\n",
              "    img.height = height;\n",
              "  }\n",
              "  "
            ]
          },
          "metadata": {}
        },
        {
          "output_type": "display_data",
          "data": {
            "text/plain": [
              "<IPython.core.display.Javascript object>"
            ],
            "application/javascript": [
              "\n",
              "  async function showImage(name, image, width, height) {\n",
              "    img = document.getElementById(name);\n",
              "    if(img == null) {\n",
              "      img = document.createElement('img');\n",
              "      img.id = name;\n",
              "      document.body.appendChild(img);\n",
              "    }\n",
              "    img.src = image;\n",
              "    img.width = width;\n",
              "    img.height = height;\n",
              "  }\n",
              "  "
            ]
          },
          "metadata": {}
        },
        {
          "output_type": "display_data",
          "data": {
            "text/plain": [
              "<IPython.core.display.Javascript object>"
            ],
            "application/javascript": [
              "\n",
              "  async function showImage(name, image, width, height) {\n",
              "    img = document.getElementById(name);\n",
              "    if(img == null) {\n",
              "      img = document.createElement('img');\n",
              "      img.id = name;\n",
              "      document.body.appendChild(img);\n",
              "    }\n",
              "    img.src = image;\n",
              "    img.width = width;\n",
              "    img.height = height;\n",
              "  }\n",
              "  "
            ]
          },
          "metadata": {}
        },
        {
          "output_type": "display_data",
          "data": {
            "text/plain": [
              "<IPython.core.display.Javascript object>"
            ],
            "application/javascript": [
              "\n",
              "  async function showImage(name, image, width, height) {\n",
              "    img = document.getElementById(name);\n",
              "    if(img == null) {\n",
              "      img = document.createElement('img');\n",
              "      img.id = name;\n",
              "      document.body.appendChild(img);\n",
              "    }\n",
              "    img.src = image;\n",
              "    img.width = width;\n",
              "    img.height = height;\n",
              "  }\n",
              "  "
            ]
          },
          "metadata": {}
        },
        {
          "output_type": "display_data",
          "data": {
            "text/plain": [
              "<IPython.core.display.Javascript object>"
            ],
            "application/javascript": [
              "\n",
              "  async function showImage(name, image, width, height) {\n",
              "    img = document.getElementById(name);\n",
              "    if(img == null) {\n",
              "      img = document.createElement('img');\n",
              "      img.id = name;\n",
              "      document.body.appendChild(img);\n",
              "    }\n",
              "    img.src = image;\n",
              "    img.width = width;\n",
              "    img.height = height;\n",
              "  }\n",
              "  "
            ]
          },
          "metadata": {}
        },
        {
          "output_type": "display_data",
          "data": {
            "text/plain": [
              "<IPython.core.display.Javascript object>"
            ],
            "application/javascript": [
              "\n",
              "  async function showImage(name, image, width, height) {\n",
              "    img = document.getElementById(name);\n",
              "    if(img == null) {\n",
              "      img = document.createElement('img');\n",
              "      img.id = name;\n",
              "      document.body.appendChild(img);\n",
              "    }\n",
              "    img.src = image;\n",
              "    img.width = width;\n",
              "    img.height = height;\n",
              "  }\n",
              "  "
            ]
          },
          "metadata": {}
        },
        {
          "output_type": "display_data",
          "data": {
            "text/plain": [
              "<IPython.core.display.Javascript object>"
            ],
            "application/javascript": [
              "\n",
              "  async function showImage(name, image, width, height) {\n",
              "    img = document.getElementById(name);\n",
              "    if(img == null) {\n",
              "      img = document.createElement('img');\n",
              "      img.id = name;\n",
              "      document.body.appendChild(img);\n",
              "    }\n",
              "    img.src = image;\n",
              "    img.width = width;\n",
              "    img.height = height;\n",
              "  }\n",
              "  "
            ]
          },
          "metadata": {}
        },
        {
          "output_type": "display_data",
          "data": {
            "text/plain": [
              "<IPython.core.display.Javascript object>"
            ],
            "application/javascript": [
              "\n",
              "  async function showImage(name, image, width, height) {\n",
              "    img = document.getElementById(name);\n",
              "    if(img == null) {\n",
              "      img = document.createElement('img');\n",
              "      img.id = name;\n",
              "      document.body.appendChild(img);\n",
              "    }\n",
              "    img.src = image;\n",
              "    img.width = width;\n",
              "    img.height = height;\n",
              "  }\n",
              "  "
            ]
          },
          "metadata": {}
        },
        {
          "output_type": "display_data",
          "data": {
            "text/plain": [
              "<IPython.core.display.Javascript object>"
            ],
            "application/javascript": [
              "\n",
              "  async function showImage(name, image, width, height) {\n",
              "    img = document.getElementById(name);\n",
              "    if(img == null) {\n",
              "      img = document.createElement('img');\n",
              "      img.id = name;\n",
              "      document.body.appendChild(img);\n",
              "    }\n",
              "    img.src = image;\n",
              "    img.width = width;\n",
              "    img.height = height;\n",
              "  }\n",
              "  "
            ]
          },
          "metadata": {}
        },
        {
          "output_type": "display_data",
          "data": {
            "text/plain": [
              "<IPython.core.display.Javascript object>"
            ],
            "application/javascript": [
              "\n",
              "  async function showImage(name, image, width, height) {\n",
              "    img = document.getElementById(name);\n",
              "    if(img == null) {\n",
              "      img = document.createElement('img');\n",
              "      img.id = name;\n",
              "      document.body.appendChild(img);\n",
              "    }\n",
              "    img.src = image;\n",
              "    img.width = width;\n",
              "    img.height = height;\n",
              "  }\n",
              "  "
            ]
          },
          "metadata": {}
        },
        {
          "output_type": "display_data",
          "data": {
            "text/plain": [
              "<IPython.core.display.Javascript object>"
            ],
            "application/javascript": [
              "\n",
              "  async function showImage(name, image, width, height) {\n",
              "    img = document.getElementById(name);\n",
              "    if(img == null) {\n",
              "      img = document.createElement('img');\n",
              "      img.id = name;\n",
              "      document.body.appendChild(img);\n",
              "    }\n",
              "    img.src = image;\n",
              "    img.width = width;\n",
              "    img.height = height;\n",
              "  }\n",
              "  "
            ]
          },
          "metadata": {}
        },
        {
          "output_type": "display_data",
          "data": {
            "text/plain": [
              "<IPython.core.display.Javascript object>"
            ],
            "application/javascript": [
              "\n",
              "  async function showImage(name, image, width, height) {\n",
              "    img = document.getElementById(name);\n",
              "    if(img == null) {\n",
              "      img = document.createElement('img');\n",
              "      img.id = name;\n",
              "      document.body.appendChild(img);\n",
              "    }\n",
              "    img.src = image;\n",
              "    img.width = width;\n",
              "    img.height = height;\n",
              "  }\n",
              "  "
            ]
          },
          "metadata": {}
        },
        {
          "output_type": "display_data",
          "data": {
            "text/plain": [
              "<IPython.core.display.Javascript object>"
            ],
            "application/javascript": [
              "\n",
              "  async function showImage(name, image, width, height) {\n",
              "    img = document.getElementById(name);\n",
              "    if(img == null) {\n",
              "      img = document.createElement('img');\n",
              "      img.id = name;\n",
              "      document.body.appendChild(img);\n",
              "    }\n",
              "    img.src = image;\n",
              "    img.width = width;\n",
              "    img.height = height;\n",
              "  }\n",
              "  "
            ]
          },
          "metadata": {}
        },
        {
          "output_type": "display_data",
          "data": {
            "text/plain": [
              "<IPython.core.display.Javascript object>"
            ],
            "application/javascript": [
              "\n",
              "  async function showImage(name, image, width, height) {\n",
              "    img = document.getElementById(name);\n",
              "    if(img == null) {\n",
              "      img = document.createElement('img');\n",
              "      img.id = name;\n",
              "      document.body.appendChild(img);\n",
              "    }\n",
              "    img.src = image;\n",
              "    img.width = width;\n",
              "    img.height = height;\n",
              "  }\n",
              "  "
            ]
          },
          "metadata": {}
        },
        {
          "output_type": "display_data",
          "data": {
            "text/plain": [
              "<IPython.core.display.Javascript object>"
            ],
            "application/javascript": [
              "\n",
              "  async function showImage(name, image, width, height) {\n",
              "    img = document.getElementById(name);\n",
              "    if(img == null) {\n",
              "      img = document.createElement('img');\n",
              "      img.id = name;\n",
              "      document.body.appendChild(img);\n",
              "    }\n",
              "    img.src = image;\n",
              "    img.width = width;\n",
              "    img.height = height;\n",
              "  }\n",
              "  "
            ]
          },
          "metadata": {}
        },
        {
          "output_type": "display_data",
          "data": {
            "text/plain": [
              "<IPython.core.display.Javascript object>"
            ],
            "application/javascript": [
              "\n",
              "  async function showImage(name, image, width, height) {\n",
              "    img = document.getElementById(name);\n",
              "    if(img == null) {\n",
              "      img = document.createElement('img');\n",
              "      img.id = name;\n",
              "      document.body.appendChild(img);\n",
              "    }\n",
              "    img.src = image;\n",
              "    img.width = width;\n",
              "    img.height = height;\n",
              "  }\n",
              "  "
            ]
          },
          "metadata": {}
        },
        {
          "output_type": "display_data",
          "data": {
            "text/plain": [
              "<IPython.core.display.Javascript object>"
            ],
            "application/javascript": [
              "\n",
              "  async function showImage(name, image, width, height) {\n",
              "    img = document.getElementById(name);\n",
              "    if(img == null) {\n",
              "      img = document.createElement('img');\n",
              "      img.id = name;\n",
              "      document.body.appendChild(img);\n",
              "    }\n",
              "    img.src = image;\n",
              "    img.width = width;\n",
              "    img.height = height;\n",
              "  }\n",
              "  "
            ]
          },
          "metadata": {}
        },
        {
          "output_type": "display_data",
          "data": {
            "text/plain": [
              "<IPython.core.display.Javascript object>"
            ],
            "application/javascript": [
              "\n",
              "  async function showImage(name, image, width, height) {\n",
              "    img = document.getElementById(name);\n",
              "    if(img == null) {\n",
              "      img = document.createElement('img');\n",
              "      img.id = name;\n",
              "      document.body.appendChild(img);\n",
              "    }\n",
              "    img.src = image;\n",
              "    img.width = width;\n",
              "    img.height = height;\n",
              "  }\n",
              "  "
            ]
          },
          "metadata": {}
        },
        {
          "output_type": "display_data",
          "data": {
            "text/plain": [
              "<IPython.core.display.Javascript object>"
            ],
            "application/javascript": [
              "\n",
              "  async function showImage(name, image, width, height) {\n",
              "    img = document.getElementById(name);\n",
              "    if(img == null) {\n",
              "      img = document.createElement('img');\n",
              "      img.id = name;\n",
              "      document.body.appendChild(img);\n",
              "    }\n",
              "    img.src = image;\n",
              "    img.width = width;\n",
              "    img.height = height;\n",
              "  }\n",
              "  "
            ]
          },
          "metadata": {}
        },
        {
          "output_type": "display_data",
          "data": {
            "text/plain": [
              "<IPython.core.display.Javascript object>"
            ],
            "application/javascript": [
              "\n",
              "  async function showImage(name, image, width, height) {\n",
              "    img = document.getElementById(name);\n",
              "    if(img == null) {\n",
              "      img = document.createElement('img');\n",
              "      img.id = name;\n",
              "      document.body.appendChild(img);\n",
              "    }\n",
              "    img.src = image;\n",
              "    img.width = width;\n",
              "    img.height = height;\n",
              "  }\n",
              "  "
            ]
          },
          "metadata": {}
        },
        {
          "output_type": "display_data",
          "data": {
            "text/plain": [
              "<IPython.core.display.Javascript object>"
            ],
            "application/javascript": [
              "\n",
              "  async function showImage(name, image, width, height) {\n",
              "    img = document.getElementById(name);\n",
              "    if(img == null) {\n",
              "      img = document.createElement('img');\n",
              "      img.id = name;\n",
              "      document.body.appendChild(img);\n",
              "    }\n",
              "    img.src = image;\n",
              "    img.width = width;\n",
              "    img.height = height;\n",
              "  }\n",
              "  "
            ]
          },
          "metadata": {}
        },
        {
          "output_type": "display_data",
          "data": {
            "text/plain": [
              "<IPython.core.display.Javascript object>"
            ],
            "application/javascript": [
              "\n",
              "  async function showImage(name, image, width, height) {\n",
              "    img = document.getElementById(name);\n",
              "    if(img == null) {\n",
              "      img = document.createElement('img');\n",
              "      img.id = name;\n",
              "      document.body.appendChild(img);\n",
              "    }\n",
              "    img.src = image;\n",
              "    img.width = width;\n",
              "    img.height = height;\n",
              "  }\n",
              "  "
            ]
          },
          "metadata": {}
        },
        {
          "output_type": "display_data",
          "data": {
            "text/plain": [
              "<IPython.core.display.Javascript object>"
            ],
            "application/javascript": [
              "\n",
              "  async function showImage(name, image, width, height) {\n",
              "    img = document.getElementById(name);\n",
              "    if(img == null) {\n",
              "      img = document.createElement('img');\n",
              "      img.id = name;\n",
              "      document.body.appendChild(img);\n",
              "    }\n",
              "    img.src = image;\n",
              "    img.width = width;\n",
              "    img.height = height;\n",
              "  }\n",
              "  "
            ]
          },
          "metadata": {}
        },
        {
          "output_type": "display_data",
          "data": {
            "text/plain": [
              "<IPython.core.display.Javascript object>"
            ],
            "application/javascript": [
              "\n",
              "  async function showImage(name, image, width, height) {\n",
              "    img = document.getElementById(name);\n",
              "    if(img == null) {\n",
              "      img = document.createElement('img');\n",
              "      img.id = name;\n",
              "      document.body.appendChild(img);\n",
              "    }\n",
              "    img.src = image;\n",
              "    img.width = width;\n",
              "    img.height = height;\n",
              "  }\n",
              "  "
            ]
          },
          "metadata": {}
        },
        {
          "output_type": "display_data",
          "data": {
            "text/plain": [
              "<IPython.core.display.Javascript object>"
            ],
            "application/javascript": [
              "\n",
              "  async function showImage(name, image, width, height) {\n",
              "    img = document.getElementById(name);\n",
              "    if(img == null) {\n",
              "      img = document.createElement('img');\n",
              "      img.id = name;\n",
              "      document.body.appendChild(img);\n",
              "    }\n",
              "    img.src = image;\n",
              "    img.width = width;\n",
              "    img.height = height;\n",
              "  }\n",
              "  "
            ]
          },
          "metadata": {}
        },
        {
          "output_type": "display_data",
          "data": {
            "text/plain": [
              "<IPython.core.display.Javascript object>"
            ],
            "application/javascript": [
              "\n",
              "  async function showImage(name, image, width, height) {\n",
              "    img = document.getElementById(name);\n",
              "    if(img == null) {\n",
              "      img = document.createElement('img');\n",
              "      img.id = name;\n",
              "      document.body.appendChild(img);\n",
              "    }\n",
              "    img.src = image;\n",
              "    img.width = width;\n",
              "    img.height = height;\n",
              "  }\n",
              "  "
            ]
          },
          "metadata": {}
        },
        {
          "output_type": "display_data",
          "data": {
            "text/plain": [
              "<IPython.core.display.Javascript object>"
            ],
            "application/javascript": [
              "\n",
              "  async function showImage(name, image, width, height) {\n",
              "    img = document.getElementById(name);\n",
              "    if(img == null) {\n",
              "      img = document.createElement('img');\n",
              "      img.id = name;\n",
              "      document.body.appendChild(img);\n",
              "    }\n",
              "    img.src = image;\n",
              "    img.width = width;\n",
              "    img.height = height;\n",
              "  }\n",
              "  "
            ]
          },
          "metadata": {}
        },
        {
          "output_type": "display_data",
          "data": {
            "text/plain": [
              "<IPython.core.display.Javascript object>"
            ],
            "application/javascript": [
              "\n",
              "  async function showImage(name, image, width, height) {\n",
              "    img = document.getElementById(name);\n",
              "    if(img == null) {\n",
              "      img = document.createElement('img');\n",
              "      img.id = name;\n",
              "      document.body.appendChild(img);\n",
              "    }\n",
              "    img.src = image;\n",
              "    img.width = width;\n",
              "    img.height = height;\n",
              "  }\n",
              "  "
            ]
          },
          "metadata": {}
        },
        {
          "output_type": "display_data",
          "data": {
            "text/plain": [
              "<IPython.core.display.Javascript object>"
            ],
            "application/javascript": [
              "\n",
              "  async function showImage(name, image, width, height) {\n",
              "    img = document.getElementById(name);\n",
              "    if(img == null) {\n",
              "      img = document.createElement('img');\n",
              "      img.id = name;\n",
              "      document.body.appendChild(img);\n",
              "    }\n",
              "    img.src = image;\n",
              "    img.width = width;\n",
              "    img.height = height;\n",
              "  }\n",
              "  "
            ]
          },
          "metadata": {}
        },
        {
          "output_type": "display_data",
          "data": {
            "text/plain": [
              "<IPython.core.display.Javascript object>"
            ],
            "application/javascript": [
              "\n",
              "  async function showImage(name, image, width, height) {\n",
              "    img = document.getElementById(name);\n",
              "    if(img == null) {\n",
              "      img = document.createElement('img');\n",
              "      img.id = name;\n",
              "      document.body.appendChild(img);\n",
              "    }\n",
              "    img.src = image;\n",
              "    img.width = width;\n",
              "    img.height = height;\n",
              "  }\n",
              "  "
            ]
          },
          "metadata": {}
        },
        {
          "output_type": "display_data",
          "data": {
            "text/plain": [
              "<IPython.core.display.Javascript object>"
            ],
            "application/javascript": [
              "\n",
              "  async function showImage(name, image, width, height) {\n",
              "    img = document.getElementById(name);\n",
              "    if(img == null) {\n",
              "      img = document.createElement('img');\n",
              "      img.id = name;\n",
              "      document.body.appendChild(img);\n",
              "    }\n",
              "    img.src = image;\n",
              "    img.width = width;\n",
              "    img.height = height;\n",
              "  }\n",
              "  "
            ]
          },
          "metadata": {}
        },
        {
          "output_type": "display_data",
          "data": {
            "text/plain": [
              "<IPython.core.display.Javascript object>"
            ],
            "application/javascript": [
              "\n",
              "  async function showImage(name, image, width, height) {\n",
              "    img = document.getElementById(name);\n",
              "    if(img == null) {\n",
              "      img = document.createElement('img');\n",
              "      img.id = name;\n",
              "      document.body.appendChild(img);\n",
              "    }\n",
              "    img.src = image;\n",
              "    img.width = width;\n",
              "    img.height = height;\n",
              "  }\n",
              "  "
            ]
          },
          "metadata": {}
        },
        {
          "output_type": "display_data",
          "data": {
            "text/plain": [
              "<IPython.core.display.Javascript object>"
            ],
            "application/javascript": [
              "\n",
              "  async function showImage(name, image, width, height) {\n",
              "    img = document.getElementById(name);\n",
              "    if(img == null) {\n",
              "      img = document.createElement('img');\n",
              "      img.id = name;\n",
              "      document.body.appendChild(img);\n",
              "    }\n",
              "    img.src = image;\n",
              "    img.width = width;\n",
              "    img.height = height;\n",
              "  }\n",
              "  "
            ]
          },
          "metadata": {}
        },
        {
          "output_type": "display_data",
          "data": {
            "text/plain": [
              "<IPython.core.display.Javascript object>"
            ],
            "application/javascript": [
              "\n",
              "  async function showImage(name, image, width, height) {\n",
              "    img = document.getElementById(name);\n",
              "    if(img == null) {\n",
              "      img = document.createElement('img');\n",
              "      img.id = name;\n",
              "      document.body.appendChild(img);\n",
              "    }\n",
              "    img.src = image;\n",
              "    img.width = width;\n",
              "    img.height = height;\n",
              "  }\n",
              "  "
            ]
          },
          "metadata": {}
        },
        {
          "output_type": "display_data",
          "data": {
            "text/plain": [
              "<IPython.core.display.Javascript object>"
            ],
            "application/javascript": [
              "\n",
              "  async function showImage(name, image, width, height) {\n",
              "    img = document.getElementById(name);\n",
              "    if(img == null) {\n",
              "      img = document.createElement('img');\n",
              "      img.id = name;\n",
              "      document.body.appendChild(img);\n",
              "    }\n",
              "    img.src = image;\n",
              "    img.width = width;\n",
              "    img.height = height;\n",
              "  }\n",
              "  "
            ]
          },
          "metadata": {}
        },
        {
          "output_type": "display_data",
          "data": {
            "text/plain": [
              "<IPython.core.display.Javascript object>"
            ],
            "application/javascript": [
              "\n",
              "  async function showImage(name, image, width, height) {\n",
              "    img = document.getElementById(name);\n",
              "    if(img == null) {\n",
              "      img = document.createElement('img');\n",
              "      img.id = name;\n",
              "      document.body.appendChild(img);\n",
              "    }\n",
              "    img.src = image;\n",
              "    img.width = width;\n",
              "    img.height = height;\n",
              "  }\n",
              "  "
            ]
          },
          "metadata": {}
        },
        {
          "output_type": "display_data",
          "data": {
            "text/plain": [
              "<IPython.core.display.Javascript object>"
            ],
            "application/javascript": [
              "\n",
              "  async function showImage(name, image, width, height) {\n",
              "    img = document.getElementById(name);\n",
              "    if(img == null) {\n",
              "      img = document.createElement('img');\n",
              "      img.id = name;\n",
              "      document.body.appendChild(img);\n",
              "    }\n",
              "    img.src = image;\n",
              "    img.width = width;\n",
              "    img.height = height;\n",
              "  }\n",
              "  "
            ]
          },
          "metadata": {}
        },
        {
          "output_type": "display_data",
          "data": {
            "text/plain": [
              "<IPython.core.display.Javascript object>"
            ],
            "application/javascript": [
              "\n",
              "  async function showImage(name, image, width, height) {\n",
              "    img = document.getElementById(name);\n",
              "    if(img == null) {\n",
              "      img = document.createElement('img');\n",
              "      img.id = name;\n",
              "      document.body.appendChild(img);\n",
              "    }\n",
              "    img.src = image;\n",
              "    img.width = width;\n",
              "    img.height = height;\n",
              "  }\n",
              "  "
            ]
          },
          "metadata": {}
        },
        {
          "output_type": "display_data",
          "data": {
            "text/plain": [
              "<IPython.core.display.Javascript object>"
            ],
            "application/javascript": [
              "\n",
              "  async function showImage(name, image, width, height) {\n",
              "    img = document.getElementById(name);\n",
              "    if(img == null) {\n",
              "      img = document.createElement('img');\n",
              "      img.id = name;\n",
              "      document.body.appendChild(img);\n",
              "    }\n",
              "    img.src = image;\n",
              "    img.width = width;\n",
              "    img.height = height;\n",
              "  }\n",
              "  "
            ]
          },
          "metadata": {}
        },
        {
          "output_type": "display_data",
          "data": {
            "text/plain": [
              "<IPython.core.display.Javascript object>"
            ],
            "application/javascript": [
              "\n",
              "  async function showImage(name, image, width, height) {\n",
              "    img = document.getElementById(name);\n",
              "    if(img == null) {\n",
              "      img = document.createElement('img');\n",
              "      img.id = name;\n",
              "      document.body.appendChild(img);\n",
              "    }\n",
              "    img.src = image;\n",
              "    img.width = width;\n",
              "    img.height = height;\n",
              "  }\n",
              "  "
            ]
          },
          "metadata": {}
        },
        {
          "output_type": "display_data",
          "data": {
            "text/plain": [
              "<IPython.core.display.Javascript object>"
            ],
            "application/javascript": [
              "\n",
              "  async function showImage(name, image, width, height) {\n",
              "    img = document.getElementById(name);\n",
              "    if(img == null) {\n",
              "      img = document.createElement('img');\n",
              "      img.id = name;\n",
              "      document.body.appendChild(img);\n",
              "    }\n",
              "    img.src = image;\n",
              "    img.width = width;\n",
              "    img.height = height;\n",
              "  }\n",
              "  "
            ]
          },
          "metadata": {}
        },
        {
          "output_type": "display_data",
          "data": {
            "text/plain": [
              "<IPython.core.display.Javascript object>"
            ],
            "application/javascript": [
              "\n",
              "  async function showImage(name, image, width, height) {\n",
              "    img = document.getElementById(name);\n",
              "    if(img == null) {\n",
              "      img = document.createElement('img');\n",
              "      img.id = name;\n",
              "      document.body.appendChild(img);\n",
              "    }\n",
              "    img.src = image;\n",
              "    img.width = width;\n",
              "    img.height = height;\n",
              "  }\n",
              "  "
            ]
          },
          "metadata": {}
        },
        {
          "output_type": "display_data",
          "data": {
            "text/plain": [
              "<IPython.core.display.Javascript object>"
            ],
            "application/javascript": [
              "\n",
              "  async function showImage(name, image, width, height) {\n",
              "    img = document.getElementById(name);\n",
              "    if(img == null) {\n",
              "      img = document.createElement('img');\n",
              "      img.id = name;\n",
              "      document.body.appendChild(img);\n",
              "    }\n",
              "    img.src = image;\n",
              "    img.width = width;\n",
              "    img.height = height;\n",
              "  }\n",
              "  "
            ]
          },
          "metadata": {}
        },
        {
          "output_type": "display_data",
          "data": {
            "text/plain": [
              "<IPython.core.display.Javascript object>"
            ],
            "application/javascript": [
              "\n",
              "  async function showImage(name, image, width, height) {\n",
              "    img = document.getElementById(name);\n",
              "    if(img == null) {\n",
              "      img = document.createElement('img');\n",
              "      img.id = name;\n",
              "      document.body.appendChild(img);\n",
              "    }\n",
              "    img.src = image;\n",
              "    img.width = width;\n",
              "    img.height = height;\n",
              "  }\n",
              "  "
            ]
          },
          "metadata": {}
        },
        {
          "output_type": "display_data",
          "data": {
            "text/plain": [
              "<IPython.core.display.Javascript object>"
            ],
            "application/javascript": [
              "\n",
              "  async function showImage(name, image, width, height) {\n",
              "    img = document.getElementById(name);\n",
              "    if(img == null) {\n",
              "      img = document.createElement('img');\n",
              "      img.id = name;\n",
              "      document.body.appendChild(img);\n",
              "    }\n",
              "    img.src = image;\n",
              "    img.width = width;\n",
              "    img.height = height;\n",
              "  }\n",
              "  "
            ]
          },
          "metadata": {}
        },
        {
          "output_type": "display_data",
          "data": {
            "text/plain": [
              "<IPython.core.display.Javascript object>"
            ],
            "application/javascript": [
              "\n",
              "  async function showImage(name, image, width, height) {\n",
              "    img = document.getElementById(name);\n",
              "    if(img == null) {\n",
              "      img = document.createElement('img');\n",
              "      img.id = name;\n",
              "      document.body.appendChild(img);\n",
              "    }\n",
              "    img.src = image;\n",
              "    img.width = width;\n",
              "    img.height = height;\n",
              "  }\n",
              "  "
            ]
          },
          "metadata": {}
        },
        {
          "output_type": "display_data",
          "data": {
            "text/plain": [
              "<IPython.core.display.Javascript object>"
            ],
            "application/javascript": [
              "\n",
              "  async function showImage(name, image, width, height) {\n",
              "    img = document.getElementById(name);\n",
              "    if(img == null) {\n",
              "      img = document.createElement('img');\n",
              "      img.id = name;\n",
              "      document.body.appendChild(img);\n",
              "    }\n",
              "    img.src = image;\n",
              "    img.width = width;\n",
              "    img.height = height;\n",
              "  }\n",
              "  "
            ]
          },
          "metadata": {}
        },
        {
          "output_type": "display_data",
          "data": {
            "text/plain": [
              "<IPython.core.display.Javascript object>"
            ],
            "application/javascript": [
              "\n",
              "  async function showImage(name, image, width, height) {\n",
              "    img = document.getElementById(name);\n",
              "    if(img == null) {\n",
              "      img = document.createElement('img');\n",
              "      img.id = name;\n",
              "      document.body.appendChild(img);\n",
              "    }\n",
              "    img.src = image;\n",
              "    img.width = width;\n",
              "    img.height = height;\n",
              "  }\n",
              "  "
            ]
          },
          "metadata": {}
        },
        {
          "output_type": "display_data",
          "data": {
            "text/plain": [
              "<IPython.core.display.Javascript object>"
            ],
            "application/javascript": [
              "\n",
              "  async function showImage(name, image, width, height) {\n",
              "    img = document.getElementById(name);\n",
              "    if(img == null) {\n",
              "      img = document.createElement('img');\n",
              "      img.id = name;\n",
              "      document.body.appendChild(img);\n",
              "    }\n",
              "    img.src = image;\n",
              "    img.width = width;\n",
              "    img.height = height;\n",
              "  }\n",
              "  "
            ]
          },
          "metadata": {}
        },
        {
          "output_type": "display_data",
          "data": {
            "text/plain": [
              "<IPython.core.display.Javascript object>"
            ],
            "application/javascript": [
              "\n",
              "  async function showImage(name, image, width, height) {\n",
              "    img = document.getElementById(name);\n",
              "    if(img == null) {\n",
              "      img = document.createElement('img');\n",
              "      img.id = name;\n",
              "      document.body.appendChild(img);\n",
              "    }\n",
              "    img.src = image;\n",
              "    img.width = width;\n",
              "    img.height = height;\n",
              "  }\n",
              "  "
            ]
          },
          "metadata": {}
        },
        {
          "output_type": "display_data",
          "data": {
            "text/plain": [
              "<IPython.core.display.Javascript object>"
            ],
            "application/javascript": [
              "\n",
              "  async function showImage(name, image, width, height) {\n",
              "    img = document.getElementById(name);\n",
              "    if(img == null) {\n",
              "      img = document.createElement('img');\n",
              "      img.id = name;\n",
              "      document.body.appendChild(img);\n",
              "    }\n",
              "    img.src = image;\n",
              "    img.width = width;\n",
              "    img.height = height;\n",
              "  }\n",
              "  "
            ]
          },
          "metadata": {}
        },
        {
          "output_type": "display_data",
          "data": {
            "text/plain": [
              "<IPython.core.display.Javascript object>"
            ],
            "application/javascript": [
              "\n",
              "  async function showImage(name, image, width, height) {\n",
              "    img = document.getElementById(name);\n",
              "    if(img == null) {\n",
              "      img = document.createElement('img');\n",
              "      img.id = name;\n",
              "      document.body.appendChild(img);\n",
              "    }\n",
              "    img.src = image;\n",
              "    img.width = width;\n",
              "    img.height = height;\n",
              "  }\n",
              "  "
            ]
          },
          "metadata": {}
        },
        {
          "output_type": "display_data",
          "data": {
            "text/plain": [
              "<IPython.core.display.Javascript object>"
            ],
            "application/javascript": [
              "\n",
              "  async function showImage(name, image, width, height) {\n",
              "    img = document.getElementById(name);\n",
              "    if(img == null) {\n",
              "      img = document.createElement('img');\n",
              "      img.id = name;\n",
              "      document.body.appendChild(img);\n",
              "    }\n",
              "    img.src = image;\n",
              "    img.width = width;\n",
              "    img.height = height;\n",
              "  }\n",
              "  "
            ]
          },
          "metadata": {}
        },
        {
          "output_type": "display_data",
          "data": {
            "text/plain": [
              "<IPython.core.display.Javascript object>"
            ],
            "application/javascript": [
              "\n",
              "  async function showImage(name, image, width, height) {\n",
              "    img = document.getElementById(name);\n",
              "    if(img == null) {\n",
              "      img = document.createElement('img');\n",
              "      img.id = name;\n",
              "      document.body.appendChild(img);\n",
              "    }\n",
              "    img.src = image;\n",
              "    img.width = width;\n",
              "    img.height = height;\n",
              "  }\n",
              "  "
            ]
          },
          "metadata": {}
        },
        {
          "output_type": "display_data",
          "data": {
            "text/plain": [
              "<IPython.core.display.Javascript object>"
            ],
            "application/javascript": [
              "\n",
              "  async function showImage(name, image, width, height) {\n",
              "    img = document.getElementById(name);\n",
              "    if(img == null) {\n",
              "      img = document.createElement('img');\n",
              "      img.id = name;\n",
              "      document.body.appendChild(img);\n",
              "    }\n",
              "    img.src = image;\n",
              "    img.width = width;\n",
              "    img.height = height;\n",
              "  }\n",
              "  "
            ]
          },
          "metadata": {}
        },
        {
          "output_type": "display_data",
          "data": {
            "text/plain": [
              "<IPython.core.display.Javascript object>"
            ],
            "application/javascript": [
              "\n",
              "  async function showImage(name, image, width, height) {\n",
              "    img = document.getElementById(name);\n",
              "    if(img == null) {\n",
              "      img = document.createElement('img');\n",
              "      img.id = name;\n",
              "      document.body.appendChild(img);\n",
              "    }\n",
              "    img.src = image;\n",
              "    img.width = width;\n",
              "    img.height = height;\n",
              "  }\n",
              "  "
            ]
          },
          "metadata": {}
        },
        {
          "output_type": "display_data",
          "data": {
            "text/plain": [
              "<IPython.core.display.Javascript object>"
            ],
            "application/javascript": [
              "\n",
              "  async function showImage(name, image, width, height) {\n",
              "    img = document.getElementById(name);\n",
              "    if(img == null) {\n",
              "      img = document.createElement('img');\n",
              "      img.id = name;\n",
              "      document.body.appendChild(img);\n",
              "    }\n",
              "    img.src = image;\n",
              "    img.width = width;\n",
              "    img.height = height;\n",
              "  }\n",
              "  "
            ]
          },
          "metadata": {}
        },
        {
          "output_type": "display_data",
          "data": {
            "text/plain": [
              "<IPython.core.display.Javascript object>"
            ],
            "application/javascript": [
              "\n",
              "  async function showImage(name, image, width, height) {\n",
              "    img = document.getElementById(name);\n",
              "    if(img == null) {\n",
              "      img = document.createElement('img');\n",
              "      img.id = name;\n",
              "      document.body.appendChild(img);\n",
              "    }\n",
              "    img.src = image;\n",
              "    img.width = width;\n",
              "    img.height = height;\n",
              "  }\n",
              "  "
            ]
          },
          "metadata": {}
        },
        {
          "output_type": "display_data",
          "data": {
            "text/plain": [
              "<IPython.core.display.Javascript object>"
            ],
            "application/javascript": [
              "\n",
              "  async function showImage(name, image, width, height) {\n",
              "    img = document.getElementById(name);\n",
              "    if(img == null) {\n",
              "      img = document.createElement('img');\n",
              "      img.id = name;\n",
              "      document.body.appendChild(img);\n",
              "    }\n",
              "    img.src = image;\n",
              "    img.width = width;\n",
              "    img.height = height;\n",
              "  }\n",
              "  "
            ]
          },
          "metadata": {}
        },
        {
          "output_type": "display_data",
          "data": {
            "text/plain": [
              "<IPython.core.display.Javascript object>"
            ],
            "application/javascript": [
              "\n",
              "  async function showImage(name, image, width, height) {\n",
              "    img = document.getElementById(name);\n",
              "    if(img == null) {\n",
              "      img = document.createElement('img');\n",
              "      img.id = name;\n",
              "      document.body.appendChild(img);\n",
              "    }\n",
              "    img.src = image;\n",
              "    img.width = width;\n",
              "    img.height = height;\n",
              "  }\n",
              "  "
            ]
          },
          "metadata": {}
        },
        {
          "output_type": "display_data",
          "data": {
            "text/plain": [
              "<IPython.core.display.Javascript object>"
            ],
            "application/javascript": [
              "\n",
              "  async function showImage(name, image, width, height) {\n",
              "    img = document.getElementById(name);\n",
              "    if(img == null) {\n",
              "      img = document.createElement('img');\n",
              "      img.id = name;\n",
              "      document.body.appendChild(img);\n",
              "    }\n",
              "    img.src = image;\n",
              "    img.width = width;\n",
              "    img.height = height;\n",
              "  }\n",
              "  "
            ]
          },
          "metadata": {}
        },
        {
          "output_type": "display_data",
          "data": {
            "text/plain": [
              "<IPython.core.display.Javascript object>"
            ],
            "application/javascript": [
              "\n",
              "  async function showImage(name, image, width, height) {\n",
              "    img = document.getElementById(name);\n",
              "    if(img == null) {\n",
              "      img = document.createElement('img');\n",
              "      img.id = name;\n",
              "      document.body.appendChild(img);\n",
              "    }\n",
              "    img.src = image;\n",
              "    img.width = width;\n",
              "    img.height = height;\n",
              "  }\n",
              "  "
            ]
          },
          "metadata": {}
        },
        {
          "output_type": "display_data",
          "data": {
            "text/plain": [
              "<IPython.core.display.Javascript object>"
            ],
            "application/javascript": [
              "\n",
              "  async function showImage(name, image, width, height) {\n",
              "    img = document.getElementById(name);\n",
              "    if(img == null) {\n",
              "      img = document.createElement('img');\n",
              "      img.id = name;\n",
              "      document.body.appendChild(img);\n",
              "    }\n",
              "    img.src = image;\n",
              "    img.width = width;\n",
              "    img.height = height;\n",
              "  }\n",
              "  "
            ]
          },
          "metadata": {}
        },
        {
          "output_type": "display_data",
          "data": {
            "text/plain": [
              "<IPython.core.display.Javascript object>"
            ],
            "application/javascript": [
              "\n",
              "  async function showImage(name, image, width, height) {\n",
              "    img = document.getElementById(name);\n",
              "    if(img == null) {\n",
              "      img = document.createElement('img');\n",
              "      img.id = name;\n",
              "      document.body.appendChild(img);\n",
              "    }\n",
              "    img.src = image;\n",
              "    img.width = width;\n",
              "    img.height = height;\n",
              "  }\n",
              "  "
            ]
          },
          "metadata": {}
        },
        {
          "output_type": "display_data",
          "data": {
            "text/plain": [
              "<IPython.core.display.Javascript object>"
            ],
            "application/javascript": [
              "\n",
              "  async function showImage(name, image, width, height) {\n",
              "    img = document.getElementById(name);\n",
              "    if(img == null) {\n",
              "      img = document.createElement('img');\n",
              "      img.id = name;\n",
              "      document.body.appendChild(img);\n",
              "    }\n",
              "    img.src = image;\n",
              "    img.width = width;\n",
              "    img.height = height;\n",
              "  }\n",
              "  "
            ]
          },
          "metadata": {}
        },
        {
          "output_type": "display_data",
          "data": {
            "text/plain": [
              "<IPython.core.display.Javascript object>"
            ],
            "application/javascript": [
              "\n",
              "  async function showImage(name, image, width, height) {\n",
              "    img = document.getElementById(name);\n",
              "    if(img == null) {\n",
              "      img = document.createElement('img');\n",
              "      img.id = name;\n",
              "      document.body.appendChild(img);\n",
              "    }\n",
              "    img.src = image;\n",
              "    img.width = width;\n",
              "    img.height = height;\n",
              "  }\n",
              "  "
            ]
          },
          "metadata": {}
        },
        {
          "output_type": "display_data",
          "data": {
            "text/plain": [
              "<IPython.core.display.Javascript object>"
            ],
            "application/javascript": [
              "\n",
              "  async function showImage(name, image, width, height) {\n",
              "    img = document.getElementById(name);\n",
              "    if(img == null) {\n",
              "      img = document.createElement('img');\n",
              "      img.id = name;\n",
              "      document.body.appendChild(img);\n",
              "    }\n",
              "    img.src = image;\n",
              "    img.width = width;\n",
              "    img.height = height;\n",
              "  }\n",
              "  "
            ]
          },
          "metadata": {}
        },
        {
          "output_type": "display_data",
          "data": {
            "text/plain": [
              "<IPython.core.display.Javascript object>"
            ],
            "application/javascript": [
              "\n",
              "  async function showImage(name, image, width, height) {\n",
              "    img = document.getElementById(name);\n",
              "    if(img == null) {\n",
              "      img = document.createElement('img');\n",
              "      img.id = name;\n",
              "      document.body.appendChild(img);\n",
              "    }\n",
              "    img.src = image;\n",
              "    img.width = width;\n",
              "    img.height = height;\n",
              "  }\n",
              "  "
            ]
          },
          "metadata": {}
        },
        {
          "output_type": "display_data",
          "data": {
            "text/plain": [
              "<IPython.core.display.Javascript object>"
            ],
            "application/javascript": [
              "\n",
              "  async function showImage(name, image, width, height) {\n",
              "    img = document.getElementById(name);\n",
              "    if(img == null) {\n",
              "      img = document.createElement('img');\n",
              "      img.id = name;\n",
              "      document.body.appendChild(img);\n",
              "    }\n",
              "    img.src = image;\n",
              "    img.width = width;\n",
              "    img.height = height;\n",
              "  }\n",
              "  "
            ]
          },
          "metadata": {}
        },
        {
          "output_type": "display_data",
          "data": {
            "text/plain": [
              "<IPython.core.display.Javascript object>"
            ],
            "application/javascript": [
              "\n",
              "  async function showImage(name, image, width, height) {\n",
              "    img = document.getElementById(name);\n",
              "    if(img == null) {\n",
              "      img = document.createElement('img');\n",
              "      img.id = name;\n",
              "      document.body.appendChild(img);\n",
              "    }\n",
              "    img.src = image;\n",
              "    img.width = width;\n",
              "    img.height = height;\n",
              "  }\n",
              "  "
            ]
          },
          "metadata": {}
        },
        {
          "output_type": "display_data",
          "data": {
            "text/plain": [
              "<IPython.core.display.Javascript object>"
            ],
            "application/javascript": [
              "\n",
              "  async function showImage(name, image, width, height) {\n",
              "    img = document.getElementById(name);\n",
              "    if(img == null) {\n",
              "      img = document.createElement('img');\n",
              "      img.id = name;\n",
              "      document.body.appendChild(img);\n",
              "    }\n",
              "    img.src = image;\n",
              "    img.width = width;\n",
              "    img.height = height;\n",
              "  }\n",
              "  "
            ]
          },
          "metadata": {}
        },
        {
          "output_type": "display_data",
          "data": {
            "text/plain": [
              "<IPython.core.display.Javascript object>"
            ],
            "application/javascript": [
              "\n",
              "  async function showImage(name, image, width, height) {\n",
              "    img = document.getElementById(name);\n",
              "    if(img == null) {\n",
              "      img = document.createElement('img');\n",
              "      img.id = name;\n",
              "      document.body.appendChild(img);\n",
              "    }\n",
              "    img.src = image;\n",
              "    img.width = width;\n",
              "    img.height = height;\n",
              "  }\n",
              "  "
            ]
          },
          "metadata": {}
        },
        {
          "output_type": "display_data",
          "data": {
            "text/plain": [
              "<IPython.core.display.Javascript object>"
            ],
            "application/javascript": [
              "\n",
              "  async function showImage(name, image, width, height) {\n",
              "    img = document.getElementById(name);\n",
              "    if(img == null) {\n",
              "      img = document.createElement('img');\n",
              "      img.id = name;\n",
              "      document.body.appendChild(img);\n",
              "    }\n",
              "    img.src = image;\n",
              "    img.width = width;\n",
              "    img.height = height;\n",
              "  }\n",
              "  "
            ]
          },
          "metadata": {}
        },
        {
          "output_type": "display_data",
          "data": {
            "text/plain": [
              "<IPython.core.display.Javascript object>"
            ],
            "application/javascript": [
              "\n",
              "  async function showImage(name, image, width, height) {\n",
              "    img = document.getElementById(name);\n",
              "    if(img == null) {\n",
              "      img = document.createElement('img');\n",
              "      img.id = name;\n",
              "      document.body.appendChild(img);\n",
              "    }\n",
              "    img.src = image;\n",
              "    img.width = width;\n",
              "    img.height = height;\n",
              "  }\n",
              "  "
            ]
          },
          "metadata": {}
        },
        {
          "output_type": "display_data",
          "data": {
            "text/plain": [
              "<IPython.core.display.Javascript object>"
            ],
            "application/javascript": [
              "\n",
              "  async function showImage(name, image, width, height) {\n",
              "    img = document.getElementById(name);\n",
              "    if(img == null) {\n",
              "      img = document.createElement('img');\n",
              "      img.id = name;\n",
              "      document.body.appendChild(img);\n",
              "    }\n",
              "    img.src = image;\n",
              "    img.width = width;\n",
              "    img.height = height;\n",
              "  }\n",
              "  "
            ]
          },
          "metadata": {}
        },
        {
          "output_type": "display_data",
          "data": {
            "text/plain": [
              "<IPython.core.display.Javascript object>"
            ],
            "application/javascript": [
              "\n",
              "  async function showImage(name, image, width, height) {\n",
              "    img = document.getElementById(name);\n",
              "    if(img == null) {\n",
              "      img = document.createElement('img');\n",
              "      img.id = name;\n",
              "      document.body.appendChild(img);\n",
              "    }\n",
              "    img.src = image;\n",
              "    img.width = width;\n",
              "    img.height = height;\n",
              "  }\n",
              "  "
            ]
          },
          "metadata": {}
        },
        {
          "output_type": "display_data",
          "data": {
            "text/plain": [
              "<IPython.core.display.Javascript object>"
            ],
            "application/javascript": [
              "\n",
              "  async function showImage(name, image, width, height) {\n",
              "    img = document.getElementById(name);\n",
              "    if(img == null) {\n",
              "      img = document.createElement('img');\n",
              "      img.id = name;\n",
              "      document.body.appendChild(img);\n",
              "    }\n",
              "    img.src = image;\n",
              "    img.width = width;\n",
              "    img.height = height;\n",
              "  }\n",
              "  "
            ]
          },
          "metadata": {}
        },
        {
          "output_type": "display_data",
          "data": {
            "text/plain": [
              "<IPython.core.display.Javascript object>"
            ],
            "application/javascript": [
              "\n",
              "  async function showImage(name, image, width, height) {\n",
              "    img = document.getElementById(name);\n",
              "    if(img == null) {\n",
              "      img = document.createElement('img');\n",
              "      img.id = name;\n",
              "      document.body.appendChild(img);\n",
              "    }\n",
              "    img.src = image;\n",
              "    img.width = width;\n",
              "    img.height = height;\n",
              "  }\n",
              "  "
            ]
          },
          "metadata": {}
        },
        {
          "output_type": "display_data",
          "data": {
            "text/plain": [
              "<IPython.core.display.Javascript object>"
            ],
            "application/javascript": [
              "\n",
              "  async function showImage(name, image, width, height) {\n",
              "    img = document.getElementById(name);\n",
              "    if(img == null) {\n",
              "      img = document.createElement('img');\n",
              "      img.id = name;\n",
              "      document.body.appendChild(img);\n",
              "    }\n",
              "    img.src = image;\n",
              "    img.width = width;\n",
              "    img.height = height;\n",
              "  }\n",
              "  "
            ]
          },
          "metadata": {}
        },
        {
          "output_type": "display_data",
          "data": {
            "text/plain": [
              "<IPython.core.display.Javascript object>"
            ],
            "application/javascript": [
              "\n",
              "  async function showImage(name, image, width, height) {\n",
              "    img = document.getElementById(name);\n",
              "    if(img == null) {\n",
              "      img = document.createElement('img');\n",
              "      img.id = name;\n",
              "      document.body.appendChild(img);\n",
              "    }\n",
              "    img.src = image;\n",
              "    img.width = width;\n",
              "    img.height = height;\n",
              "  }\n",
              "  "
            ]
          },
          "metadata": {}
        },
        {
          "output_type": "display_data",
          "data": {
            "text/plain": [
              "<IPython.core.display.Javascript object>"
            ],
            "application/javascript": [
              "\n",
              "  async function showImage(name, image, width, height) {\n",
              "    img = document.getElementById(name);\n",
              "    if(img == null) {\n",
              "      img = document.createElement('img');\n",
              "      img.id = name;\n",
              "      document.body.appendChild(img);\n",
              "    }\n",
              "    img.src = image;\n",
              "    img.width = width;\n",
              "    img.height = height;\n",
              "  }\n",
              "  "
            ]
          },
          "metadata": {}
        },
        {
          "output_type": "display_data",
          "data": {
            "text/plain": [
              "<IPython.core.display.Javascript object>"
            ],
            "application/javascript": [
              "\n",
              "  async function showImage(name, image, width, height) {\n",
              "    img = document.getElementById(name);\n",
              "    if(img == null) {\n",
              "      img = document.createElement('img');\n",
              "      img.id = name;\n",
              "      document.body.appendChild(img);\n",
              "    }\n",
              "    img.src = image;\n",
              "    img.width = width;\n",
              "    img.height = height;\n",
              "  }\n",
              "  "
            ]
          },
          "metadata": {}
        },
        {
          "output_type": "display_data",
          "data": {
            "text/plain": [
              "<IPython.core.display.Javascript object>"
            ],
            "application/javascript": [
              "\n",
              "  async function showImage(name, image, width, height) {\n",
              "    img = document.getElementById(name);\n",
              "    if(img == null) {\n",
              "      img = document.createElement('img');\n",
              "      img.id = name;\n",
              "      document.body.appendChild(img);\n",
              "    }\n",
              "    img.src = image;\n",
              "    img.width = width;\n",
              "    img.height = height;\n",
              "  }\n",
              "  "
            ]
          },
          "metadata": {}
        },
        {
          "output_type": "display_data",
          "data": {
            "text/plain": [
              "<IPython.core.display.Javascript object>"
            ],
            "application/javascript": [
              "\n",
              "  async function showImage(name, image, width, height) {\n",
              "    img = document.getElementById(name);\n",
              "    if(img == null) {\n",
              "      img = document.createElement('img');\n",
              "      img.id = name;\n",
              "      document.body.appendChild(img);\n",
              "    }\n",
              "    img.src = image;\n",
              "    img.width = width;\n",
              "    img.height = height;\n",
              "  }\n",
              "  "
            ]
          },
          "metadata": {}
        },
        {
          "output_type": "display_data",
          "data": {
            "text/plain": [
              "<IPython.core.display.Javascript object>"
            ],
            "application/javascript": [
              "\n",
              "  async function showImage(name, image, width, height) {\n",
              "    img = document.getElementById(name);\n",
              "    if(img == null) {\n",
              "      img = document.createElement('img');\n",
              "      img.id = name;\n",
              "      document.body.appendChild(img);\n",
              "    }\n",
              "    img.src = image;\n",
              "    img.width = width;\n",
              "    img.height = height;\n",
              "  }\n",
              "  "
            ]
          },
          "metadata": {}
        },
        {
          "output_type": "display_data",
          "data": {
            "text/plain": [
              "<IPython.core.display.Javascript object>"
            ],
            "application/javascript": [
              "\n",
              "  async function showImage(name, image, width, height) {\n",
              "    img = document.getElementById(name);\n",
              "    if(img == null) {\n",
              "      img = document.createElement('img');\n",
              "      img.id = name;\n",
              "      document.body.appendChild(img);\n",
              "    }\n",
              "    img.src = image;\n",
              "    img.width = width;\n",
              "    img.height = height;\n",
              "  }\n",
              "  "
            ]
          },
          "metadata": {}
        },
        {
          "output_type": "display_data",
          "data": {
            "text/plain": [
              "<IPython.core.display.Javascript object>"
            ],
            "application/javascript": [
              "\n",
              "  async function showImage(name, image, width, height) {\n",
              "    img = document.getElementById(name);\n",
              "    if(img == null) {\n",
              "      img = document.createElement('img');\n",
              "      img.id = name;\n",
              "      document.body.appendChild(img);\n",
              "    }\n",
              "    img.src = image;\n",
              "    img.width = width;\n",
              "    img.height = height;\n",
              "  }\n",
              "  "
            ]
          },
          "metadata": {}
        },
        {
          "output_type": "display_data",
          "data": {
            "text/plain": [
              "<IPython.core.display.Javascript object>"
            ],
            "application/javascript": [
              "\n",
              "  async function showImage(name, image, width, height) {\n",
              "    img = document.getElementById(name);\n",
              "    if(img == null) {\n",
              "      img = document.createElement('img');\n",
              "      img.id = name;\n",
              "      document.body.appendChild(img);\n",
              "    }\n",
              "    img.src = image;\n",
              "    img.width = width;\n",
              "    img.height = height;\n",
              "  }\n",
              "  "
            ]
          },
          "metadata": {}
        },
        {
          "output_type": "display_data",
          "data": {
            "text/plain": [
              "<IPython.core.display.Javascript object>"
            ],
            "application/javascript": [
              "\n",
              "  async function showImage(name, image, width, height) {\n",
              "    img = document.getElementById(name);\n",
              "    if(img == null) {\n",
              "      img = document.createElement('img');\n",
              "      img.id = name;\n",
              "      document.body.appendChild(img);\n",
              "    }\n",
              "    img.src = image;\n",
              "    img.width = width;\n",
              "    img.height = height;\n",
              "  }\n",
              "  "
            ]
          },
          "metadata": {}
        },
        {
          "output_type": "display_data",
          "data": {
            "text/plain": [
              "<IPython.core.display.Javascript object>"
            ],
            "application/javascript": [
              "\n",
              "  async function showImage(name, image, width, height) {\n",
              "    img = document.getElementById(name);\n",
              "    if(img == null) {\n",
              "      img = document.createElement('img');\n",
              "      img.id = name;\n",
              "      document.body.appendChild(img);\n",
              "    }\n",
              "    img.src = image;\n",
              "    img.width = width;\n",
              "    img.height = height;\n",
              "  }\n",
              "  "
            ]
          },
          "metadata": {}
        },
        {
          "output_type": "display_data",
          "data": {
            "text/plain": [
              "<IPython.core.display.Javascript object>"
            ],
            "application/javascript": [
              "\n",
              "  async function showImage(name, image, width, height) {\n",
              "    img = document.getElementById(name);\n",
              "    if(img == null) {\n",
              "      img = document.createElement('img');\n",
              "      img.id = name;\n",
              "      document.body.appendChild(img);\n",
              "    }\n",
              "    img.src = image;\n",
              "    img.width = width;\n",
              "    img.height = height;\n",
              "  }\n",
              "  "
            ]
          },
          "metadata": {}
        },
        {
          "output_type": "display_data",
          "data": {
            "text/plain": [
              "<IPython.core.display.Javascript object>"
            ],
            "application/javascript": [
              "\n",
              "  async function showImage(name, image, width, height) {\n",
              "    img = document.getElementById(name);\n",
              "    if(img == null) {\n",
              "      img = document.createElement('img');\n",
              "      img.id = name;\n",
              "      document.body.appendChild(img);\n",
              "    }\n",
              "    img.src = image;\n",
              "    img.width = width;\n",
              "    img.height = height;\n",
              "  }\n",
              "  "
            ]
          },
          "metadata": {}
        },
        {
          "output_type": "display_data",
          "data": {
            "text/plain": [
              "<IPython.core.display.Javascript object>"
            ],
            "application/javascript": [
              "\n",
              "  async function showImage(name, image, width, height) {\n",
              "    img = document.getElementById(name);\n",
              "    if(img == null) {\n",
              "      img = document.createElement('img');\n",
              "      img.id = name;\n",
              "      document.body.appendChild(img);\n",
              "    }\n",
              "    img.src = image;\n",
              "    img.width = width;\n",
              "    img.height = height;\n",
              "  }\n",
              "  "
            ]
          },
          "metadata": {}
        },
        {
          "output_type": "display_data",
          "data": {
            "text/plain": [
              "<IPython.core.display.Javascript object>"
            ],
            "application/javascript": [
              "\n",
              "  async function showImage(name, image, width, height) {\n",
              "    img = document.getElementById(name);\n",
              "    if(img == null) {\n",
              "      img = document.createElement('img');\n",
              "      img.id = name;\n",
              "      document.body.appendChild(img);\n",
              "    }\n",
              "    img.src = image;\n",
              "    img.width = width;\n",
              "    img.height = height;\n",
              "  }\n",
              "  "
            ]
          },
          "metadata": {}
        },
        {
          "output_type": "display_data",
          "data": {
            "text/plain": [
              "<IPython.core.display.Javascript object>"
            ],
            "application/javascript": [
              "\n",
              "  async function showImage(name, image, width, height) {\n",
              "    img = document.getElementById(name);\n",
              "    if(img == null) {\n",
              "      img = document.createElement('img');\n",
              "      img.id = name;\n",
              "      document.body.appendChild(img);\n",
              "    }\n",
              "    img.src = image;\n",
              "    img.width = width;\n",
              "    img.height = height;\n",
              "  }\n",
              "  "
            ]
          },
          "metadata": {}
        },
        {
          "output_type": "display_data",
          "data": {
            "text/plain": [
              "<IPython.core.display.Javascript object>"
            ],
            "application/javascript": [
              "\n",
              "  async function showImage(name, image, width, height) {\n",
              "    img = document.getElementById(name);\n",
              "    if(img == null) {\n",
              "      img = document.createElement('img');\n",
              "      img.id = name;\n",
              "      document.body.appendChild(img);\n",
              "    }\n",
              "    img.src = image;\n",
              "    img.width = width;\n",
              "    img.height = height;\n",
              "  }\n",
              "  "
            ]
          },
          "metadata": {}
        },
        {
          "output_type": "display_data",
          "data": {
            "text/plain": [
              "<IPython.core.display.Javascript object>"
            ],
            "application/javascript": [
              "\n",
              "  async function showImage(name, image, width, height) {\n",
              "    img = document.getElementById(name);\n",
              "    if(img == null) {\n",
              "      img = document.createElement('img');\n",
              "      img.id = name;\n",
              "      document.body.appendChild(img);\n",
              "    }\n",
              "    img.src = image;\n",
              "    img.width = width;\n",
              "    img.height = height;\n",
              "  }\n",
              "  "
            ]
          },
          "metadata": {}
        },
        {
          "output_type": "display_data",
          "data": {
            "text/plain": [
              "<IPython.core.display.Javascript object>"
            ],
            "application/javascript": [
              "\n",
              "  async function showImage(name, image, width, height) {\n",
              "    img = document.getElementById(name);\n",
              "    if(img == null) {\n",
              "      img = document.createElement('img');\n",
              "      img.id = name;\n",
              "      document.body.appendChild(img);\n",
              "    }\n",
              "    img.src = image;\n",
              "    img.width = width;\n",
              "    img.height = height;\n",
              "  }\n",
              "  "
            ]
          },
          "metadata": {}
        },
        {
          "output_type": "display_data",
          "data": {
            "text/plain": [
              "<IPython.core.display.Javascript object>"
            ],
            "application/javascript": [
              "\n",
              "  async function showImage(name, image, width, height) {\n",
              "    img = document.getElementById(name);\n",
              "    if(img == null) {\n",
              "      img = document.createElement('img');\n",
              "      img.id = name;\n",
              "      document.body.appendChild(img);\n",
              "    }\n",
              "    img.src = image;\n",
              "    img.width = width;\n",
              "    img.height = height;\n",
              "  }\n",
              "  "
            ]
          },
          "metadata": {}
        },
        {
          "output_type": "display_data",
          "data": {
            "text/plain": [
              "<IPython.core.display.Javascript object>"
            ],
            "application/javascript": [
              "\n",
              "  async function showImage(name, image, width, height) {\n",
              "    img = document.getElementById(name);\n",
              "    if(img == null) {\n",
              "      img = document.createElement('img');\n",
              "      img.id = name;\n",
              "      document.body.appendChild(img);\n",
              "    }\n",
              "    img.src = image;\n",
              "    img.width = width;\n",
              "    img.height = height;\n",
              "  }\n",
              "  "
            ]
          },
          "metadata": {}
        },
        {
          "output_type": "display_data",
          "data": {
            "text/plain": [
              "<IPython.core.display.Javascript object>"
            ],
            "application/javascript": [
              "\n",
              "  async function showImage(name, image, width, height) {\n",
              "    img = document.getElementById(name);\n",
              "    if(img == null) {\n",
              "      img = document.createElement('img');\n",
              "      img.id = name;\n",
              "      document.body.appendChild(img);\n",
              "    }\n",
              "    img.src = image;\n",
              "    img.width = width;\n",
              "    img.height = height;\n",
              "  }\n",
              "  "
            ]
          },
          "metadata": {}
        },
        {
          "output_type": "display_data",
          "data": {
            "text/plain": [
              "<IPython.core.display.Javascript object>"
            ],
            "application/javascript": [
              "\n",
              "  async function showImage(name, image, width, height) {\n",
              "    img = document.getElementById(name);\n",
              "    if(img == null) {\n",
              "      img = document.createElement('img');\n",
              "      img.id = name;\n",
              "      document.body.appendChild(img);\n",
              "    }\n",
              "    img.src = image;\n",
              "    img.width = width;\n",
              "    img.height = height;\n",
              "  }\n",
              "  "
            ]
          },
          "metadata": {}
        },
        {
          "output_type": "display_data",
          "data": {
            "text/plain": [
              "<IPython.core.display.Javascript object>"
            ],
            "application/javascript": [
              "\n",
              "  async function showImage(name, image, width, height) {\n",
              "    img = document.getElementById(name);\n",
              "    if(img == null) {\n",
              "      img = document.createElement('img');\n",
              "      img.id = name;\n",
              "      document.body.appendChild(img);\n",
              "    }\n",
              "    img.src = image;\n",
              "    img.width = width;\n",
              "    img.height = height;\n",
              "  }\n",
              "  "
            ]
          },
          "metadata": {}
        },
        {
          "output_type": "display_data",
          "data": {
            "text/plain": [
              "<IPython.core.display.Javascript object>"
            ],
            "application/javascript": [
              "\n",
              "  async function showImage(name, image, width, height) {\n",
              "    img = document.getElementById(name);\n",
              "    if(img == null) {\n",
              "      img = document.createElement('img');\n",
              "      img.id = name;\n",
              "      document.body.appendChild(img);\n",
              "    }\n",
              "    img.src = image;\n",
              "    img.width = width;\n",
              "    img.height = height;\n",
              "  }\n",
              "  "
            ]
          },
          "metadata": {}
        },
        {
          "output_type": "display_data",
          "data": {
            "text/plain": [
              "<IPython.core.display.Javascript object>"
            ],
            "application/javascript": [
              "\n",
              "  async function showImage(name, image, width, height) {\n",
              "    img = document.getElementById(name);\n",
              "    if(img == null) {\n",
              "      img = document.createElement('img');\n",
              "      img.id = name;\n",
              "      document.body.appendChild(img);\n",
              "    }\n",
              "    img.src = image;\n",
              "    img.width = width;\n",
              "    img.height = height;\n",
              "  }\n",
              "  "
            ]
          },
          "metadata": {}
        },
        {
          "output_type": "display_data",
          "data": {
            "text/plain": [
              "<IPython.core.display.Javascript object>"
            ],
            "application/javascript": [
              "\n",
              "  async function showImage(name, image, width, height) {\n",
              "    img = document.getElementById(name);\n",
              "    if(img == null) {\n",
              "      img = document.createElement('img');\n",
              "      img.id = name;\n",
              "      document.body.appendChild(img);\n",
              "    }\n",
              "    img.src = image;\n",
              "    img.width = width;\n",
              "    img.height = height;\n",
              "  }\n",
              "  "
            ]
          },
          "metadata": {}
        },
        {
          "output_type": "display_data",
          "data": {
            "text/plain": [
              "<IPython.core.display.Javascript object>"
            ],
            "application/javascript": [
              "\n",
              "  async function showImage(name, image, width, height) {\n",
              "    img = document.getElementById(name);\n",
              "    if(img == null) {\n",
              "      img = document.createElement('img');\n",
              "      img.id = name;\n",
              "      document.body.appendChild(img);\n",
              "    }\n",
              "    img.src = image;\n",
              "    img.width = width;\n",
              "    img.height = height;\n",
              "  }\n",
              "  "
            ]
          },
          "metadata": {}
        },
        {
          "output_type": "display_data",
          "data": {
            "text/plain": [
              "<IPython.core.display.Javascript object>"
            ],
            "application/javascript": [
              "\n",
              "  async function showImage(name, image, width, height) {\n",
              "    img = document.getElementById(name);\n",
              "    if(img == null) {\n",
              "      img = document.createElement('img');\n",
              "      img.id = name;\n",
              "      document.body.appendChild(img);\n",
              "    }\n",
              "    img.src = image;\n",
              "    img.width = width;\n",
              "    img.height = height;\n",
              "  }\n",
              "  "
            ]
          },
          "metadata": {}
        },
        {
          "output_type": "display_data",
          "data": {
            "text/plain": [
              "<IPython.core.display.Javascript object>"
            ],
            "application/javascript": [
              "\n",
              "  async function showImage(name, image, width, height) {\n",
              "    img = document.getElementById(name);\n",
              "    if(img == null) {\n",
              "      img = document.createElement('img');\n",
              "      img.id = name;\n",
              "      document.body.appendChild(img);\n",
              "    }\n",
              "    img.src = image;\n",
              "    img.width = width;\n",
              "    img.height = height;\n",
              "  }\n",
              "  "
            ]
          },
          "metadata": {}
        },
        {
          "output_type": "display_data",
          "data": {
            "text/plain": [
              "<IPython.core.display.Javascript object>"
            ],
            "application/javascript": [
              "\n",
              "  async function showImage(name, image, width, height) {\n",
              "    img = document.getElementById(name);\n",
              "    if(img == null) {\n",
              "      img = document.createElement('img');\n",
              "      img.id = name;\n",
              "      document.body.appendChild(img);\n",
              "    }\n",
              "    img.src = image;\n",
              "    img.width = width;\n",
              "    img.height = height;\n",
              "  }\n",
              "  "
            ]
          },
          "metadata": {}
        },
        {
          "output_type": "display_data",
          "data": {
            "text/plain": [
              "<IPython.core.display.Javascript object>"
            ],
            "application/javascript": [
              "\n",
              "  async function showImage(name, image, width, height) {\n",
              "    img = document.getElementById(name);\n",
              "    if(img == null) {\n",
              "      img = document.createElement('img');\n",
              "      img.id = name;\n",
              "      document.body.appendChild(img);\n",
              "    }\n",
              "    img.src = image;\n",
              "    img.width = width;\n",
              "    img.height = height;\n",
              "  }\n",
              "  "
            ]
          },
          "metadata": {}
        },
        {
          "output_type": "display_data",
          "data": {
            "text/plain": [
              "<IPython.core.display.Javascript object>"
            ],
            "application/javascript": [
              "\n",
              "  async function showImage(name, image, width, height) {\n",
              "    img = document.getElementById(name);\n",
              "    if(img == null) {\n",
              "      img = document.createElement('img');\n",
              "      img.id = name;\n",
              "      document.body.appendChild(img);\n",
              "    }\n",
              "    img.src = image;\n",
              "    img.width = width;\n",
              "    img.height = height;\n",
              "  }\n",
              "  "
            ]
          },
          "metadata": {}
        },
        {
          "output_type": "display_data",
          "data": {
            "text/plain": [
              "<IPython.core.display.Javascript object>"
            ],
            "application/javascript": [
              "\n",
              "  async function showImage(name, image, width, height) {\n",
              "    img = document.getElementById(name);\n",
              "    if(img == null) {\n",
              "      img = document.createElement('img');\n",
              "      img.id = name;\n",
              "      document.body.appendChild(img);\n",
              "    }\n",
              "    img.src = image;\n",
              "    img.width = width;\n",
              "    img.height = height;\n",
              "  }\n",
              "  "
            ]
          },
          "metadata": {}
        },
        {
          "output_type": "display_data",
          "data": {
            "text/plain": [
              "<IPython.core.display.Javascript object>"
            ],
            "application/javascript": [
              "\n",
              "  async function showImage(name, image, width, height) {\n",
              "    img = document.getElementById(name);\n",
              "    if(img == null) {\n",
              "      img = document.createElement('img');\n",
              "      img.id = name;\n",
              "      document.body.appendChild(img);\n",
              "    }\n",
              "    img.src = image;\n",
              "    img.width = width;\n",
              "    img.height = height;\n",
              "  }\n",
              "  "
            ]
          },
          "metadata": {}
        },
        {
          "output_type": "display_data",
          "data": {
            "text/plain": [
              "<IPython.core.display.Javascript object>"
            ],
            "application/javascript": [
              "\n",
              "  async function showImage(name, image, width, height) {\n",
              "    img = document.getElementById(name);\n",
              "    if(img == null) {\n",
              "      img = document.createElement('img');\n",
              "      img.id = name;\n",
              "      document.body.appendChild(img);\n",
              "    }\n",
              "    img.src = image;\n",
              "    img.width = width;\n",
              "    img.height = height;\n",
              "  }\n",
              "  "
            ]
          },
          "metadata": {}
        },
        {
          "output_type": "display_data",
          "data": {
            "text/plain": [
              "<IPython.core.display.Javascript object>"
            ],
            "application/javascript": [
              "\n",
              "  async function showImage(name, image, width, height) {\n",
              "    img = document.getElementById(name);\n",
              "    if(img == null) {\n",
              "      img = document.createElement('img');\n",
              "      img.id = name;\n",
              "      document.body.appendChild(img);\n",
              "    }\n",
              "    img.src = image;\n",
              "    img.width = width;\n",
              "    img.height = height;\n",
              "  }\n",
              "  "
            ]
          },
          "metadata": {}
        },
        {
          "output_type": "display_data",
          "data": {
            "text/plain": [
              "<IPython.core.display.Javascript object>"
            ],
            "application/javascript": [
              "\n",
              "  async function showImage(name, image, width, height) {\n",
              "    img = document.getElementById(name);\n",
              "    if(img == null) {\n",
              "      img = document.createElement('img');\n",
              "      img.id = name;\n",
              "      document.body.appendChild(img);\n",
              "    }\n",
              "    img.src = image;\n",
              "    img.width = width;\n",
              "    img.height = height;\n",
              "  }\n",
              "  "
            ]
          },
          "metadata": {}
        },
        {
          "output_type": "display_data",
          "data": {
            "text/plain": [
              "<IPython.core.display.Javascript object>"
            ],
            "application/javascript": [
              "\n",
              "  async function showImage(name, image, width, height) {\n",
              "    img = document.getElementById(name);\n",
              "    if(img == null) {\n",
              "      img = document.createElement('img');\n",
              "      img.id = name;\n",
              "      document.body.appendChild(img);\n",
              "    }\n",
              "    img.src = image;\n",
              "    img.width = width;\n",
              "    img.height = height;\n",
              "  }\n",
              "  "
            ]
          },
          "metadata": {}
        },
        {
          "output_type": "display_data",
          "data": {
            "text/plain": [
              "<IPython.core.display.Javascript object>"
            ],
            "application/javascript": [
              "\n",
              "  async function showImage(name, image, width, height) {\n",
              "    img = document.getElementById(name);\n",
              "    if(img == null) {\n",
              "      img = document.createElement('img');\n",
              "      img.id = name;\n",
              "      document.body.appendChild(img);\n",
              "    }\n",
              "    img.src = image;\n",
              "    img.width = width;\n",
              "    img.height = height;\n",
              "  }\n",
              "  "
            ]
          },
          "metadata": {}
        },
        {
          "output_type": "display_data",
          "data": {
            "text/plain": [
              "<IPython.core.display.Javascript object>"
            ],
            "application/javascript": [
              "\n",
              "  async function showImage(name, image, width, height) {\n",
              "    img = document.getElementById(name);\n",
              "    if(img == null) {\n",
              "      img = document.createElement('img');\n",
              "      img.id = name;\n",
              "      document.body.appendChild(img);\n",
              "    }\n",
              "    img.src = image;\n",
              "    img.width = width;\n",
              "    img.height = height;\n",
              "  }\n",
              "  "
            ]
          },
          "metadata": {}
        },
        {
          "output_type": "display_data",
          "data": {
            "text/plain": [
              "<IPython.core.display.Javascript object>"
            ],
            "application/javascript": [
              "\n",
              "  async function showImage(name, image, width, height) {\n",
              "    img = document.getElementById(name);\n",
              "    if(img == null) {\n",
              "      img = document.createElement('img');\n",
              "      img.id = name;\n",
              "      document.body.appendChild(img);\n",
              "    }\n",
              "    img.src = image;\n",
              "    img.width = width;\n",
              "    img.height = height;\n",
              "  }\n",
              "  "
            ]
          },
          "metadata": {}
        },
        {
          "output_type": "display_data",
          "data": {
            "text/plain": [
              "<IPython.core.display.Javascript object>"
            ],
            "application/javascript": [
              "\n",
              "  async function showImage(name, image, width, height) {\n",
              "    img = document.getElementById(name);\n",
              "    if(img == null) {\n",
              "      img = document.createElement('img');\n",
              "      img.id = name;\n",
              "      document.body.appendChild(img);\n",
              "    }\n",
              "    img.src = image;\n",
              "    img.width = width;\n",
              "    img.height = height;\n",
              "  }\n",
              "  "
            ]
          },
          "metadata": {}
        },
        {
          "output_type": "display_data",
          "data": {
            "text/plain": [
              "<IPython.core.display.Javascript object>"
            ],
            "application/javascript": [
              "\n",
              "  async function showImage(name, image, width, height) {\n",
              "    img = document.getElementById(name);\n",
              "    if(img == null) {\n",
              "      img = document.createElement('img');\n",
              "      img.id = name;\n",
              "      document.body.appendChild(img);\n",
              "    }\n",
              "    img.src = image;\n",
              "    img.width = width;\n",
              "    img.height = height;\n",
              "  }\n",
              "  "
            ]
          },
          "metadata": {}
        },
        {
          "output_type": "display_data",
          "data": {
            "text/plain": [
              "<IPython.core.display.Javascript object>"
            ],
            "application/javascript": [
              "\n",
              "  async function showImage(name, image, width, height) {\n",
              "    img = document.getElementById(name);\n",
              "    if(img == null) {\n",
              "      img = document.createElement('img');\n",
              "      img.id = name;\n",
              "      document.body.appendChild(img);\n",
              "    }\n",
              "    img.src = image;\n",
              "    img.width = width;\n",
              "    img.height = height;\n",
              "  }\n",
              "  "
            ]
          },
          "metadata": {}
        },
        {
          "output_type": "display_data",
          "data": {
            "text/plain": [
              "<IPython.core.display.Javascript object>"
            ],
            "application/javascript": [
              "\n",
              "  async function showImage(name, image, width, height) {\n",
              "    img = document.getElementById(name);\n",
              "    if(img == null) {\n",
              "      img = document.createElement('img');\n",
              "      img.id = name;\n",
              "      document.body.appendChild(img);\n",
              "    }\n",
              "    img.src = image;\n",
              "    img.width = width;\n",
              "    img.height = height;\n",
              "  }\n",
              "  "
            ]
          },
          "metadata": {}
        },
        {
          "output_type": "display_data",
          "data": {
            "text/plain": [
              "<IPython.core.display.Javascript object>"
            ],
            "application/javascript": [
              "\n",
              "  async function showImage(name, image, width, height) {\n",
              "    img = document.getElementById(name);\n",
              "    if(img == null) {\n",
              "      img = document.createElement('img');\n",
              "      img.id = name;\n",
              "      document.body.appendChild(img);\n",
              "    }\n",
              "    img.src = image;\n",
              "    img.width = width;\n",
              "    img.height = height;\n",
              "  }\n",
              "  "
            ]
          },
          "metadata": {}
        },
        {
          "output_type": "display_data",
          "data": {
            "text/plain": [
              "<IPython.core.display.Javascript object>"
            ],
            "application/javascript": [
              "\n",
              "  async function showImage(name, image, width, height) {\n",
              "    img = document.getElementById(name);\n",
              "    if(img == null) {\n",
              "      img = document.createElement('img');\n",
              "      img.id = name;\n",
              "      document.body.appendChild(img);\n",
              "    }\n",
              "    img.src = image;\n",
              "    img.width = width;\n",
              "    img.height = height;\n",
              "  }\n",
              "  "
            ]
          },
          "metadata": {}
        },
        {
          "output_type": "display_data",
          "data": {
            "text/plain": [
              "<IPython.core.display.Javascript object>"
            ],
            "application/javascript": [
              "\n",
              "  async function showImage(name, image, width, height) {\n",
              "    img = document.getElementById(name);\n",
              "    if(img == null) {\n",
              "      img = document.createElement('img');\n",
              "      img.id = name;\n",
              "      document.body.appendChild(img);\n",
              "    }\n",
              "    img.src = image;\n",
              "    img.width = width;\n",
              "    img.height = height;\n",
              "  }\n",
              "  "
            ]
          },
          "metadata": {}
        },
        {
          "output_type": "display_data",
          "data": {
            "text/plain": [
              "<IPython.core.display.Javascript object>"
            ],
            "application/javascript": [
              "\n",
              "  async function showImage(name, image, width, height) {\n",
              "    img = document.getElementById(name);\n",
              "    if(img == null) {\n",
              "      img = document.createElement('img');\n",
              "      img.id = name;\n",
              "      document.body.appendChild(img);\n",
              "    }\n",
              "    img.src = image;\n",
              "    img.width = width;\n",
              "    img.height = height;\n",
              "  }\n",
              "  "
            ]
          },
          "metadata": {}
        },
        {
          "output_type": "display_data",
          "data": {
            "text/plain": [
              "<IPython.core.display.Javascript object>"
            ],
            "application/javascript": [
              "\n",
              "  async function showImage(name, image, width, height) {\n",
              "    img = document.getElementById(name);\n",
              "    if(img == null) {\n",
              "      img = document.createElement('img');\n",
              "      img.id = name;\n",
              "      document.body.appendChild(img);\n",
              "    }\n",
              "    img.src = image;\n",
              "    img.width = width;\n",
              "    img.height = height;\n",
              "  }\n",
              "  "
            ]
          },
          "metadata": {}
        },
        {
          "output_type": "display_data",
          "data": {
            "text/plain": [
              "<IPython.core.display.Javascript object>"
            ],
            "application/javascript": [
              "\n",
              "  async function showImage(name, image, width, height) {\n",
              "    img = document.getElementById(name);\n",
              "    if(img == null) {\n",
              "      img = document.createElement('img');\n",
              "      img.id = name;\n",
              "      document.body.appendChild(img);\n",
              "    }\n",
              "    img.src = image;\n",
              "    img.width = width;\n",
              "    img.height = height;\n",
              "  }\n",
              "  "
            ]
          },
          "metadata": {}
        },
        {
          "output_type": "display_data",
          "data": {
            "text/plain": [
              "<IPython.core.display.Javascript object>"
            ],
            "application/javascript": [
              "\n",
              "  async function showImage(name, image, width, height) {\n",
              "    img = document.getElementById(name);\n",
              "    if(img == null) {\n",
              "      img = document.createElement('img');\n",
              "      img.id = name;\n",
              "      document.body.appendChild(img);\n",
              "    }\n",
              "    img.src = image;\n",
              "    img.width = width;\n",
              "    img.height = height;\n",
              "  }\n",
              "  "
            ]
          },
          "metadata": {}
        },
        {
          "output_type": "display_data",
          "data": {
            "text/plain": [
              "<IPython.core.display.Javascript object>"
            ],
            "application/javascript": [
              "\n",
              "  async function showImage(name, image, width, height) {\n",
              "    img = document.getElementById(name);\n",
              "    if(img == null) {\n",
              "      img = document.createElement('img');\n",
              "      img.id = name;\n",
              "      document.body.appendChild(img);\n",
              "    }\n",
              "    img.src = image;\n",
              "    img.width = width;\n",
              "    img.height = height;\n",
              "  }\n",
              "  "
            ]
          },
          "metadata": {}
        },
        {
          "output_type": "display_data",
          "data": {
            "text/plain": [
              "<IPython.core.display.Javascript object>"
            ],
            "application/javascript": [
              "\n",
              "  async function showImage(name, image, width, height) {\n",
              "    img = document.getElementById(name);\n",
              "    if(img == null) {\n",
              "      img = document.createElement('img');\n",
              "      img.id = name;\n",
              "      document.body.appendChild(img);\n",
              "    }\n",
              "    img.src = image;\n",
              "    img.width = width;\n",
              "    img.height = height;\n",
              "  }\n",
              "  "
            ]
          },
          "metadata": {}
        },
        {
          "output_type": "display_data",
          "data": {
            "text/plain": [
              "<IPython.core.display.Javascript object>"
            ],
            "application/javascript": [
              "\n",
              "  async function showImage(name, image, width, height) {\n",
              "    img = document.getElementById(name);\n",
              "    if(img == null) {\n",
              "      img = document.createElement('img');\n",
              "      img.id = name;\n",
              "      document.body.appendChild(img);\n",
              "    }\n",
              "    img.src = image;\n",
              "    img.width = width;\n",
              "    img.height = height;\n",
              "  }\n",
              "  "
            ]
          },
          "metadata": {}
        },
        {
          "output_type": "display_data",
          "data": {
            "text/plain": [
              "<IPython.core.display.Javascript object>"
            ],
            "application/javascript": [
              "\n",
              "  async function showImage(name, image, width, height) {\n",
              "    img = document.getElementById(name);\n",
              "    if(img == null) {\n",
              "      img = document.createElement('img');\n",
              "      img.id = name;\n",
              "      document.body.appendChild(img);\n",
              "    }\n",
              "    img.src = image;\n",
              "    img.width = width;\n",
              "    img.height = height;\n",
              "  }\n",
              "  "
            ]
          },
          "metadata": {}
        },
        {
          "output_type": "display_data",
          "data": {
            "text/plain": [
              "<IPython.core.display.Javascript object>"
            ],
            "application/javascript": [
              "\n",
              "  async function showImage(name, image, width, height) {\n",
              "    img = document.getElementById(name);\n",
              "    if(img == null) {\n",
              "      img = document.createElement('img');\n",
              "      img.id = name;\n",
              "      document.body.appendChild(img);\n",
              "    }\n",
              "    img.src = image;\n",
              "    img.width = width;\n",
              "    img.height = height;\n",
              "  }\n",
              "  "
            ]
          },
          "metadata": {}
        },
        {
          "output_type": "display_data",
          "data": {
            "text/plain": [
              "<IPython.core.display.Javascript object>"
            ],
            "application/javascript": [
              "\n",
              "  async function showImage(name, image, width, height) {\n",
              "    img = document.getElementById(name);\n",
              "    if(img == null) {\n",
              "      img = document.createElement('img');\n",
              "      img.id = name;\n",
              "      document.body.appendChild(img);\n",
              "    }\n",
              "    img.src = image;\n",
              "    img.width = width;\n",
              "    img.height = height;\n",
              "  }\n",
              "  "
            ]
          },
          "metadata": {}
        },
        {
          "output_type": "display_data",
          "data": {
            "text/plain": [
              "<IPython.core.display.Javascript object>"
            ],
            "application/javascript": [
              "\n",
              "  async function showImage(name, image, width, height) {\n",
              "    img = document.getElementById(name);\n",
              "    if(img == null) {\n",
              "      img = document.createElement('img');\n",
              "      img.id = name;\n",
              "      document.body.appendChild(img);\n",
              "    }\n",
              "    img.src = image;\n",
              "    img.width = width;\n",
              "    img.height = height;\n",
              "  }\n",
              "  "
            ]
          },
          "metadata": {}
        },
        {
          "output_type": "display_data",
          "data": {
            "text/plain": [
              "<IPython.core.display.Javascript object>"
            ],
            "application/javascript": [
              "\n",
              "  async function showImage(name, image, width, height) {\n",
              "    img = document.getElementById(name);\n",
              "    if(img == null) {\n",
              "      img = document.createElement('img');\n",
              "      img.id = name;\n",
              "      document.body.appendChild(img);\n",
              "    }\n",
              "    img.src = image;\n",
              "    img.width = width;\n",
              "    img.height = height;\n",
              "  }\n",
              "  "
            ]
          },
          "metadata": {}
        },
        {
          "output_type": "display_data",
          "data": {
            "text/plain": [
              "<IPython.core.display.Javascript object>"
            ],
            "application/javascript": [
              "\n",
              "  async function showImage(name, image, width, height) {\n",
              "    img = document.getElementById(name);\n",
              "    if(img == null) {\n",
              "      img = document.createElement('img');\n",
              "      img.id = name;\n",
              "      document.body.appendChild(img);\n",
              "    }\n",
              "    img.src = image;\n",
              "    img.width = width;\n",
              "    img.height = height;\n",
              "  }\n",
              "  "
            ]
          },
          "metadata": {}
        },
        {
          "output_type": "display_data",
          "data": {
            "text/plain": [
              "<IPython.core.display.Javascript object>"
            ],
            "application/javascript": [
              "\n",
              "  async function showImage(name, image, width, height) {\n",
              "    img = document.getElementById(name);\n",
              "    if(img == null) {\n",
              "      img = document.createElement('img');\n",
              "      img.id = name;\n",
              "      document.body.appendChild(img);\n",
              "    }\n",
              "    img.src = image;\n",
              "    img.width = width;\n",
              "    img.height = height;\n",
              "  }\n",
              "  "
            ]
          },
          "metadata": {}
        },
        {
          "output_type": "display_data",
          "data": {
            "text/plain": [
              "<IPython.core.display.Javascript object>"
            ],
            "application/javascript": [
              "\n",
              "  async function showImage(name, image, width, height) {\n",
              "    img = document.getElementById(name);\n",
              "    if(img == null) {\n",
              "      img = document.createElement('img');\n",
              "      img.id = name;\n",
              "      document.body.appendChild(img);\n",
              "    }\n",
              "    img.src = image;\n",
              "    img.width = width;\n",
              "    img.height = height;\n",
              "  }\n",
              "  "
            ]
          },
          "metadata": {}
        },
        {
          "output_type": "display_data",
          "data": {
            "text/plain": [
              "<IPython.core.display.Javascript object>"
            ],
            "application/javascript": [
              "\n",
              "  async function showImage(name, image, width, height) {\n",
              "    img = document.getElementById(name);\n",
              "    if(img == null) {\n",
              "      img = document.createElement('img');\n",
              "      img.id = name;\n",
              "      document.body.appendChild(img);\n",
              "    }\n",
              "    img.src = image;\n",
              "    img.width = width;\n",
              "    img.height = height;\n",
              "  }\n",
              "  "
            ]
          },
          "metadata": {}
        },
        {
          "output_type": "display_data",
          "data": {
            "text/plain": [
              "<IPython.core.display.Javascript object>"
            ],
            "application/javascript": [
              "\n",
              "  async function showImage(name, image, width, height) {\n",
              "    img = document.getElementById(name);\n",
              "    if(img == null) {\n",
              "      img = document.createElement('img');\n",
              "      img.id = name;\n",
              "      document.body.appendChild(img);\n",
              "    }\n",
              "    img.src = image;\n",
              "    img.width = width;\n",
              "    img.height = height;\n",
              "  }\n",
              "  "
            ]
          },
          "metadata": {}
        },
        {
          "output_type": "display_data",
          "data": {
            "text/plain": [
              "<IPython.core.display.Javascript object>"
            ],
            "application/javascript": [
              "\n",
              "  async function showImage(name, image, width, height) {\n",
              "    img = document.getElementById(name);\n",
              "    if(img == null) {\n",
              "      img = document.createElement('img');\n",
              "      img.id = name;\n",
              "      document.body.appendChild(img);\n",
              "    }\n",
              "    img.src = image;\n",
              "    img.width = width;\n",
              "    img.height = height;\n",
              "  }\n",
              "  "
            ]
          },
          "metadata": {}
        },
        {
          "output_type": "display_data",
          "data": {
            "text/plain": [
              "<IPython.core.display.Javascript object>"
            ],
            "application/javascript": [
              "\n",
              "  async function showImage(name, image, width, height) {\n",
              "    img = document.getElementById(name);\n",
              "    if(img == null) {\n",
              "      img = document.createElement('img');\n",
              "      img.id = name;\n",
              "      document.body.appendChild(img);\n",
              "    }\n",
              "    img.src = image;\n",
              "    img.width = width;\n",
              "    img.height = height;\n",
              "  }\n",
              "  "
            ]
          },
          "metadata": {}
        },
        {
          "output_type": "display_data",
          "data": {
            "text/plain": [
              "<IPython.core.display.Javascript object>"
            ],
            "application/javascript": [
              "\n",
              "  async function showImage(name, image, width, height) {\n",
              "    img = document.getElementById(name);\n",
              "    if(img == null) {\n",
              "      img = document.createElement('img');\n",
              "      img.id = name;\n",
              "      document.body.appendChild(img);\n",
              "    }\n",
              "    img.src = image;\n",
              "    img.width = width;\n",
              "    img.height = height;\n",
              "  }\n",
              "  "
            ]
          },
          "metadata": {}
        },
        {
          "output_type": "display_data",
          "data": {
            "text/plain": [
              "<IPython.core.display.Javascript object>"
            ],
            "application/javascript": [
              "\n",
              "  async function showImage(name, image, width, height) {\n",
              "    img = document.getElementById(name);\n",
              "    if(img == null) {\n",
              "      img = document.createElement('img');\n",
              "      img.id = name;\n",
              "      document.body.appendChild(img);\n",
              "    }\n",
              "    img.src = image;\n",
              "    img.width = width;\n",
              "    img.height = height;\n",
              "  }\n",
              "  "
            ]
          },
          "metadata": {}
        },
        {
          "output_type": "display_data",
          "data": {
            "text/plain": [
              "<IPython.core.display.Javascript object>"
            ],
            "application/javascript": [
              "\n",
              "  async function showImage(name, image, width, height) {\n",
              "    img = document.getElementById(name);\n",
              "    if(img == null) {\n",
              "      img = document.createElement('img');\n",
              "      img.id = name;\n",
              "      document.body.appendChild(img);\n",
              "    }\n",
              "    img.src = image;\n",
              "    img.width = width;\n",
              "    img.height = height;\n",
              "  }\n",
              "  "
            ]
          },
          "metadata": {}
        },
        {
          "output_type": "display_data",
          "data": {
            "text/plain": [
              "<IPython.core.display.Javascript object>"
            ],
            "application/javascript": [
              "\n",
              "  async function showImage(name, image, width, height) {\n",
              "    img = document.getElementById(name);\n",
              "    if(img == null) {\n",
              "      img = document.createElement('img');\n",
              "      img.id = name;\n",
              "      document.body.appendChild(img);\n",
              "    }\n",
              "    img.src = image;\n",
              "    img.width = width;\n",
              "    img.height = height;\n",
              "  }\n",
              "  "
            ]
          },
          "metadata": {}
        },
        {
          "output_type": "display_data",
          "data": {
            "text/plain": [
              "<IPython.core.display.Javascript object>"
            ],
            "application/javascript": [
              "\n",
              "  async function showImage(name, image, width, height) {\n",
              "    img = document.getElementById(name);\n",
              "    if(img == null) {\n",
              "      img = document.createElement('img');\n",
              "      img.id = name;\n",
              "      document.body.appendChild(img);\n",
              "    }\n",
              "    img.src = image;\n",
              "    img.width = width;\n",
              "    img.height = height;\n",
              "  }\n",
              "  "
            ]
          },
          "metadata": {}
        },
        {
          "output_type": "display_data",
          "data": {
            "text/plain": [
              "<IPython.core.display.Javascript object>"
            ],
            "application/javascript": [
              "\n",
              "  async function showImage(name, image, width, height) {\n",
              "    img = document.getElementById(name);\n",
              "    if(img == null) {\n",
              "      img = document.createElement('img');\n",
              "      img.id = name;\n",
              "      document.body.appendChild(img);\n",
              "    }\n",
              "    img.src = image;\n",
              "    img.width = width;\n",
              "    img.height = height;\n",
              "  }\n",
              "  "
            ]
          },
          "metadata": {}
        },
        {
          "output_type": "display_data",
          "data": {
            "text/plain": [
              "<IPython.core.display.Javascript object>"
            ],
            "application/javascript": [
              "\n",
              "  async function showImage(name, image, width, height) {\n",
              "    img = document.getElementById(name);\n",
              "    if(img == null) {\n",
              "      img = document.createElement('img');\n",
              "      img.id = name;\n",
              "      document.body.appendChild(img);\n",
              "    }\n",
              "    img.src = image;\n",
              "    img.width = width;\n",
              "    img.height = height;\n",
              "  }\n",
              "  "
            ]
          },
          "metadata": {}
        },
        {
          "output_type": "display_data",
          "data": {
            "text/plain": [
              "<IPython.core.display.Javascript object>"
            ],
            "application/javascript": [
              "\n",
              "  async function showImage(name, image, width, height) {\n",
              "    img = document.getElementById(name);\n",
              "    if(img == null) {\n",
              "      img = document.createElement('img');\n",
              "      img.id = name;\n",
              "      document.body.appendChild(img);\n",
              "    }\n",
              "    img.src = image;\n",
              "    img.width = width;\n",
              "    img.height = height;\n",
              "  }\n",
              "  "
            ]
          },
          "metadata": {}
        },
        {
          "output_type": "display_data",
          "data": {
            "text/plain": [
              "<IPython.core.display.Javascript object>"
            ],
            "application/javascript": [
              "\n",
              "  async function showImage(name, image, width, height) {\n",
              "    img = document.getElementById(name);\n",
              "    if(img == null) {\n",
              "      img = document.createElement('img');\n",
              "      img.id = name;\n",
              "      document.body.appendChild(img);\n",
              "    }\n",
              "    img.src = image;\n",
              "    img.width = width;\n",
              "    img.height = height;\n",
              "  }\n",
              "  "
            ]
          },
          "metadata": {}
        },
        {
          "output_type": "display_data",
          "data": {
            "text/plain": [
              "<IPython.core.display.Javascript object>"
            ],
            "application/javascript": [
              "\n",
              "  async function showImage(name, image, width, height) {\n",
              "    img = document.getElementById(name);\n",
              "    if(img == null) {\n",
              "      img = document.createElement('img');\n",
              "      img.id = name;\n",
              "      document.body.appendChild(img);\n",
              "    }\n",
              "    img.src = image;\n",
              "    img.width = width;\n",
              "    img.height = height;\n",
              "  }\n",
              "  "
            ]
          },
          "metadata": {}
        },
        {
          "output_type": "display_data",
          "data": {
            "text/plain": [
              "<IPython.core.display.Javascript object>"
            ],
            "application/javascript": [
              "\n",
              "  async function showImage(name, image, width, height) {\n",
              "    img = document.getElementById(name);\n",
              "    if(img == null) {\n",
              "      img = document.createElement('img');\n",
              "      img.id = name;\n",
              "      document.body.appendChild(img);\n",
              "    }\n",
              "    img.src = image;\n",
              "    img.width = width;\n",
              "    img.height = height;\n",
              "  }\n",
              "  "
            ]
          },
          "metadata": {}
        },
        {
          "output_type": "display_data",
          "data": {
            "text/plain": [
              "<IPython.core.display.Javascript object>"
            ],
            "application/javascript": [
              "\n",
              "  async function showImage(name, image, width, height) {\n",
              "    img = document.getElementById(name);\n",
              "    if(img == null) {\n",
              "      img = document.createElement('img');\n",
              "      img.id = name;\n",
              "      document.body.appendChild(img);\n",
              "    }\n",
              "    img.src = image;\n",
              "    img.width = width;\n",
              "    img.height = height;\n",
              "  }\n",
              "  "
            ]
          },
          "metadata": {}
        },
        {
          "output_type": "display_data",
          "data": {
            "text/plain": [
              "<IPython.core.display.Javascript object>"
            ],
            "application/javascript": [
              "\n",
              "  async function showImage(name, image, width, height) {\n",
              "    img = document.getElementById(name);\n",
              "    if(img == null) {\n",
              "      img = document.createElement('img');\n",
              "      img.id = name;\n",
              "      document.body.appendChild(img);\n",
              "    }\n",
              "    img.src = image;\n",
              "    img.width = width;\n",
              "    img.height = height;\n",
              "  }\n",
              "  "
            ]
          },
          "metadata": {}
        },
        {
          "output_type": "display_data",
          "data": {
            "text/plain": [
              "<IPython.core.display.Javascript object>"
            ],
            "application/javascript": [
              "\n",
              "  async function showImage(name, image, width, height) {\n",
              "    img = document.getElementById(name);\n",
              "    if(img == null) {\n",
              "      img = document.createElement('img');\n",
              "      img.id = name;\n",
              "      document.body.appendChild(img);\n",
              "    }\n",
              "    img.src = image;\n",
              "    img.width = width;\n",
              "    img.height = height;\n",
              "  }\n",
              "  "
            ]
          },
          "metadata": {}
        },
        {
          "output_type": "display_data",
          "data": {
            "text/plain": [
              "<IPython.core.display.Javascript object>"
            ],
            "application/javascript": [
              "\n",
              "  async function showImage(name, image, width, height) {\n",
              "    img = document.getElementById(name);\n",
              "    if(img == null) {\n",
              "      img = document.createElement('img');\n",
              "      img.id = name;\n",
              "      document.body.appendChild(img);\n",
              "    }\n",
              "    img.src = image;\n",
              "    img.width = width;\n",
              "    img.height = height;\n",
              "  }\n",
              "  "
            ]
          },
          "metadata": {}
        },
        {
          "output_type": "display_data",
          "data": {
            "text/plain": [
              "<IPython.core.display.Javascript object>"
            ],
            "application/javascript": [
              "\n",
              "  async function showImage(name, image, width, height) {\n",
              "    img = document.getElementById(name);\n",
              "    if(img == null) {\n",
              "      img = document.createElement('img');\n",
              "      img.id = name;\n",
              "      document.body.appendChild(img);\n",
              "    }\n",
              "    img.src = image;\n",
              "    img.width = width;\n",
              "    img.height = height;\n",
              "  }\n",
              "  "
            ]
          },
          "metadata": {}
        },
        {
          "output_type": "display_data",
          "data": {
            "text/plain": [
              "<IPython.core.display.Javascript object>"
            ],
            "application/javascript": [
              "\n",
              "  async function showImage(name, image, width, height) {\n",
              "    img = document.getElementById(name);\n",
              "    if(img == null) {\n",
              "      img = document.createElement('img');\n",
              "      img.id = name;\n",
              "      document.body.appendChild(img);\n",
              "    }\n",
              "    img.src = image;\n",
              "    img.width = width;\n",
              "    img.height = height;\n",
              "  }\n",
              "  "
            ]
          },
          "metadata": {}
        },
        {
          "output_type": "display_data",
          "data": {
            "text/plain": [
              "<IPython.core.display.Javascript object>"
            ],
            "application/javascript": [
              "\n",
              "  async function showImage(name, image, width, height) {\n",
              "    img = document.getElementById(name);\n",
              "    if(img == null) {\n",
              "      img = document.createElement('img');\n",
              "      img.id = name;\n",
              "      document.body.appendChild(img);\n",
              "    }\n",
              "    img.src = image;\n",
              "    img.width = width;\n",
              "    img.height = height;\n",
              "  }\n",
              "  "
            ]
          },
          "metadata": {}
        },
        {
          "output_type": "display_data",
          "data": {
            "text/plain": [
              "<IPython.core.display.Javascript object>"
            ],
            "application/javascript": [
              "\n",
              "  async function showImage(name, image, width, height) {\n",
              "    img = document.getElementById(name);\n",
              "    if(img == null) {\n",
              "      img = document.createElement('img');\n",
              "      img.id = name;\n",
              "      document.body.appendChild(img);\n",
              "    }\n",
              "    img.src = image;\n",
              "    img.width = width;\n",
              "    img.height = height;\n",
              "  }\n",
              "  "
            ]
          },
          "metadata": {}
        },
        {
          "output_type": "display_data",
          "data": {
            "text/plain": [
              "<IPython.core.display.Javascript object>"
            ],
            "application/javascript": [
              "\n",
              "  async function showImage(name, image, width, height) {\n",
              "    img = document.getElementById(name);\n",
              "    if(img == null) {\n",
              "      img = document.createElement('img');\n",
              "      img.id = name;\n",
              "      document.body.appendChild(img);\n",
              "    }\n",
              "    img.src = image;\n",
              "    img.width = width;\n",
              "    img.height = height;\n",
              "  }\n",
              "  "
            ]
          },
          "metadata": {}
        },
        {
          "output_type": "display_data",
          "data": {
            "text/plain": [
              "<IPython.core.display.Javascript object>"
            ],
            "application/javascript": [
              "\n",
              "  async function showImage(name, image, width, height) {\n",
              "    img = document.getElementById(name);\n",
              "    if(img == null) {\n",
              "      img = document.createElement('img');\n",
              "      img.id = name;\n",
              "      document.body.appendChild(img);\n",
              "    }\n",
              "    img.src = image;\n",
              "    img.width = width;\n",
              "    img.height = height;\n",
              "  }\n",
              "  "
            ]
          },
          "metadata": {}
        },
        {
          "output_type": "display_data",
          "data": {
            "text/plain": [
              "<IPython.core.display.Javascript object>"
            ],
            "application/javascript": [
              "\n",
              "  async function showImage(name, image, width, height) {\n",
              "    img = document.getElementById(name);\n",
              "    if(img == null) {\n",
              "      img = document.createElement('img');\n",
              "      img.id = name;\n",
              "      document.body.appendChild(img);\n",
              "    }\n",
              "    img.src = image;\n",
              "    img.width = width;\n",
              "    img.height = height;\n",
              "  }\n",
              "  "
            ]
          },
          "metadata": {}
        },
        {
          "output_type": "display_data",
          "data": {
            "text/plain": [
              "<IPython.core.display.Javascript object>"
            ],
            "application/javascript": [
              "\n",
              "  async function showImage(name, image, width, height) {\n",
              "    img = document.getElementById(name);\n",
              "    if(img == null) {\n",
              "      img = document.createElement('img');\n",
              "      img.id = name;\n",
              "      document.body.appendChild(img);\n",
              "    }\n",
              "    img.src = image;\n",
              "    img.width = width;\n",
              "    img.height = height;\n",
              "  }\n",
              "  "
            ]
          },
          "metadata": {}
        },
        {
          "output_type": "display_data",
          "data": {
            "text/plain": [
              "<IPython.core.display.Javascript object>"
            ],
            "application/javascript": [
              "\n",
              "  async function showImage(name, image, width, height) {\n",
              "    img = document.getElementById(name);\n",
              "    if(img == null) {\n",
              "      img = document.createElement('img');\n",
              "      img.id = name;\n",
              "      document.body.appendChild(img);\n",
              "    }\n",
              "    img.src = image;\n",
              "    img.width = width;\n",
              "    img.height = height;\n",
              "  }\n",
              "  "
            ]
          },
          "metadata": {}
        },
        {
          "output_type": "display_data",
          "data": {
            "text/plain": [
              "<IPython.core.display.Javascript object>"
            ],
            "application/javascript": [
              "\n",
              "  async function showImage(name, image, width, height) {\n",
              "    img = document.getElementById(name);\n",
              "    if(img == null) {\n",
              "      img = document.createElement('img');\n",
              "      img.id = name;\n",
              "      document.body.appendChild(img);\n",
              "    }\n",
              "    img.src = image;\n",
              "    img.width = width;\n",
              "    img.height = height;\n",
              "  }\n",
              "  "
            ]
          },
          "metadata": {}
        },
        {
          "output_type": "display_data",
          "data": {
            "text/plain": [
              "<IPython.core.display.Javascript object>"
            ],
            "application/javascript": [
              "\n",
              "  async function showImage(name, image, width, height) {\n",
              "    img = document.getElementById(name);\n",
              "    if(img == null) {\n",
              "      img = document.createElement('img');\n",
              "      img.id = name;\n",
              "      document.body.appendChild(img);\n",
              "    }\n",
              "    img.src = image;\n",
              "    img.width = width;\n",
              "    img.height = height;\n",
              "  }\n",
              "  "
            ]
          },
          "metadata": {}
        },
        {
          "output_type": "display_data",
          "data": {
            "text/plain": [
              "<IPython.core.display.Javascript object>"
            ],
            "application/javascript": [
              "\n",
              "  async function showImage(name, image, width, height) {\n",
              "    img = document.getElementById(name);\n",
              "    if(img == null) {\n",
              "      img = document.createElement('img');\n",
              "      img.id = name;\n",
              "      document.body.appendChild(img);\n",
              "    }\n",
              "    img.src = image;\n",
              "    img.width = width;\n",
              "    img.height = height;\n",
              "  }\n",
              "  "
            ]
          },
          "metadata": {}
        },
        {
          "output_type": "display_data",
          "data": {
            "text/plain": [
              "<IPython.core.display.Javascript object>"
            ],
            "application/javascript": [
              "\n",
              "  async function showImage(name, image, width, height) {\n",
              "    img = document.getElementById(name);\n",
              "    if(img == null) {\n",
              "      img = document.createElement('img');\n",
              "      img.id = name;\n",
              "      document.body.appendChild(img);\n",
              "    }\n",
              "    img.src = image;\n",
              "    img.width = width;\n",
              "    img.height = height;\n",
              "  }\n",
              "  "
            ]
          },
          "metadata": {}
        },
        {
          "output_type": "display_data",
          "data": {
            "text/plain": [
              "<IPython.core.display.Javascript object>"
            ],
            "application/javascript": [
              "\n",
              "  async function showImage(name, image, width, height) {\n",
              "    img = document.getElementById(name);\n",
              "    if(img == null) {\n",
              "      img = document.createElement('img');\n",
              "      img.id = name;\n",
              "      document.body.appendChild(img);\n",
              "    }\n",
              "    img.src = image;\n",
              "    img.width = width;\n",
              "    img.height = height;\n",
              "  }\n",
              "  "
            ]
          },
          "metadata": {}
        },
        {
          "output_type": "display_data",
          "data": {
            "text/plain": [
              "<IPython.core.display.Javascript object>"
            ],
            "application/javascript": [
              "\n",
              "  async function showImage(name, image, width, height) {\n",
              "    img = document.getElementById(name);\n",
              "    if(img == null) {\n",
              "      img = document.createElement('img');\n",
              "      img.id = name;\n",
              "      document.body.appendChild(img);\n",
              "    }\n",
              "    img.src = image;\n",
              "    img.width = width;\n",
              "    img.height = height;\n",
              "  }\n",
              "  "
            ]
          },
          "metadata": {}
        },
        {
          "output_type": "display_data",
          "data": {
            "text/plain": [
              "<IPython.core.display.Javascript object>"
            ],
            "application/javascript": [
              "\n",
              "  async function showImage(name, image, width, height) {\n",
              "    img = document.getElementById(name);\n",
              "    if(img == null) {\n",
              "      img = document.createElement('img');\n",
              "      img.id = name;\n",
              "      document.body.appendChild(img);\n",
              "    }\n",
              "    img.src = image;\n",
              "    img.width = width;\n",
              "    img.height = height;\n",
              "  }\n",
              "  "
            ]
          },
          "metadata": {}
        },
        {
          "output_type": "display_data",
          "data": {
            "text/plain": [
              "<IPython.core.display.Javascript object>"
            ],
            "application/javascript": [
              "\n",
              "  async function showImage(name, image, width, height) {\n",
              "    img = document.getElementById(name);\n",
              "    if(img == null) {\n",
              "      img = document.createElement('img');\n",
              "      img.id = name;\n",
              "      document.body.appendChild(img);\n",
              "    }\n",
              "    img.src = image;\n",
              "    img.width = width;\n",
              "    img.height = height;\n",
              "  }\n",
              "  "
            ]
          },
          "metadata": {}
        },
        {
          "output_type": "display_data",
          "data": {
            "text/plain": [
              "<IPython.core.display.Javascript object>"
            ],
            "application/javascript": [
              "\n",
              "  async function showImage(name, image, width, height) {\n",
              "    img = document.getElementById(name);\n",
              "    if(img == null) {\n",
              "      img = document.createElement('img');\n",
              "      img.id = name;\n",
              "      document.body.appendChild(img);\n",
              "    }\n",
              "    img.src = image;\n",
              "    img.width = width;\n",
              "    img.height = height;\n",
              "  }\n",
              "  "
            ]
          },
          "metadata": {}
        },
        {
          "output_type": "display_data",
          "data": {
            "text/plain": [
              "<IPython.core.display.Javascript object>"
            ],
            "application/javascript": [
              "\n",
              "  async function showImage(name, image, width, height) {\n",
              "    img = document.getElementById(name);\n",
              "    if(img == null) {\n",
              "      img = document.createElement('img');\n",
              "      img.id = name;\n",
              "      document.body.appendChild(img);\n",
              "    }\n",
              "    img.src = image;\n",
              "    img.width = width;\n",
              "    img.height = height;\n",
              "  }\n",
              "  "
            ]
          },
          "metadata": {}
        },
        {
          "output_type": "display_data",
          "data": {
            "text/plain": [
              "<IPython.core.display.Javascript object>"
            ],
            "application/javascript": [
              "\n",
              "  async function showImage(name, image, width, height) {\n",
              "    img = document.getElementById(name);\n",
              "    if(img == null) {\n",
              "      img = document.createElement('img');\n",
              "      img.id = name;\n",
              "      document.body.appendChild(img);\n",
              "    }\n",
              "    img.src = image;\n",
              "    img.width = width;\n",
              "    img.height = height;\n",
              "  }\n",
              "  "
            ]
          },
          "metadata": {}
        },
        {
          "output_type": "display_data",
          "data": {
            "text/plain": [
              "<IPython.core.display.Javascript object>"
            ],
            "application/javascript": [
              "\n",
              "  async function showImage(name, image, width, height) {\n",
              "    img = document.getElementById(name);\n",
              "    if(img == null) {\n",
              "      img = document.createElement('img');\n",
              "      img.id = name;\n",
              "      document.body.appendChild(img);\n",
              "    }\n",
              "    img.src = image;\n",
              "    img.width = width;\n",
              "    img.height = height;\n",
              "  }\n",
              "  "
            ]
          },
          "metadata": {}
        },
        {
          "output_type": "display_data",
          "data": {
            "text/plain": [
              "<IPython.core.display.Javascript object>"
            ],
            "application/javascript": [
              "\n",
              "  async function showImage(name, image, width, height) {\n",
              "    img = document.getElementById(name);\n",
              "    if(img == null) {\n",
              "      img = document.createElement('img');\n",
              "      img.id = name;\n",
              "      document.body.appendChild(img);\n",
              "    }\n",
              "    img.src = image;\n",
              "    img.width = width;\n",
              "    img.height = height;\n",
              "  }\n",
              "  "
            ]
          },
          "metadata": {}
        },
        {
          "output_type": "display_data",
          "data": {
            "text/plain": [
              "<IPython.core.display.Javascript object>"
            ],
            "application/javascript": [
              "\n",
              "  async function showImage(name, image, width, height) {\n",
              "    img = document.getElementById(name);\n",
              "    if(img == null) {\n",
              "      img = document.createElement('img');\n",
              "      img.id = name;\n",
              "      document.body.appendChild(img);\n",
              "    }\n",
              "    img.src = image;\n",
              "    img.width = width;\n",
              "    img.height = height;\n",
              "  }\n",
              "  "
            ]
          },
          "metadata": {}
        },
        {
          "output_type": "display_data",
          "data": {
            "text/plain": [
              "<IPython.core.display.Javascript object>"
            ],
            "application/javascript": [
              "\n",
              "  async function showImage(name, image, width, height) {\n",
              "    img = document.getElementById(name);\n",
              "    if(img == null) {\n",
              "      img = document.createElement('img');\n",
              "      img.id = name;\n",
              "      document.body.appendChild(img);\n",
              "    }\n",
              "    img.src = image;\n",
              "    img.width = width;\n",
              "    img.height = height;\n",
              "  }\n",
              "  "
            ]
          },
          "metadata": {}
        },
        {
          "output_type": "display_data",
          "data": {
            "text/plain": [
              "<IPython.core.display.Javascript object>"
            ],
            "application/javascript": [
              "\n",
              "  async function showImage(name, image, width, height) {\n",
              "    img = document.getElementById(name);\n",
              "    if(img == null) {\n",
              "      img = document.createElement('img');\n",
              "      img.id = name;\n",
              "      document.body.appendChild(img);\n",
              "    }\n",
              "    img.src = image;\n",
              "    img.width = width;\n",
              "    img.height = height;\n",
              "  }\n",
              "  "
            ]
          },
          "metadata": {}
        },
        {
          "output_type": "display_data",
          "data": {
            "text/plain": [
              "<IPython.core.display.Javascript object>"
            ],
            "application/javascript": [
              "\n",
              "  async function showImage(name, image, width, height) {\n",
              "    img = document.getElementById(name);\n",
              "    if(img == null) {\n",
              "      img = document.createElement('img');\n",
              "      img.id = name;\n",
              "      document.body.appendChild(img);\n",
              "    }\n",
              "    img.src = image;\n",
              "    img.width = width;\n",
              "    img.height = height;\n",
              "  }\n",
              "  "
            ]
          },
          "metadata": {}
        },
        {
          "output_type": "display_data",
          "data": {
            "text/plain": [
              "<IPython.core.display.Javascript object>"
            ],
            "application/javascript": [
              "\n",
              "  async function showImage(name, image, width, height) {\n",
              "    img = document.getElementById(name);\n",
              "    if(img == null) {\n",
              "      img = document.createElement('img');\n",
              "      img.id = name;\n",
              "      document.body.appendChild(img);\n",
              "    }\n",
              "    img.src = image;\n",
              "    img.width = width;\n",
              "    img.height = height;\n",
              "  }\n",
              "  "
            ]
          },
          "metadata": {}
        },
        {
          "output_type": "display_data",
          "data": {
            "text/plain": [
              "<IPython.core.display.Javascript object>"
            ],
            "application/javascript": [
              "\n",
              "  async function showImage(name, image, width, height) {\n",
              "    img = document.getElementById(name);\n",
              "    if(img == null) {\n",
              "      img = document.createElement('img');\n",
              "      img.id = name;\n",
              "      document.body.appendChild(img);\n",
              "    }\n",
              "    img.src = image;\n",
              "    img.width = width;\n",
              "    img.height = height;\n",
              "  }\n",
              "  "
            ]
          },
          "metadata": {}
        },
        {
          "output_type": "display_data",
          "data": {
            "text/plain": [
              "<IPython.core.display.Javascript object>"
            ],
            "application/javascript": [
              "\n",
              "  async function showImage(name, image, width, height) {\n",
              "    img = document.getElementById(name);\n",
              "    if(img == null) {\n",
              "      img = document.createElement('img');\n",
              "      img.id = name;\n",
              "      document.body.appendChild(img);\n",
              "    }\n",
              "    img.src = image;\n",
              "    img.width = width;\n",
              "    img.height = height;\n",
              "  }\n",
              "  "
            ]
          },
          "metadata": {}
        },
        {
          "output_type": "display_data",
          "data": {
            "text/plain": [
              "<IPython.core.display.Javascript object>"
            ],
            "application/javascript": [
              "\n",
              "  async function showImage(name, image, width, height) {\n",
              "    img = document.getElementById(name);\n",
              "    if(img == null) {\n",
              "      img = document.createElement('img');\n",
              "      img.id = name;\n",
              "      document.body.appendChild(img);\n",
              "    }\n",
              "    img.src = image;\n",
              "    img.width = width;\n",
              "    img.height = height;\n",
              "  }\n",
              "  "
            ]
          },
          "metadata": {}
        },
        {
          "output_type": "display_data",
          "data": {
            "text/plain": [
              "<IPython.core.display.Javascript object>"
            ],
            "application/javascript": [
              "\n",
              "  async function showImage(name, image, width, height) {\n",
              "    img = document.getElementById(name);\n",
              "    if(img == null) {\n",
              "      img = document.createElement('img');\n",
              "      img.id = name;\n",
              "      document.body.appendChild(img);\n",
              "    }\n",
              "    img.src = image;\n",
              "    img.width = width;\n",
              "    img.height = height;\n",
              "  }\n",
              "  "
            ]
          },
          "metadata": {}
        },
        {
          "output_type": "display_data",
          "data": {
            "text/plain": [
              "<IPython.core.display.Javascript object>"
            ],
            "application/javascript": [
              "\n",
              "  async function showImage(name, image, width, height) {\n",
              "    img = document.getElementById(name);\n",
              "    if(img == null) {\n",
              "      img = document.createElement('img');\n",
              "      img.id = name;\n",
              "      document.body.appendChild(img);\n",
              "    }\n",
              "    img.src = image;\n",
              "    img.width = width;\n",
              "    img.height = height;\n",
              "  }\n",
              "  "
            ]
          },
          "metadata": {}
        },
        {
          "output_type": "display_data",
          "data": {
            "text/plain": [
              "<IPython.core.display.Javascript object>"
            ],
            "application/javascript": [
              "\n",
              "  async function showImage(name, image, width, height) {\n",
              "    img = document.getElementById(name);\n",
              "    if(img == null) {\n",
              "      img = document.createElement('img');\n",
              "      img.id = name;\n",
              "      document.body.appendChild(img);\n",
              "    }\n",
              "    img.src = image;\n",
              "    img.width = width;\n",
              "    img.height = height;\n",
              "  }\n",
              "  "
            ]
          },
          "metadata": {}
        },
        {
          "output_type": "display_data",
          "data": {
            "text/plain": [
              "<IPython.core.display.Javascript object>"
            ],
            "application/javascript": [
              "\n",
              "  async function showImage(name, image, width, height) {\n",
              "    img = document.getElementById(name);\n",
              "    if(img == null) {\n",
              "      img = document.createElement('img');\n",
              "      img.id = name;\n",
              "      document.body.appendChild(img);\n",
              "    }\n",
              "    img.src = image;\n",
              "    img.width = width;\n",
              "    img.height = height;\n",
              "  }\n",
              "  "
            ]
          },
          "metadata": {}
        },
        {
          "output_type": "display_data",
          "data": {
            "text/plain": [
              "<IPython.core.display.Javascript object>"
            ],
            "application/javascript": [
              "\n",
              "  async function showImage(name, image, width, height) {\n",
              "    img = document.getElementById(name);\n",
              "    if(img == null) {\n",
              "      img = document.createElement('img');\n",
              "      img.id = name;\n",
              "      document.body.appendChild(img);\n",
              "    }\n",
              "    img.src = image;\n",
              "    img.width = width;\n",
              "    img.height = height;\n",
              "  }\n",
              "  "
            ]
          },
          "metadata": {}
        },
        {
          "output_type": "display_data",
          "data": {
            "text/plain": [
              "<IPython.core.display.Javascript object>"
            ],
            "application/javascript": [
              "\n",
              "  async function showImage(name, image, width, height) {\n",
              "    img = document.getElementById(name);\n",
              "    if(img == null) {\n",
              "      img = document.createElement('img');\n",
              "      img.id = name;\n",
              "      document.body.appendChild(img);\n",
              "    }\n",
              "    img.src = image;\n",
              "    img.width = width;\n",
              "    img.height = height;\n",
              "  }\n",
              "  "
            ]
          },
          "metadata": {}
        },
        {
          "output_type": "display_data",
          "data": {
            "text/plain": [
              "<IPython.core.display.Javascript object>"
            ],
            "application/javascript": [
              "\n",
              "  async function showImage(name, image, width, height) {\n",
              "    img = document.getElementById(name);\n",
              "    if(img == null) {\n",
              "      img = document.createElement('img');\n",
              "      img.id = name;\n",
              "      document.body.appendChild(img);\n",
              "    }\n",
              "    img.src = image;\n",
              "    img.width = width;\n",
              "    img.height = height;\n",
              "  }\n",
              "  "
            ]
          },
          "metadata": {}
        },
        {
          "output_type": "display_data",
          "data": {
            "text/plain": [
              "<IPython.core.display.Javascript object>"
            ],
            "application/javascript": [
              "\n",
              "  async function showImage(name, image, width, height) {\n",
              "    img = document.getElementById(name);\n",
              "    if(img == null) {\n",
              "      img = document.createElement('img');\n",
              "      img.id = name;\n",
              "      document.body.appendChild(img);\n",
              "    }\n",
              "    img.src = image;\n",
              "    img.width = width;\n",
              "    img.height = height;\n",
              "  }\n",
              "  "
            ]
          },
          "metadata": {}
        },
        {
          "output_type": "display_data",
          "data": {
            "text/plain": [
              "<IPython.core.display.Javascript object>"
            ],
            "application/javascript": [
              "\n",
              "  async function showImage(name, image, width, height) {\n",
              "    img = document.getElementById(name);\n",
              "    if(img == null) {\n",
              "      img = document.createElement('img');\n",
              "      img.id = name;\n",
              "      document.body.appendChild(img);\n",
              "    }\n",
              "    img.src = image;\n",
              "    img.width = width;\n",
              "    img.height = height;\n",
              "  }\n",
              "  "
            ]
          },
          "metadata": {}
        },
        {
          "output_type": "display_data",
          "data": {
            "text/plain": [
              "<IPython.core.display.Javascript object>"
            ],
            "application/javascript": [
              "\n",
              "  async function showImage(name, image, width, height) {\n",
              "    img = document.getElementById(name);\n",
              "    if(img == null) {\n",
              "      img = document.createElement('img');\n",
              "      img.id = name;\n",
              "      document.body.appendChild(img);\n",
              "    }\n",
              "    img.src = image;\n",
              "    img.width = width;\n",
              "    img.height = height;\n",
              "  }\n",
              "  "
            ]
          },
          "metadata": {}
        },
        {
          "output_type": "display_data",
          "data": {
            "text/plain": [
              "<IPython.core.display.Javascript object>"
            ],
            "application/javascript": [
              "\n",
              "  async function showImage(name, image, width, height) {\n",
              "    img = document.getElementById(name);\n",
              "    if(img == null) {\n",
              "      img = document.createElement('img');\n",
              "      img.id = name;\n",
              "      document.body.appendChild(img);\n",
              "    }\n",
              "    img.src = image;\n",
              "    img.width = width;\n",
              "    img.height = height;\n",
              "  }\n",
              "  "
            ]
          },
          "metadata": {}
        },
        {
          "output_type": "display_data",
          "data": {
            "text/plain": [
              "<IPython.core.display.Javascript object>"
            ],
            "application/javascript": [
              "\n",
              "  async function showImage(name, image, width, height) {\n",
              "    img = document.getElementById(name);\n",
              "    if(img == null) {\n",
              "      img = document.createElement('img');\n",
              "      img.id = name;\n",
              "      document.body.appendChild(img);\n",
              "    }\n",
              "    img.src = image;\n",
              "    img.width = width;\n",
              "    img.height = height;\n",
              "  }\n",
              "  "
            ]
          },
          "metadata": {}
        },
        {
          "output_type": "display_data",
          "data": {
            "text/plain": [
              "<IPython.core.display.Javascript object>"
            ],
            "application/javascript": [
              "\n",
              "  async function showImage(name, image, width, height) {\n",
              "    img = document.getElementById(name);\n",
              "    if(img == null) {\n",
              "      img = document.createElement('img');\n",
              "      img.id = name;\n",
              "      document.body.appendChild(img);\n",
              "    }\n",
              "    img.src = image;\n",
              "    img.width = width;\n",
              "    img.height = height;\n",
              "  }\n",
              "  "
            ]
          },
          "metadata": {}
        },
        {
          "output_type": "display_data",
          "data": {
            "text/plain": [
              "<IPython.core.display.Javascript object>"
            ],
            "application/javascript": [
              "\n",
              "  async function showImage(name, image, width, height) {\n",
              "    img = document.getElementById(name);\n",
              "    if(img == null) {\n",
              "      img = document.createElement('img');\n",
              "      img.id = name;\n",
              "      document.body.appendChild(img);\n",
              "    }\n",
              "    img.src = image;\n",
              "    img.width = width;\n",
              "    img.height = height;\n",
              "  }\n",
              "  "
            ]
          },
          "metadata": {}
        },
        {
          "output_type": "display_data",
          "data": {
            "text/plain": [
              "<IPython.core.display.Javascript object>"
            ],
            "application/javascript": [
              "\n",
              "  async function showImage(name, image, width, height) {\n",
              "    img = document.getElementById(name);\n",
              "    if(img == null) {\n",
              "      img = document.createElement('img');\n",
              "      img.id = name;\n",
              "      document.body.appendChild(img);\n",
              "    }\n",
              "    img.src = image;\n",
              "    img.width = width;\n",
              "    img.height = height;\n",
              "  }\n",
              "  "
            ]
          },
          "metadata": {}
        },
        {
          "output_type": "display_data",
          "data": {
            "text/plain": [
              "<IPython.core.display.Javascript object>"
            ],
            "application/javascript": [
              "\n",
              "  async function showImage(name, image, width, height) {\n",
              "    img = document.getElementById(name);\n",
              "    if(img == null) {\n",
              "      img = document.createElement('img');\n",
              "      img.id = name;\n",
              "      document.body.appendChild(img);\n",
              "    }\n",
              "    img.src = image;\n",
              "    img.width = width;\n",
              "    img.height = height;\n",
              "  }\n",
              "  "
            ]
          },
          "metadata": {}
        },
        {
          "output_type": "display_data",
          "data": {
            "text/plain": [
              "<IPython.core.display.Javascript object>"
            ],
            "application/javascript": [
              "\n",
              "  async function showImage(name, image, width, height) {\n",
              "    img = document.getElementById(name);\n",
              "    if(img == null) {\n",
              "      img = document.createElement('img');\n",
              "      img.id = name;\n",
              "      document.body.appendChild(img);\n",
              "    }\n",
              "    img.src = image;\n",
              "    img.width = width;\n",
              "    img.height = height;\n",
              "  }\n",
              "  "
            ]
          },
          "metadata": {}
        },
        {
          "output_type": "display_data",
          "data": {
            "text/plain": [
              "<IPython.core.display.Javascript object>"
            ],
            "application/javascript": [
              "\n",
              "  async function showImage(name, image, width, height) {\n",
              "    img = document.getElementById(name);\n",
              "    if(img == null) {\n",
              "      img = document.createElement('img');\n",
              "      img.id = name;\n",
              "      document.body.appendChild(img);\n",
              "    }\n",
              "    img.src = image;\n",
              "    img.width = width;\n",
              "    img.height = height;\n",
              "  }\n",
              "  "
            ]
          },
          "metadata": {}
        },
        {
          "output_type": "display_data",
          "data": {
            "text/plain": [
              "<IPython.core.display.Javascript object>"
            ],
            "application/javascript": [
              "\n",
              "  async function showImage(name, image, width, height) {\n",
              "    img = document.getElementById(name);\n",
              "    if(img == null) {\n",
              "      img = document.createElement('img');\n",
              "      img.id = name;\n",
              "      document.body.appendChild(img);\n",
              "    }\n",
              "    img.src = image;\n",
              "    img.width = width;\n",
              "    img.height = height;\n",
              "  }\n",
              "  "
            ]
          },
          "metadata": {}
        },
        {
          "output_type": "display_data",
          "data": {
            "text/plain": [
              "<IPython.core.display.Javascript object>"
            ],
            "application/javascript": [
              "\n",
              "  async function showImage(name, image, width, height) {\n",
              "    img = document.getElementById(name);\n",
              "    if(img == null) {\n",
              "      img = document.createElement('img');\n",
              "      img.id = name;\n",
              "      document.body.appendChild(img);\n",
              "    }\n",
              "    img.src = image;\n",
              "    img.width = width;\n",
              "    img.height = height;\n",
              "  }\n",
              "  "
            ]
          },
          "metadata": {}
        },
        {
          "output_type": "display_data",
          "data": {
            "text/plain": [
              "<IPython.core.display.Javascript object>"
            ],
            "application/javascript": [
              "\n",
              "  async function showImage(name, image, width, height) {\n",
              "    img = document.getElementById(name);\n",
              "    if(img == null) {\n",
              "      img = document.createElement('img');\n",
              "      img.id = name;\n",
              "      document.body.appendChild(img);\n",
              "    }\n",
              "    img.src = image;\n",
              "    img.width = width;\n",
              "    img.height = height;\n",
              "  }\n",
              "  "
            ]
          },
          "metadata": {}
        },
        {
          "output_type": "display_data",
          "data": {
            "text/plain": [
              "<IPython.core.display.Javascript object>"
            ],
            "application/javascript": [
              "\n",
              "  async function showImage(name, image, width, height) {\n",
              "    img = document.getElementById(name);\n",
              "    if(img == null) {\n",
              "      img = document.createElement('img');\n",
              "      img.id = name;\n",
              "      document.body.appendChild(img);\n",
              "    }\n",
              "    img.src = image;\n",
              "    img.width = width;\n",
              "    img.height = height;\n",
              "  }\n",
              "  "
            ]
          },
          "metadata": {}
        },
        {
          "output_type": "display_data",
          "data": {
            "text/plain": [
              "<IPython.core.display.Javascript object>"
            ],
            "application/javascript": [
              "\n",
              "  async function showImage(name, image, width, height) {\n",
              "    img = document.getElementById(name);\n",
              "    if(img == null) {\n",
              "      img = document.createElement('img');\n",
              "      img.id = name;\n",
              "      document.body.appendChild(img);\n",
              "    }\n",
              "    img.src = image;\n",
              "    img.width = width;\n",
              "    img.height = height;\n",
              "  }\n",
              "  "
            ]
          },
          "metadata": {}
        },
        {
          "output_type": "display_data",
          "data": {
            "text/plain": [
              "<IPython.core.display.Javascript object>"
            ],
            "application/javascript": [
              "\n",
              "  async function showImage(name, image, width, height) {\n",
              "    img = document.getElementById(name);\n",
              "    if(img == null) {\n",
              "      img = document.createElement('img');\n",
              "      img.id = name;\n",
              "      document.body.appendChild(img);\n",
              "    }\n",
              "    img.src = image;\n",
              "    img.width = width;\n",
              "    img.height = height;\n",
              "  }\n",
              "  "
            ]
          },
          "metadata": {}
        },
        {
          "output_type": "display_data",
          "data": {
            "text/plain": [
              "<IPython.core.display.Javascript object>"
            ],
            "application/javascript": [
              "\n",
              "  async function showImage(name, image, width, height) {\n",
              "    img = document.getElementById(name);\n",
              "    if(img == null) {\n",
              "      img = document.createElement('img');\n",
              "      img.id = name;\n",
              "      document.body.appendChild(img);\n",
              "    }\n",
              "    img.src = image;\n",
              "    img.width = width;\n",
              "    img.height = height;\n",
              "  }\n",
              "  "
            ]
          },
          "metadata": {}
        },
        {
          "output_type": "display_data",
          "data": {
            "text/plain": [
              "<IPython.core.display.Javascript object>"
            ],
            "application/javascript": [
              "\n",
              "  async function showImage(name, image, width, height) {\n",
              "    img = document.getElementById(name);\n",
              "    if(img == null) {\n",
              "      img = document.createElement('img');\n",
              "      img.id = name;\n",
              "      document.body.appendChild(img);\n",
              "    }\n",
              "    img.src = image;\n",
              "    img.width = width;\n",
              "    img.height = height;\n",
              "  }\n",
              "  "
            ]
          },
          "metadata": {}
        },
        {
          "output_type": "display_data",
          "data": {
            "text/plain": [
              "<IPython.core.display.Javascript object>"
            ],
            "application/javascript": [
              "\n",
              "  async function showImage(name, image, width, height) {\n",
              "    img = document.getElementById(name);\n",
              "    if(img == null) {\n",
              "      img = document.createElement('img');\n",
              "      img.id = name;\n",
              "      document.body.appendChild(img);\n",
              "    }\n",
              "    img.src = image;\n",
              "    img.width = width;\n",
              "    img.height = height;\n",
              "  }\n",
              "  "
            ]
          },
          "metadata": {}
        },
        {
          "output_type": "display_data",
          "data": {
            "text/plain": [
              "<IPython.core.display.Javascript object>"
            ],
            "application/javascript": [
              "\n",
              "  async function showImage(name, image, width, height) {\n",
              "    img = document.getElementById(name);\n",
              "    if(img == null) {\n",
              "      img = document.createElement('img');\n",
              "      img.id = name;\n",
              "      document.body.appendChild(img);\n",
              "    }\n",
              "    img.src = image;\n",
              "    img.width = width;\n",
              "    img.height = height;\n",
              "  }\n",
              "  "
            ]
          },
          "metadata": {}
        },
        {
          "output_type": "display_data",
          "data": {
            "text/plain": [
              "<IPython.core.display.Javascript object>"
            ],
            "application/javascript": [
              "\n",
              "  async function showImage(name, image, width, height) {\n",
              "    img = document.getElementById(name);\n",
              "    if(img == null) {\n",
              "      img = document.createElement('img');\n",
              "      img.id = name;\n",
              "      document.body.appendChild(img);\n",
              "    }\n",
              "    img.src = image;\n",
              "    img.width = width;\n",
              "    img.height = height;\n",
              "  }\n",
              "  "
            ]
          },
          "metadata": {}
        },
        {
          "output_type": "display_data",
          "data": {
            "text/plain": [
              "<IPython.core.display.Javascript object>"
            ],
            "application/javascript": [
              "\n",
              "  async function showImage(name, image, width, height) {\n",
              "    img = document.getElementById(name);\n",
              "    if(img == null) {\n",
              "      img = document.createElement('img');\n",
              "      img.id = name;\n",
              "      document.body.appendChild(img);\n",
              "    }\n",
              "    img.src = image;\n",
              "    img.width = width;\n",
              "    img.height = height;\n",
              "  }\n",
              "  "
            ]
          },
          "metadata": {}
        },
        {
          "output_type": "display_data",
          "data": {
            "text/plain": [
              "<IPython.core.display.Javascript object>"
            ],
            "application/javascript": [
              "\n",
              "  async function showImage(name, image, width, height) {\n",
              "    img = document.getElementById(name);\n",
              "    if(img == null) {\n",
              "      img = document.createElement('img');\n",
              "      img.id = name;\n",
              "      document.body.appendChild(img);\n",
              "    }\n",
              "    img.src = image;\n",
              "    img.width = width;\n",
              "    img.height = height;\n",
              "  }\n",
              "  "
            ]
          },
          "metadata": {}
        },
        {
          "output_type": "display_data",
          "data": {
            "text/plain": [
              "<IPython.core.display.Javascript object>"
            ],
            "application/javascript": [
              "\n",
              "  async function showImage(name, image, width, height) {\n",
              "    img = document.getElementById(name);\n",
              "    if(img == null) {\n",
              "      img = document.createElement('img');\n",
              "      img.id = name;\n",
              "      document.body.appendChild(img);\n",
              "    }\n",
              "    img.src = image;\n",
              "    img.width = width;\n",
              "    img.height = height;\n",
              "  }\n",
              "  "
            ]
          },
          "metadata": {}
        },
        {
          "output_type": "display_data",
          "data": {
            "text/plain": [
              "<IPython.core.display.Javascript object>"
            ],
            "application/javascript": [
              "\n",
              "  async function showImage(name, image, width, height) {\n",
              "    img = document.getElementById(name);\n",
              "    if(img == null) {\n",
              "      img = document.createElement('img');\n",
              "      img.id = name;\n",
              "      document.body.appendChild(img);\n",
              "    }\n",
              "    img.src = image;\n",
              "    img.width = width;\n",
              "    img.height = height;\n",
              "  }\n",
              "  "
            ]
          },
          "metadata": {}
        },
        {
          "output_type": "display_data",
          "data": {
            "text/plain": [
              "<IPython.core.display.Javascript object>"
            ],
            "application/javascript": [
              "\n",
              "  async function showImage(name, image, width, height) {\n",
              "    img = document.getElementById(name);\n",
              "    if(img == null) {\n",
              "      img = document.createElement('img');\n",
              "      img.id = name;\n",
              "      document.body.appendChild(img);\n",
              "    }\n",
              "    img.src = image;\n",
              "    img.width = width;\n",
              "    img.height = height;\n",
              "  }\n",
              "  "
            ]
          },
          "metadata": {}
        },
        {
          "output_type": "display_data",
          "data": {
            "text/plain": [
              "<IPython.core.display.Javascript object>"
            ],
            "application/javascript": [
              "\n",
              "  async function showImage(name, image, width, height) {\n",
              "    img = document.getElementById(name);\n",
              "    if(img == null) {\n",
              "      img = document.createElement('img');\n",
              "      img.id = name;\n",
              "      document.body.appendChild(img);\n",
              "    }\n",
              "    img.src = image;\n",
              "    img.width = width;\n",
              "    img.height = height;\n",
              "  }\n",
              "  "
            ]
          },
          "metadata": {}
        },
        {
          "output_type": "display_data",
          "data": {
            "text/plain": [
              "<IPython.core.display.Javascript object>"
            ],
            "application/javascript": [
              "\n",
              "  async function showImage(name, image, width, height) {\n",
              "    img = document.getElementById(name);\n",
              "    if(img == null) {\n",
              "      img = document.createElement('img');\n",
              "      img.id = name;\n",
              "      document.body.appendChild(img);\n",
              "    }\n",
              "    img.src = image;\n",
              "    img.width = width;\n",
              "    img.height = height;\n",
              "  }\n",
              "  "
            ]
          },
          "metadata": {}
        },
        {
          "output_type": "display_data",
          "data": {
            "text/plain": [
              "<IPython.core.display.Javascript object>"
            ],
            "application/javascript": [
              "\n",
              "  async function showImage(name, image, width, height) {\n",
              "    img = document.getElementById(name);\n",
              "    if(img == null) {\n",
              "      img = document.createElement('img');\n",
              "      img.id = name;\n",
              "      document.body.appendChild(img);\n",
              "    }\n",
              "    img.src = image;\n",
              "    img.width = width;\n",
              "    img.height = height;\n",
              "  }\n",
              "  "
            ]
          },
          "metadata": {}
        },
        {
          "output_type": "display_data",
          "data": {
            "text/plain": [
              "<IPython.core.display.Javascript object>"
            ],
            "application/javascript": [
              "\n",
              "  async function showImage(name, image, width, height) {\n",
              "    img = document.getElementById(name);\n",
              "    if(img == null) {\n",
              "      img = document.createElement('img');\n",
              "      img.id = name;\n",
              "      document.body.appendChild(img);\n",
              "    }\n",
              "    img.src = image;\n",
              "    img.width = width;\n",
              "    img.height = height;\n",
              "  }\n",
              "  "
            ]
          },
          "metadata": {}
        },
        {
          "output_type": "display_data",
          "data": {
            "text/plain": [
              "<IPython.core.display.Javascript object>"
            ],
            "application/javascript": [
              "\n",
              "  async function showImage(name, image, width, height) {\n",
              "    img = document.getElementById(name);\n",
              "    if(img == null) {\n",
              "      img = document.createElement('img');\n",
              "      img.id = name;\n",
              "      document.body.appendChild(img);\n",
              "    }\n",
              "    img.src = image;\n",
              "    img.width = width;\n",
              "    img.height = height;\n",
              "  }\n",
              "  "
            ]
          },
          "metadata": {}
        },
        {
          "output_type": "display_data",
          "data": {
            "text/plain": [
              "<IPython.core.display.Javascript object>"
            ],
            "application/javascript": [
              "\n",
              "  async function showImage(name, image, width, height) {\n",
              "    img = document.getElementById(name);\n",
              "    if(img == null) {\n",
              "      img = document.createElement('img');\n",
              "      img.id = name;\n",
              "      document.body.appendChild(img);\n",
              "    }\n",
              "    img.src = image;\n",
              "    img.width = width;\n",
              "    img.height = height;\n",
              "  }\n",
              "  "
            ]
          },
          "metadata": {}
        },
        {
          "output_type": "display_data",
          "data": {
            "text/plain": [
              "<IPython.core.display.Javascript object>"
            ],
            "application/javascript": [
              "\n",
              "  async function showImage(name, image, width, height) {\n",
              "    img = document.getElementById(name);\n",
              "    if(img == null) {\n",
              "      img = document.createElement('img');\n",
              "      img.id = name;\n",
              "      document.body.appendChild(img);\n",
              "    }\n",
              "    img.src = image;\n",
              "    img.width = width;\n",
              "    img.height = height;\n",
              "  }\n",
              "  "
            ]
          },
          "metadata": {}
        },
        {
          "output_type": "display_data",
          "data": {
            "text/plain": [
              "<IPython.core.display.Javascript object>"
            ],
            "application/javascript": [
              "\n",
              "  async function showImage(name, image, width, height) {\n",
              "    img = document.getElementById(name);\n",
              "    if(img == null) {\n",
              "      img = document.createElement('img');\n",
              "      img.id = name;\n",
              "      document.body.appendChild(img);\n",
              "    }\n",
              "    img.src = image;\n",
              "    img.width = width;\n",
              "    img.height = height;\n",
              "  }\n",
              "  "
            ]
          },
          "metadata": {}
        },
        {
          "output_type": "display_data",
          "data": {
            "text/plain": [
              "<IPython.core.display.Javascript object>"
            ],
            "application/javascript": [
              "\n",
              "  async function showImage(name, image, width, height) {\n",
              "    img = document.getElementById(name);\n",
              "    if(img == null) {\n",
              "      img = document.createElement('img');\n",
              "      img.id = name;\n",
              "      document.body.appendChild(img);\n",
              "    }\n",
              "    img.src = image;\n",
              "    img.width = width;\n",
              "    img.height = height;\n",
              "  }\n",
              "  "
            ]
          },
          "metadata": {}
        },
        {
          "output_type": "display_data",
          "data": {
            "text/plain": [
              "<IPython.core.display.Javascript object>"
            ],
            "application/javascript": [
              "\n",
              "  async function showImage(name, image, width, height) {\n",
              "    img = document.getElementById(name);\n",
              "    if(img == null) {\n",
              "      img = document.createElement('img');\n",
              "      img.id = name;\n",
              "      document.body.appendChild(img);\n",
              "    }\n",
              "    img.src = image;\n",
              "    img.width = width;\n",
              "    img.height = height;\n",
              "  }\n",
              "  "
            ]
          },
          "metadata": {}
        },
        {
          "output_type": "display_data",
          "data": {
            "text/plain": [
              "<IPython.core.display.Javascript object>"
            ],
            "application/javascript": [
              "\n",
              "  async function showImage(name, image, width, height) {\n",
              "    img = document.getElementById(name);\n",
              "    if(img == null) {\n",
              "      img = document.createElement('img');\n",
              "      img.id = name;\n",
              "      document.body.appendChild(img);\n",
              "    }\n",
              "    img.src = image;\n",
              "    img.width = width;\n",
              "    img.height = height;\n",
              "  }\n",
              "  "
            ]
          },
          "metadata": {}
        },
        {
          "output_type": "display_data",
          "data": {
            "text/plain": [
              "<IPython.core.display.Javascript object>"
            ],
            "application/javascript": [
              "\n",
              "  async function showImage(name, image, width, height) {\n",
              "    img = document.getElementById(name);\n",
              "    if(img == null) {\n",
              "      img = document.createElement('img');\n",
              "      img.id = name;\n",
              "      document.body.appendChild(img);\n",
              "    }\n",
              "    img.src = image;\n",
              "    img.width = width;\n",
              "    img.height = height;\n",
              "  }\n",
              "  "
            ]
          },
          "metadata": {}
        },
        {
          "output_type": "display_data",
          "data": {
            "text/plain": [
              "<IPython.core.display.Javascript object>"
            ],
            "application/javascript": [
              "\n",
              "  async function showImage(name, image, width, height) {\n",
              "    img = document.getElementById(name);\n",
              "    if(img == null) {\n",
              "      img = document.createElement('img');\n",
              "      img.id = name;\n",
              "      document.body.appendChild(img);\n",
              "    }\n",
              "    img.src = image;\n",
              "    img.width = width;\n",
              "    img.height = height;\n",
              "  }\n",
              "  "
            ]
          },
          "metadata": {}
        },
        {
          "output_type": "display_data",
          "data": {
            "text/plain": [
              "<IPython.core.display.Javascript object>"
            ],
            "application/javascript": [
              "\n",
              "  async function showImage(name, image, width, height) {\n",
              "    img = document.getElementById(name);\n",
              "    if(img == null) {\n",
              "      img = document.createElement('img');\n",
              "      img.id = name;\n",
              "      document.body.appendChild(img);\n",
              "    }\n",
              "    img.src = image;\n",
              "    img.width = width;\n",
              "    img.height = height;\n",
              "  }\n",
              "  "
            ]
          },
          "metadata": {}
        },
        {
          "output_type": "display_data",
          "data": {
            "text/plain": [
              "<IPython.core.display.Javascript object>"
            ],
            "application/javascript": [
              "\n",
              "  async function showImage(name, image, width, height) {\n",
              "    img = document.getElementById(name);\n",
              "    if(img == null) {\n",
              "      img = document.createElement('img');\n",
              "      img.id = name;\n",
              "      document.body.appendChild(img);\n",
              "    }\n",
              "    img.src = image;\n",
              "    img.width = width;\n",
              "    img.height = height;\n",
              "  }\n",
              "  "
            ]
          },
          "metadata": {}
        },
        {
          "output_type": "display_data",
          "data": {
            "text/plain": [
              "<IPython.core.display.Javascript object>"
            ],
            "application/javascript": [
              "\n",
              "  async function showImage(name, image, width, height) {\n",
              "    img = document.getElementById(name);\n",
              "    if(img == null) {\n",
              "      img = document.createElement('img');\n",
              "      img.id = name;\n",
              "      document.body.appendChild(img);\n",
              "    }\n",
              "    img.src = image;\n",
              "    img.width = width;\n",
              "    img.height = height;\n",
              "  }\n",
              "  "
            ]
          },
          "metadata": {}
        },
        {
          "output_type": "display_data",
          "data": {
            "text/plain": [
              "<IPython.core.display.Javascript object>"
            ],
            "application/javascript": [
              "\n",
              "  async function showImage(name, image, width, height) {\n",
              "    img = document.getElementById(name);\n",
              "    if(img == null) {\n",
              "      img = document.createElement('img');\n",
              "      img.id = name;\n",
              "      document.body.appendChild(img);\n",
              "    }\n",
              "    img.src = image;\n",
              "    img.width = width;\n",
              "    img.height = height;\n",
              "  }\n",
              "  "
            ]
          },
          "metadata": {}
        },
        {
          "output_type": "display_data",
          "data": {
            "text/plain": [
              "<IPython.core.display.Javascript object>"
            ],
            "application/javascript": [
              "\n",
              "  async function showImage(name, image, width, height) {\n",
              "    img = document.getElementById(name);\n",
              "    if(img == null) {\n",
              "      img = document.createElement('img');\n",
              "      img.id = name;\n",
              "      document.body.appendChild(img);\n",
              "    }\n",
              "    img.src = image;\n",
              "    img.width = width;\n",
              "    img.height = height;\n",
              "  }\n",
              "  "
            ]
          },
          "metadata": {}
        },
        {
          "output_type": "display_data",
          "data": {
            "text/plain": [
              "<IPython.core.display.Javascript object>"
            ],
            "application/javascript": [
              "\n",
              "  async function showImage(name, image, width, height) {\n",
              "    img = document.getElementById(name);\n",
              "    if(img == null) {\n",
              "      img = document.createElement('img');\n",
              "      img.id = name;\n",
              "      document.body.appendChild(img);\n",
              "    }\n",
              "    img.src = image;\n",
              "    img.width = width;\n",
              "    img.height = height;\n",
              "  }\n",
              "  "
            ]
          },
          "metadata": {}
        },
        {
          "output_type": "display_data",
          "data": {
            "text/plain": [
              "<IPython.core.display.Javascript object>"
            ],
            "application/javascript": [
              "\n",
              "  async function showImage(name, image, width, height) {\n",
              "    img = document.getElementById(name);\n",
              "    if(img == null) {\n",
              "      img = document.createElement('img');\n",
              "      img.id = name;\n",
              "      document.body.appendChild(img);\n",
              "    }\n",
              "    img.src = image;\n",
              "    img.width = width;\n",
              "    img.height = height;\n",
              "  }\n",
              "  "
            ]
          },
          "metadata": {}
        },
        {
          "output_type": "display_data",
          "data": {
            "text/plain": [
              "<IPython.core.display.Javascript object>"
            ],
            "application/javascript": [
              "\n",
              "  async function showImage(name, image, width, height) {\n",
              "    img = document.getElementById(name);\n",
              "    if(img == null) {\n",
              "      img = document.createElement('img');\n",
              "      img.id = name;\n",
              "      document.body.appendChild(img);\n",
              "    }\n",
              "    img.src = image;\n",
              "    img.width = width;\n",
              "    img.height = height;\n",
              "  }\n",
              "  "
            ]
          },
          "metadata": {}
        },
        {
          "output_type": "display_data",
          "data": {
            "text/plain": [
              "<IPython.core.display.Javascript object>"
            ],
            "application/javascript": [
              "\n",
              "  async function showImage(name, image, width, height) {\n",
              "    img = document.getElementById(name);\n",
              "    if(img == null) {\n",
              "      img = document.createElement('img');\n",
              "      img.id = name;\n",
              "      document.body.appendChild(img);\n",
              "    }\n",
              "    img.src = image;\n",
              "    img.width = width;\n",
              "    img.height = height;\n",
              "  }\n",
              "  "
            ]
          },
          "metadata": {}
        },
        {
          "output_type": "display_data",
          "data": {
            "text/plain": [
              "<IPython.core.display.Javascript object>"
            ],
            "application/javascript": [
              "\n",
              "  async function showImage(name, image, width, height) {\n",
              "    img = document.getElementById(name);\n",
              "    if(img == null) {\n",
              "      img = document.createElement('img');\n",
              "      img.id = name;\n",
              "      document.body.appendChild(img);\n",
              "    }\n",
              "    img.src = image;\n",
              "    img.width = width;\n",
              "    img.height = height;\n",
              "  }\n",
              "  "
            ]
          },
          "metadata": {}
        },
        {
          "output_type": "display_data",
          "data": {
            "text/plain": [
              "<IPython.core.display.Javascript object>"
            ],
            "application/javascript": [
              "\n",
              "  async function showImage(name, image, width, height) {\n",
              "    img = document.getElementById(name);\n",
              "    if(img == null) {\n",
              "      img = document.createElement('img');\n",
              "      img.id = name;\n",
              "      document.body.appendChild(img);\n",
              "    }\n",
              "    img.src = image;\n",
              "    img.width = width;\n",
              "    img.height = height;\n",
              "  }\n",
              "  "
            ]
          },
          "metadata": {}
        },
        {
          "output_type": "display_data",
          "data": {
            "text/plain": [
              "<IPython.core.display.Javascript object>"
            ],
            "application/javascript": [
              "\n",
              "  async function showImage(name, image, width, height) {\n",
              "    img = document.getElementById(name);\n",
              "    if(img == null) {\n",
              "      img = document.createElement('img');\n",
              "      img.id = name;\n",
              "      document.body.appendChild(img);\n",
              "    }\n",
              "    img.src = image;\n",
              "    img.width = width;\n",
              "    img.height = height;\n",
              "  }\n",
              "  "
            ]
          },
          "metadata": {}
        },
        {
          "output_type": "display_data",
          "data": {
            "text/plain": [
              "<IPython.core.display.Javascript object>"
            ],
            "application/javascript": [
              "\n",
              "  async function showImage(name, image, width, height) {\n",
              "    img = document.getElementById(name);\n",
              "    if(img == null) {\n",
              "      img = document.createElement('img');\n",
              "      img.id = name;\n",
              "      document.body.appendChild(img);\n",
              "    }\n",
              "    img.src = image;\n",
              "    img.width = width;\n",
              "    img.height = height;\n",
              "  }\n",
              "  "
            ]
          },
          "metadata": {}
        },
        {
          "output_type": "display_data",
          "data": {
            "text/plain": [
              "<IPython.core.display.Javascript object>"
            ],
            "application/javascript": [
              "\n",
              "  async function showImage(name, image, width, height) {\n",
              "    img = document.getElementById(name);\n",
              "    if(img == null) {\n",
              "      img = document.createElement('img');\n",
              "      img.id = name;\n",
              "      document.body.appendChild(img);\n",
              "    }\n",
              "    img.src = image;\n",
              "    img.width = width;\n",
              "    img.height = height;\n",
              "  }\n",
              "  "
            ]
          },
          "metadata": {}
        },
        {
          "output_type": "display_data",
          "data": {
            "text/plain": [
              "<IPython.core.display.Javascript object>"
            ],
            "application/javascript": [
              "\n",
              "  async function showImage(name, image, width, height) {\n",
              "    img = document.getElementById(name);\n",
              "    if(img == null) {\n",
              "      img = document.createElement('img');\n",
              "      img.id = name;\n",
              "      document.body.appendChild(img);\n",
              "    }\n",
              "    img.src = image;\n",
              "    img.width = width;\n",
              "    img.height = height;\n",
              "  }\n",
              "  "
            ]
          },
          "metadata": {}
        },
        {
          "output_type": "display_data",
          "data": {
            "text/plain": [
              "<IPython.core.display.Javascript object>"
            ],
            "application/javascript": [
              "\n",
              "  async function showImage(name, image, width, height) {\n",
              "    img = document.getElementById(name);\n",
              "    if(img == null) {\n",
              "      img = document.createElement('img');\n",
              "      img.id = name;\n",
              "      document.body.appendChild(img);\n",
              "    }\n",
              "    img.src = image;\n",
              "    img.width = width;\n",
              "    img.height = height;\n",
              "  }\n",
              "  "
            ]
          },
          "metadata": {}
        },
        {
          "output_type": "display_data",
          "data": {
            "text/plain": [
              "<IPython.core.display.Javascript object>"
            ],
            "application/javascript": [
              "\n",
              "  async function showImage(name, image, width, height) {\n",
              "    img = document.getElementById(name);\n",
              "    if(img == null) {\n",
              "      img = document.createElement('img');\n",
              "      img.id = name;\n",
              "      document.body.appendChild(img);\n",
              "    }\n",
              "    img.src = image;\n",
              "    img.width = width;\n",
              "    img.height = height;\n",
              "  }\n",
              "  "
            ]
          },
          "metadata": {}
        },
        {
          "output_type": "display_data",
          "data": {
            "text/plain": [
              "<IPython.core.display.Javascript object>"
            ],
            "application/javascript": [
              "\n",
              "  async function showImage(name, image, width, height) {\n",
              "    img = document.getElementById(name);\n",
              "    if(img == null) {\n",
              "      img = document.createElement('img');\n",
              "      img.id = name;\n",
              "      document.body.appendChild(img);\n",
              "    }\n",
              "    img.src = image;\n",
              "    img.width = width;\n",
              "    img.height = height;\n",
              "  }\n",
              "  "
            ]
          },
          "metadata": {}
        },
        {
          "output_type": "display_data",
          "data": {
            "text/plain": [
              "<IPython.core.display.Javascript object>"
            ],
            "application/javascript": [
              "\n",
              "  async function showImage(name, image, width, height) {\n",
              "    img = document.getElementById(name);\n",
              "    if(img == null) {\n",
              "      img = document.createElement('img');\n",
              "      img.id = name;\n",
              "      document.body.appendChild(img);\n",
              "    }\n",
              "    img.src = image;\n",
              "    img.width = width;\n",
              "    img.height = height;\n",
              "  }\n",
              "  "
            ]
          },
          "metadata": {}
        },
        {
          "output_type": "display_data",
          "data": {
            "text/plain": [
              "<IPython.core.display.Javascript object>"
            ],
            "application/javascript": [
              "\n",
              "  async function showImage(name, image, width, height) {\n",
              "    img = document.getElementById(name);\n",
              "    if(img == null) {\n",
              "      img = document.createElement('img');\n",
              "      img.id = name;\n",
              "      document.body.appendChild(img);\n",
              "    }\n",
              "    img.src = image;\n",
              "    img.width = width;\n",
              "    img.height = height;\n",
              "  }\n",
              "  "
            ]
          },
          "metadata": {}
        },
        {
          "output_type": "display_data",
          "data": {
            "text/plain": [
              "<IPython.core.display.Javascript object>"
            ],
            "application/javascript": [
              "\n",
              "  async function showImage(name, image, width, height) {\n",
              "    img = document.getElementById(name);\n",
              "    if(img == null) {\n",
              "      img = document.createElement('img');\n",
              "      img.id = name;\n",
              "      document.body.appendChild(img);\n",
              "    }\n",
              "    img.src = image;\n",
              "    img.width = width;\n",
              "    img.height = height;\n",
              "  }\n",
              "  "
            ]
          },
          "metadata": {}
        },
        {
          "output_type": "display_data",
          "data": {
            "text/plain": [
              "<IPython.core.display.Javascript object>"
            ],
            "application/javascript": [
              "\n",
              "  async function showImage(name, image, width, height) {\n",
              "    img = document.getElementById(name);\n",
              "    if(img == null) {\n",
              "      img = document.createElement('img');\n",
              "      img.id = name;\n",
              "      document.body.appendChild(img);\n",
              "    }\n",
              "    img.src = image;\n",
              "    img.width = width;\n",
              "    img.height = height;\n",
              "  }\n",
              "  "
            ]
          },
          "metadata": {}
        },
        {
          "output_type": "display_data",
          "data": {
            "text/plain": [
              "<IPython.core.display.Javascript object>"
            ],
            "application/javascript": [
              "\n",
              "  async function showImage(name, image, width, height) {\n",
              "    img = document.getElementById(name);\n",
              "    if(img == null) {\n",
              "      img = document.createElement('img');\n",
              "      img.id = name;\n",
              "      document.body.appendChild(img);\n",
              "    }\n",
              "    img.src = image;\n",
              "    img.width = width;\n",
              "    img.height = height;\n",
              "  }\n",
              "  "
            ]
          },
          "metadata": {}
        },
        {
          "output_type": "display_data",
          "data": {
            "text/plain": [
              "<IPython.core.display.Javascript object>"
            ],
            "application/javascript": [
              "\n",
              "  async function showImage(name, image, width, height) {\n",
              "    img = document.getElementById(name);\n",
              "    if(img == null) {\n",
              "      img = document.createElement('img');\n",
              "      img.id = name;\n",
              "      document.body.appendChild(img);\n",
              "    }\n",
              "    img.src = image;\n",
              "    img.width = width;\n",
              "    img.height = height;\n",
              "  }\n",
              "  "
            ]
          },
          "metadata": {}
        },
        {
          "output_type": "display_data",
          "data": {
            "text/plain": [
              "<IPython.core.display.Javascript object>"
            ],
            "application/javascript": [
              "\n",
              "  async function showImage(name, image, width, height) {\n",
              "    img = document.getElementById(name);\n",
              "    if(img == null) {\n",
              "      img = document.createElement('img');\n",
              "      img.id = name;\n",
              "      document.body.appendChild(img);\n",
              "    }\n",
              "    img.src = image;\n",
              "    img.width = width;\n",
              "    img.height = height;\n",
              "  }\n",
              "  "
            ]
          },
          "metadata": {}
        },
        {
          "output_type": "display_data",
          "data": {
            "text/plain": [
              "<IPython.core.display.Javascript object>"
            ],
            "application/javascript": [
              "\n",
              "  async function showImage(name, image, width, height) {\n",
              "    img = document.getElementById(name);\n",
              "    if(img == null) {\n",
              "      img = document.createElement('img');\n",
              "      img.id = name;\n",
              "      document.body.appendChild(img);\n",
              "    }\n",
              "    img.src = image;\n",
              "    img.width = width;\n",
              "    img.height = height;\n",
              "  }\n",
              "  "
            ]
          },
          "metadata": {}
        },
        {
          "output_type": "display_data",
          "data": {
            "text/plain": [
              "<IPython.core.display.Javascript object>"
            ],
            "application/javascript": [
              "\n",
              "  async function showImage(name, image, width, height) {\n",
              "    img = document.getElementById(name);\n",
              "    if(img == null) {\n",
              "      img = document.createElement('img');\n",
              "      img.id = name;\n",
              "      document.body.appendChild(img);\n",
              "    }\n",
              "    img.src = image;\n",
              "    img.width = width;\n",
              "    img.height = height;\n",
              "  }\n",
              "  "
            ]
          },
          "metadata": {}
        },
        {
          "output_type": "display_data",
          "data": {
            "text/plain": [
              "<IPython.core.display.Javascript object>"
            ],
            "application/javascript": [
              "\n",
              "  async function showImage(name, image, width, height) {\n",
              "    img = document.getElementById(name);\n",
              "    if(img == null) {\n",
              "      img = document.createElement('img');\n",
              "      img.id = name;\n",
              "      document.body.appendChild(img);\n",
              "    }\n",
              "    img.src = image;\n",
              "    img.width = width;\n",
              "    img.height = height;\n",
              "  }\n",
              "  "
            ]
          },
          "metadata": {}
        },
        {
          "output_type": "display_data",
          "data": {
            "text/plain": [
              "<IPython.core.display.Javascript object>"
            ],
            "application/javascript": [
              "\n",
              "  async function showImage(name, image, width, height) {\n",
              "    img = document.getElementById(name);\n",
              "    if(img == null) {\n",
              "      img = document.createElement('img');\n",
              "      img.id = name;\n",
              "      document.body.appendChild(img);\n",
              "    }\n",
              "    img.src = image;\n",
              "    img.width = width;\n",
              "    img.height = height;\n",
              "  }\n",
              "  "
            ]
          },
          "metadata": {}
        },
        {
          "output_type": "display_data",
          "data": {
            "text/plain": [
              "<IPython.core.display.Javascript object>"
            ],
            "application/javascript": [
              "\n",
              "  async function showImage(name, image, width, height) {\n",
              "    img = document.getElementById(name);\n",
              "    if(img == null) {\n",
              "      img = document.createElement('img');\n",
              "      img.id = name;\n",
              "      document.body.appendChild(img);\n",
              "    }\n",
              "    img.src = image;\n",
              "    img.width = width;\n",
              "    img.height = height;\n",
              "  }\n",
              "  "
            ]
          },
          "metadata": {}
        },
        {
          "output_type": "display_data",
          "data": {
            "text/plain": [
              "<IPython.core.display.Javascript object>"
            ],
            "application/javascript": [
              "\n",
              "  async function showImage(name, image, width, height) {\n",
              "    img = document.getElementById(name);\n",
              "    if(img == null) {\n",
              "      img = document.createElement('img');\n",
              "      img.id = name;\n",
              "      document.body.appendChild(img);\n",
              "    }\n",
              "    img.src = image;\n",
              "    img.width = width;\n",
              "    img.height = height;\n",
              "  }\n",
              "  "
            ]
          },
          "metadata": {}
        },
        {
          "output_type": "display_data",
          "data": {
            "text/plain": [
              "<IPython.core.display.Javascript object>"
            ],
            "application/javascript": [
              "\n",
              "  async function showImage(name, image, width, height) {\n",
              "    img = document.getElementById(name);\n",
              "    if(img == null) {\n",
              "      img = document.createElement('img');\n",
              "      img.id = name;\n",
              "      document.body.appendChild(img);\n",
              "    }\n",
              "    img.src = image;\n",
              "    img.width = width;\n",
              "    img.height = height;\n",
              "  }\n",
              "  "
            ]
          },
          "metadata": {}
        },
        {
          "output_type": "display_data",
          "data": {
            "text/plain": [
              "<IPython.core.display.Javascript object>"
            ],
            "application/javascript": [
              "\n",
              "  async function showImage(name, image, width, height) {\n",
              "    img = document.getElementById(name);\n",
              "    if(img == null) {\n",
              "      img = document.createElement('img');\n",
              "      img.id = name;\n",
              "      document.body.appendChild(img);\n",
              "    }\n",
              "    img.src = image;\n",
              "    img.width = width;\n",
              "    img.height = height;\n",
              "  }\n",
              "  "
            ]
          },
          "metadata": {}
        },
        {
          "output_type": "display_data",
          "data": {
            "text/plain": [
              "<IPython.core.display.Javascript object>"
            ],
            "application/javascript": [
              "\n",
              "  async function showImage(name, image, width, height) {\n",
              "    img = document.getElementById(name);\n",
              "    if(img == null) {\n",
              "      img = document.createElement('img');\n",
              "      img.id = name;\n",
              "      document.body.appendChild(img);\n",
              "    }\n",
              "    img.src = image;\n",
              "    img.width = width;\n",
              "    img.height = height;\n",
              "  }\n",
              "  "
            ]
          },
          "metadata": {}
        },
        {
          "output_type": "display_data",
          "data": {
            "text/plain": [
              "<IPython.core.display.Javascript object>"
            ],
            "application/javascript": [
              "\n",
              "  async function showImage(name, image, width, height) {\n",
              "    img = document.getElementById(name);\n",
              "    if(img == null) {\n",
              "      img = document.createElement('img');\n",
              "      img.id = name;\n",
              "      document.body.appendChild(img);\n",
              "    }\n",
              "    img.src = image;\n",
              "    img.width = width;\n",
              "    img.height = height;\n",
              "  }\n",
              "  "
            ]
          },
          "metadata": {}
        },
        {
          "output_type": "display_data",
          "data": {
            "text/plain": [
              "<IPython.core.display.Javascript object>"
            ],
            "application/javascript": [
              "\n",
              "  async function showImage(name, image, width, height) {\n",
              "    img = document.getElementById(name);\n",
              "    if(img == null) {\n",
              "      img = document.createElement('img');\n",
              "      img.id = name;\n",
              "      document.body.appendChild(img);\n",
              "    }\n",
              "    img.src = image;\n",
              "    img.width = width;\n",
              "    img.height = height;\n",
              "  }\n",
              "  "
            ]
          },
          "metadata": {}
        },
        {
          "output_type": "display_data",
          "data": {
            "text/plain": [
              "<IPython.core.display.Javascript object>"
            ],
            "application/javascript": [
              "\n",
              "  async function showImage(name, image, width, height) {\n",
              "    img = document.getElementById(name);\n",
              "    if(img == null) {\n",
              "      img = document.createElement('img');\n",
              "      img.id = name;\n",
              "      document.body.appendChild(img);\n",
              "    }\n",
              "    img.src = image;\n",
              "    img.width = width;\n",
              "    img.height = height;\n",
              "  }\n",
              "  "
            ]
          },
          "metadata": {}
        },
        {
          "output_type": "display_data",
          "data": {
            "text/plain": [
              "<IPython.core.display.Javascript object>"
            ],
            "application/javascript": [
              "\n",
              "  async function showImage(name, image, width, height) {\n",
              "    img = document.getElementById(name);\n",
              "    if(img == null) {\n",
              "      img = document.createElement('img');\n",
              "      img.id = name;\n",
              "      document.body.appendChild(img);\n",
              "    }\n",
              "    img.src = image;\n",
              "    img.width = width;\n",
              "    img.height = height;\n",
              "  }\n",
              "  "
            ]
          },
          "metadata": {}
        },
        {
          "output_type": "display_data",
          "data": {
            "text/plain": [
              "<IPython.core.display.Javascript object>"
            ],
            "application/javascript": [
              "\n",
              "  async function showImage(name, image, width, height) {\n",
              "    img = document.getElementById(name);\n",
              "    if(img == null) {\n",
              "      img = document.createElement('img');\n",
              "      img.id = name;\n",
              "      document.body.appendChild(img);\n",
              "    }\n",
              "    img.src = image;\n",
              "    img.width = width;\n",
              "    img.height = height;\n",
              "  }\n",
              "  "
            ]
          },
          "metadata": {}
        },
        {
          "output_type": "display_data",
          "data": {
            "text/plain": [
              "<IPython.core.display.Javascript object>"
            ],
            "application/javascript": [
              "\n",
              "  async function showImage(name, image, width, height) {\n",
              "    img = document.getElementById(name);\n",
              "    if(img == null) {\n",
              "      img = document.createElement('img');\n",
              "      img.id = name;\n",
              "      document.body.appendChild(img);\n",
              "    }\n",
              "    img.src = image;\n",
              "    img.width = width;\n",
              "    img.height = height;\n",
              "  }\n",
              "  "
            ]
          },
          "metadata": {}
        },
        {
          "output_type": "display_data",
          "data": {
            "text/plain": [
              "<IPython.core.display.Javascript object>"
            ],
            "application/javascript": [
              "\n",
              "  async function showImage(name, image, width, height) {\n",
              "    img = document.getElementById(name);\n",
              "    if(img == null) {\n",
              "      img = document.createElement('img');\n",
              "      img.id = name;\n",
              "      document.body.appendChild(img);\n",
              "    }\n",
              "    img.src = image;\n",
              "    img.width = width;\n",
              "    img.height = height;\n",
              "  }\n",
              "  "
            ]
          },
          "metadata": {}
        },
        {
          "output_type": "display_data",
          "data": {
            "text/plain": [
              "<IPython.core.display.Javascript object>"
            ],
            "application/javascript": [
              "\n",
              "  async function showImage(name, image, width, height) {\n",
              "    img = document.getElementById(name);\n",
              "    if(img == null) {\n",
              "      img = document.createElement('img');\n",
              "      img.id = name;\n",
              "      document.body.appendChild(img);\n",
              "    }\n",
              "    img.src = image;\n",
              "    img.width = width;\n",
              "    img.height = height;\n",
              "  }\n",
              "  "
            ]
          },
          "metadata": {}
        },
        {
          "output_type": "display_data",
          "data": {
            "text/plain": [
              "<IPython.core.display.Javascript object>"
            ],
            "application/javascript": [
              "\n",
              "  async function showImage(name, image, width, height) {\n",
              "    img = document.getElementById(name);\n",
              "    if(img == null) {\n",
              "      img = document.createElement('img');\n",
              "      img.id = name;\n",
              "      document.body.appendChild(img);\n",
              "    }\n",
              "    img.src = image;\n",
              "    img.width = width;\n",
              "    img.height = height;\n",
              "  }\n",
              "  "
            ]
          },
          "metadata": {}
        },
        {
          "output_type": "display_data",
          "data": {
            "text/plain": [
              "<IPython.core.display.Javascript object>"
            ],
            "application/javascript": [
              "\n",
              "  async function showImage(name, image, width, height) {\n",
              "    img = document.getElementById(name);\n",
              "    if(img == null) {\n",
              "      img = document.createElement('img');\n",
              "      img.id = name;\n",
              "      document.body.appendChild(img);\n",
              "    }\n",
              "    img.src = image;\n",
              "    img.width = width;\n",
              "    img.height = height;\n",
              "  }\n",
              "  "
            ]
          },
          "metadata": {}
        },
        {
          "output_type": "display_data",
          "data": {
            "text/plain": [
              "<IPython.core.display.Javascript object>"
            ],
            "application/javascript": [
              "\n",
              "  async function showImage(name, image, width, height) {\n",
              "    img = document.getElementById(name);\n",
              "    if(img == null) {\n",
              "      img = document.createElement('img');\n",
              "      img.id = name;\n",
              "      document.body.appendChild(img);\n",
              "    }\n",
              "    img.src = image;\n",
              "    img.width = width;\n",
              "    img.height = height;\n",
              "  }\n",
              "  "
            ]
          },
          "metadata": {}
        },
        {
          "output_type": "display_data",
          "data": {
            "text/plain": [
              "<IPython.core.display.Javascript object>"
            ],
            "application/javascript": [
              "\n",
              "  async function showImage(name, image, width, height) {\n",
              "    img = document.getElementById(name);\n",
              "    if(img == null) {\n",
              "      img = document.createElement('img');\n",
              "      img.id = name;\n",
              "      document.body.appendChild(img);\n",
              "    }\n",
              "    img.src = image;\n",
              "    img.width = width;\n",
              "    img.height = height;\n",
              "  }\n",
              "  "
            ]
          },
          "metadata": {}
        },
        {
          "output_type": "display_data",
          "data": {
            "text/plain": [
              "<IPython.core.display.Javascript object>"
            ],
            "application/javascript": [
              "\n",
              "  async function showImage(name, image, width, height) {\n",
              "    img = document.getElementById(name);\n",
              "    if(img == null) {\n",
              "      img = document.createElement('img');\n",
              "      img.id = name;\n",
              "      document.body.appendChild(img);\n",
              "    }\n",
              "    img.src = image;\n",
              "    img.width = width;\n",
              "    img.height = height;\n",
              "  }\n",
              "  "
            ]
          },
          "metadata": {}
        },
        {
          "output_type": "display_data",
          "data": {
            "text/plain": [
              "<IPython.core.display.Javascript object>"
            ],
            "application/javascript": [
              "\n",
              "  async function showImage(name, image, width, height) {\n",
              "    img = document.getElementById(name);\n",
              "    if(img == null) {\n",
              "      img = document.createElement('img');\n",
              "      img.id = name;\n",
              "      document.body.appendChild(img);\n",
              "    }\n",
              "    img.src = image;\n",
              "    img.width = width;\n",
              "    img.height = height;\n",
              "  }\n",
              "  "
            ]
          },
          "metadata": {}
        },
        {
          "output_type": "display_data",
          "data": {
            "text/plain": [
              "<IPython.core.display.Javascript object>"
            ],
            "application/javascript": [
              "\n",
              "  async function showImage(name, image, width, height) {\n",
              "    img = document.getElementById(name);\n",
              "    if(img == null) {\n",
              "      img = document.createElement('img');\n",
              "      img.id = name;\n",
              "      document.body.appendChild(img);\n",
              "    }\n",
              "    img.src = image;\n",
              "    img.width = width;\n",
              "    img.height = height;\n",
              "  }\n",
              "  "
            ]
          },
          "metadata": {}
        },
        {
          "output_type": "display_data",
          "data": {
            "text/plain": [
              "<IPython.core.display.Javascript object>"
            ],
            "application/javascript": [
              "\n",
              "  async function showImage(name, image, width, height) {\n",
              "    img = document.getElementById(name);\n",
              "    if(img == null) {\n",
              "      img = document.createElement('img');\n",
              "      img.id = name;\n",
              "      document.body.appendChild(img);\n",
              "    }\n",
              "    img.src = image;\n",
              "    img.width = width;\n",
              "    img.height = height;\n",
              "  }\n",
              "  "
            ]
          },
          "metadata": {}
        },
        {
          "output_type": "display_data",
          "data": {
            "text/plain": [
              "<IPython.core.display.Javascript object>"
            ],
            "application/javascript": [
              "\n",
              "  async function showImage(name, image, width, height) {\n",
              "    img = document.getElementById(name);\n",
              "    if(img == null) {\n",
              "      img = document.createElement('img');\n",
              "      img.id = name;\n",
              "      document.body.appendChild(img);\n",
              "    }\n",
              "    img.src = image;\n",
              "    img.width = width;\n",
              "    img.height = height;\n",
              "  }\n",
              "  "
            ]
          },
          "metadata": {}
        },
        {
          "output_type": "display_data",
          "data": {
            "text/plain": [
              "<IPython.core.display.Javascript object>"
            ],
            "application/javascript": [
              "\n",
              "  async function showImage(name, image, width, height) {\n",
              "    img = document.getElementById(name);\n",
              "    if(img == null) {\n",
              "      img = document.createElement('img');\n",
              "      img.id = name;\n",
              "      document.body.appendChild(img);\n",
              "    }\n",
              "    img.src = image;\n",
              "    img.width = width;\n",
              "    img.height = height;\n",
              "  }\n",
              "  "
            ]
          },
          "metadata": {}
        },
        {
          "output_type": "display_data",
          "data": {
            "text/plain": [
              "<IPython.core.display.Javascript object>"
            ],
            "application/javascript": [
              "\n",
              "  async function showImage(name, image, width, height) {\n",
              "    img = document.getElementById(name);\n",
              "    if(img == null) {\n",
              "      img = document.createElement('img');\n",
              "      img.id = name;\n",
              "      document.body.appendChild(img);\n",
              "    }\n",
              "    img.src = image;\n",
              "    img.width = width;\n",
              "    img.height = height;\n",
              "  }\n",
              "  "
            ]
          },
          "metadata": {}
        },
        {
          "output_type": "display_data",
          "data": {
            "text/plain": [
              "<IPython.core.display.Javascript object>"
            ],
            "application/javascript": [
              "\n",
              "  async function showImage(name, image, width, height) {\n",
              "    img = document.getElementById(name);\n",
              "    if(img == null) {\n",
              "      img = document.createElement('img');\n",
              "      img.id = name;\n",
              "      document.body.appendChild(img);\n",
              "    }\n",
              "    img.src = image;\n",
              "    img.width = width;\n",
              "    img.height = height;\n",
              "  }\n",
              "  "
            ]
          },
          "metadata": {}
        },
        {
          "output_type": "display_data",
          "data": {
            "text/plain": [
              "<IPython.core.display.Javascript object>"
            ],
            "application/javascript": [
              "\n",
              "  async function showImage(name, image, width, height) {\n",
              "    img = document.getElementById(name);\n",
              "    if(img == null) {\n",
              "      img = document.createElement('img');\n",
              "      img.id = name;\n",
              "      document.body.appendChild(img);\n",
              "    }\n",
              "    img.src = image;\n",
              "    img.width = width;\n",
              "    img.height = height;\n",
              "  }\n",
              "  "
            ]
          },
          "metadata": {}
        },
        {
          "output_type": "display_data",
          "data": {
            "text/plain": [
              "<IPython.core.display.Javascript object>"
            ],
            "application/javascript": [
              "\n",
              "  async function showImage(name, image, width, height) {\n",
              "    img = document.getElementById(name);\n",
              "    if(img == null) {\n",
              "      img = document.createElement('img');\n",
              "      img.id = name;\n",
              "      document.body.appendChild(img);\n",
              "    }\n",
              "    img.src = image;\n",
              "    img.width = width;\n",
              "    img.height = height;\n",
              "  }\n",
              "  "
            ]
          },
          "metadata": {}
        },
        {
          "output_type": "display_data",
          "data": {
            "text/plain": [
              "<IPython.core.display.Javascript object>"
            ],
            "application/javascript": [
              "\n",
              "  async function showImage(name, image, width, height) {\n",
              "    img = document.getElementById(name);\n",
              "    if(img == null) {\n",
              "      img = document.createElement('img');\n",
              "      img.id = name;\n",
              "      document.body.appendChild(img);\n",
              "    }\n",
              "    img.src = image;\n",
              "    img.width = width;\n",
              "    img.height = height;\n",
              "  }\n",
              "  "
            ]
          },
          "metadata": {}
        },
        {
          "output_type": "display_data",
          "data": {
            "text/plain": [
              "<IPython.core.display.Javascript object>"
            ],
            "application/javascript": [
              "\n",
              "  async function showImage(name, image, width, height) {\n",
              "    img = document.getElementById(name);\n",
              "    if(img == null) {\n",
              "      img = document.createElement('img');\n",
              "      img.id = name;\n",
              "      document.body.appendChild(img);\n",
              "    }\n",
              "    img.src = image;\n",
              "    img.width = width;\n",
              "    img.height = height;\n",
              "  }\n",
              "  "
            ]
          },
          "metadata": {}
        },
        {
          "output_type": "display_data",
          "data": {
            "text/plain": [
              "<IPython.core.display.Javascript object>"
            ],
            "application/javascript": [
              "\n",
              "  async function showImage(name, image, width, height) {\n",
              "    img = document.getElementById(name);\n",
              "    if(img == null) {\n",
              "      img = document.createElement('img');\n",
              "      img.id = name;\n",
              "      document.body.appendChild(img);\n",
              "    }\n",
              "    img.src = image;\n",
              "    img.width = width;\n",
              "    img.height = height;\n",
              "  }\n",
              "  "
            ]
          },
          "metadata": {}
        },
        {
          "output_type": "display_data",
          "data": {
            "text/plain": [
              "<IPython.core.display.Javascript object>"
            ],
            "application/javascript": [
              "\n",
              "  async function showImage(name, image, width, height) {\n",
              "    img = document.getElementById(name);\n",
              "    if(img == null) {\n",
              "      img = document.createElement('img');\n",
              "      img.id = name;\n",
              "      document.body.appendChild(img);\n",
              "    }\n",
              "    img.src = image;\n",
              "    img.width = width;\n",
              "    img.height = height;\n",
              "  }\n",
              "  "
            ]
          },
          "metadata": {}
        },
        {
          "output_type": "display_data",
          "data": {
            "text/plain": [
              "<IPython.core.display.Javascript object>"
            ],
            "application/javascript": [
              "\n",
              "  async function showImage(name, image, width, height) {\n",
              "    img = document.getElementById(name);\n",
              "    if(img == null) {\n",
              "      img = document.createElement('img');\n",
              "      img.id = name;\n",
              "      document.body.appendChild(img);\n",
              "    }\n",
              "    img.src = image;\n",
              "    img.width = width;\n",
              "    img.height = height;\n",
              "  }\n",
              "  "
            ]
          },
          "metadata": {}
        },
        {
          "output_type": "display_data",
          "data": {
            "text/plain": [
              "<IPython.core.display.Javascript object>"
            ],
            "application/javascript": [
              "\n",
              "  async function showImage(name, image, width, height) {\n",
              "    img = document.getElementById(name);\n",
              "    if(img == null) {\n",
              "      img = document.createElement('img');\n",
              "      img.id = name;\n",
              "      document.body.appendChild(img);\n",
              "    }\n",
              "    img.src = image;\n",
              "    img.width = width;\n",
              "    img.height = height;\n",
              "  }\n",
              "  "
            ]
          },
          "metadata": {}
        },
        {
          "output_type": "display_data",
          "data": {
            "text/plain": [
              "<IPython.core.display.Javascript object>"
            ],
            "application/javascript": [
              "\n",
              "  async function showImage(name, image, width, height) {\n",
              "    img = document.getElementById(name);\n",
              "    if(img == null) {\n",
              "      img = document.createElement('img');\n",
              "      img.id = name;\n",
              "      document.body.appendChild(img);\n",
              "    }\n",
              "    img.src = image;\n",
              "    img.width = width;\n",
              "    img.height = height;\n",
              "  }\n",
              "  "
            ]
          },
          "metadata": {}
        },
        {
          "output_type": "display_data",
          "data": {
            "text/plain": [
              "<IPython.core.display.Javascript object>"
            ],
            "application/javascript": [
              "\n",
              "  async function showImage(name, image, width, height) {\n",
              "    img = document.getElementById(name);\n",
              "    if(img == null) {\n",
              "      img = document.createElement('img');\n",
              "      img.id = name;\n",
              "      document.body.appendChild(img);\n",
              "    }\n",
              "    img.src = image;\n",
              "    img.width = width;\n",
              "    img.height = height;\n",
              "  }\n",
              "  "
            ]
          },
          "metadata": {}
        },
        {
          "output_type": "display_data",
          "data": {
            "text/plain": [
              "<IPython.core.display.Javascript object>"
            ],
            "application/javascript": [
              "\n",
              "  async function showImage(name, image, width, height) {\n",
              "    img = document.getElementById(name);\n",
              "    if(img == null) {\n",
              "      img = document.createElement('img');\n",
              "      img.id = name;\n",
              "      document.body.appendChild(img);\n",
              "    }\n",
              "    img.src = image;\n",
              "    img.width = width;\n",
              "    img.height = height;\n",
              "  }\n",
              "  "
            ]
          },
          "metadata": {}
        },
        {
          "output_type": "display_data",
          "data": {
            "text/plain": [
              "<IPython.core.display.Javascript object>"
            ],
            "application/javascript": [
              "\n",
              "  async function showImage(name, image, width, height) {\n",
              "    img = document.getElementById(name);\n",
              "    if(img == null) {\n",
              "      img = document.createElement('img');\n",
              "      img.id = name;\n",
              "      document.body.appendChild(img);\n",
              "    }\n",
              "    img.src = image;\n",
              "    img.width = width;\n",
              "    img.height = height;\n",
              "  }\n",
              "  "
            ]
          },
          "metadata": {}
        },
        {
          "output_type": "display_data",
          "data": {
            "text/plain": [
              "<IPython.core.display.Javascript object>"
            ],
            "application/javascript": [
              "\n",
              "  async function showImage(name, image, width, height) {\n",
              "    img = document.getElementById(name);\n",
              "    if(img == null) {\n",
              "      img = document.createElement('img');\n",
              "      img.id = name;\n",
              "      document.body.appendChild(img);\n",
              "    }\n",
              "    img.src = image;\n",
              "    img.width = width;\n",
              "    img.height = height;\n",
              "  }\n",
              "  "
            ]
          },
          "metadata": {}
        },
        {
          "output_type": "display_data",
          "data": {
            "text/plain": [
              "<IPython.core.display.Javascript object>"
            ],
            "application/javascript": [
              "\n",
              "  async function showImage(name, image, width, height) {\n",
              "    img = document.getElementById(name);\n",
              "    if(img == null) {\n",
              "      img = document.createElement('img');\n",
              "      img.id = name;\n",
              "      document.body.appendChild(img);\n",
              "    }\n",
              "    img.src = image;\n",
              "    img.width = width;\n",
              "    img.height = height;\n",
              "  }\n",
              "  "
            ]
          },
          "metadata": {}
        },
        {
          "output_type": "display_data",
          "data": {
            "text/plain": [
              "<IPython.core.display.Javascript object>"
            ],
            "application/javascript": [
              "\n",
              "  async function showImage(name, image, width, height) {\n",
              "    img = document.getElementById(name);\n",
              "    if(img == null) {\n",
              "      img = document.createElement('img');\n",
              "      img.id = name;\n",
              "      document.body.appendChild(img);\n",
              "    }\n",
              "    img.src = image;\n",
              "    img.width = width;\n",
              "    img.height = height;\n",
              "  }\n",
              "  "
            ]
          },
          "metadata": {}
        },
        {
          "output_type": "display_data",
          "data": {
            "text/plain": [
              "<IPython.core.display.Javascript object>"
            ],
            "application/javascript": [
              "\n",
              "  async function showImage(name, image, width, height) {\n",
              "    img = document.getElementById(name);\n",
              "    if(img == null) {\n",
              "      img = document.createElement('img');\n",
              "      img.id = name;\n",
              "      document.body.appendChild(img);\n",
              "    }\n",
              "    img.src = image;\n",
              "    img.width = width;\n",
              "    img.height = height;\n",
              "  }\n",
              "  "
            ]
          },
          "metadata": {}
        },
        {
          "output_type": "display_data",
          "data": {
            "text/plain": [
              "<IPython.core.display.Javascript object>"
            ],
            "application/javascript": [
              "\n",
              "  async function showImage(name, image, width, height) {\n",
              "    img = document.getElementById(name);\n",
              "    if(img == null) {\n",
              "      img = document.createElement('img');\n",
              "      img.id = name;\n",
              "      document.body.appendChild(img);\n",
              "    }\n",
              "    img.src = image;\n",
              "    img.width = width;\n",
              "    img.height = height;\n",
              "  }\n",
              "  "
            ]
          },
          "metadata": {}
        },
        {
          "output_type": "display_data",
          "data": {
            "text/plain": [
              "<IPython.core.display.Javascript object>"
            ],
            "application/javascript": [
              "\n",
              "  async function showImage(name, image, width, height) {\n",
              "    img = document.getElementById(name);\n",
              "    if(img == null) {\n",
              "      img = document.createElement('img');\n",
              "      img.id = name;\n",
              "      document.body.appendChild(img);\n",
              "    }\n",
              "    img.src = image;\n",
              "    img.width = width;\n",
              "    img.height = height;\n",
              "  }\n",
              "  "
            ]
          },
          "metadata": {}
        },
        {
          "output_type": "display_data",
          "data": {
            "text/plain": [
              "<IPython.core.display.Javascript object>"
            ],
            "application/javascript": [
              "\n",
              "  async function showImage(name, image, width, height) {\n",
              "    img = document.getElementById(name);\n",
              "    if(img == null) {\n",
              "      img = document.createElement('img');\n",
              "      img.id = name;\n",
              "      document.body.appendChild(img);\n",
              "    }\n",
              "    img.src = image;\n",
              "    img.width = width;\n",
              "    img.height = height;\n",
              "  }\n",
              "  "
            ]
          },
          "metadata": {}
        },
        {
          "output_type": "display_data",
          "data": {
            "text/plain": [
              "<IPython.core.display.Javascript object>"
            ],
            "application/javascript": [
              "\n",
              "  async function showImage(name, image, width, height) {\n",
              "    img = document.getElementById(name);\n",
              "    if(img == null) {\n",
              "      img = document.createElement('img');\n",
              "      img.id = name;\n",
              "      document.body.appendChild(img);\n",
              "    }\n",
              "    img.src = image;\n",
              "    img.width = width;\n",
              "    img.height = height;\n",
              "  }\n",
              "  "
            ]
          },
          "metadata": {}
        },
        {
          "output_type": "display_data",
          "data": {
            "text/plain": [
              "<IPython.core.display.Javascript object>"
            ],
            "application/javascript": [
              "\n",
              "  async function showImage(name, image, width, height) {\n",
              "    img = document.getElementById(name);\n",
              "    if(img == null) {\n",
              "      img = document.createElement('img');\n",
              "      img.id = name;\n",
              "      document.body.appendChild(img);\n",
              "    }\n",
              "    img.src = image;\n",
              "    img.width = width;\n",
              "    img.height = height;\n",
              "  }\n",
              "  "
            ]
          },
          "metadata": {}
        },
        {
          "output_type": "display_data",
          "data": {
            "text/plain": [
              "<IPython.core.display.Javascript object>"
            ],
            "application/javascript": [
              "\n",
              "  async function showImage(name, image, width, height) {\n",
              "    img = document.getElementById(name);\n",
              "    if(img == null) {\n",
              "      img = document.createElement('img');\n",
              "      img.id = name;\n",
              "      document.body.appendChild(img);\n",
              "    }\n",
              "    img.src = image;\n",
              "    img.width = width;\n",
              "    img.height = height;\n",
              "  }\n",
              "  "
            ]
          },
          "metadata": {}
        },
        {
          "output_type": "display_data",
          "data": {
            "text/plain": [
              "<IPython.core.display.Javascript object>"
            ],
            "application/javascript": [
              "\n",
              "  async function showImage(name, image, width, height) {\n",
              "    img = document.getElementById(name);\n",
              "    if(img == null) {\n",
              "      img = document.createElement('img');\n",
              "      img.id = name;\n",
              "      document.body.appendChild(img);\n",
              "    }\n",
              "    img.src = image;\n",
              "    img.width = width;\n",
              "    img.height = height;\n",
              "  }\n",
              "  "
            ]
          },
          "metadata": {}
        },
        {
          "output_type": "display_data",
          "data": {
            "text/plain": [
              "<IPython.core.display.Javascript object>"
            ],
            "application/javascript": [
              "\n",
              "  async function showImage(name, image, width, height) {\n",
              "    img = document.getElementById(name);\n",
              "    if(img == null) {\n",
              "      img = document.createElement('img');\n",
              "      img.id = name;\n",
              "      document.body.appendChild(img);\n",
              "    }\n",
              "    img.src = image;\n",
              "    img.width = width;\n",
              "    img.height = height;\n",
              "  }\n",
              "  "
            ]
          },
          "metadata": {}
        },
        {
          "output_type": "display_data",
          "data": {
            "text/plain": [
              "<IPython.core.display.Javascript object>"
            ],
            "application/javascript": [
              "\n",
              "  async function showImage(name, image, width, height) {\n",
              "    img = document.getElementById(name);\n",
              "    if(img == null) {\n",
              "      img = document.createElement('img');\n",
              "      img.id = name;\n",
              "      document.body.appendChild(img);\n",
              "    }\n",
              "    img.src = image;\n",
              "    img.width = width;\n",
              "    img.height = height;\n",
              "  }\n",
              "  "
            ]
          },
          "metadata": {}
        },
        {
          "output_type": "display_data",
          "data": {
            "text/plain": [
              "<IPython.core.display.Javascript object>"
            ],
            "application/javascript": [
              "\n",
              "  async function showImage(name, image, width, height) {\n",
              "    img = document.getElementById(name);\n",
              "    if(img == null) {\n",
              "      img = document.createElement('img');\n",
              "      img.id = name;\n",
              "      document.body.appendChild(img);\n",
              "    }\n",
              "    img.src = image;\n",
              "    img.width = width;\n",
              "    img.height = height;\n",
              "  }\n",
              "  "
            ]
          },
          "metadata": {}
        },
        {
          "output_type": "display_data",
          "data": {
            "text/plain": [
              "<IPython.core.display.Javascript object>"
            ],
            "application/javascript": [
              "\n",
              "  async function showImage(name, image, width, height) {\n",
              "    img = document.getElementById(name);\n",
              "    if(img == null) {\n",
              "      img = document.createElement('img');\n",
              "      img.id = name;\n",
              "      document.body.appendChild(img);\n",
              "    }\n",
              "    img.src = image;\n",
              "    img.width = width;\n",
              "    img.height = height;\n",
              "  }\n",
              "  "
            ]
          },
          "metadata": {}
        },
        {
          "output_type": "display_data",
          "data": {
            "text/plain": [
              "<IPython.core.display.Javascript object>"
            ],
            "application/javascript": [
              "\n",
              "  async function showImage(name, image, width, height) {\n",
              "    img = document.getElementById(name);\n",
              "    if(img == null) {\n",
              "      img = document.createElement('img');\n",
              "      img.id = name;\n",
              "      document.body.appendChild(img);\n",
              "    }\n",
              "    img.src = image;\n",
              "    img.width = width;\n",
              "    img.height = height;\n",
              "  }\n",
              "  "
            ]
          },
          "metadata": {}
        },
        {
          "output_type": "display_data",
          "data": {
            "text/plain": [
              "<IPython.core.display.Javascript object>"
            ],
            "application/javascript": [
              "\n",
              "  async function showImage(name, image, width, height) {\n",
              "    img = document.getElementById(name);\n",
              "    if(img == null) {\n",
              "      img = document.createElement('img');\n",
              "      img.id = name;\n",
              "      document.body.appendChild(img);\n",
              "    }\n",
              "    img.src = image;\n",
              "    img.width = width;\n",
              "    img.height = height;\n",
              "  }\n",
              "  "
            ]
          },
          "metadata": {}
        },
        {
          "output_type": "display_data",
          "data": {
            "text/plain": [
              "<IPython.core.display.Javascript object>"
            ],
            "application/javascript": [
              "\n",
              "  async function showImage(name, image, width, height) {\n",
              "    img = document.getElementById(name);\n",
              "    if(img == null) {\n",
              "      img = document.createElement('img');\n",
              "      img.id = name;\n",
              "      document.body.appendChild(img);\n",
              "    }\n",
              "    img.src = image;\n",
              "    img.width = width;\n",
              "    img.height = height;\n",
              "  }\n",
              "  "
            ]
          },
          "metadata": {}
        },
        {
          "output_type": "display_data",
          "data": {
            "text/plain": [
              "<IPython.core.display.Javascript object>"
            ],
            "application/javascript": [
              "\n",
              "  async function showImage(name, image, width, height) {\n",
              "    img = document.getElementById(name);\n",
              "    if(img == null) {\n",
              "      img = document.createElement('img');\n",
              "      img.id = name;\n",
              "      document.body.appendChild(img);\n",
              "    }\n",
              "    img.src = image;\n",
              "    img.width = width;\n",
              "    img.height = height;\n",
              "  }\n",
              "  "
            ]
          },
          "metadata": {}
        },
        {
          "output_type": "display_data",
          "data": {
            "text/plain": [
              "<IPython.core.display.Javascript object>"
            ],
            "application/javascript": [
              "\n",
              "  async function showImage(name, image, width, height) {\n",
              "    img = document.getElementById(name);\n",
              "    if(img == null) {\n",
              "      img = document.createElement('img');\n",
              "      img.id = name;\n",
              "      document.body.appendChild(img);\n",
              "    }\n",
              "    img.src = image;\n",
              "    img.width = width;\n",
              "    img.height = height;\n",
              "  }\n",
              "  "
            ]
          },
          "metadata": {}
        },
        {
          "output_type": "display_data",
          "data": {
            "text/plain": [
              "<IPython.core.display.Javascript object>"
            ],
            "application/javascript": [
              "\n",
              "  async function showImage(name, image, width, height) {\n",
              "    img = document.getElementById(name);\n",
              "    if(img == null) {\n",
              "      img = document.createElement('img');\n",
              "      img.id = name;\n",
              "      document.body.appendChild(img);\n",
              "    }\n",
              "    img.src = image;\n",
              "    img.width = width;\n",
              "    img.height = height;\n",
              "  }\n",
              "  "
            ]
          },
          "metadata": {}
        },
        {
          "output_type": "display_data",
          "data": {
            "text/plain": [
              "<IPython.core.display.Javascript object>"
            ],
            "application/javascript": [
              "\n",
              "  async function showImage(name, image, width, height) {\n",
              "    img = document.getElementById(name);\n",
              "    if(img == null) {\n",
              "      img = document.createElement('img');\n",
              "      img.id = name;\n",
              "      document.body.appendChild(img);\n",
              "    }\n",
              "    img.src = image;\n",
              "    img.width = width;\n",
              "    img.height = height;\n",
              "  }\n",
              "  "
            ]
          },
          "metadata": {}
        },
        {
          "output_type": "display_data",
          "data": {
            "text/plain": [
              "<IPython.core.display.Javascript object>"
            ],
            "application/javascript": [
              "\n",
              "  async function showImage(name, image, width, height) {\n",
              "    img = document.getElementById(name);\n",
              "    if(img == null) {\n",
              "      img = document.createElement('img');\n",
              "      img.id = name;\n",
              "      document.body.appendChild(img);\n",
              "    }\n",
              "    img.src = image;\n",
              "    img.width = width;\n",
              "    img.height = height;\n",
              "  }\n",
              "  "
            ]
          },
          "metadata": {}
        },
        {
          "output_type": "display_data",
          "data": {
            "text/plain": [
              "<IPython.core.display.Javascript object>"
            ],
            "application/javascript": [
              "\n",
              "  async function showImage(name, image, width, height) {\n",
              "    img = document.getElementById(name);\n",
              "    if(img == null) {\n",
              "      img = document.createElement('img');\n",
              "      img.id = name;\n",
              "      document.body.appendChild(img);\n",
              "    }\n",
              "    img.src = image;\n",
              "    img.width = width;\n",
              "    img.height = height;\n",
              "  }\n",
              "  "
            ]
          },
          "metadata": {}
        },
        {
          "output_type": "display_data",
          "data": {
            "text/plain": [
              "<IPython.core.display.Javascript object>"
            ],
            "application/javascript": [
              "\n",
              "  async function showImage(name, image, width, height) {\n",
              "    img = document.getElementById(name);\n",
              "    if(img == null) {\n",
              "      img = document.createElement('img');\n",
              "      img.id = name;\n",
              "      document.body.appendChild(img);\n",
              "    }\n",
              "    img.src = image;\n",
              "    img.width = width;\n",
              "    img.height = height;\n",
              "  }\n",
              "  "
            ]
          },
          "metadata": {}
        },
        {
          "output_type": "display_data",
          "data": {
            "text/plain": [
              "<IPython.core.display.Javascript object>"
            ],
            "application/javascript": [
              "\n",
              "  async function showImage(name, image, width, height) {\n",
              "    img = document.getElementById(name);\n",
              "    if(img == null) {\n",
              "      img = document.createElement('img');\n",
              "      img.id = name;\n",
              "      document.body.appendChild(img);\n",
              "    }\n",
              "    img.src = image;\n",
              "    img.width = width;\n",
              "    img.height = height;\n",
              "  }\n",
              "  "
            ]
          },
          "metadata": {}
        },
        {
          "output_type": "display_data",
          "data": {
            "text/plain": [
              "<IPython.core.display.Javascript object>"
            ],
            "application/javascript": [
              "\n",
              "  async function showImage(name, image, width, height) {\n",
              "    img = document.getElementById(name);\n",
              "    if(img == null) {\n",
              "      img = document.createElement('img');\n",
              "      img.id = name;\n",
              "      document.body.appendChild(img);\n",
              "    }\n",
              "    img.src = image;\n",
              "    img.width = width;\n",
              "    img.height = height;\n",
              "  }\n",
              "  "
            ]
          },
          "metadata": {}
        },
        {
          "output_type": "display_data",
          "data": {
            "text/plain": [
              "<IPython.core.display.Javascript object>"
            ],
            "application/javascript": [
              "\n",
              "  async function showImage(name, image, width, height) {\n",
              "    img = document.getElementById(name);\n",
              "    if(img == null) {\n",
              "      img = document.createElement('img');\n",
              "      img.id = name;\n",
              "      document.body.appendChild(img);\n",
              "    }\n",
              "    img.src = image;\n",
              "    img.width = width;\n",
              "    img.height = height;\n",
              "  }\n",
              "  "
            ]
          },
          "metadata": {}
        },
        {
          "output_type": "display_data",
          "data": {
            "text/plain": [
              "<IPython.core.display.Javascript object>"
            ],
            "application/javascript": [
              "\n",
              "  async function showImage(name, image, width, height) {\n",
              "    img = document.getElementById(name);\n",
              "    if(img == null) {\n",
              "      img = document.createElement('img');\n",
              "      img.id = name;\n",
              "      document.body.appendChild(img);\n",
              "    }\n",
              "    img.src = image;\n",
              "    img.width = width;\n",
              "    img.height = height;\n",
              "  }\n",
              "  "
            ]
          },
          "metadata": {}
        },
        {
          "output_type": "display_data",
          "data": {
            "text/plain": [
              "<IPython.core.display.Javascript object>"
            ],
            "application/javascript": [
              "\n",
              "  async function showImage(name, image, width, height) {\n",
              "    img = document.getElementById(name);\n",
              "    if(img == null) {\n",
              "      img = document.createElement('img');\n",
              "      img.id = name;\n",
              "      document.body.appendChild(img);\n",
              "    }\n",
              "    img.src = image;\n",
              "    img.width = width;\n",
              "    img.height = height;\n",
              "  }\n",
              "  "
            ]
          },
          "metadata": {}
        },
        {
          "output_type": "display_data",
          "data": {
            "text/plain": [
              "<IPython.core.display.Javascript object>"
            ],
            "application/javascript": [
              "\n",
              "  async function showImage(name, image, width, height) {\n",
              "    img = document.getElementById(name);\n",
              "    if(img == null) {\n",
              "      img = document.createElement('img');\n",
              "      img.id = name;\n",
              "      document.body.appendChild(img);\n",
              "    }\n",
              "    img.src = image;\n",
              "    img.width = width;\n",
              "    img.height = height;\n",
              "  }\n",
              "  "
            ]
          },
          "metadata": {}
        },
        {
          "output_type": "display_data",
          "data": {
            "text/plain": [
              "<IPython.core.display.Javascript object>"
            ],
            "application/javascript": [
              "\n",
              "  async function showImage(name, image, width, height) {\n",
              "    img = document.getElementById(name);\n",
              "    if(img == null) {\n",
              "      img = document.createElement('img');\n",
              "      img.id = name;\n",
              "      document.body.appendChild(img);\n",
              "    }\n",
              "    img.src = image;\n",
              "    img.width = width;\n",
              "    img.height = height;\n",
              "  }\n",
              "  "
            ]
          },
          "metadata": {}
        },
        {
          "output_type": "display_data",
          "data": {
            "text/plain": [
              "<IPython.core.display.Javascript object>"
            ],
            "application/javascript": [
              "\n",
              "  async function showImage(name, image, width, height) {\n",
              "    img = document.getElementById(name);\n",
              "    if(img == null) {\n",
              "      img = document.createElement('img');\n",
              "      img.id = name;\n",
              "      document.body.appendChild(img);\n",
              "    }\n",
              "    img.src = image;\n",
              "    img.width = width;\n",
              "    img.height = height;\n",
              "  }\n",
              "  "
            ]
          },
          "metadata": {}
        },
        {
          "output_type": "display_data",
          "data": {
            "text/plain": [
              "<IPython.core.display.Javascript object>"
            ],
            "application/javascript": [
              "\n",
              "  async function showImage(name, image, width, height) {\n",
              "    img = document.getElementById(name);\n",
              "    if(img == null) {\n",
              "      img = document.createElement('img');\n",
              "      img.id = name;\n",
              "      document.body.appendChild(img);\n",
              "    }\n",
              "    img.src = image;\n",
              "    img.width = width;\n",
              "    img.height = height;\n",
              "  }\n",
              "  "
            ]
          },
          "metadata": {}
        },
        {
          "output_type": "display_data",
          "data": {
            "text/plain": [
              "<IPython.core.display.Javascript object>"
            ],
            "application/javascript": [
              "\n",
              "  async function showImage(name, image, width, height) {\n",
              "    img = document.getElementById(name);\n",
              "    if(img == null) {\n",
              "      img = document.createElement('img');\n",
              "      img.id = name;\n",
              "      document.body.appendChild(img);\n",
              "    }\n",
              "    img.src = image;\n",
              "    img.width = width;\n",
              "    img.height = height;\n",
              "  }\n",
              "  "
            ]
          },
          "metadata": {}
        },
        {
          "output_type": "display_data",
          "data": {
            "text/plain": [
              "<IPython.core.display.Javascript object>"
            ],
            "application/javascript": [
              "\n",
              "  async function showImage(name, image, width, height) {\n",
              "    img = document.getElementById(name);\n",
              "    if(img == null) {\n",
              "      img = document.createElement('img');\n",
              "      img.id = name;\n",
              "      document.body.appendChild(img);\n",
              "    }\n",
              "    img.src = image;\n",
              "    img.width = width;\n",
              "    img.height = height;\n",
              "  }\n",
              "  "
            ]
          },
          "metadata": {}
        },
        {
          "output_type": "display_data",
          "data": {
            "text/plain": [
              "<IPython.core.display.Javascript object>"
            ],
            "application/javascript": [
              "\n",
              "  async function showImage(name, image, width, height) {\n",
              "    img = document.getElementById(name);\n",
              "    if(img == null) {\n",
              "      img = document.createElement('img');\n",
              "      img.id = name;\n",
              "      document.body.appendChild(img);\n",
              "    }\n",
              "    img.src = image;\n",
              "    img.width = width;\n",
              "    img.height = height;\n",
              "  }\n",
              "  "
            ]
          },
          "metadata": {}
        },
        {
          "output_type": "display_data",
          "data": {
            "text/plain": [
              "<IPython.core.display.Javascript object>"
            ],
            "application/javascript": [
              "\n",
              "  async function showImage(name, image, width, height) {\n",
              "    img = document.getElementById(name);\n",
              "    if(img == null) {\n",
              "      img = document.createElement('img');\n",
              "      img.id = name;\n",
              "      document.body.appendChild(img);\n",
              "    }\n",
              "    img.src = image;\n",
              "    img.width = width;\n",
              "    img.height = height;\n",
              "  }\n",
              "  "
            ]
          },
          "metadata": {}
        },
        {
          "output_type": "display_data",
          "data": {
            "text/plain": [
              "<IPython.core.display.Javascript object>"
            ],
            "application/javascript": [
              "\n",
              "  async function showImage(name, image, width, height) {\n",
              "    img = document.getElementById(name);\n",
              "    if(img == null) {\n",
              "      img = document.createElement('img');\n",
              "      img.id = name;\n",
              "      document.body.appendChild(img);\n",
              "    }\n",
              "    img.src = image;\n",
              "    img.width = width;\n",
              "    img.height = height;\n",
              "  }\n",
              "  "
            ]
          },
          "metadata": {}
        },
        {
          "output_type": "display_data",
          "data": {
            "text/plain": [
              "<IPython.core.display.Javascript object>"
            ],
            "application/javascript": [
              "\n",
              "  async function showImage(name, image, width, height) {\n",
              "    img = document.getElementById(name);\n",
              "    if(img == null) {\n",
              "      img = document.createElement('img');\n",
              "      img.id = name;\n",
              "      document.body.appendChild(img);\n",
              "    }\n",
              "    img.src = image;\n",
              "    img.width = width;\n",
              "    img.height = height;\n",
              "  }\n",
              "  "
            ]
          },
          "metadata": {}
        },
        {
          "output_type": "display_data",
          "data": {
            "text/plain": [
              "<IPython.core.display.Javascript object>"
            ],
            "application/javascript": [
              "\n",
              "  async function showImage(name, image, width, height) {\n",
              "    img = document.getElementById(name);\n",
              "    if(img == null) {\n",
              "      img = document.createElement('img');\n",
              "      img.id = name;\n",
              "      document.body.appendChild(img);\n",
              "    }\n",
              "    img.src = image;\n",
              "    img.width = width;\n",
              "    img.height = height;\n",
              "  }\n",
              "  "
            ]
          },
          "metadata": {}
        },
        {
          "output_type": "display_data",
          "data": {
            "text/plain": [
              "<IPython.core.display.Javascript object>"
            ],
            "application/javascript": [
              "\n",
              "  async function showImage(name, image, width, height) {\n",
              "    img = document.getElementById(name);\n",
              "    if(img == null) {\n",
              "      img = document.createElement('img');\n",
              "      img.id = name;\n",
              "      document.body.appendChild(img);\n",
              "    }\n",
              "    img.src = image;\n",
              "    img.width = width;\n",
              "    img.height = height;\n",
              "  }\n",
              "  "
            ]
          },
          "metadata": {}
        },
        {
          "output_type": "display_data",
          "data": {
            "text/plain": [
              "<IPython.core.display.Javascript object>"
            ],
            "application/javascript": [
              "\n",
              "  async function showImage(name, image, width, height) {\n",
              "    img = document.getElementById(name);\n",
              "    if(img == null) {\n",
              "      img = document.createElement('img');\n",
              "      img.id = name;\n",
              "      document.body.appendChild(img);\n",
              "    }\n",
              "    img.src = image;\n",
              "    img.width = width;\n",
              "    img.height = height;\n",
              "  }\n",
              "  "
            ]
          },
          "metadata": {}
        },
        {
          "output_type": "display_data",
          "data": {
            "text/plain": [
              "<IPython.core.display.Javascript object>"
            ],
            "application/javascript": [
              "\n",
              "  async function showImage(name, image, width, height) {\n",
              "    img = document.getElementById(name);\n",
              "    if(img == null) {\n",
              "      img = document.createElement('img');\n",
              "      img.id = name;\n",
              "      document.body.appendChild(img);\n",
              "    }\n",
              "    img.src = image;\n",
              "    img.width = width;\n",
              "    img.height = height;\n",
              "  }\n",
              "  "
            ]
          },
          "metadata": {}
        },
        {
          "output_type": "display_data",
          "data": {
            "text/plain": [
              "<IPython.core.display.Javascript object>"
            ],
            "application/javascript": [
              "\n",
              "  async function showImage(name, image, width, height) {\n",
              "    img = document.getElementById(name);\n",
              "    if(img == null) {\n",
              "      img = document.createElement('img');\n",
              "      img.id = name;\n",
              "      document.body.appendChild(img);\n",
              "    }\n",
              "    img.src = image;\n",
              "    img.width = width;\n",
              "    img.height = height;\n",
              "  }\n",
              "  "
            ]
          },
          "metadata": {}
        },
        {
          "output_type": "display_data",
          "data": {
            "text/plain": [
              "<IPython.core.display.Javascript object>"
            ],
            "application/javascript": [
              "\n",
              "  async function showImage(name, image, width, height) {\n",
              "    img = document.getElementById(name);\n",
              "    if(img == null) {\n",
              "      img = document.createElement('img');\n",
              "      img.id = name;\n",
              "      document.body.appendChild(img);\n",
              "    }\n",
              "    img.src = image;\n",
              "    img.width = width;\n",
              "    img.height = height;\n",
              "  }\n",
              "  "
            ]
          },
          "metadata": {}
        },
        {
          "output_type": "display_data",
          "data": {
            "text/plain": [
              "<IPython.core.display.Javascript object>"
            ],
            "application/javascript": [
              "\n",
              "  async function showImage(name, image, width, height) {\n",
              "    img = document.getElementById(name);\n",
              "    if(img == null) {\n",
              "      img = document.createElement('img');\n",
              "      img.id = name;\n",
              "      document.body.appendChild(img);\n",
              "    }\n",
              "    img.src = image;\n",
              "    img.width = width;\n",
              "    img.height = height;\n",
              "  }\n",
              "  "
            ]
          },
          "metadata": {}
        },
        {
          "output_type": "display_data",
          "data": {
            "text/plain": [
              "<IPython.core.display.Javascript object>"
            ],
            "application/javascript": [
              "\n",
              "  async function showImage(name, image, width, height) {\n",
              "    img = document.getElementById(name);\n",
              "    if(img == null) {\n",
              "      img = document.createElement('img');\n",
              "      img.id = name;\n",
              "      document.body.appendChild(img);\n",
              "    }\n",
              "    img.src = image;\n",
              "    img.width = width;\n",
              "    img.height = height;\n",
              "  }\n",
              "  "
            ]
          },
          "metadata": {}
        },
        {
          "output_type": "display_data",
          "data": {
            "text/plain": [
              "<IPython.core.display.Javascript object>"
            ],
            "application/javascript": [
              "\n",
              "  async function showImage(name, image, width, height) {\n",
              "    img = document.getElementById(name);\n",
              "    if(img == null) {\n",
              "      img = document.createElement('img');\n",
              "      img.id = name;\n",
              "      document.body.appendChild(img);\n",
              "    }\n",
              "    img.src = image;\n",
              "    img.width = width;\n",
              "    img.height = height;\n",
              "  }\n",
              "  "
            ]
          },
          "metadata": {}
        },
        {
          "output_type": "display_data",
          "data": {
            "text/plain": [
              "<IPython.core.display.Javascript object>"
            ],
            "application/javascript": [
              "\n",
              "  async function showImage(name, image, width, height) {\n",
              "    img = document.getElementById(name);\n",
              "    if(img == null) {\n",
              "      img = document.createElement('img');\n",
              "      img.id = name;\n",
              "      document.body.appendChild(img);\n",
              "    }\n",
              "    img.src = image;\n",
              "    img.width = width;\n",
              "    img.height = height;\n",
              "  }\n",
              "  "
            ]
          },
          "metadata": {}
        },
        {
          "output_type": "display_data",
          "data": {
            "text/plain": [
              "<IPython.core.display.Javascript object>"
            ],
            "application/javascript": [
              "\n",
              "  async function showImage(name, image, width, height) {\n",
              "    img = document.getElementById(name);\n",
              "    if(img == null) {\n",
              "      img = document.createElement('img');\n",
              "      img.id = name;\n",
              "      document.body.appendChild(img);\n",
              "    }\n",
              "    img.src = image;\n",
              "    img.width = width;\n",
              "    img.height = height;\n",
              "  }\n",
              "  "
            ]
          },
          "metadata": {}
        },
        {
          "output_type": "display_data",
          "data": {
            "text/plain": [
              "<IPython.core.display.Javascript object>"
            ],
            "application/javascript": [
              "\n",
              "  async function showImage(name, image, width, height) {\n",
              "    img = document.getElementById(name);\n",
              "    if(img == null) {\n",
              "      img = document.createElement('img');\n",
              "      img.id = name;\n",
              "      document.body.appendChild(img);\n",
              "    }\n",
              "    img.src = image;\n",
              "    img.width = width;\n",
              "    img.height = height;\n",
              "  }\n",
              "  "
            ]
          },
          "metadata": {}
        },
        {
          "output_type": "display_data",
          "data": {
            "text/plain": [
              "<IPython.core.display.Javascript object>"
            ],
            "application/javascript": [
              "\n",
              "  async function showImage(name, image, width, height) {\n",
              "    img = document.getElementById(name);\n",
              "    if(img == null) {\n",
              "      img = document.createElement('img');\n",
              "      img.id = name;\n",
              "      document.body.appendChild(img);\n",
              "    }\n",
              "    img.src = image;\n",
              "    img.width = width;\n",
              "    img.height = height;\n",
              "  }\n",
              "  "
            ]
          },
          "metadata": {}
        },
        {
          "output_type": "display_data",
          "data": {
            "text/plain": [
              "<IPython.core.display.Javascript object>"
            ],
            "application/javascript": [
              "\n",
              "  async function showImage(name, image, width, height) {\n",
              "    img = document.getElementById(name);\n",
              "    if(img == null) {\n",
              "      img = document.createElement('img');\n",
              "      img.id = name;\n",
              "      document.body.appendChild(img);\n",
              "    }\n",
              "    img.src = image;\n",
              "    img.width = width;\n",
              "    img.height = height;\n",
              "  }\n",
              "  "
            ]
          },
          "metadata": {}
        },
        {
          "output_type": "display_data",
          "data": {
            "text/plain": [
              "<IPython.core.display.Javascript object>"
            ],
            "application/javascript": [
              "\n",
              "  async function showImage(name, image, width, height) {\n",
              "    img = document.getElementById(name);\n",
              "    if(img == null) {\n",
              "      img = document.createElement('img');\n",
              "      img.id = name;\n",
              "      document.body.appendChild(img);\n",
              "    }\n",
              "    img.src = image;\n",
              "    img.width = width;\n",
              "    img.height = height;\n",
              "  }\n",
              "  "
            ]
          },
          "metadata": {}
        },
        {
          "output_type": "display_data",
          "data": {
            "text/plain": [
              "<IPython.core.display.Javascript object>"
            ],
            "application/javascript": [
              "\n",
              "  async function showImage(name, image, width, height) {\n",
              "    img = document.getElementById(name);\n",
              "    if(img == null) {\n",
              "      img = document.createElement('img');\n",
              "      img.id = name;\n",
              "      document.body.appendChild(img);\n",
              "    }\n",
              "    img.src = image;\n",
              "    img.width = width;\n",
              "    img.height = height;\n",
              "  }\n",
              "  "
            ]
          },
          "metadata": {}
        },
        {
          "output_type": "display_data",
          "data": {
            "text/plain": [
              "<IPython.core.display.Javascript object>"
            ],
            "application/javascript": [
              "\n",
              "  async function showImage(name, image, width, height) {\n",
              "    img = document.getElementById(name);\n",
              "    if(img == null) {\n",
              "      img = document.createElement('img');\n",
              "      img.id = name;\n",
              "      document.body.appendChild(img);\n",
              "    }\n",
              "    img.src = image;\n",
              "    img.width = width;\n",
              "    img.height = height;\n",
              "  }\n",
              "  "
            ]
          },
          "metadata": {}
        },
        {
          "output_type": "display_data",
          "data": {
            "text/plain": [
              "<IPython.core.display.Javascript object>"
            ],
            "application/javascript": [
              "\n",
              "  async function showImage(name, image, width, height) {\n",
              "    img = document.getElementById(name);\n",
              "    if(img == null) {\n",
              "      img = document.createElement('img');\n",
              "      img.id = name;\n",
              "      document.body.appendChild(img);\n",
              "    }\n",
              "    img.src = image;\n",
              "    img.width = width;\n",
              "    img.height = height;\n",
              "  }\n",
              "  "
            ]
          },
          "metadata": {}
        },
        {
          "output_type": "display_data",
          "data": {
            "text/plain": [
              "<IPython.core.display.Javascript object>"
            ],
            "application/javascript": [
              "\n",
              "  async function showImage(name, image, width, height) {\n",
              "    img = document.getElementById(name);\n",
              "    if(img == null) {\n",
              "      img = document.createElement('img');\n",
              "      img.id = name;\n",
              "      document.body.appendChild(img);\n",
              "    }\n",
              "    img.src = image;\n",
              "    img.width = width;\n",
              "    img.height = height;\n",
              "  }\n",
              "  "
            ]
          },
          "metadata": {}
        },
        {
          "output_type": "display_data",
          "data": {
            "text/plain": [
              "<IPython.core.display.Javascript object>"
            ],
            "application/javascript": [
              "\n",
              "  async function showImage(name, image, width, height) {\n",
              "    img = document.getElementById(name);\n",
              "    if(img == null) {\n",
              "      img = document.createElement('img');\n",
              "      img.id = name;\n",
              "      document.body.appendChild(img);\n",
              "    }\n",
              "    img.src = image;\n",
              "    img.width = width;\n",
              "    img.height = height;\n",
              "  }\n",
              "  "
            ]
          },
          "metadata": {}
        },
        {
          "output_type": "display_data",
          "data": {
            "text/plain": [
              "<IPython.core.display.Javascript object>"
            ],
            "application/javascript": [
              "\n",
              "  async function showImage(name, image, width, height) {\n",
              "    img = document.getElementById(name);\n",
              "    if(img == null) {\n",
              "      img = document.createElement('img');\n",
              "      img.id = name;\n",
              "      document.body.appendChild(img);\n",
              "    }\n",
              "    img.src = image;\n",
              "    img.width = width;\n",
              "    img.height = height;\n",
              "  }\n",
              "  "
            ]
          },
          "metadata": {}
        },
        {
          "output_type": "display_data",
          "data": {
            "text/plain": [
              "<IPython.core.display.Javascript object>"
            ],
            "application/javascript": [
              "\n",
              "  async function showImage(name, image, width, height) {\n",
              "    img = document.getElementById(name);\n",
              "    if(img == null) {\n",
              "      img = document.createElement('img');\n",
              "      img.id = name;\n",
              "      document.body.appendChild(img);\n",
              "    }\n",
              "    img.src = image;\n",
              "    img.width = width;\n",
              "    img.height = height;\n",
              "  }\n",
              "  "
            ]
          },
          "metadata": {}
        },
        {
          "output_type": "display_data",
          "data": {
            "text/plain": [
              "<IPython.core.display.Javascript object>"
            ],
            "application/javascript": [
              "\n",
              "  async function showImage(name, image, width, height) {\n",
              "    img = document.getElementById(name);\n",
              "    if(img == null) {\n",
              "      img = document.createElement('img');\n",
              "      img.id = name;\n",
              "      document.body.appendChild(img);\n",
              "    }\n",
              "    img.src = image;\n",
              "    img.width = width;\n",
              "    img.height = height;\n",
              "  }\n",
              "  "
            ]
          },
          "metadata": {}
        },
        {
          "output_type": "display_data",
          "data": {
            "text/plain": [
              "<IPython.core.display.Javascript object>"
            ],
            "application/javascript": [
              "\n",
              "  async function showImage(name, image, width, height) {\n",
              "    img = document.getElementById(name);\n",
              "    if(img == null) {\n",
              "      img = document.createElement('img');\n",
              "      img.id = name;\n",
              "      document.body.appendChild(img);\n",
              "    }\n",
              "    img.src = image;\n",
              "    img.width = width;\n",
              "    img.height = height;\n",
              "  }\n",
              "  "
            ]
          },
          "metadata": {}
        },
        {
          "output_type": "display_data",
          "data": {
            "text/plain": [
              "<IPython.core.display.Javascript object>"
            ],
            "application/javascript": [
              "\n",
              "  async function showImage(name, image, width, height) {\n",
              "    img = document.getElementById(name);\n",
              "    if(img == null) {\n",
              "      img = document.createElement('img');\n",
              "      img.id = name;\n",
              "      document.body.appendChild(img);\n",
              "    }\n",
              "    img.src = image;\n",
              "    img.width = width;\n",
              "    img.height = height;\n",
              "  }\n",
              "  "
            ]
          },
          "metadata": {}
        },
        {
          "output_type": "display_data",
          "data": {
            "text/plain": [
              "<IPython.core.display.Javascript object>"
            ],
            "application/javascript": [
              "\n",
              "  async function showImage(name, image, width, height) {\n",
              "    img = document.getElementById(name);\n",
              "    if(img == null) {\n",
              "      img = document.createElement('img');\n",
              "      img.id = name;\n",
              "      document.body.appendChild(img);\n",
              "    }\n",
              "    img.src = image;\n",
              "    img.width = width;\n",
              "    img.height = height;\n",
              "  }\n",
              "  "
            ]
          },
          "metadata": {}
        },
        {
          "output_type": "display_data",
          "data": {
            "text/plain": [
              "<IPython.core.display.Javascript object>"
            ],
            "application/javascript": [
              "\n",
              "  async function showImage(name, image, width, height) {\n",
              "    img = document.getElementById(name);\n",
              "    if(img == null) {\n",
              "      img = document.createElement('img');\n",
              "      img.id = name;\n",
              "      document.body.appendChild(img);\n",
              "    }\n",
              "    img.src = image;\n",
              "    img.width = width;\n",
              "    img.height = height;\n",
              "  }\n",
              "  "
            ]
          },
          "metadata": {}
        },
        {
          "output_type": "display_data",
          "data": {
            "text/plain": [
              "<IPython.core.display.Javascript object>"
            ],
            "application/javascript": [
              "\n",
              "  async function showImage(name, image, width, height) {\n",
              "    img = document.getElementById(name);\n",
              "    if(img == null) {\n",
              "      img = document.createElement('img');\n",
              "      img.id = name;\n",
              "      document.body.appendChild(img);\n",
              "    }\n",
              "    img.src = image;\n",
              "    img.width = width;\n",
              "    img.height = height;\n",
              "  }\n",
              "  "
            ]
          },
          "metadata": {}
        },
        {
          "output_type": "display_data",
          "data": {
            "text/plain": [
              "<IPython.core.display.Javascript object>"
            ],
            "application/javascript": [
              "\n",
              "  async function showImage(name, image, width, height) {\n",
              "    img = document.getElementById(name);\n",
              "    if(img == null) {\n",
              "      img = document.createElement('img');\n",
              "      img.id = name;\n",
              "      document.body.appendChild(img);\n",
              "    }\n",
              "    img.src = image;\n",
              "    img.width = width;\n",
              "    img.height = height;\n",
              "  }\n",
              "  "
            ]
          },
          "metadata": {}
        },
        {
          "output_type": "display_data",
          "data": {
            "text/plain": [
              "<IPython.core.display.Javascript object>"
            ],
            "application/javascript": [
              "\n",
              "  async function showImage(name, image, width, height) {\n",
              "    img = document.getElementById(name);\n",
              "    if(img == null) {\n",
              "      img = document.createElement('img');\n",
              "      img.id = name;\n",
              "      document.body.appendChild(img);\n",
              "    }\n",
              "    img.src = image;\n",
              "    img.width = width;\n",
              "    img.height = height;\n",
              "  }\n",
              "  "
            ]
          },
          "metadata": {}
        },
        {
          "output_type": "display_data",
          "data": {
            "text/plain": [
              "<IPython.core.display.Javascript object>"
            ],
            "application/javascript": [
              "\n",
              "  async function showImage(name, image, width, height) {\n",
              "    img = document.getElementById(name);\n",
              "    if(img == null) {\n",
              "      img = document.createElement('img');\n",
              "      img.id = name;\n",
              "      document.body.appendChild(img);\n",
              "    }\n",
              "    img.src = image;\n",
              "    img.width = width;\n",
              "    img.height = height;\n",
              "  }\n",
              "  "
            ]
          },
          "metadata": {}
        },
        {
          "output_type": "display_data",
          "data": {
            "text/plain": [
              "<IPython.core.display.Javascript object>"
            ],
            "application/javascript": [
              "\n",
              "  async function showImage(name, image, width, height) {\n",
              "    img = document.getElementById(name);\n",
              "    if(img == null) {\n",
              "      img = document.createElement('img');\n",
              "      img.id = name;\n",
              "      document.body.appendChild(img);\n",
              "    }\n",
              "    img.src = image;\n",
              "    img.width = width;\n",
              "    img.height = height;\n",
              "  }\n",
              "  "
            ]
          },
          "metadata": {}
        },
        {
          "output_type": "display_data",
          "data": {
            "text/plain": [
              "<IPython.core.display.Javascript object>"
            ],
            "application/javascript": [
              "\n",
              "  async function showImage(name, image, width, height) {\n",
              "    img = document.getElementById(name);\n",
              "    if(img == null) {\n",
              "      img = document.createElement('img');\n",
              "      img.id = name;\n",
              "      document.body.appendChild(img);\n",
              "    }\n",
              "    img.src = image;\n",
              "    img.width = width;\n",
              "    img.height = height;\n",
              "  }\n",
              "  "
            ]
          },
          "metadata": {}
        },
        {
          "output_type": "display_data",
          "data": {
            "text/plain": [
              "<IPython.core.display.Javascript object>"
            ],
            "application/javascript": [
              "\n",
              "  async function showImage(name, image, width, height) {\n",
              "    img = document.getElementById(name);\n",
              "    if(img == null) {\n",
              "      img = document.createElement('img');\n",
              "      img.id = name;\n",
              "      document.body.appendChild(img);\n",
              "    }\n",
              "    img.src = image;\n",
              "    img.width = width;\n",
              "    img.height = height;\n",
              "  }\n",
              "  "
            ]
          },
          "metadata": {}
        },
        {
          "output_type": "display_data",
          "data": {
            "text/plain": [
              "<IPython.core.display.Javascript object>"
            ],
            "application/javascript": [
              "\n",
              "  async function showImage(name, image, width, height) {\n",
              "    img = document.getElementById(name);\n",
              "    if(img == null) {\n",
              "      img = document.createElement('img');\n",
              "      img.id = name;\n",
              "      document.body.appendChild(img);\n",
              "    }\n",
              "    img.src = image;\n",
              "    img.width = width;\n",
              "    img.height = height;\n",
              "  }\n",
              "  "
            ]
          },
          "metadata": {}
        },
        {
          "output_type": "display_data",
          "data": {
            "text/plain": [
              "<IPython.core.display.Javascript object>"
            ],
            "application/javascript": [
              "\n",
              "  async function showImage(name, image, width, height) {\n",
              "    img = document.getElementById(name);\n",
              "    if(img == null) {\n",
              "      img = document.createElement('img');\n",
              "      img.id = name;\n",
              "      document.body.appendChild(img);\n",
              "    }\n",
              "    img.src = image;\n",
              "    img.width = width;\n",
              "    img.height = height;\n",
              "  }\n",
              "  "
            ]
          },
          "metadata": {}
        },
        {
          "output_type": "display_data",
          "data": {
            "text/plain": [
              "<IPython.core.display.Javascript object>"
            ],
            "application/javascript": [
              "\n",
              "  async function showImage(name, image, width, height) {\n",
              "    img = document.getElementById(name);\n",
              "    if(img == null) {\n",
              "      img = document.createElement('img');\n",
              "      img.id = name;\n",
              "      document.body.appendChild(img);\n",
              "    }\n",
              "    img.src = image;\n",
              "    img.width = width;\n",
              "    img.height = height;\n",
              "  }\n",
              "  "
            ]
          },
          "metadata": {}
        },
        {
          "output_type": "display_data",
          "data": {
            "text/plain": [
              "<IPython.core.display.Javascript object>"
            ],
            "application/javascript": [
              "\n",
              "  async function showImage(name, image, width, height) {\n",
              "    img = document.getElementById(name);\n",
              "    if(img == null) {\n",
              "      img = document.createElement('img');\n",
              "      img.id = name;\n",
              "      document.body.appendChild(img);\n",
              "    }\n",
              "    img.src = image;\n",
              "    img.width = width;\n",
              "    img.height = height;\n",
              "  }\n",
              "  "
            ]
          },
          "metadata": {}
        },
        {
          "output_type": "display_data",
          "data": {
            "text/plain": [
              "<IPython.core.display.Javascript object>"
            ],
            "application/javascript": [
              "\n",
              "  async function showImage(name, image, width, height) {\n",
              "    img = document.getElementById(name);\n",
              "    if(img == null) {\n",
              "      img = document.createElement('img');\n",
              "      img.id = name;\n",
              "      document.body.appendChild(img);\n",
              "    }\n",
              "    img.src = image;\n",
              "    img.width = width;\n",
              "    img.height = height;\n",
              "  }\n",
              "  "
            ]
          },
          "metadata": {}
        },
        {
          "output_type": "display_data",
          "data": {
            "text/plain": [
              "<IPython.core.display.Javascript object>"
            ],
            "application/javascript": [
              "\n",
              "  async function showImage(name, image, width, height) {\n",
              "    img = document.getElementById(name);\n",
              "    if(img == null) {\n",
              "      img = document.createElement('img');\n",
              "      img.id = name;\n",
              "      document.body.appendChild(img);\n",
              "    }\n",
              "    img.src = image;\n",
              "    img.width = width;\n",
              "    img.height = height;\n",
              "  }\n",
              "  "
            ]
          },
          "metadata": {}
        },
        {
          "output_type": "display_data",
          "data": {
            "text/plain": [
              "<IPython.core.display.Javascript object>"
            ],
            "application/javascript": [
              "\n",
              "  async function showImage(name, image, width, height) {\n",
              "    img = document.getElementById(name);\n",
              "    if(img == null) {\n",
              "      img = document.createElement('img');\n",
              "      img.id = name;\n",
              "      document.body.appendChild(img);\n",
              "    }\n",
              "    img.src = image;\n",
              "    img.width = width;\n",
              "    img.height = height;\n",
              "  }\n",
              "  "
            ]
          },
          "metadata": {}
        },
        {
          "output_type": "display_data",
          "data": {
            "text/plain": [
              "<IPython.core.display.Javascript object>"
            ],
            "application/javascript": [
              "\n",
              "  async function showImage(name, image, width, height) {\n",
              "    img = document.getElementById(name);\n",
              "    if(img == null) {\n",
              "      img = document.createElement('img');\n",
              "      img.id = name;\n",
              "      document.body.appendChild(img);\n",
              "    }\n",
              "    img.src = image;\n",
              "    img.width = width;\n",
              "    img.height = height;\n",
              "  }\n",
              "  "
            ]
          },
          "metadata": {}
        },
        {
          "output_type": "display_data",
          "data": {
            "text/plain": [
              "<IPython.core.display.Javascript object>"
            ],
            "application/javascript": [
              "\n",
              "  async function showImage(name, image, width, height) {\n",
              "    img = document.getElementById(name);\n",
              "    if(img == null) {\n",
              "      img = document.createElement('img');\n",
              "      img.id = name;\n",
              "      document.body.appendChild(img);\n",
              "    }\n",
              "    img.src = image;\n",
              "    img.width = width;\n",
              "    img.height = height;\n",
              "  }\n",
              "  "
            ]
          },
          "metadata": {}
        },
        {
          "output_type": "display_data",
          "data": {
            "text/plain": [
              "<IPython.core.display.Javascript object>"
            ],
            "application/javascript": [
              "\n",
              "  async function showImage(name, image, width, height) {\n",
              "    img = document.getElementById(name);\n",
              "    if(img == null) {\n",
              "      img = document.createElement('img');\n",
              "      img.id = name;\n",
              "      document.body.appendChild(img);\n",
              "    }\n",
              "    img.src = image;\n",
              "    img.width = width;\n",
              "    img.height = height;\n",
              "  }\n",
              "  "
            ]
          },
          "metadata": {}
        },
        {
          "output_type": "display_data",
          "data": {
            "text/plain": [
              "<IPython.core.display.Javascript object>"
            ],
            "application/javascript": [
              "\n",
              "  async function showImage(name, image, width, height) {\n",
              "    img = document.getElementById(name);\n",
              "    if(img == null) {\n",
              "      img = document.createElement('img');\n",
              "      img.id = name;\n",
              "      document.body.appendChild(img);\n",
              "    }\n",
              "    img.src = image;\n",
              "    img.width = width;\n",
              "    img.height = height;\n",
              "  }\n",
              "  "
            ]
          },
          "metadata": {}
        },
        {
          "output_type": "display_data",
          "data": {
            "text/plain": [
              "<IPython.core.display.Javascript object>"
            ],
            "application/javascript": [
              "\n",
              "  async function showImage(name, image, width, height) {\n",
              "    img = document.getElementById(name);\n",
              "    if(img == null) {\n",
              "      img = document.createElement('img');\n",
              "      img.id = name;\n",
              "      document.body.appendChild(img);\n",
              "    }\n",
              "    img.src = image;\n",
              "    img.width = width;\n",
              "    img.height = height;\n",
              "  }\n",
              "  "
            ]
          },
          "metadata": {}
        },
        {
          "output_type": "display_data",
          "data": {
            "text/plain": [
              "<IPython.core.display.Javascript object>"
            ],
            "application/javascript": [
              "\n",
              "  async function showImage(name, image, width, height) {\n",
              "    img = document.getElementById(name);\n",
              "    if(img == null) {\n",
              "      img = document.createElement('img');\n",
              "      img.id = name;\n",
              "      document.body.appendChild(img);\n",
              "    }\n",
              "    img.src = image;\n",
              "    img.width = width;\n",
              "    img.height = height;\n",
              "  }\n",
              "  "
            ]
          },
          "metadata": {}
        },
        {
          "output_type": "display_data",
          "data": {
            "text/plain": [
              "<IPython.core.display.Javascript object>"
            ],
            "application/javascript": [
              "\n",
              "  async function showImage(name, image, width, height) {\n",
              "    img = document.getElementById(name);\n",
              "    if(img == null) {\n",
              "      img = document.createElement('img');\n",
              "      img.id = name;\n",
              "      document.body.appendChild(img);\n",
              "    }\n",
              "    img.src = image;\n",
              "    img.width = width;\n",
              "    img.height = height;\n",
              "  }\n",
              "  "
            ]
          },
          "metadata": {}
        },
        {
          "output_type": "display_data",
          "data": {
            "text/plain": [
              "<IPython.core.display.Javascript object>"
            ],
            "application/javascript": [
              "\n",
              "  async function showImage(name, image, width, height) {\n",
              "    img = document.getElementById(name);\n",
              "    if(img == null) {\n",
              "      img = document.createElement('img');\n",
              "      img.id = name;\n",
              "      document.body.appendChild(img);\n",
              "    }\n",
              "    img.src = image;\n",
              "    img.width = width;\n",
              "    img.height = height;\n",
              "  }\n",
              "  "
            ]
          },
          "metadata": {}
        },
        {
          "output_type": "display_data",
          "data": {
            "text/plain": [
              "<IPython.core.display.Javascript object>"
            ],
            "application/javascript": [
              "\n",
              "  async function showImage(name, image, width, height) {\n",
              "    img = document.getElementById(name);\n",
              "    if(img == null) {\n",
              "      img = document.createElement('img');\n",
              "      img.id = name;\n",
              "      document.body.appendChild(img);\n",
              "    }\n",
              "    img.src = image;\n",
              "    img.width = width;\n",
              "    img.height = height;\n",
              "  }\n",
              "  "
            ]
          },
          "metadata": {}
        },
        {
          "output_type": "display_data",
          "data": {
            "text/plain": [
              "<IPython.core.display.Javascript object>"
            ],
            "application/javascript": [
              "\n",
              "  async function showImage(name, image, width, height) {\n",
              "    img = document.getElementById(name);\n",
              "    if(img == null) {\n",
              "      img = document.createElement('img');\n",
              "      img.id = name;\n",
              "      document.body.appendChild(img);\n",
              "    }\n",
              "    img.src = image;\n",
              "    img.width = width;\n",
              "    img.height = height;\n",
              "  }\n",
              "  "
            ]
          },
          "metadata": {}
        },
        {
          "output_type": "display_data",
          "data": {
            "text/plain": [
              "<IPython.core.display.Javascript object>"
            ],
            "application/javascript": [
              "\n",
              "  async function showImage(name, image, width, height) {\n",
              "    img = document.getElementById(name);\n",
              "    if(img == null) {\n",
              "      img = document.createElement('img');\n",
              "      img.id = name;\n",
              "      document.body.appendChild(img);\n",
              "    }\n",
              "    img.src = image;\n",
              "    img.width = width;\n",
              "    img.height = height;\n",
              "  }\n",
              "  "
            ]
          },
          "metadata": {}
        },
        {
          "output_type": "display_data",
          "data": {
            "text/plain": [
              "<IPython.core.display.Javascript object>"
            ],
            "application/javascript": [
              "\n",
              "  async function showImage(name, image, width, height) {\n",
              "    img = document.getElementById(name);\n",
              "    if(img == null) {\n",
              "      img = document.createElement('img');\n",
              "      img.id = name;\n",
              "      document.body.appendChild(img);\n",
              "    }\n",
              "    img.src = image;\n",
              "    img.width = width;\n",
              "    img.height = height;\n",
              "  }\n",
              "  "
            ]
          },
          "metadata": {}
        },
        {
          "output_type": "display_data",
          "data": {
            "text/plain": [
              "<IPython.core.display.Javascript object>"
            ],
            "application/javascript": [
              "\n",
              "  async function showImage(name, image, width, height) {\n",
              "    img = document.getElementById(name);\n",
              "    if(img == null) {\n",
              "      img = document.createElement('img');\n",
              "      img.id = name;\n",
              "      document.body.appendChild(img);\n",
              "    }\n",
              "    img.src = image;\n",
              "    img.width = width;\n",
              "    img.height = height;\n",
              "  }\n",
              "  "
            ]
          },
          "metadata": {}
        },
        {
          "output_type": "display_data",
          "data": {
            "text/plain": [
              "<IPython.core.display.Javascript object>"
            ],
            "application/javascript": [
              "\n",
              "  async function showImage(name, image, width, height) {\n",
              "    img = document.getElementById(name);\n",
              "    if(img == null) {\n",
              "      img = document.createElement('img');\n",
              "      img.id = name;\n",
              "      document.body.appendChild(img);\n",
              "    }\n",
              "    img.src = image;\n",
              "    img.width = width;\n",
              "    img.height = height;\n",
              "  }\n",
              "  "
            ]
          },
          "metadata": {}
        },
        {
          "output_type": "display_data",
          "data": {
            "text/plain": [
              "<IPython.core.display.Javascript object>"
            ],
            "application/javascript": [
              "\n",
              "  async function showImage(name, image, width, height) {\n",
              "    img = document.getElementById(name);\n",
              "    if(img == null) {\n",
              "      img = document.createElement('img');\n",
              "      img.id = name;\n",
              "      document.body.appendChild(img);\n",
              "    }\n",
              "    img.src = image;\n",
              "    img.width = width;\n",
              "    img.height = height;\n",
              "  }\n",
              "  "
            ]
          },
          "metadata": {}
        },
        {
          "output_type": "display_data",
          "data": {
            "text/plain": [
              "<IPython.core.display.Javascript object>"
            ],
            "application/javascript": [
              "\n",
              "  async function showImage(name, image, width, height) {\n",
              "    img = document.getElementById(name);\n",
              "    if(img == null) {\n",
              "      img = document.createElement('img');\n",
              "      img.id = name;\n",
              "      document.body.appendChild(img);\n",
              "    }\n",
              "    img.src = image;\n",
              "    img.width = width;\n",
              "    img.height = height;\n",
              "  }\n",
              "  "
            ]
          },
          "metadata": {}
        },
        {
          "output_type": "display_data",
          "data": {
            "text/plain": [
              "<IPython.core.display.Javascript object>"
            ],
            "application/javascript": [
              "\n",
              "  async function showImage(name, image, width, height) {\n",
              "    img = document.getElementById(name);\n",
              "    if(img == null) {\n",
              "      img = document.createElement('img');\n",
              "      img.id = name;\n",
              "      document.body.appendChild(img);\n",
              "    }\n",
              "    img.src = image;\n",
              "    img.width = width;\n",
              "    img.height = height;\n",
              "  }\n",
              "  "
            ]
          },
          "metadata": {}
        },
        {
          "output_type": "display_data",
          "data": {
            "text/plain": [
              "<IPython.core.display.Javascript object>"
            ],
            "application/javascript": [
              "\n",
              "  async function showImage(name, image, width, height) {\n",
              "    img = document.getElementById(name);\n",
              "    if(img == null) {\n",
              "      img = document.createElement('img');\n",
              "      img.id = name;\n",
              "      document.body.appendChild(img);\n",
              "    }\n",
              "    img.src = image;\n",
              "    img.width = width;\n",
              "    img.height = height;\n",
              "  }\n",
              "  "
            ]
          },
          "metadata": {}
        },
        {
          "output_type": "display_data",
          "data": {
            "text/plain": [
              "<IPython.core.display.Javascript object>"
            ],
            "application/javascript": [
              "\n",
              "  async function showImage(name, image, width, height) {\n",
              "    img = document.getElementById(name);\n",
              "    if(img == null) {\n",
              "      img = document.createElement('img');\n",
              "      img.id = name;\n",
              "      document.body.appendChild(img);\n",
              "    }\n",
              "    img.src = image;\n",
              "    img.width = width;\n",
              "    img.height = height;\n",
              "  }\n",
              "  "
            ]
          },
          "metadata": {}
        },
        {
          "output_type": "display_data",
          "data": {
            "text/plain": [
              "<IPython.core.display.Javascript object>"
            ],
            "application/javascript": [
              "\n",
              "  async function showImage(name, image, width, height) {\n",
              "    img = document.getElementById(name);\n",
              "    if(img == null) {\n",
              "      img = document.createElement('img');\n",
              "      img.id = name;\n",
              "      document.body.appendChild(img);\n",
              "    }\n",
              "    img.src = image;\n",
              "    img.width = width;\n",
              "    img.height = height;\n",
              "  }\n",
              "  "
            ]
          },
          "metadata": {}
        },
        {
          "output_type": "display_data",
          "data": {
            "text/plain": [
              "<IPython.core.display.Javascript object>"
            ],
            "application/javascript": [
              "\n",
              "  async function showImage(name, image, width, height) {\n",
              "    img = document.getElementById(name);\n",
              "    if(img == null) {\n",
              "      img = document.createElement('img');\n",
              "      img.id = name;\n",
              "      document.body.appendChild(img);\n",
              "    }\n",
              "    img.src = image;\n",
              "    img.width = width;\n",
              "    img.height = height;\n",
              "  }\n",
              "  "
            ]
          },
          "metadata": {}
        },
        {
          "output_type": "display_data",
          "data": {
            "text/plain": [
              "<IPython.core.display.Javascript object>"
            ],
            "application/javascript": [
              "\n",
              "  async function showImage(name, image, width, height) {\n",
              "    img = document.getElementById(name);\n",
              "    if(img == null) {\n",
              "      img = document.createElement('img');\n",
              "      img.id = name;\n",
              "      document.body.appendChild(img);\n",
              "    }\n",
              "    img.src = image;\n",
              "    img.width = width;\n",
              "    img.height = height;\n",
              "  }\n",
              "  "
            ]
          },
          "metadata": {}
        },
        {
          "output_type": "display_data",
          "data": {
            "text/plain": [
              "<IPython.core.display.Javascript object>"
            ],
            "application/javascript": [
              "\n",
              "  async function showImage(name, image, width, height) {\n",
              "    img = document.getElementById(name);\n",
              "    if(img == null) {\n",
              "      img = document.createElement('img');\n",
              "      img.id = name;\n",
              "      document.body.appendChild(img);\n",
              "    }\n",
              "    img.src = image;\n",
              "    img.width = width;\n",
              "    img.height = height;\n",
              "  }\n",
              "  "
            ]
          },
          "metadata": {}
        },
        {
          "output_type": "display_data",
          "data": {
            "text/plain": [
              "<IPython.core.display.Javascript object>"
            ],
            "application/javascript": [
              "\n",
              "  async function showImage(name, image, width, height) {\n",
              "    img = document.getElementById(name);\n",
              "    if(img == null) {\n",
              "      img = document.createElement('img');\n",
              "      img.id = name;\n",
              "      document.body.appendChild(img);\n",
              "    }\n",
              "    img.src = image;\n",
              "    img.width = width;\n",
              "    img.height = height;\n",
              "  }\n",
              "  "
            ]
          },
          "metadata": {}
        },
        {
          "output_type": "display_data",
          "data": {
            "text/plain": [
              "<IPython.core.display.Javascript object>"
            ],
            "application/javascript": [
              "\n",
              "  async function showImage(name, image, width, height) {\n",
              "    img = document.getElementById(name);\n",
              "    if(img == null) {\n",
              "      img = document.createElement('img');\n",
              "      img.id = name;\n",
              "      document.body.appendChild(img);\n",
              "    }\n",
              "    img.src = image;\n",
              "    img.width = width;\n",
              "    img.height = height;\n",
              "  }\n",
              "  "
            ]
          },
          "metadata": {}
        },
        {
          "output_type": "display_data",
          "data": {
            "text/plain": [
              "<IPython.core.display.Javascript object>"
            ],
            "application/javascript": [
              "\n",
              "  async function showImage(name, image, width, height) {\n",
              "    img = document.getElementById(name);\n",
              "    if(img == null) {\n",
              "      img = document.createElement('img');\n",
              "      img.id = name;\n",
              "      document.body.appendChild(img);\n",
              "    }\n",
              "    img.src = image;\n",
              "    img.width = width;\n",
              "    img.height = height;\n",
              "  }\n",
              "  "
            ]
          },
          "metadata": {}
        },
        {
          "output_type": "display_data",
          "data": {
            "text/plain": [
              "<IPython.core.display.Javascript object>"
            ],
            "application/javascript": [
              "\n",
              "  async function showImage(name, image, width, height) {\n",
              "    img = document.getElementById(name);\n",
              "    if(img == null) {\n",
              "      img = document.createElement('img');\n",
              "      img.id = name;\n",
              "      document.body.appendChild(img);\n",
              "    }\n",
              "    img.src = image;\n",
              "    img.width = width;\n",
              "    img.height = height;\n",
              "  }\n",
              "  "
            ]
          },
          "metadata": {}
        },
        {
          "output_type": "display_data",
          "data": {
            "text/plain": [
              "<IPython.core.display.Javascript object>"
            ],
            "application/javascript": [
              "\n",
              "  async function showImage(name, image, width, height) {\n",
              "    img = document.getElementById(name);\n",
              "    if(img == null) {\n",
              "      img = document.createElement('img');\n",
              "      img.id = name;\n",
              "      document.body.appendChild(img);\n",
              "    }\n",
              "    img.src = image;\n",
              "    img.width = width;\n",
              "    img.height = height;\n",
              "  }\n",
              "  "
            ]
          },
          "metadata": {}
        },
        {
          "output_type": "display_data",
          "data": {
            "text/plain": [
              "<IPython.core.display.Javascript object>"
            ],
            "application/javascript": [
              "\n",
              "  async function showImage(name, image, width, height) {\n",
              "    img = document.getElementById(name);\n",
              "    if(img == null) {\n",
              "      img = document.createElement('img');\n",
              "      img.id = name;\n",
              "      document.body.appendChild(img);\n",
              "    }\n",
              "    img.src = image;\n",
              "    img.width = width;\n",
              "    img.height = height;\n",
              "  }\n",
              "  "
            ]
          },
          "metadata": {}
        },
        {
          "output_type": "display_data",
          "data": {
            "text/plain": [
              "<IPython.core.display.Javascript object>"
            ],
            "application/javascript": [
              "\n",
              "  async function showImage(name, image, width, height) {\n",
              "    img = document.getElementById(name);\n",
              "    if(img == null) {\n",
              "      img = document.createElement('img');\n",
              "      img.id = name;\n",
              "      document.body.appendChild(img);\n",
              "    }\n",
              "    img.src = image;\n",
              "    img.width = width;\n",
              "    img.height = height;\n",
              "  }\n",
              "  "
            ]
          },
          "metadata": {}
        },
        {
          "output_type": "display_data",
          "data": {
            "text/plain": [
              "<IPython.core.display.Javascript object>"
            ],
            "application/javascript": [
              "\n",
              "  async function showImage(name, image, width, height) {\n",
              "    img = document.getElementById(name);\n",
              "    if(img == null) {\n",
              "      img = document.createElement('img');\n",
              "      img.id = name;\n",
              "      document.body.appendChild(img);\n",
              "    }\n",
              "    img.src = image;\n",
              "    img.width = width;\n",
              "    img.height = height;\n",
              "  }\n",
              "  "
            ]
          },
          "metadata": {}
        },
        {
          "output_type": "display_data",
          "data": {
            "text/plain": [
              "<IPython.core.display.Javascript object>"
            ],
            "application/javascript": [
              "\n",
              "  async function showImage(name, image, width, height) {\n",
              "    img = document.getElementById(name);\n",
              "    if(img == null) {\n",
              "      img = document.createElement('img');\n",
              "      img.id = name;\n",
              "      document.body.appendChild(img);\n",
              "    }\n",
              "    img.src = image;\n",
              "    img.width = width;\n",
              "    img.height = height;\n",
              "  }\n",
              "  "
            ]
          },
          "metadata": {}
        },
        {
          "output_type": "display_data",
          "data": {
            "text/plain": [
              "<IPython.core.display.Javascript object>"
            ],
            "application/javascript": [
              "\n",
              "  async function showImage(name, image, width, height) {\n",
              "    img = document.getElementById(name);\n",
              "    if(img == null) {\n",
              "      img = document.createElement('img');\n",
              "      img.id = name;\n",
              "      document.body.appendChild(img);\n",
              "    }\n",
              "    img.src = image;\n",
              "    img.width = width;\n",
              "    img.height = height;\n",
              "  }\n",
              "  "
            ]
          },
          "metadata": {}
        },
        {
          "output_type": "display_data",
          "data": {
            "text/plain": [
              "<IPython.core.display.Javascript object>"
            ],
            "application/javascript": [
              "\n",
              "  async function showImage(name, image, width, height) {\n",
              "    img = document.getElementById(name);\n",
              "    if(img == null) {\n",
              "      img = document.createElement('img');\n",
              "      img.id = name;\n",
              "      document.body.appendChild(img);\n",
              "    }\n",
              "    img.src = image;\n",
              "    img.width = width;\n",
              "    img.height = height;\n",
              "  }\n",
              "  "
            ]
          },
          "metadata": {}
        },
        {
          "output_type": "display_data",
          "data": {
            "text/plain": [
              "<IPython.core.display.Javascript object>"
            ],
            "application/javascript": [
              "\n",
              "  async function showImage(name, image, width, height) {\n",
              "    img = document.getElementById(name);\n",
              "    if(img == null) {\n",
              "      img = document.createElement('img');\n",
              "      img.id = name;\n",
              "      document.body.appendChild(img);\n",
              "    }\n",
              "    img.src = image;\n",
              "    img.width = width;\n",
              "    img.height = height;\n",
              "  }\n",
              "  "
            ]
          },
          "metadata": {}
        },
        {
          "output_type": "display_data",
          "data": {
            "text/plain": [
              "<IPython.core.display.Javascript object>"
            ],
            "application/javascript": [
              "\n",
              "  async function showImage(name, image, width, height) {\n",
              "    img = document.getElementById(name);\n",
              "    if(img == null) {\n",
              "      img = document.createElement('img');\n",
              "      img.id = name;\n",
              "      document.body.appendChild(img);\n",
              "    }\n",
              "    img.src = image;\n",
              "    img.width = width;\n",
              "    img.height = height;\n",
              "  }\n",
              "  "
            ]
          },
          "metadata": {}
        },
        {
          "output_type": "display_data",
          "data": {
            "text/plain": [
              "<IPython.core.display.Javascript object>"
            ],
            "application/javascript": [
              "\n",
              "  async function showImage(name, image, width, height) {\n",
              "    img = document.getElementById(name);\n",
              "    if(img == null) {\n",
              "      img = document.createElement('img');\n",
              "      img.id = name;\n",
              "      document.body.appendChild(img);\n",
              "    }\n",
              "    img.src = image;\n",
              "    img.width = width;\n",
              "    img.height = height;\n",
              "  }\n",
              "  "
            ]
          },
          "metadata": {}
        },
        {
          "output_type": "display_data",
          "data": {
            "text/plain": [
              "<IPython.core.display.Javascript object>"
            ],
            "application/javascript": [
              "\n",
              "  async function showImage(name, image, width, height) {\n",
              "    img = document.getElementById(name);\n",
              "    if(img == null) {\n",
              "      img = document.createElement('img');\n",
              "      img.id = name;\n",
              "      document.body.appendChild(img);\n",
              "    }\n",
              "    img.src = image;\n",
              "    img.width = width;\n",
              "    img.height = height;\n",
              "  }\n",
              "  "
            ]
          },
          "metadata": {}
        },
        {
          "output_type": "display_data",
          "data": {
            "text/plain": [
              "<IPython.core.display.Javascript object>"
            ],
            "application/javascript": [
              "\n",
              "  async function showImage(name, image, width, height) {\n",
              "    img = document.getElementById(name);\n",
              "    if(img == null) {\n",
              "      img = document.createElement('img');\n",
              "      img.id = name;\n",
              "      document.body.appendChild(img);\n",
              "    }\n",
              "    img.src = image;\n",
              "    img.width = width;\n",
              "    img.height = height;\n",
              "  }\n",
              "  "
            ]
          },
          "metadata": {}
        },
        {
          "output_type": "display_data",
          "data": {
            "text/plain": [
              "<IPython.core.display.Javascript object>"
            ],
            "application/javascript": [
              "\n",
              "  async function showImage(name, image, width, height) {\n",
              "    img = document.getElementById(name);\n",
              "    if(img == null) {\n",
              "      img = document.createElement('img');\n",
              "      img.id = name;\n",
              "      document.body.appendChild(img);\n",
              "    }\n",
              "    img.src = image;\n",
              "    img.width = width;\n",
              "    img.height = height;\n",
              "  }\n",
              "  "
            ]
          },
          "metadata": {}
        },
        {
          "output_type": "display_data",
          "data": {
            "text/plain": [
              "<IPython.core.display.Javascript object>"
            ],
            "application/javascript": [
              "\n",
              "  async function showImage(name, image, width, height) {\n",
              "    img = document.getElementById(name);\n",
              "    if(img == null) {\n",
              "      img = document.createElement('img');\n",
              "      img.id = name;\n",
              "      document.body.appendChild(img);\n",
              "    }\n",
              "    img.src = image;\n",
              "    img.width = width;\n",
              "    img.height = height;\n",
              "  }\n",
              "  "
            ]
          },
          "metadata": {}
        },
        {
          "output_type": "display_data",
          "data": {
            "text/plain": [
              "<IPython.core.display.Javascript object>"
            ],
            "application/javascript": [
              "\n",
              "  async function showImage(name, image, width, height) {\n",
              "    img = document.getElementById(name);\n",
              "    if(img == null) {\n",
              "      img = document.createElement('img');\n",
              "      img.id = name;\n",
              "      document.body.appendChild(img);\n",
              "    }\n",
              "    img.src = image;\n",
              "    img.width = width;\n",
              "    img.height = height;\n",
              "  }\n",
              "  "
            ]
          },
          "metadata": {}
        },
        {
          "output_type": "display_data",
          "data": {
            "text/plain": [
              "<IPython.core.display.Javascript object>"
            ],
            "application/javascript": [
              "\n",
              "  async function showImage(name, image, width, height) {\n",
              "    img = document.getElementById(name);\n",
              "    if(img == null) {\n",
              "      img = document.createElement('img');\n",
              "      img.id = name;\n",
              "      document.body.appendChild(img);\n",
              "    }\n",
              "    img.src = image;\n",
              "    img.width = width;\n",
              "    img.height = height;\n",
              "  }\n",
              "  "
            ]
          },
          "metadata": {}
        },
        {
          "output_type": "display_data",
          "data": {
            "text/plain": [
              "<IPython.core.display.Javascript object>"
            ],
            "application/javascript": [
              "\n",
              "  async function showImage(name, image, width, height) {\n",
              "    img = document.getElementById(name);\n",
              "    if(img == null) {\n",
              "      img = document.createElement('img');\n",
              "      img.id = name;\n",
              "      document.body.appendChild(img);\n",
              "    }\n",
              "    img.src = image;\n",
              "    img.width = width;\n",
              "    img.height = height;\n",
              "  }\n",
              "  "
            ]
          },
          "metadata": {}
        },
        {
          "output_type": "display_data",
          "data": {
            "text/plain": [
              "<IPython.core.display.Javascript object>"
            ],
            "application/javascript": [
              "\n",
              "  async function showImage(name, image, width, height) {\n",
              "    img = document.getElementById(name);\n",
              "    if(img == null) {\n",
              "      img = document.createElement('img');\n",
              "      img.id = name;\n",
              "      document.body.appendChild(img);\n",
              "    }\n",
              "    img.src = image;\n",
              "    img.width = width;\n",
              "    img.height = height;\n",
              "  }\n",
              "  "
            ]
          },
          "metadata": {}
        },
        {
          "output_type": "display_data",
          "data": {
            "text/plain": [
              "<IPython.core.display.Javascript object>"
            ],
            "application/javascript": [
              "\n",
              "  async function showImage(name, image, width, height) {\n",
              "    img = document.getElementById(name);\n",
              "    if(img == null) {\n",
              "      img = document.createElement('img');\n",
              "      img.id = name;\n",
              "      document.body.appendChild(img);\n",
              "    }\n",
              "    img.src = image;\n",
              "    img.width = width;\n",
              "    img.height = height;\n",
              "  }\n",
              "  "
            ]
          },
          "metadata": {}
        },
        {
          "output_type": "display_data",
          "data": {
            "text/plain": [
              "<IPython.core.display.Javascript object>"
            ],
            "application/javascript": [
              "\n",
              "  async function showImage(name, image, width, height) {\n",
              "    img = document.getElementById(name);\n",
              "    if(img == null) {\n",
              "      img = document.createElement('img');\n",
              "      img.id = name;\n",
              "      document.body.appendChild(img);\n",
              "    }\n",
              "    img.src = image;\n",
              "    img.width = width;\n",
              "    img.height = height;\n",
              "  }\n",
              "  "
            ]
          },
          "metadata": {}
        },
        {
          "output_type": "display_data",
          "data": {
            "text/plain": [
              "<IPython.core.display.Javascript object>"
            ],
            "application/javascript": [
              "\n",
              "  async function showImage(name, image, width, height) {\n",
              "    img = document.getElementById(name);\n",
              "    if(img == null) {\n",
              "      img = document.createElement('img');\n",
              "      img.id = name;\n",
              "      document.body.appendChild(img);\n",
              "    }\n",
              "    img.src = image;\n",
              "    img.width = width;\n",
              "    img.height = height;\n",
              "  }\n",
              "  "
            ]
          },
          "metadata": {}
        },
        {
          "output_type": "display_data",
          "data": {
            "text/plain": [
              "<IPython.core.display.Javascript object>"
            ],
            "application/javascript": [
              "\n",
              "  async function showImage(name, image, width, height) {\n",
              "    img = document.getElementById(name);\n",
              "    if(img == null) {\n",
              "      img = document.createElement('img');\n",
              "      img.id = name;\n",
              "      document.body.appendChild(img);\n",
              "    }\n",
              "    img.src = image;\n",
              "    img.width = width;\n",
              "    img.height = height;\n",
              "  }\n",
              "  "
            ]
          },
          "metadata": {}
        },
        {
          "output_type": "display_data",
          "data": {
            "text/plain": [
              "<IPython.core.display.Javascript object>"
            ],
            "application/javascript": [
              "\n",
              "  async function showImage(name, image, width, height) {\n",
              "    img = document.getElementById(name);\n",
              "    if(img == null) {\n",
              "      img = document.createElement('img');\n",
              "      img.id = name;\n",
              "      document.body.appendChild(img);\n",
              "    }\n",
              "    img.src = image;\n",
              "    img.width = width;\n",
              "    img.height = height;\n",
              "  }\n",
              "  "
            ]
          },
          "metadata": {}
        },
        {
          "output_type": "display_data",
          "data": {
            "text/plain": [
              "<IPython.core.display.Javascript object>"
            ],
            "application/javascript": [
              "\n",
              "  async function showImage(name, image, width, height) {\n",
              "    img = document.getElementById(name);\n",
              "    if(img == null) {\n",
              "      img = document.createElement('img');\n",
              "      img.id = name;\n",
              "      document.body.appendChild(img);\n",
              "    }\n",
              "    img.src = image;\n",
              "    img.width = width;\n",
              "    img.height = height;\n",
              "  }\n",
              "  "
            ]
          },
          "metadata": {}
        },
        {
          "output_type": "display_data",
          "data": {
            "text/plain": [
              "<IPython.core.display.Javascript object>"
            ],
            "application/javascript": [
              "\n",
              "  async function showImage(name, image, width, height) {\n",
              "    img = document.getElementById(name);\n",
              "    if(img == null) {\n",
              "      img = document.createElement('img');\n",
              "      img.id = name;\n",
              "      document.body.appendChild(img);\n",
              "    }\n",
              "    img.src = image;\n",
              "    img.width = width;\n",
              "    img.height = height;\n",
              "  }\n",
              "  "
            ]
          },
          "metadata": {}
        },
        {
          "output_type": "display_data",
          "data": {
            "text/plain": [
              "<IPython.core.display.Javascript object>"
            ],
            "application/javascript": [
              "\n",
              "  async function showImage(name, image, width, height) {\n",
              "    img = document.getElementById(name);\n",
              "    if(img == null) {\n",
              "      img = document.createElement('img');\n",
              "      img.id = name;\n",
              "      document.body.appendChild(img);\n",
              "    }\n",
              "    img.src = image;\n",
              "    img.width = width;\n",
              "    img.height = height;\n",
              "  }\n",
              "  "
            ]
          },
          "metadata": {}
        },
        {
          "output_type": "display_data",
          "data": {
            "text/plain": [
              "<IPython.core.display.Javascript object>"
            ],
            "application/javascript": [
              "\n",
              "  async function showImage(name, image, width, height) {\n",
              "    img = document.getElementById(name);\n",
              "    if(img == null) {\n",
              "      img = document.createElement('img');\n",
              "      img.id = name;\n",
              "      document.body.appendChild(img);\n",
              "    }\n",
              "    img.src = image;\n",
              "    img.width = width;\n",
              "    img.height = height;\n",
              "  }\n",
              "  "
            ]
          },
          "metadata": {}
        },
        {
          "output_type": "display_data",
          "data": {
            "text/plain": [
              "<IPython.core.display.Javascript object>"
            ],
            "application/javascript": [
              "\n",
              "  async function showImage(name, image, width, height) {\n",
              "    img = document.getElementById(name);\n",
              "    if(img == null) {\n",
              "      img = document.createElement('img');\n",
              "      img.id = name;\n",
              "      document.body.appendChild(img);\n",
              "    }\n",
              "    img.src = image;\n",
              "    img.width = width;\n",
              "    img.height = height;\n",
              "  }\n",
              "  "
            ]
          },
          "metadata": {}
        },
        {
          "output_type": "display_data",
          "data": {
            "text/plain": [
              "<IPython.core.display.Javascript object>"
            ],
            "application/javascript": [
              "\n",
              "  async function showImage(name, image, width, height) {\n",
              "    img = document.getElementById(name);\n",
              "    if(img == null) {\n",
              "      img = document.createElement('img');\n",
              "      img.id = name;\n",
              "      document.body.appendChild(img);\n",
              "    }\n",
              "    img.src = image;\n",
              "    img.width = width;\n",
              "    img.height = height;\n",
              "  }\n",
              "  "
            ]
          },
          "metadata": {}
        },
        {
          "output_type": "display_data",
          "data": {
            "text/plain": [
              "<IPython.core.display.Javascript object>"
            ],
            "application/javascript": [
              "\n",
              "  async function showImage(name, image, width, height) {\n",
              "    img = document.getElementById(name);\n",
              "    if(img == null) {\n",
              "      img = document.createElement('img');\n",
              "      img.id = name;\n",
              "      document.body.appendChild(img);\n",
              "    }\n",
              "    img.src = image;\n",
              "    img.width = width;\n",
              "    img.height = height;\n",
              "  }\n",
              "  "
            ]
          },
          "metadata": {}
        },
        {
          "output_type": "display_data",
          "data": {
            "text/plain": [
              "<IPython.core.display.Javascript object>"
            ],
            "application/javascript": [
              "\n",
              "  async function showImage(name, image, width, height) {\n",
              "    img = document.getElementById(name);\n",
              "    if(img == null) {\n",
              "      img = document.createElement('img');\n",
              "      img.id = name;\n",
              "      document.body.appendChild(img);\n",
              "    }\n",
              "    img.src = image;\n",
              "    img.width = width;\n",
              "    img.height = height;\n",
              "  }\n",
              "  "
            ]
          },
          "metadata": {}
        },
        {
          "output_type": "display_data",
          "data": {
            "text/plain": [
              "<IPython.core.display.Javascript object>"
            ],
            "application/javascript": [
              "\n",
              "  async function showImage(name, image, width, height) {\n",
              "    img = document.getElementById(name);\n",
              "    if(img == null) {\n",
              "      img = document.createElement('img');\n",
              "      img.id = name;\n",
              "      document.body.appendChild(img);\n",
              "    }\n",
              "    img.src = image;\n",
              "    img.width = width;\n",
              "    img.height = height;\n",
              "  }\n",
              "  "
            ]
          },
          "metadata": {}
        },
        {
          "output_type": "display_data",
          "data": {
            "text/plain": [
              "<IPython.core.display.Javascript object>"
            ],
            "application/javascript": [
              "\n",
              "  async function showImage(name, image, width, height) {\n",
              "    img = document.getElementById(name);\n",
              "    if(img == null) {\n",
              "      img = document.createElement('img');\n",
              "      img.id = name;\n",
              "      document.body.appendChild(img);\n",
              "    }\n",
              "    img.src = image;\n",
              "    img.width = width;\n",
              "    img.height = height;\n",
              "  }\n",
              "  "
            ]
          },
          "metadata": {}
        },
        {
          "output_type": "display_data",
          "data": {
            "text/plain": [
              "<IPython.core.display.Javascript object>"
            ],
            "application/javascript": [
              "\n",
              "  async function showImage(name, image, width, height) {\n",
              "    img = document.getElementById(name);\n",
              "    if(img == null) {\n",
              "      img = document.createElement('img');\n",
              "      img.id = name;\n",
              "      document.body.appendChild(img);\n",
              "    }\n",
              "    img.src = image;\n",
              "    img.width = width;\n",
              "    img.height = height;\n",
              "  }\n",
              "  "
            ]
          },
          "metadata": {}
        },
        {
          "output_type": "display_data",
          "data": {
            "text/plain": [
              "<IPython.core.display.Javascript object>"
            ],
            "application/javascript": [
              "\n",
              "  async function showImage(name, image, width, height) {\n",
              "    img = document.getElementById(name);\n",
              "    if(img == null) {\n",
              "      img = document.createElement('img');\n",
              "      img.id = name;\n",
              "      document.body.appendChild(img);\n",
              "    }\n",
              "    img.src = image;\n",
              "    img.width = width;\n",
              "    img.height = height;\n",
              "  }\n",
              "  "
            ]
          },
          "metadata": {}
        },
        {
          "output_type": "display_data",
          "data": {
            "text/plain": [
              "<IPython.core.display.Javascript object>"
            ],
            "application/javascript": [
              "\n",
              "  async function showImage(name, image, width, height) {\n",
              "    img = document.getElementById(name);\n",
              "    if(img == null) {\n",
              "      img = document.createElement('img');\n",
              "      img.id = name;\n",
              "      document.body.appendChild(img);\n",
              "    }\n",
              "    img.src = image;\n",
              "    img.width = width;\n",
              "    img.height = height;\n",
              "  }\n",
              "  "
            ]
          },
          "metadata": {}
        },
        {
          "output_type": "display_data",
          "data": {
            "text/plain": [
              "<IPython.core.display.Javascript object>"
            ],
            "application/javascript": [
              "\n",
              "  async function showImage(name, image, width, height) {\n",
              "    img = document.getElementById(name);\n",
              "    if(img == null) {\n",
              "      img = document.createElement('img');\n",
              "      img.id = name;\n",
              "      document.body.appendChild(img);\n",
              "    }\n",
              "    img.src = image;\n",
              "    img.width = width;\n",
              "    img.height = height;\n",
              "  }\n",
              "  "
            ]
          },
          "metadata": {}
        },
        {
          "output_type": "display_data",
          "data": {
            "text/plain": [
              "<IPython.core.display.Javascript object>"
            ],
            "application/javascript": [
              "\n",
              "  async function showImage(name, image, width, height) {\n",
              "    img = document.getElementById(name);\n",
              "    if(img == null) {\n",
              "      img = document.createElement('img');\n",
              "      img.id = name;\n",
              "      document.body.appendChild(img);\n",
              "    }\n",
              "    img.src = image;\n",
              "    img.width = width;\n",
              "    img.height = height;\n",
              "  }\n",
              "  "
            ]
          },
          "metadata": {}
        },
        {
          "output_type": "display_data",
          "data": {
            "text/plain": [
              "<IPython.core.display.Javascript object>"
            ],
            "application/javascript": [
              "\n",
              "  async function showImage(name, image, width, height) {\n",
              "    img = document.getElementById(name);\n",
              "    if(img == null) {\n",
              "      img = document.createElement('img');\n",
              "      img.id = name;\n",
              "      document.body.appendChild(img);\n",
              "    }\n",
              "    img.src = image;\n",
              "    img.width = width;\n",
              "    img.height = height;\n",
              "  }\n",
              "  "
            ]
          },
          "metadata": {}
        },
        {
          "output_type": "display_data",
          "data": {
            "text/plain": [
              "<IPython.core.display.Javascript object>"
            ],
            "application/javascript": [
              "\n",
              "  async function showImage(name, image, width, height) {\n",
              "    img = document.getElementById(name);\n",
              "    if(img == null) {\n",
              "      img = document.createElement('img');\n",
              "      img.id = name;\n",
              "      document.body.appendChild(img);\n",
              "    }\n",
              "    img.src = image;\n",
              "    img.width = width;\n",
              "    img.height = height;\n",
              "  }\n",
              "  "
            ]
          },
          "metadata": {}
        },
        {
          "output_type": "display_data",
          "data": {
            "text/plain": [
              "<IPython.core.display.Javascript object>"
            ],
            "application/javascript": [
              "\n",
              "  async function showImage(name, image, width, height) {\n",
              "    img = document.getElementById(name);\n",
              "    if(img == null) {\n",
              "      img = document.createElement('img');\n",
              "      img.id = name;\n",
              "      document.body.appendChild(img);\n",
              "    }\n",
              "    img.src = image;\n",
              "    img.width = width;\n",
              "    img.height = height;\n",
              "  }\n",
              "  "
            ]
          },
          "metadata": {}
        },
        {
          "output_type": "display_data",
          "data": {
            "text/plain": [
              "<IPython.core.display.Javascript object>"
            ],
            "application/javascript": [
              "\n",
              "  async function showImage(name, image, width, height) {\n",
              "    img = document.getElementById(name);\n",
              "    if(img == null) {\n",
              "      img = document.createElement('img');\n",
              "      img.id = name;\n",
              "      document.body.appendChild(img);\n",
              "    }\n",
              "    img.src = image;\n",
              "    img.width = width;\n",
              "    img.height = height;\n",
              "  }\n",
              "  "
            ]
          },
          "metadata": {}
        },
        {
          "output_type": "display_data",
          "data": {
            "text/plain": [
              "<IPython.core.display.Javascript object>"
            ],
            "application/javascript": [
              "\n",
              "  async function showImage(name, image, width, height) {\n",
              "    img = document.getElementById(name);\n",
              "    if(img == null) {\n",
              "      img = document.createElement('img');\n",
              "      img.id = name;\n",
              "      document.body.appendChild(img);\n",
              "    }\n",
              "    img.src = image;\n",
              "    img.width = width;\n",
              "    img.height = height;\n",
              "  }\n",
              "  "
            ]
          },
          "metadata": {}
        },
        {
          "output_type": "display_data",
          "data": {
            "text/plain": [
              "<IPython.core.display.Javascript object>"
            ],
            "application/javascript": [
              "\n",
              "  async function showImage(name, image, width, height) {\n",
              "    img = document.getElementById(name);\n",
              "    if(img == null) {\n",
              "      img = document.createElement('img');\n",
              "      img.id = name;\n",
              "      document.body.appendChild(img);\n",
              "    }\n",
              "    img.src = image;\n",
              "    img.width = width;\n",
              "    img.height = height;\n",
              "  }\n",
              "  "
            ]
          },
          "metadata": {}
        },
        {
          "output_type": "display_data",
          "data": {
            "text/plain": [
              "<IPython.core.display.Javascript object>"
            ],
            "application/javascript": [
              "\n",
              "  async function showImage(name, image, width, height) {\n",
              "    img = document.getElementById(name);\n",
              "    if(img == null) {\n",
              "      img = document.createElement('img');\n",
              "      img.id = name;\n",
              "      document.body.appendChild(img);\n",
              "    }\n",
              "    img.src = image;\n",
              "    img.width = width;\n",
              "    img.height = height;\n",
              "  }\n",
              "  "
            ]
          },
          "metadata": {}
        },
        {
          "output_type": "display_data",
          "data": {
            "text/plain": [
              "<IPython.core.display.Javascript object>"
            ],
            "application/javascript": [
              "\n",
              "  async function showImage(name, image, width, height) {\n",
              "    img = document.getElementById(name);\n",
              "    if(img == null) {\n",
              "      img = document.createElement('img');\n",
              "      img.id = name;\n",
              "      document.body.appendChild(img);\n",
              "    }\n",
              "    img.src = image;\n",
              "    img.width = width;\n",
              "    img.height = height;\n",
              "  }\n",
              "  "
            ]
          },
          "metadata": {}
        },
        {
          "output_type": "display_data",
          "data": {
            "text/plain": [
              "<IPython.core.display.Javascript object>"
            ],
            "application/javascript": [
              "\n",
              "  async function showImage(name, image, width, height) {\n",
              "    img = document.getElementById(name);\n",
              "    if(img == null) {\n",
              "      img = document.createElement('img');\n",
              "      img.id = name;\n",
              "      document.body.appendChild(img);\n",
              "    }\n",
              "    img.src = image;\n",
              "    img.width = width;\n",
              "    img.height = height;\n",
              "  }\n",
              "  "
            ]
          },
          "metadata": {}
        },
        {
          "output_type": "display_data",
          "data": {
            "text/plain": [
              "<IPython.core.display.Javascript object>"
            ],
            "application/javascript": [
              "\n",
              "  async function showImage(name, image, width, height) {\n",
              "    img = document.getElementById(name);\n",
              "    if(img == null) {\n",
              "      img = document.createElement('img');\n",
              "      img.id = name;\n",
              "      document.body.appendChild(img);\n",
              "    }\n",
              "    img.src = image;\n",
              "    img.width = width;\n",
              "    img.height = height;\n",
              "  }\n",
              "  "
            ]
          },
          "metadata": {}
        },
        {
          "output_type": "display_data",
          "data": {
            "text/plain": [
              "<IPython.core.display.Javascript object>"
            ],
            "application/javascript": [
              "\n",
              "  async function showImage(name, image, width, height) {\n",
              "    img = document.getElementById(name);\n",
              "    if(img == null) {\n",
              "      img = document.createElement('img');\n",
              "      img.id = name;\n",
              "      document.body.appendChild(img);\n",
              "    }\n",
              "    img.src = image;\n",
              "    img.width = width;\n",
              "    img.height = height;\n",
              "  }\n",
              "  "
            ]
          },
          "metadata": {}
        },
        {
          "output_type": "display_data",
          "data": {
            "text/plain": [
              "<IPython.core.display.Javascript object>"
            ],
            "application/javascript": [
              "\n",
              "  async function showImage(name, image, width, height) {\n",
              "    img = document.getElementById(name);\n",
              "    if(img == null) {\n",
              "      img = document.createElement('img');\n",
              "      img.id = name;\n",
              "      document.body.appendChild(img);\n",
              "    }\n",
              "    img.src = image;\n",
              "    img.width = width;\n",
              "    img.height = height;\n",
              "  }\n",
              "  "
            ]
          },
          "metadata": {}
        },
        {
          "output_type": "display_data",
          "data": {
            "text/plain": [
              "<IPython.core.display.Javascript object>"
            ],
            "application/javascript": [
              "\n",
              "  async function showImage(name, image, width, height) {\n",
              "    img = document.getElementById(name);\n",
              "    if(img == null) {\n",
              "      img = document.createElement('img');\n",
              "      img.id = name;\n",
              "      document.body.appendChild(img);\n",
              "    }\n",
              "    img.src = image;\n",
              "    img.width = width;\n",
              "    img.height = height;\n",
              "  }\n",
              "  "
            ]
          },
          "metadata": {}
        },
        {
          "output_type": "display_data",
          "data": {
            "text/plain": [
              "<IPython.core.display.Javascript object>"
            ],
            "application/javascript": [
              "\n",
              "  async function showImage(name, image, width, height) {\n",
              "    img = document.getElementById(name);\n",
              "    if(img == null) {\n",
              "      img = document.createElement('img');\n",
              "      img.id = name;\n",
              "      document.body.appendChild(img);\n",
              "    }\n",
              "    img.src = image;\n",
              "    img.width = width;\n",
              "    img.height = height;\n",
              "  }\n",
              "  "
            ]
          },
          "metadata": {}
        },
        {
          "output_type": "display_data",
          "data": {
            "text/plain": [
              "<IPython.core.display.Javascript object>"
            ],
            "application/javascript": [
              "\n",
              "  async function showImage(name, image, width, height) {\n",
              "    img = document.getElementById(name);\n",
              "    if(img == null) {\n",
              "      img = document.createElement('img');\n",
              "      img.id = name;\n",
              "      document.body.appendChild(img);\n",
              "    }\n",
              "    img.src = image;\n",
              "    img.width = width;\n",
              "    img.height = height;\n",
              "  }\n",
              "  "
            ]
          },
          "metadata": {}
        },
        {
          "output_type": "display_data",
          "data": {
            "text/plain": [
              "<IPython.core.display.Javascript object>"
            ],
            "application/javascript": [
              "\n",
              "  async function showImage(name, image, width, height) {\n",
              "    img = document.getElementById(name);\n",
              "    if(img == null) {\n",
              "      img = document.createElement('img');\n",
              "      img.id = name;\n",
              "      document.body.appendChild(img);\n",
              "    }\n",
              "    img.src = image;\n",
              "    img.width = width;\n",
              "    img.height = height;\n",
              "  }\n",
              "  "
            ]
          },
          "metadata": {}
        },
        {
          "output_type": "display_data",
          "data": {
            "text/plain": [
              "<IPython.core.display.Javascript object>"
            ],
            "application/javascript": [
              "\n",
              "  async function showImage(name, image, width, height) {\n",
              "    img = document.getElementById(name);\n",
              "    if(img == null) {\n",
              "      img = document.createElement('img');\n",
              "      img.id = name;\n",
              "      document.body.appendChild(img);\n",
              "    }\n",
              "    img.src = image;\n",
              "    img.width = width;\n",
              "    img.height = height;\n",
              "  }\n",
              "  "
            ]
          },
          "metadata": {}
        },
        {
          "output_type": "display_data",
          "data": {
            "text/plain": [
              "<IPython.core.display.Javascript object>"
            ],
            "application/javascript": [
              "\n",
              "  async function showImage(name, image, width, height) {\n",
              "    img = document.getElementById(name);\n",
              "    if(img == null) {\n",
              "      img = document.createElement('img');\n",
              "      img.id = name;\n",
              "      document.body.appendChild(img);\n",
              "    }\n",
              "    img.src = image;\n",
              "    img.width = width;\n",
              "    img.height = height;\n",
              "  }\n",
              "  "
            ]
          },
          "metadata": {}
        },
        {
          "output_type": "display_data",
          "data": {
            "text/plain": [
              "<IPython.core.display.Javascript object>"
            ],
            "application/javascript": [
              "\n",
              "  async function showImage(name, image, width, height) {\n",
              "    img = document.getElementById(name);\n",
              "    if(img == null) {\n",
              "      img = document.createElement('img');\n",
              "      img.id = name;\n",
              "      document.body.appendChild(img);\n",
              "    }\n",
              "    img.src = image;\n",
              "    img.width = width;\n",
              "    img.height = height;\n",
              "  }\n",
              "  "
            ]
          },
          "metadata": {}
        },
        {
          "output_type": "display_data",
          "data": {
            "text/plain": [
              "<IPython.core.display.Javascript object>"
            ],
            "application/javascript": [
              "\n",
              "  async function showImage(name, image, width, height) {\n",
              "    img = document.getElementById(name);\n",
              "    if(img == null) {\n",
              "      img = document.createElement('img');\n",
              "      img.id = name;\n",
              "      document.body.appendChild(img);\n",
              "    }\n",
              "    img.src = image;\n",
              "    img.width = width;\n",
              "    img.height = height;\n",
              "  }\n",
              "  "
            ]
          },
          "metadata": {}
        },
        {
          "output_type": "display_data",
          "data": {
            "text/plain": [
              "<IPython.core.display.Javascript object>"
            ],
            "application/javascript": [
              "\n",
              "  async function showImage(name, image, width, height) {\n",
              "    img = document.getElementById(name);\n",
              "    if(img == null) {\n",
              "      img = document.createElement('img');\n",
              "      img.id = name;\n",
              "      document.body.appendChild(img);\n",
              "    }\n",
              "    img.src = image;\n",
              "    img.width = width;\n",
              "    img.height = height;\n",
              "  }\n",
              "  "
            ]
          },
          "metadata": {}
        },
        {
          "output_type": "display_data",
          "data": {
            "text/plain": [
              "<IPython.core.display.Javascript object>"
            ],
            "application/javascript": [
              "\n",
              "  async function showImage(name, image, width, height) {\n",
              "    img = document.getElementById(name);\n",
              "    if(img == null) {\n",
              "      img = document.createElement('img');\n",
              "      img.id = name;\n",
              "      document.body.appendChild(img);\n",
              "    }\n",
              "    img.src = image;\n",
              "    img.width = width;\n",
              "    img.height = height;\n",
              "  }\n",
              "  "
            ]
          },
          "metadata": {}
        },
        {
          "output_type": "display_data",
          "data": {
            "text/plain": [
              "<IPython.core.display.Javascript object>"
            ],
            "application/javascript": [
              "\n",
              "  async function showImage(name, image, width, height) {\n",
              "    img = document.getElementById(name);\n",
              "    if(img == null) {\n",
              "      img = document.createElement('img');\n",
              "      img.id = name;\n",
              "      document.body.appendChild(img);\n",
              "    }\n",
              "    img.src = image;\n",
              "    img.width = width;\n",
              "    img.height = height;\n",
              "  }\n",
              "  "
            ]
          },
          "metadata": {}
        },
        {
          "output_type": "display_data",
          "data": {
            "text/plain": [
              "<IPython.core.display.Javascript object>"
            ],
            "application/javascript": [
              "\n",
              "  async function showImage(name, image, width, height) {\n",
              "    img = document.getElementById(name);\n",
              "    if(img == null) {\n",
              "      img = document.createElement('img');\n",
              "      img.id = name;\n",
              "      document.body.appendChild(img);\n",
              "    }\n",
              "    img.src = image;\n",
              "    img.width = width;\n",
              "    img.height = height;\n",
              "  }\n",
              "  "
            ]
          },
          "metadata": {}
        },
        {
          "output_type": "display_data",
          "data": {
            "text/plain": [
              "<IPython.core.display.Javascript object>"
            ],
            "application/javascript": [
              "\n",
              "  async function showImage(name, image, width, height) {\n",
              "    img = document.getElementById(name);\n",
              "    if(img == null) {\n",
              "      img = document.createElement('img');\n",
              "      img.id = name;\n",
              "      document.body.appendChild(img);\n",
              "    }\n",
              "    img.src = image;\n",
              "    img.width = width;\n",
              "    img.height = height;\n",
              "  }\n",
              "  "
            ]
          },
          "metadata": {}
        }
      ],
      "source": [
        "import cv2\n",
        "from time import sleep\n",
        "from google.colab.patches import cv2_imshow as show\n",
        "\n",
        "cascade_src = '/content/cars.xml'\n",
        "video_src = '/content/video.mp4'\n",
        "\n",
        "cap = cv2.VideoCapture(video_src)\n",
        "car_cascade = cv2.CascadeClassifier(cascade_src)\n",
        "\n",
        "delay= 600\n",
        "detec = []\n",
        "pos_line=550 \n",
        "offset=10\n",
        "car= 0\n",
        "\n",
        "#bikin titik tengah di object mobil\n",
        "def center_object(x, y, w, h):\n",
        "    x1 = int(w / 2)\n",
        "    y1 = int(h / 2)\n",
        "    cx = x + x1\n",
        "    cy = y + y1\n",
        "    return cx,cy\n",
        "\n",
        "#load data stream\n",
        "while True:\n",
        "    ret, img = cap.read()\n",
        "    time = float(1/delay)\n",
        "    sleep(time)\n",
        "    \n",
        "    if (type(img) == type(None)):\n",
        "        break\n",
        "    \n",
        "    gray = cv2.cvtColor(img, cv2.COLOR_BGR2GRAY)\n",
        "    \n",
        "    cars = car_cascade.detectMultiScale(gray, 1.1, 1)\n",
        "    cv2.line(img, (25, pos_line), (1200, pos_line), (255,127,0), 3) \n",
        "    \n",
        "    #loop dan cek melewati batas line, apabila lewat maka akan di count\n",
        "    for (x,y,w,h) in cars:\n",
        "        cv2.rectangle(img,(x,y),(x+w,y+h),(0,255,0),2)\n",
        "        center = center_object(x, y, w, h)\n",
        "        detec.append(center)\n",
        "        cv2.circle(img, center, 4, (0, 0,255), -1)\n",
        "        \n",
        "        if center[1]<(pos_line+offset) and center[1]>(pos_line-offset):\n",
        "            car+=1\n",
        "            cv2.line(img, (25, pos_line), (1200, pos_line), (0,127,255), 3) \n",
        "    \n",
        "    cv2.putText(img, \"Jumlah Kendaraan : \"+str(car), (450, 70), cv2.FONT_HERSHEY_SIMPLEX, 1, (0, 0, 255),5)\n",
        "    imshow(\"Counting Cars\", img)\n",
        "    \n",
        "    if cv2.waitKey(1)  & 0xFF == ord('q'):\n",
        "        break\n",
        "\n",
        "cv2.destroyAllWindows()"
      ]
    }
  ],
  "metadata": {
    "accelerator": "GPU",
    "colab": {
      "provenance": [],
      "collapsed_sections": [],
      "include_colab_link": true
    },
    "gpuClass": "standard",
    "kernelspec": {
      "display_name": "Python 3",
      "language": "python",
      "name": "python3"
    },
    "language_info": {
      "codemirror_mode": {
        "name": "ipython",
        "version": 3
      },
      "file_extension": ".py",
      "mimetype": "text/x-python",
      "name": "python",
      "nbconvert_exporter": "python",
      "pygments_lexer": "ipython3",
      "version": "3.7.4"
    }
  },
  "nbformat": 4,
  "nbformat_minor": 0
}